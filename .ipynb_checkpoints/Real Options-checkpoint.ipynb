{
 "metadata": {
  "name": "",
  "signature": "sha256:8169bec4477eabe8e6068da34a38d9ea04988658ecd89f68195c39364e3823ab"
 },
 "nbformat": 3,
 "nbformat_minor": 0,
 "worksheets": []
}