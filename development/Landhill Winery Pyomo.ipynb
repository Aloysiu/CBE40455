{
 "cells": [
  {
   "cell_type": "code",
   "execution_count": 1,
   "metadata": {
    "collapsed": true
   },
   "outputs": [],
   "source": [
    "from pyomo.environ import *\n",
    "model = ConcreteModel()"
   ]
  },
  {
   "cell_type": "code",
   "execution_count": 2,
   "metadata": {
    "collapsed": true
   },
   "outputs": [],
   "source": [
    "grapes = ['gSB11','gSL10','gSL11','gSB10']\n",
    "wines = ['wSB11','wSL10','wSL11','wCab','wMer']"
   ]
  },
  {
   "cell_type": "code",
   "execution_count": 3,
   "metadata": {
    "collapsed": false
   },
   "outputs": [],
   "source": [
    "model.x = Var(grapes,wines,domain=NonNegativeReals)"
   ]
  },
  {
   "cell_type": "code",
   "execution_count": 5,
   "metadata": {
    "collapsed": false
   },
   "outputs": [
    {
     "name": "stdout",
     "output_type": "stream",
     "text": [
      "3 Set Declarations\n",
      "    x_index : Dim=0, Dimen=2, Size=20, Domain=None, Ordered=False, Bounds=None\n",
      "        Virtual\n",
      "    x_index_0 : Dim=0, Dimen=1, Size=4, Domain=None, Ordered=False, Bounds=None\n",
      "        ['gSB10', 'gSB11', 'gSL10', 'gSL11']\n",
      "    x_index_1 : Dim=0, Dimen=1, Size=5, Domain=None, Ordered=False, Bounds=None\n",
      "        ['wCab', 'wMer', 'wSB11', 'wSL10', 'wSL11']\n",
      "\n",
      "1 Var Declarations\n",
      "    x : Size=20, Index=x_index\n",
      "        Key                : Lower : Value : Upper : Fixed : Stale : Domain\n",
      "         ('gSB10', 'wCab') :     0 :  None :  None : False :  True : NonNegativeReals\n",
      "         ('gSB10', 'wMer') :     0 :  None :  None : False :  True : NonNegativeReals\n",
      "        ('gSB10', 'wSB11') :     0 :  None :  None : False :  True : NonNegativeReals\n",
      "        ('gSB10', 'wSL10') :     0 :  None :  None : False :  True : NonNegativeReals\n",
      "        ('gSB10', 'wSL11') :     0 :  None :  None : False :  True : NonNegativeReals\n",
      "         ('gSB11', 'wCab') :     0 :  None :  None : False :  True : NonNegativeReals\n",
      "         ('gSB11', 'wMer') :     0 :  None :  None : False :  True : NonNegativeReals\n",
      "        ('gSB11', 'wSB11') :     0 :  None :  None : False :  True : NonNegativeReals\n",
      "        ('gSB11', 'wSL10') :     0 :  None :  None : False :  True : NonNegativeReals\n",
      "        ('gSB11', 'wSL11') :     0 :  None :  None : False :  True : NonNegativeReals\n",
      "         ('gSL10', 'wCab') :     0 :  None :  None : False :  True : NonNegativeReals\n",
      "         ('gSL10', 'wMer') :     0 :  None :  None : False :  True : NonNegativeReals\n",
      "        ('gSL10', 'wSB11') :     0 :  None :  None : False :  True : NonNegativeReals\n",
      "        ('gSL10', 'wSL10') :     0 :  None :  None : False :  True : NonNegativeReals\n",
      "        ('gSL10', 'wSL11') :     0 :  None :  None : False :  True : NonNegativeReals\n",
      "         ('gSL11', 'wCab') :     0 :  None :  None : False :  True : NonNegativeReals\n",
      "         ('gSL11', 'wMer') :     0 :  None :  None : False :  True : NonNegativeReals\n",
      "        ('gSL11', 'wSB11') :     0 :  None :  None : False :  True : NonNegativeReals\n",
      "        ('gSL11', 'wSL10') :     0 :  None :  None : False :  True : NonNegativeReals\n",
      "        ('gSL11', 'wSL11') :     0 :  None :  None : False :  True : NonNegativeReals\n",
      "\n",
      "4 Declarations: x_index_0 x_index_1 x_index x\n"
     ]
    }
   ],
   "source": [
    "gYear = {}\n",
    "gYear['gSB11'] = '2011'\n",
    "gYear['gSL10'] = '2010'\n",
    "gYear['gSL11'] = '2011'\n",
    "gYear['gSB10'] = '2010'\n",
    "\n"
   ]
  },
  {
   "cell_type": "code",
   "execution_count": null,
   "metadata": {
    "collapsed": true
   },
   "outputs": [],
   "source": []
  }
 ],
 "metadata": {
  "kernelspec": {
   "display_name": "Python [default]",
   "language": "python",
   "name": "python3"
  },
  "language_info": {
   "codemirror_mode": {
    "name": "ipython",
    "version": 3
   },
   "file_extension": ".py",
   "mimetype": "text/x-python",
   "name": "python",
   "nbconvert_exporter": "python",
   "pygments_lexer": "ipython3",
   "version": "3.5.2"
  }
 },
 "nbformat": 4,
 "nbformat_minor": 2
}
