{
 "cells": [
  {
   "cell_type": "markdown",
   "metadata": {},
   "source": [
    "# Resources for CBE 40455 Process Operations\n",
    "\n",
    "Live versions of the Jupyter notebooks (.ipynb) listed below open directly in a Docker container on [mybinder.org](http://mybinder.org). These notebooks can be run, edited, and downloaded for your use under terms of the Creative Commons License. Unfortunately, persistent file storage is not available through this service, so you need to be sure and download any changes or new notebooks that you may create.\n",
    "\n",
    "### Getting Started\n",
    "\n",
    "* [Getting Started with GNU MathProg](notebooks/Getting%20Started%20with%20GNU%20MathProg.ipynb) (MathProg)\n",
    "* [Getting Started with CVXPY](notebooks/Getting%20Started%20with%20CVXPY.ipynb)\n",
    "* [Getting Started with Discrete Event Simulation](notebooks/Getting%20Started%20with%20Discrete%20Event%20Simulation.ipynb)\n",
    "\n",
    "### Linear Optimization\n",
    "\n",
    "* [Production Model with Constraints](notebooks/Production%20Models%20with%20Constraints.ipynb) (MathProg)\n",
    "* [Transportation Networks](notebooks/Transportation%20Networks.ipynb) (MathProg)\n",
    "* [Data Reconciliation for a Heat Exchanger with By-pass](notebooks/Data%20Reconciliation.ipynb)] (MathProg)\n",
    "\n",
    "### Scheduling\n",
    "\n",
    "* [Critical Path Method](notebooks/Critical%20Path%20Method.ipynb) (MathProg)\n",
    "* [Machine Bottleneck](notebooks/Machine%20Bottleneck.ipynb) (MathProg)\n",
    "* [Job Shop Scheduling](notebooks/Job%20Shop%20Scheduling.ipynb) (MathProg)\n",
    "* [Jesuit Volunteers Corps](notebooks/Jesuit%20Volunteer%20Corps.ipynb) (MathProg)\n",
    "\n",
    "### Logistics\n",
    "\n",
    "* [Vehicle Routing Problem](notebooks/Vehicle%20Routing.ipynb) (MathProg)\n",
    "* [Vehicle Routine Problem with Time Windows](notebooks/Vehicle%20Routine%20with%20Time%20Windows.ipynb) (MathProg)\n",
    "* [Traveling Salesman Problem with Time Windows](notebooks/Traveling%20Salesman%20Problem%20with%20Time%20Windows.ipynb) (MathProg)\n",
    "* [Pickup and Delivery](notebooks/Pickup%20and%20Delivery%20.ipynb) (MathProg)\n",
    "\n",
    "### Dynamics\n",
    "\n",
    "* [Warehouse Fulfillment Operations](notebooks/Warehouse%20Fulfillment%20Operations.ipynb)\n",
    "\n",
    "### Optimization under Uncertainty\n",
    "\n",
    "* [Newsvendor Problem](notebooks/Newsvendor%20Problem.ipynb) (MathProg)\n",
    "* [Scenario Analysis for a Plant Expansion](notebooks/Scenario%20Analysis%20for%20a%20Plant%20Expansion.ipynb) (MathProg)\n",
    "* [Risk Neutral Gambler](notebooks/Risk%20Neutral%20Gambler.ipynb) (MathProg)\n",
    "* [Risk Averse Gambler](notebooks/Risk%20Averse%20Gambler.ipynb) (MathProg)\n",
    "* [Points After Touchdown Decision](notebooks/Points%20after%20Touchdown%20Decision.ipynb)\n",
    "\n",
    "### Risk and Diversification\n",
    "\n",
    "* [Stochastic Price Models](notebooks/Stochastic%20Price%20Models.ipynb)\n",
    "* [Binomial Model for an American Call Option](notebooks/Binomial%20Model%20for%20an%20American%20Call%20Option.ipynb) (MathProg)\n",
    "* [Portfolio Optimization](notebooks/Portfolio%20Optimization.ipynb)\n",
    "* [Portfolio Optimization using Mean Absolute Deviation](notebooks/Portfolio%20Optimization%20using%20Mean%20Absolute%20Deviation.ipynb) (MathProg)\n",
    "\n",
    "### Student Projects\n",
    "\n",
    "* [Distillation Blending and Cutpoint Temperature Optimization]\n",
    "* [Inventory Management for a Distillery]\n",
    "* [Inventory Management of Baked Goods for a Coffee Shop]\n",
    "\n"
   ]
  },
  {
   "cell_type": "code",
   "execution_count": null,
   "metadata": {
    "collapsed": true
   },
   "outputs": [],
   "source": []
  }
 ],
 "metadata": {
  "kernelspec": {
   "display_name": "Python 2",
   "language": "python",
   "name": "python2"
  },
  "language_info": {
   "codemirror_mode": {
    "name": "ipython",
    "version": 2
   },
   "file_extension": ".py",
   "mimetype": "text/x-python",
   "name": "python",
   "nbconvert_exporter": "python",
   "pygments_lexer": "ipython2",
   "version": "2.7.10"
  }
 },
 "nbformat": 4,
 "nbformat_minor": 0
}
