{
 "metadata": {
  "name": "",
  "signature": "sha256:18d8f5474b5835b3e8f5ab39277e27a08290fb4a0811930e03af5fda8e9185a0"
 },
 "nbformat": 3,
 "nbformat_minor": 0,
 "worksheets": [
  {
   "cells": [
    {
     "cell_type": "heading",
     "level": 1,
     "metadata": {},
     "source": [
      "Getting Started with APMonitor"
     ]
    },
    {
     "cell_type": "markdown",
     "metadata": {},
     "source": [
      "This [IPython notebook](http://ipython.org/notebook.html) demonstrates the use of APMonitor from an iPython notebook. The video is used with permission from [learnCheme.com](http://learncheme.ning.com/), a project at the University of Colorado funded by the National Science Foundation and the Shell Corporation.\n",
      "\n",
      "J.C. Kantor (Kantor.1@nd.edu)\n",
      "\n",
      "The latest version of this IPython notebook is available at [http://github.com/jckantor/CBE20255](http://github.com/jckantor/CBE20255)  for noncommercial use under terms of the [Creative Commons Attribution Noncommericial ShareAlike License](http://creativecommons.org/licenses/by-nc-sa/4.0/)."
     ]
    },
    {
     "cell_type": "heading",
     "level": 2,
     "metadata": {},
     "source": [
      "Using APMonitor from an iPython Notebook"
     ]
    },
    {
     "cell_type": "markdown",
     "metadata": {},
     "source": [
      "[APMonitor](http://apmonitor.com/) ('Advanced Process Monitor') is a system for modeling and solving engineering problems. The system consists of a simple, non-procedural language for describing a mathematical model, solvers that reside on remote servers, and software tools for managing the process of obtaining a solution to specific problems."
     ]
    },
    {
     "cell_type": "heading",
     "level": 2,
     "metadata": {},
     "source": [
      "Example 1. Solving simple material balances"
     ]
    },
    {
     "cell_type": "heading",
     "level": 3,
     "metadata": {},
     "source": [
      "Problem Statement"
     ]
    },
    {
     "cell_type": "code",
     "collapsed": false,
     "input": [
      "from IPython.display import YouTubeVideo\n",
      "YouTubeVideo(\"KrrZB5LvXF4\",560,315,start=0,end=72)"
     ],
     "language": "python",
     "metadata": {},
     "outputs": [
      {
       "html": [
        "\n",
        "        <iframe\n",
        "            width=\"560\"\n",
        "            height=315\"\n",
        "            src=\"https://www.youtube.com/embed/KrrZB5LvXF4?start=0&end=72\"\n",
        "            frameborder=\"0\"\n",
        "            allowfullscreen\n",
        "        ></iframe>\n",
        "        "
       ],
       "metadata": {},
       "output_type": "pyout",
       "prompt_number": 1,
       "text": [
        "<IPython.lib.display.YouTubeVideo at 0x107dff810>"
       ]
      }
     ],
     "prompt_number": 1
    },
    {
     "cell_type": "heading",
     "level": 3,
     "metadata": {},
     "source": [
      "Solution"
     ]
    },
    {
     "cell_type": "markdown",
     "metadata": {},
     "source": [
      "####Step 1. Create the APMonitor Model\n",
      "\n",
      "For this problem a viable model has two key parts. The first describes the variables for the problem which, in this case, are molar flowrates. Below we demonstrate the declaration of two molar flowrates with subscripts, and restricted to be variables greater than zero. (It's always a good idea to include and known constraints on variables.)\n",
      "\n",
      "The second part lists the equations. In the case the equations are linear. Notice that the equations are simply declarations of algebraic relationships. They declare relationships, they do not tell the computer how to do the needed calculations."
     ]
    },
    {
     "cell_type": "code",
     "collapsed": false,
     "input": [
      "%%writefile ex1.apm\n",
      "\n",
      "Model\n",
      "\n",
      "  Variables\n",
      "    n[1] >= 0\n",
      "    n[2] >= 0\n",
      "  End Variables\n",
      "\n",
      "  Equations\n",
      "    100 = n[1] + n[2]\n",
      "    30 = 0.7*n[1] + 0.2*n[2]\n",
      "  End Equations\n",
      "    \n",
      "End Model"
     ],
     "language": "python",
     "metadata": {},
     "outputs": [
      {
       "output_type": "stream",
       "stream": "stdout",
       "text": [
        "Overwriting ex1.apm\n"
       ]
      }
     ],
     "prompt_number": 28
    },
    {
     "cell_type": "markdown",
     "metadata": {},
     "source": [
      "####Step 2. Call the Solver\n",
      "\n",
      "The solver is called using apm_solve from the apm python package. apm_solve requires two arguments. The first is the name of the file in which the model has been saved, and the second is a flag describing the type of problem to be solved. A system of steady-state equations with no degrees of freedom is type = 1."
     ]
    },
    {
     "cell_type": "code",
     "collapsed": false,
     "input": [
      "from apm import *\n",
      "soln = apm_solve('ex1',1)"
     ],
     "language": "python",
     "metadata": {},
     "outputs": [
      {
       "output_type": "stream",
       "stream": "stdout",
       "text": [
        "Optional data file ex1.csv does not exist\n"
       ]
      }
     ],
     "prompt_number": 39
    },
    {
     "cell_type": "markdown",
     "metadata": {},
     "source": [
      "####Step 3. Display the Solution"
     ]
    },
    {
     "cell_type": "code",
     "collapsed": false,
     "input": [
      "import pandas as pd\n",
      "pd.Series(soln)"
     ],
     "language": "python",
     "metadata": {},
     "outputs": [
      {
       "metadata": {},
       "output_type": "pyout",
       "prompt_number": 44,
       "text": [
        "n[1]    20\n",
        "n[2]    80\n",
        "dtype: float64"
       ]
      }
     ],
     "prompt_number": 44
    },
    {
     "cell_type": "heading",
     "level": 3,
     "metadata": {},
     "source": [
      "Exercise"
     ]
    },
    {
     "cell_type": "markdown",
     "metadata": {},
     "source": [
      "Using the techniques demonstrated above, develop an APMonitor model for the mass balance problem described in the following video clip. The model should be written to a file exerise1.apm, and the solution displayed as a table of molar flowrates for each of the three components described in the problem statement. You'll need at least two input cells. The first is where you would write the APMonitor model and save it to your workspace with the %%writefile 'magic'."
     ]
    },
    {
     "cell_type": "code",
     "collapsed": false,
     "input": [
      "from IPython.display import YouTubeVideo\n",
      "YouTubeVideo(\"KrrZB5LvXF4\",560,315,start=144,end=166)"
     ],
     "language": "python",
     "metadata": {},
     "outputs": [
      {
       "html": [
        "\n",
        "        <iframe\n",
        "            width=\"560\"\n",
        "            height=315\"\n",
        "            src=\"https://www.youtube.com/embed/KrrZB5LvXF4?start=144&end=166\"\n",
        "            frameborder=\"0\"\n",
        "            allowfullscreen\n",
        "        ></iframe>\n",
        "        "
       ],
       "metadata": {},
       "output_type": "pyout",
       "prompt_number": 46,
       "text": [
        "<IPython.lib.display.YouTubeVideo at 0x10a9fdf50>"
       ]
      }
     ],
     "prompt_number": 46
    },
    {
     "cell_type": "markdown",
     "metadata": {},
     "source": [
      "Write your model in the following input cell."
     ]
    },
    {
     "cell_type": "code",
     "collapsed": false,
     "input": [],
     "language": "python",
     "metadata": {},
     "outputs": [],
     "prompt_number": 46
    },
    {
     "cell_type": "markdown",
     "metadata": {},
     "source": [
      "Write commands to solve the model in the following input cell."
     ]
    },
    {
     "cell_type": "code",
     "collapsed": false,
     "input": [],
     "language": "python",
     "metadata": {},
     "outputs": [],
     "prompt_number": 46
    },
    {
     "cell_type": "markdown",
     "metadata": {},
     "source": [
      "Write commands to display the solution in the following input cell."
     ]
    },
    {
     "cell_type": "code",
     "collapsed": false,
     "input": [],
     "language": "python",
     "metadata": {},
     "outputs": [],
     "prompt_number": 46
    },
    {
     "cell_type": "heading",
     "level": 2,
     "metadata": {},
     "source": [
      "Example 2. Fitting a Model to Data"
     ]
    },
    {
     "cell_type": "markdown",
     "metadata": {},
     "source": [
      "Vapor pressure of [ethyl acetate](http://www.ddbst.com/en/EED/PCP/VAP_C21.php)"
     ]
    },
    {
     "cell_type": "code",
     "collapsed": false,
     "input": [
      "vp = [[281.52,   5.214], [286.15,   7.066], [293.15,   9.733], [293.25,   9.733], [295.15,  10.799],\n",
      "      [295.31,  10.819], [298.15,  12.612], [303.15,  16.012], [303.75,  16.399], [306.45,  18.532], \n",
      "      [308.15,  20.198], [309.11,  20.772], [309.35,  21.065], [312.05,  23.598], [312.61,  24.491],\n",
      "      [313.15,  25.043], [313.15,  25.078], [315.25,  26.931], [318.15,  31.064], [318.35,  31.064],\n",
      "      [321.45,  35.464], [322.92,  37.266], [323.15,  38.104], [326.05,  42.396], [326.50,  43.210],\n",
      "      [328.15,  46.290], [329.85,  49.463], [333.15,  55.854], [333.15,  55.942], [333.45,  56.262],\n",
      "      [336.70,  63.003], [338.15,  67.008], [340.45,  72.661], [340.84,  74.274], [343.15,  79.727],\n",
      "      [343.45,  80.660], [346.05,  88.659], [348.15,  94.392], [348.85,  97.192], [350.19, 101.138],\n",
      "      [350.44, 101.792], [350.45, 101.325], [350.85, 102.925], [353.15, 110.991], [353.35, 113.191],\n",
      "      [356.16, 122.630], [358.15, 130.349], [360.35, 140.122], [360.73, 141.508], [362.35, 148.921],\n",
      "      [363.15, 152.214], [364.35, 156.347], [364.95, 161.053], [367.15, 172.253], [368.15, 176.372],\n",
      "      [368.65, 179.585], [370.15, 187.051], [373.15, 203.717], [378.13, 232.208]]"
     ],
     "language": "python",
     "metadata": {},
     "outputs": [],
     "prompt_number": 48
    },
    {
     "cell_type": "code",
     "collapsed": false,
     "input": [
      "import pandas as pd\n",
      "\n",
      "v = array(vp)\n",
      "\n",
      "T = v[:,0]\n",
      "P = v[:,1]\n",
      "\n",
      "semilogy(T,P,'r.')\n",
      "title('Vapor Pressure Data for Ethyl Acetate')\n",
      "xlabel('Temperature [K]')\n",
      "ylabel('Pressure [kPa]')\n",
      "grid()"
     ],
     "language": "python",
     "metadata": {},
     "outputs": [
      {
       "metadata": {},
       "output_type": "display_data",
       "png": "[encoded data removed]",
       "text": [
        "<matplotlib.figure.Figure at 0x10b609d10>"
       ]
      }
     ],
     "prompt_number": 78
    },
    {
     "cell_type": "code",
     "collapsed": false,
     "input": [
      "pd.DataFrame(v,columns=['T','P']).to_csv('ethyl_acetate.csv',header=1,index=0)"
     ],
     "language": "python",
     "metadata": {},
     "outputs": [],
     "prompt_number": 179
    },
    {
     "cell_type": "code",
     "collapsed": false,
     "input": [
      "%%writefile ethyl_acetate.apm\n",
      "\n",
      "Model\n",
      "\n",
      "  Variables\n",
      "    A = 4.22809\n",
      "    B = 1245.702\n",
      "    C = -55.189\n",
      "  End Variables\n",
      "    \n",
      "  Parameters\n",
      "    T >= 0\n",
      "    P >= 0\n",
      "  End Parameters\n",
      "    \n",
      "  Equations\n",
      "    log10(P/100.0) = 10^(A - B/(T+c))\n",
      "  End Equations\n",
      "\n",
      "End Model"
     ],
     "language": "python",
     "metadata": {},
     "outputs": [
      {
       "output_type": "stream",
       "stream": "stdout",
       "text": [
        "Overwriting ethyl_acetate.apm\n"
       ]
      }
     ],
     "prompt_number": 185
    },
    {
     "cell_type": "code",
     "collapsed": false,
     "input": [
      "from apm import *\n",
      "soln = apm_solve('ethyl_acetate',2)"
     ],
     "language": "python",
     "metadata": {},
     "outputs": [
      {
       "output_type": "stream",
       "stream": "stdout",
       "text": [
        "apm 107.205.28.132_ethyl_acetate<br><pre> ----------------------------------------------------------------\n",
        " APMonitor, Version 0.6.3\n",
        " Software Trial\n",
        " ----------------------------------------------------------------\n",
        " \n",
        " \n",
        " --------- APM Model Size ------------\n",
        " Each time step contains\n",
        "   Objects      :            0\n",
        "   Constants    :            0\n",
        "   Variables    :            5\n",
        "   Intermediates:            0\n",
        "   Connections  :            0\n",
        "   Equations    :            1\n",
        "   Residuals    :            1\n",
        " \n",
        " fippr_files: ss.t0 does not exist\n",
        " fippr_files: mpu.t0 does not exist\n",
        " Number of state variables:            177\n",
        " Number of total equations: -           59\n",
        " Number of slack variables: -            0\n",
        " ---------------------------------------\n",
        " Degrees of freedom       :            118\n",
        " \n",
        " ----------------------------------------------\n",
        " Model Parameter Estimation with APOPT Solver\n",
        " ----------------------------------------------\n",
        " File apopt.opt does not exist.\n",
        " \n",
        " Iter    Objective  Convergence\n",
        "    0  1.82128E+01  1.33582E+00\n",
        "    1  5.82758+131  1.15083E+00\n",
        "    2  6.90392+263  6.94692E-01\n",
        "    3  6.94140+274  4.50212E-01\n",
        "    4  1.24964E+61  3.72690E-01\n",
        "    5  1.71506E+64  3.35078E-01\n",
        "    6  3.14880E+10  2.52966E-01\n",
        "    7     Infinity  1.73873E-01\n",
        "    8  2.36634+144  9.86284E-02\n",
        "    9  1.90266E+04  5.32994E-02\n",
        " \n",
        " Iter    Objective  Convergence\n",
        "   10  2.05175E+04  2.54653E-02\n",
        "   11     Infinity  1.24036E-02\n",
        "   12     Infinity  1.23980E-02\n",
        "   13     Infinity  1.23979E-02\n",
        "   14     Infinity  1.23979E-02\n",
        "   15     Infinity  1.23979E-02\n",
        "   16     Infinity  1.23979E-02\n",
        "   17     Infinity  1.23979E-02\n",
        "   18     Infinity  1.23979E-02\n",
        "   19     Infinity  1.23979E-02\n",
        " \n",
        " Iter    Objective  Convergence\n",
        "   20     Infinity  1.23979E-02\n",
        "   21     Infinity  1.23979E-02\n",
        "   22  2.00354E-09  1.23979E-02\n",
        "   23  7.86474E-08  3.03162E-04\n",
        "   24  2.00347E-09  8.63943E-06\n",
        "   25  2.00347E-09  7.57628E-09\n",
        " No feasible solution\n",
        " \n",
        " ---------------------------------------------------\n",
        " Solver         :  APOPT (v1.0)\n",
        " Solution time  :   0.154699999984587      sec\n",
        " Objective      :   0.000000000000000E+000\n",
        " Unsuccessful with error code            0\n",
        " ---------------------------------------------------\n",
        " \n",
        " Creating file: infeasibilities.txt\n",
        "</pre>  \n",
        "Error: Did not converge to a solution\n"
       ]
      }
     ],
     "prompt_number": 186
    },
    {
     "cell_type": "code",
     "collapsed": false,
     "input": [
      "soln"
     ],
     "language": "python",
     "metadata": {},
     "outputs": [
      {
       "metadata": {},
       "output_type": "pyout",
       "prompt_number": 182,
       "text": [
        "[]"
       ]
      }
     ],
     "prompt_number": 182
    },
    {
     "cell_type": "heading",
     "level": 2,
     "metadata": {},
     "source": [
      "Example 3. Steady State Optimization"
     ]
    },
    {
     "cell_type": "code",
     "collapsed": false,
     "input": [
      "%%writefile lp.apm\n",
      "\n",
      "Variables\n",
      "  x1 > 0 , < 5  ! spring production (100 L)\n",
      "  x2 > 0 , < 4  ! nebsi production (100 L)\n",
      "  profit\n",
      "End Variables\n",
      "\n",
      "Equations\n",
      "  maximize profit\n",
      "  \n",
      "  profit = 100 * x1 + 125 * x2\n",
      "  3 * x1 + 6 * x2 <= 30\n",
      "  8 * x1 + 4 * x2 <= 44\n",
      "End Equations\n"
     ],
     "language": "python",
     "metadata": {},
     "outputs": [
      {
       "output_type": "stream",
       "stream": "stdout",
       "text": [
        "Overwriting lp.apm\n"
       ]
      }
     ],
     "prompt_number": 44
    },
    {
     "cell_type": "code",
     "collapsed": false,
     "input": [
      "from apm import *\n",
      "z = apm_solve('lp',3);\n",
      "\n",
      "import pandas as pd\n",
      "pd.Series(z)"
     ],
     "language": "python",
     "metadata": {},
     "outputs": [
      {
       "output_type": "stream",
       "stream": "stdout",
       "text": [
        "Optional data file lp.csv does not exist\n"
       ]
      },
      {
       "metadata": {},
       "output_type": "pyout",
       "prompt_number": 47,
       "text": [
        "profit    775\n",
        "slk_3       0\n",
        "slk_4       0\n",
        "x1          4\n",
        "x2          3\n",
        "dtype: float64"
       ]
      }
     ],
     "prompt_number": 47
    },
    {
     "cell_type": "heading",
     "level": 2,
     "metadata": {},
     "source": [
      "Example 4. Dynamic Simulation"
     ]
    },
    {
     "cell_type": "code",
     "collapsed": false,
     "input": [
      "%%writefile demo.apm\n",
      "Model                \n",
      "  Parameters         \n",
      "   tau = 5         \n",
      "   K = 3  \n",
      "   u \n",
      "  End Parameters     \n",
      "\n",
      "  Variables          \n",
      "   x = 0               \n",
      "   y = 0                \n",
      "  End Variables      \n",
      "\n",
      "  Equations          \n",
      "   tau * $x + x = K * u  \n",
      "   y = 2 * x         \n",
      "  End Equations      \n",
      "End Model            "
     ],
     "language": "python",
     "metadata": {},
     "outputs": [
      {
       "output_type": "stream",
       "stream": "stdout",
       "text": [
        "Overwriting demo.apm\n"
       ]
      }
     ],
     "prompt_number": 22
    },
    {
     "cell_type": "code",
     "collapsed": false,
     "input": [
      "%%writefile demo.csv\n",
      "\n",
      "\n",
      "time, u\n",
      "0,    0\n",
      "0.5,  0\n",
      "1,    1\n",
      "2,    1\n",
      "3,    1\n",
      "5,    1\n",
      "8,    1\n",
      "12,   1\n",
      "15,   1\n",
      "18,   1\n",
      "21,   1\n",
      "22,   1\n",
      "25,   1\n",
      "28,   1\n",
      "30,   1"
     ],
     "language": "python",
     "metadata": {},
     "outputs": [
      {
       "output_type": "stream",
       "stream": "stdout",
       "text": [
        "Overwriting demo.csv\n"
       ]
      }
     ],
     "prompt_number": 23
    },
    {
     "cell_type": "code",
     "collapsed": false,
     "input": [
      "from apm import *\n",
      "z = apm_solve('demo',7);"
     ],
     "language": "python",
     "metadata": {},
     "outputs": []
    },
    {
     "cell_type": "code",
     "collapsed": false,
     "input": [
      "plot(z['time'],z['x'])\n",
      "plot(z['time'],z['y'])\n",
      "plot(z['time'],z['u'])\n",
      "legend(['x','y'])"
     ],
     "language": "python",
     "metadata": {},
     "outputs": [
      {
       "metadata": {},
       "output_type": "pyout",
       "prompt_number": 24,
       "text": [
        "<matplotlib.legend.Legend at 0x109b24750>"
       ]
      },
      {
       "metadata": {},
       "output_type": "display_data",
       "png": "[encoded data removed]",
       "text": [
        "<matplotlib.figure.Figure at 0x10043bcd0>"
       ]
      }
     ],
     "prompt_number": 24
    },
    {
     "cell_type": "code",
     "collapsed": false,
     "input": [],
     "language": "python",
     "metadata": {},
     "outputs": [],
     "prompt_number": 20
    }
   ],
   "metadata": {}
  }
 ]
}