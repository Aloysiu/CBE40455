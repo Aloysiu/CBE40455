{
 "cells": [
  {
   "cell_type": "markdown",
   "metadata": {},
   "source": [
    "##### The latest version of this Jupyter notebook is available at [http://github.com/jckantor/CBE40455](http://github.com/jckantor/CBE20255)  for noncommercial use under terms of the [Creative Commons Attribution Noncommericial ShareAlike License](http://creativecommons.org/licenses/by-nc-sa/4.0/).\n",
    "\n",
    "J.C. Kantor (Kantor.1@nd.edu)"
   ]
  },
  {
   "cell_type": "markdown",
   "metadata": {},
   "source": [
    "# Getting Started with Discrete Event Simulation"
   ]
  },
  {
   "cell_type": "markdown",
   "metadata": {},
   "source": [
    "This notebook demonstrates elementary use of the [SimPy](http://simpy.readthedocs.org/en/latest/) package for discrete event simulation."
   ]
  },
  {
   "cell_type": "markdown",
   "metadata": {},
   "source": [
    "## Introduction to Modeling with SimPy"
   ]
  },
  {
   "cell_type": "markdown",
   "metadata": {},
   "source": [
    "### A Minimal SimPy Model"
   ]
  },
  {
   "cell_type": "markdown",
   "metadata": {},
   "source": [
    "A typical simpy model consists of an environment, processes that create events within the environment, and resources that handle then events. To demonstrate how this works, let's start by setting up an environment and running the simplest possible simulation. This doesn't do anything but it is a valid (if useless) simulation."
   ]
  },
  {
   "cell_type": "code",
   "execution_count": 2,
   "metadata": {
    "collapsed": false
   },
   "outputs": [],
   "source": [
    "import simpy\n",
    "\n",
    "# create the simulation environment\n",
    "env = simpy.Environment()\n",
    "\n",
    "# run the simulation\n",
    "env.run()"
   ]
  },
  {
   "cell_type": "markdown",
   "metadata": {},
   "source": [
    "### Adding a Process"
   ]
  },
  {
   "cell_type": "markdown",
   "metadata": {},
   "source": [
    "An example of a process is a clock that ticks at regular intervals, at each tick printing a message showing the current time. \n",
    "\n",
    "The clock is a simply a regular python function. The first argument is always a variable that provides access to the environment.  Additional arguments are a design decision. In this case the second argument specifies the length of each clock tick. \n",
    "\n",
    "In this case, the clock function starts an infinite loop with two actions. The first is to print the current time accessed from the environment via the variable `env.now`. After printing, the function sets a timer for period `tick`, then yields control back to the environment until the timer expires.\n",
    "\n",
    "With clock defined, the simulation is set up as before with two additions. The `env.process(clock(env, 2.0))` statement adds the clock as process in the simulation environment. The `env.run(until=10)` statement the starts the simulation for 10 simulated time units."
   ]
  },
  {
   "cell_type": "code",
   "execution_count": 11,
   "metadata": {
    "collapsed": false
   },
   "outputs": [
    {
     "name": "stdout",
     "output_type": "stream",
     "text": [
      "Time = 0.000000 minutes\n",
      "Time = 2.000000 minutes\n",
      "Time = 4.000000 minutes\n",
      "Time = 6.000000 minutes\n",
      "Time = 8.000000 minutes\n"
     ]
    }
   ],
   "source": [
    "import simpy\n",
    "\n",
    "# define a clock process\n",
    "def clock(env,tick):\n",
    "    while True:\n",
    "        print \"Time = {:8.6f} minutes\".format(env.now)\n",
    "        yield env.timeout(tick)\n",
    "\n",
    "# create the simulation environment\n",
    "env = simpy.Environment()\n",
    "\n",
    "# add the clock process to the environment. Set the tick interval.\n",
    "env.process(clock(env, 2.0))\n",
    "\n",
    "# run the simulation for a fixed period of time\n",
    "env.run(until=10)"
   ]
  },
  {
   "cell_type": "markdown",
   "metadata": {},
   "source": [
    "### Add Mutliple Instances of a Process\n",
    "\n",
    "Let's make the example more interesting by adding a second clock process. Each call to `env.process()` will establish a new instance of a clock using the same python function to define behavior.\n",
    "\n",
    "In order to distinguish the output coming from the two clocks, a second argument is added that allows one to pass a unique name. The processes are created with names \"A\" and \"B\" and with tick periods of 2.0 and 1.5, respectively."
   ]
  },
  {
   "cell_type": "code",
   "execution_count": 4,
   "metadata": {
    "collapsed": false
   },
   "outputs": [
    {
     "name": "stdout",
     "output_type": "stream",
     "text": [
      "Clock A ticks at 0.000000 minutes\n",
      "Clock B ticks at 0.000000 minutes\n",
      "Clock B ticks at 1.500000 minutes\n",
      "Clock A ticks at 2.000000 minutes\n",
      "Clock B ticks at 3.000000 minutes\n",
      "Clock A ticks at 4.000000 minutes\n",
      "Clock B ticks at 4.500000 minutes\n",
      "Clock A ticks at 6.000000 minutes\n",
      "Clock B ticks at 6.000000 minutes\n",
      "Clock B ticks at 7.500000 minutes\n",
      "Clock A ticks at 8.000000 minutes\n",
      "Clock B ticks at 9.000000 minutes\n"
     ]
    }
   ],
   "source": [
    "import simpy\n",
    "\n",
    "# define a clock process\n",
    "def clock(env,name,tick):\n",
    "    while True:\n",
    "        print \"Clock {:s} ticks at {:8.6f} minutes\".format(name, env.now)\n",
    "        yield env.timeout(tick)\n",
    "\n",
    "# create the simulation environment\n",
    "env = simpy.Environment()\n",
    "\n",
    "# add the clock process to the environment. Set the tick interval.\n",
    "env.process(clock(env, \"A\", 2.0))\n",
    "env.process(clock(env, \"B\", 1.5))\n",
    "\n",
    "# run the simulation for a fixed period of time\n",
    "env.run(until=10)"
   ]
  },
  {
   "cell_type": "markdown",
   "metadata": {},
   "source": [
    "### Processes that Manage their own State\n",
    "\n",
    "Now let's give our clocks a bit of memory. The clock function adds a local variable `nTicks` that counts the number of ticks that have occurred. Each instance of a clock process now has some independent memory."
   ]
  },
  {
   "cell_type": "code",
   "execution_count": 4,
   "metadata": {
    "collapsed": false
   },
   "outputs": [
    {
     "name": "stdout",
     "output_type": "stream",
     "text": [
      "Clock A, tick number 1. Time = 0.000000 minutes\n",
      "Clock B, tick number 1. Time = 0.000000 minutes\n",
      "Clock B, tick number 2. Time = 1.300000 minutes\n",
      "Clock A, tick number 2. Time = 2.000000 minutes\n",
      "Clock B, tick number 3. Time = 2.600000 minutes\n",
      "Clock B, tick number 4. Time = 3.900000 minutes\n",
      "Clock A, tick number 3. Time = 4.000000 minutes\n",
      "Clock B, tick number 5. Time = 5.200000 minutes\n",
      "Clock A, tick number 4. Time = 6.000000 minutes\n",
      "Clock B, tick number 6. Time = 6.500000 minutes\n",
      "Clock B, tick number 7. Time = 7.800000 minutes\n",
      "Clock A, tick number 5. Time = 8.000000 minutes\n",
      "Clock B, tick number 8. Time = 9.100000 minutes\n"
     ]
    }
   ],
   "source": [
    "import simpy\n",
    "\n",
    "# define a clock process\n",
    "def clock(env,name,tick):\n",
    "    nTicks = 0\n",
    "    while True:\n",
    "        nTicks += 1\n",
    "        print \"Clock {:s}, tick number {:d}. Time = {:8.6f} minutes\".format(name, nTicks, env.now)\n",
    "        yield env.timeout(tick)\n",
    "\n",
    "# create the simulation environment\n",
    "env = simpy.Environment()\n",
    "\n",
    "# add the clock process to the environment. Set the tick interval.\n",
    "env.process(clock(env, \"A\", 2.0))\n",
    "env.process(clock(env, \"B\", 1.3))\n",
    "\n",
    "# run the simulation for a fixed period of time\n",
    "env.run(until=10)"
   ]
  },
  {
   "cell_type": "markdown",
   "metadata": {},
   "source": [
    "## Application Examples"
   ]
  },
  {
   "cell_type": "markdown",
   "metadata": {},
   "source": [
    "### Geometric Brownian Motion"
   ]
  },
  {
   "cell_type": "code",
   "execution_count": 5,
   "metadata": {
    "collapsed": false
   },
   "outputs": [
    {
     "data": {
      "text/plain": [
       "<matplotlib.text.Text at 0x107b61850>"
      ]
     },
     "execution_count": 5,
     "metadata": {},
     "output_type": "execute_result"
    },
    {
     "data": {
      "image/png": "[encoded data removed]",
      "text/plain": [
       "<matplotlib.figure.Figure at 0x1079efe10>"
      ]
     },
     "metadata": {},
     "output_type": "display_data"
    }
   ],
   "source": [
    "import simpy\n",
    "import random \n",
    "import numpy as np\n",
    "import matplotlib.pyplot as plt\n",
    "%matplotlib inline\n",
    "\n",
    "# geometric brownian motion\n",
    "def gbm(env,name,tick,P,mu,sigma):\n",
    "    t = 0;\n",
    "    while True:\n",
    "        Plog.append(P)\n",
    "        tlog.append(t)\n",
    "        yield env.timeout(tick)\n",
    "        P += P*(mu*tick + sigma*random.normalvariate(0,1)*np.sqrt(tick))\n",
    "        t += tick\n",
    "    \n",
    "# create the simulation environment\n",
    "env = simpy.Environment()\n",
    "\n",
    "# add the clock process to the environment. Set the tick interval.\n",
    "env.process(gbm(env, \"A\", 1.0/252, 80.0, 0, .3))\n",
    "\n",
    "# run the simulation for a fixed period of time\n",
    "    \n",
    "Plog = []\n",
    "tlog = []\n",
    "env.run(until=10)\n",
    "\n",
    "plt.plot(tlog,Plog)\n",
    "plt.xlabel('Date')\n",
    "plt.ylabel('Price')"
   ]
  },
  {
   "cell_type": "code",
   "execution_count": 6,
   "metadata": {
    "collapsed": false
   },
   "outputs": [
    {
     "ename": "NameError",
     "evalue": "name 'sqrt' is not defined",
     "output_type": "error",
     "traceback": [
      "\u001b[0;31m---------------------------------------------------------------------------\u001b[0m",
      "\u001b[0;31mNameError\u001b[0m                                 Traceback (most recent call last)",
      "\u001b[0;32m<ipython-input-6-d079aa585dfd>\u001b[0m in \u001b[0;36m<module>\u001b[0;34m()\u001b[0m\n\u001b[1;32m     26\u001b[0m \u001b[0;34m\u001b[0m\u001b[0m\n\u001b[1;32m     27\u001b[0m \u001b[0menv\u001b[0m \u001b[0;34m=\u001b[0m \u001b[0msimpy\u001b[0m\u001b[0;34m.\u001b[0m\u001b[0mEnvironment\u001b[0m\u001b[0;34m(\u001b[0m\u001b[0;34m)\u001b[0m\u001b[0;34m\u001b[0m\u001b[0m\n\u001b[0;32m---> 28\u001b[0;31m \u001b[0ma\u001b[0m \u001b[0;34m=\u001b[0m \u001b[0mgbm\u001b[0m\u001b[0;34m(\u001b[0m\u001b[0menv\u001b[0m\u001b[0;34m,\u001b[0m\u001b[0;34m'A'\u001b[0m\u001b[0;34m,\u001b[0m\u001b[0;36m1.0\u001b[0m\u001b[0;34m/\u001b[0m\u001b[0msqrt\u001b[0m\u001b[0;34m(\u001b[0m\u001b[0;36m12.0\u001b[0m\u001b[0;34m)\u001b[0m\u001b[0;34m,\u001b[0m\u001b[0;36m80.0\u001b[0m\u001b[0;34m,\u001b[0m\u001b[0;36m0\u001b[0m\u001b[0;34m,\u001b[0m\u001b[0;36m0.30\u001b[0m\u001b[0;34m)\u001b[0m\u001b[0;34m\u001b[0m\u001b[0m\n\u001b[0m\u001b[1;32m     29\u001b[0m \u001b[0menv\u001b[0m\u001b[0;34m.\u001b[0m\u001b[0mprocess\u001b[0m\u001b[0;34m(\u001b[0m\u001b[0ma\u001b[0m\u001b[0;34m.\u001b[0m\u001b[0mprocess\u001b[0m\u001b[0;34m(\u001b[0m\u001b[0;34m)\u001b[0m\u001b[0;34m)\u001b[0m\u001b[0;34m\u001b[0m\u001b[0m\n\u001b[1;32m     30\u001b[0m \u001b[0menv\u001b[0m\u001b[0;34m.\u001b[0m\u001b[0mprocess\u001b[0m\u001b[0;34m(\u001b[0m\u001b[0mreporter\u001b[0m\u001b[0;34m(\u001b[0m\u001b[0menv\u001b[0m\u001b[0;34m,\u001b[0m\u001b[0;36m1.0\u001b[0m\u001b[0;34m,\u001b[0m\u001b[0ma\u001b[0m\u001b[0;34m)\u001b[0m\u001b[0;34m)\u001b[0m\u001b[0;34m\u001b[0m\u001b[0m\n",
      "\u001b[0;31mNameError\u001b[0m: name 'sqrt' is not defined"
     ]
    }
   ],
   "source": [
    "import simpy\n",
    "import random\n",
    "\n",
    "class gbm(object):\n",
    "    def __init__(self,env,name,tick,val,mu,sigma):\n",
    "        self.env = env\n",
    "        self.name = name\n",
    "        self.tick = tick\n",
    "        self.val = val\n",
    "        self.mu = mu\n",
    "        self.sigma = sigma\n",
    "        self.t = 0\n",
    "        \n",
    "    def process(self):\n",
    "        while True:\n",
    "            yield self.env.timeout(self.tick)\n",
    "            self.t += self.tick\n",
    "            self.val += self.val*(self.mu*self.tick + self.sigma*random.normalvariate(0,1)*sqrt(self.tick))\n",
    "\n",
    "def reporter(env,tick,gbm):\n",
    "    t = 0\n",
    "    while True:\n",
    "        yield env.timeout(tick)\n",
    "        t += tick\n",
    "        print t, gbm.val\n",
    "\n",
    "env = simpy.Environment()\n",
    "a = gbm(env,'A',1.0/sqrt(12.0),80.0,0,0.30)\n",
    "env.process(a.process())\n",
    "env.process(reporter(env,1.0,a))\n",
    "env.run(until=5)\n",
    "\n"
   ]
  },
  {
   "cell_type": "markdown",
   "metadata": {},
   "source": [
    "## Application"
   ]
  },
  {
   "cell_type": "markdown",
   "metadata": {},
   "source": [
    "Setting up a class provides a means of modeling more complex behaviors. Here we'll consider a Roomba cleaning robot that can be either in a running mode or a charging mode."
   ]
  },
  {
   "cell_type": "code",
   "execution_count": null,
   "metadata": {
    "collapsed": false
   },
   "outputs": [],
   "source": [
    "\n",
    "class Roomba(object):\n",
    "    def __init__(self,env,name,charge_duration,clean_duration):\n",
    "        self.env = env\n",
    "        self.name = name\n",
    "        self.charge_duration = charge_duration\n",
    "        self.clean_duration = clean_duration\n",
    "        self.proc = env.process(self.run())\n",
    "\n",
    "    def run(self):\n",
    "        while True:\n",
    "            yield env.process(self.charge())\n",
    "            yield env.process(self.clean())\n",
    "    \n",
    "    def clean(self):\n",
    "        print \"{:<3s} start charging at {:4.1f}\".format(self.name,env.now)\n",
    "        yield env.timeout(self.clean_duration)\n",
    "    \n",
    "    def charge(self):\n",
    "        print \"{:<3s} start cleaning at {:4.1f}\".format(self.name,env.now)\n",
    "        yield env.timeout(self.charge_duration)\n",
    "\n",
    "import simpy\n",
    "env = simpy.Environment()\n",
    "\n",
    "A = Roomba(env,'A',1.1,2.3)\n",
    "B = Roomba(env,'B',0.9,3.1)\n",
    "\n",
    "# start processes\n",
    "env.run(until=6)"
   ]
  }
 ],
 "metadata": {
  "kernelspec": {
   "display_name": "Python 2",
   "language": "python",
   "name": "python2"
  },
  "language_info": {
   "codemirror_mode": {
    "name": "ipython",
    "version": 2
   },
   "file_extension": ".py",
   "mimetype": "text/x-python",
   "name": "python",
   "nbconvert_exporter": "python",
   "pygments_lexer": "ipython2",
   "version": "2.7.10"
  }
 },
 "nbformat": 4,
 "nbformat_minor": 0
}
