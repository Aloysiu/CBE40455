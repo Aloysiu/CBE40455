{
 "cells": [
  {
   "cell_type": "markdown",
   "metadata": {},
   "source": [
    "##### The latest version of this Jupyter notebook is available at [http://github.com/jckantor/CBE40455](http://github.com/jckantor/CBE20255)  for noncommercial use under terms of the [Creative Commons Attribution Noncommericial ShareAlike License](http://creativecommons.org/licenses/by-nc-sa/4.0/).\n",
    "\n",
    "J.C. Kantor (Kantor.1@nd.edu)"
   ]
  },
  {
   "cell_type": "markdown",
   "metadata": {},
   "source": [
    "# Machine Bottleneck"
   ]
  },
  {
   "cell_type": "markdown",
   "metadata": {},
   "source": [
    "This notebook demonstrates the formulation and solution of the a machine bottleneck problem using GLPK/Mathprog. The task is to schedule a set of jobs on a single machine given the release time, duration, and due time for each job. Date for the example problem is from Christelle Gueret, Christian Prins, Marc Sevaux, \"Applications of Optimization with Xpress-MP,\" Chapter 5, Dash Optimization, 2000.\n",
    "\n",
    "* [MathProg Model](#MathProg-Model)\n",
    "* [Example](#Example)\n",
    "* [Visualization](#Visualization)"
   ]
  },
  {
   "cell_type": "markdown",
   "metadata": {},
   "source": [
    "## MathProg Model"
   ]
  },
  {
   "cell_type": "markdown",
   "metadata": {},
   "source": [
    "The model uses a 'Big M' implementation of disjunctive constraints to avoid conflicts for a single machine.  Big M should be larger than the longest time horizon for the completion of all jobs. A bound on the longest horizon is the maximum release plus the sum of durations for all jobs."
   ]
  },
  {
   "cell_type": "code",
   "execution_count": 1,
   "metadata": {
    "collapsed": false
   },
   "outputs": [
    {
     "name": "stdout",
     "output_type": "stream",
     "text": [
      "Writing Bottleneck.mod\n"
     ]
    }
   ],
   "source": [
    "%%writefile Bottleneck.mod\n",
    "\n",
    "/* Machine Bottleneck Example */\n",
    "\n",
    "set JOBS;\n",
    "\n",
    "param rel{JOBS} default 0;   # Time a job is available to the machine\n",
    "param dur{JOBS};             # Job duration\n",
    "param due{JOBS};             # Job due time\n",
    "\n",
    "/* Data Checks */\n",
    "check {k in JOBS}: rel[k] + dur[k] <= due[k];\n",
    "\n",
    "/* The model uses a 'Big M' implementation of disjunctive constraints\n",
    "to avoid conflicts for a single machine.  Big M should be larger than\n",
    "the longest time horizon for the completion of all jobs. A bound\n",
    "on the longest horizon is the maximum release plus the sum of\n",
    "durations for all jobs. */\n",
    "\n",
    "param BigM := (max {k in JOBS} rel[k] ) + sum{k in JOBS} dur[k];\n",
    "\n",
    "/* Decision variables are the start times for each job, and a\n",
    "disjunctive variable y[j,k] which is 1 if job j precedes job k on\n",
    "the machine. */\n",
    "\n",
    "var start{JOBS} >= 0;\n",
    "var pastdue{JOBS} >= 0;\n",
    "var y{JOBS,JOBS} binary;\n",
    "\n",
    "/* There are many possible objectives, including total pastdue, maximum\n",
    "pastdue (i.e., tardiness), number of jobs pastdue.  */\n",
    "\n",
    "minimize OBJ : sum {k in JOBS} pastdue[k];\n",
    "\n",
    "/* Order Constraints */\n",
    "\n",
    "s.t. START {k in JOBS}: start[k] >= rel[k];\n",
    "s.t. FINIS {k in JOBS}: start[k] + dur[k] <= due[k] + pastdue[k];\n",
    "\n",
    "/* Machine Conflict Constraints */\n",
    "\n",
    "s.t. DA {j in JOBS, k in JOBS : j < k}:\n",
    "   start[j] + dur[j] <= start[k] + BigM*(1-y[j,k]);\n",
    "s.t. DB {j in JOBS, k in JOBS : j < k}:\n",
    "   start[k] + dur[k] <= start[j] + BigM*y[j,k];\n",
    "\n",
    "solve;\n",
    "\n",
    "/* Create Tables */\n",
    "\n",
    "table tout {k in JOBS} OUT \"CSV\" \"Schedule.csv\" \"table\":\n",
    "    k~Job, rel[k]~Release, start[k]~Start, start[k]+dur[k]~Finish, due[k]~Due;\n",
    "\n",
    "/* Print Report */\n",
    "\n",
    "printf \" Task     Rel     Dur     Due   Start  Finish Pastdue\\n\";\n",
    "printf {k in JOBS} \"%5s %7g %7g %7g %7g %7g %7g\\n\",\n",
    "   k,rel[k],dur[k],due[k],start[k],start[k]+dur[k],pastdue[k];\n",
    "\n",
    "end;"
   ]
  },
  {
   "cell_type": "markdown",
   "metadata": {},
   "source": [
    "## Example"
   ]
  },
  {
   "cell_type": "markdown",
   "metadata": {},
   "source": [
    "Machine Bottleneck Example from Christelle Gueret, Christian Prins,\n",
    "Marc Sevaux, \"Applications of Optimization with Xpress-MP,\" Chapter 5,\n",
    "Dash Optimization, 2000."
   ]
  },
  {
   "cell_type": "code",
   "execution_count": 2,
   "metadata": {
    "collapsed": false
   },
   "outputs": [],
   "source": [
    "%%script glpsol -m Bottleneck.mod -d /dev/stdin -y results.txt --out output\n",
    "\n",
    "param: JOBS : rel   dur   due :=\n",
    "         A      2     5    10\n",
    "         B      5     6    21\n",
    "         C      4     8    15\n",
    "         D      0     4    10\n",
    "         E      0     2     5\n",
    "         F      8     3    15\n",
    "         G      9     2    22 ;\n",
    "\n",
    "end;"
   ]
  },
  {
   "cell_type": "code",
   "execution_count": 3,
   "metadata": {
    "collapsed": false
   },
   "outputs": [
    {
     "name": "stdout",
     "output_type": "stream",
     "text": [
      " Task     Rel     Dur     Due   Start  Finish Pastdue\n",
      "    A       2       5      10       6      11       1\n",
      "    B       5       6      21      14      20       0\n",
      "    C       4       8      15      22      30      15\n",
      "    D       0       4      10       2       6       0\n",
      "    E       0       2       5       0       2       0\n",
      "    F       8       3      15      11      14       0\n",
      "    G       9       2      22      20      22       0\n",
      "\n"
     ]
    }
   ],
   "source": [
    "print(open('results.txt').read())"
   ]
  },
  {
   "cell_type": "code",
   "execution_count": 6,
   "metadata": {
    "collapsed": false
   },
   "outputs": [
    {
     "data": {
      "text/html": [
       "<div>\n",
       "<table border=\"1\" class=\"dataframe\">\n",
       "  <thead>\n",
       "    <tr style=\"text-align: right;\">\n",
       "      <th></th>\n",
       "      <th>Job</th>\n",
       "      <th>Release</th>\n",
       "      <th>Start</th>\n",
       "      <th>Finish</th>\n",
       "      <th>Due</th>\n",
       "    </tr>\n",
       "  </thead>\n",
       "  <tbody>\n",
       "    <tr>\n",
       "      <th>0</th>\n",
       "      <td>A</td>\n",
       "      <td>2</td>\n",
       "      <td>6</td>\n",
       "      <td>11</td>\n",
       "      <td>10</td>\n",
       "    </tr>\n",
       "    <tr>\n",
       "      <th>1</th>\n",
       "      <td>B</td>\n",
       "      <td>5</td>\n",
       "      <td>14</td>\n",
       "      <td>20</td>\n",
       "      <td>21</td>\n",
       "    </tr>\n",
       "    <tr>\n",
       "      <th>2</th>\n",
       "      <td>C</td>\n",
       "      <td>4</td>\n",
       "      <td>22</td>\n",
       "      <td>30</td>\n",
       "      <td>15</td>\n",
       "    </tr>\n",
       "    <tr>\n",
       "      <th>3</th>\n",
       "      <td>D</td>\n",
       "      <td>0</td>\n",
       "      <td>2</td>\n",
       "      <td>6</td>\n",
       "      <td>10</td>\n",
       "    </tr>\n",
       "    <tr>\n",
       "      <th>4</th>\n",
       "      <td>E</td>\n",
       "      <td>0</td>\n",
       "      <td>0</td>\n",
       "      <td>2</td>\n",
       "      <td>5</td>\n",
       "    </tr>\n",
       "    <tr>\n",
       "      <th>5</th>\n",
       "      <td>F</td>\n",
       "      <td>8</td>\n",
       "      <td>11</td>\n",
       "      <td>14</td>\n",
       "      <td>15</td>\n",
       "    </tr>\n",
       "    <tr>\n",
       "      <th>6</th>\n",
       "      <td>G</td>\n",
       "      <td>9</td>\n",
       "      <td>20</td>\n",
       "      <td>22</td>\n",
       "      <td>22</td>\n",
       "    </tr>\n",
       "  </tbody>\n",
       "</table>\n",
       "</div>"
      ],
      "text/plain": [
       "  Job  Release  Start  Finish  Due\n",
       "0   A        2      6      11   10\n",
       "1   B        5     14      20   21\n",
       "2   C        4     22      30   15\n",
       "3   D        0      2       6   10\n",
       "4   E        0      0       2    5\n",
       "5   F        8     11      14   15\n",
       "6   G        9     20      22   22"
      ]
     },
     "metadata": {},
     "output_type": "display_data"
    }
   ],
   "source": [
    "import pandas\n",
    "from IPython.display import display\n",
    "\n",
    "schedule = pandas.read_csv(\"Schedule.csv\")\n",
    "display(schedule)"
   ]
  },
  {
   "cell_type": "markdown",
   "metadata": {},
   "source": [
    "## Visualization"
   ]
  },
  {
   "cell_type": "code",
   "execution_count": 53,
   "metadata": {
    "collapsed": false
   },
   "outputs": [
    {
     "data": {
      "image/png": "[encoded data removed]",
      "text/plain": [
       "<matplotlib.figure.Figure at 0x10cda5e10>"
      ]
     },
     "metadata": {},
     "output_type": "display_data"
    }
   ],
   "source": [
    "import matplotlib.pyplot as plt\n",
    "%matplotlib inline\n",
    "\n",
    "plt.figure(figsize=(12,6))\n",
    "plt.hold(True)\n",
    "for i in schedule.index:\n",
    "    plt.plot([schedule.ix[i,'Start'],schedule.ix[i,'Finish']],[i,i],\n",
    "             color='blue',alpha=1.0,lw=20,solid_capstyle=\"butt\")\n",
    "    plt.plot([schedule.ix[i,'Release'],schedule.ix[i,'Due']],[i,i],\n",
    "             color='yellow',alpha=0.8,lw=20,solid_capstyle=\"butt\")\n",
    "    plt.text((schedule.ix[i,'Start']+schedule.ix[i,'Finish'])/2.0,i,\n",
    "             'Job '+schedule.ix[i,'Job'],color='white',weight='bold',\n",
    "            horizontalalignment='center',verticalalignment='center')\n",
    "\n",
    "plt.ylim(plt.ylim()[0]-0.5,plt.ylim()[1]+0.5)\n",
    "plt.title('Machine Schedule')\n",
    "plt.xlabel('Time')\n",
    "plt.ylabel('Job Index')\n",
    "plt.grid()"
   ]
  },
  {
   "cell_type": "code",
   "execution_count": null,
   "metadata": {
    "collapsed": true
   },
   "outputs": [],
   "source": []
  }
 ],
 "metadata": {
  "kernelspec": {
   "display_name": "Python 2",
   "language": "python",
   "name": "python2"
  },
  "language_info": {
   "codemirror_mode": {
    "name": "ipython",
    "version": 2
   },
   "file_extension": ".py",
   "mimetype": "text/x-python",
   "name": "python",
   "nbconvert_exporter": "python",
   "pygments_lexer": "ipython2",
   "version": "2.7.10"
  }
 },
 "nbformat": 4,
 "nbformat_minor": 0
}
