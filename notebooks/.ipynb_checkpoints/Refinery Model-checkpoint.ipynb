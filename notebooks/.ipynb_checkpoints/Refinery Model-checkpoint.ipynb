{
 "metadata": {
  "name": "",
  "signature": "sha256:8119787fa6d02a5c65b1546068ab4db36c3ddac8648634b0e4b56ee25fd27aae"
 },
 "nbformat": 3,
 "nbformat_minor": 0,
 "worksheets": [
  {
   "cells": [
    {
     "cell_type": "heading",
     "level": 1,
     "metadata": {},
     "source": [
      "Refinery Model"
     ]
    },
    {
     "cell_type": "heading",
     "level": 2,
     "metadata": {},
     "source": [
      "Getting Started"
     ]
    },
    {
     "cell_type": "code",
     "collapsed": false,
     "input": [
      "%%script glpsol --out output -m /dev/stdin -o out.txt -y results.txt\n",
      "\n",
      "printf: \"\\nHello, World\\n\\n\";\n",
      "end;\n"
     ],
     "language": "python",
     "metadata": {},
     "outputs": [],
     "prompt_number": 17
    },
    {
     "cell_type": "code",
     "collapsed": false,
     "input": [
      "print output"
     ],
     "language": "python",
     "metadata": {},
     "outputs": [
      {
       "output_type": "stream",
       "stream": "stdout",
       "text": [
        "GLPSOL: GLPK LP/MIP Solver, v4.52\n",
        "Parameter(s) specified in the command line:\n",
        " -m /dev/stdin -o out.txt -y results.txt\n",
        "Reading model section from /dev/stdin...\n",
        "/dev/stdin:3: warning: final NL missing before end of file\n",
        "3 lines were read\n",
        "Model has been successfully generated\n",
        "GLPK Simplex Optimizer, v4.52\n",
        "0 rows, 0 columns, 0 non-zeros\n",
        "~     0: obj =   0.000000000e+00  infeas =  0.000e+00\n",
        "OPTIMAL SOLUTION FOUND\n",
        "Time used:   0.0 secs\n",
        "Memory used: 0.0 Mb (41574 bytes)\n",
        "Writing basic solution to `out.txt'...\n",
        "\n"
       ]
      }
     ],
     "prompt_number": 18
    },
    {
     "cell_type": "code",
     "collapsed": false,
     "input": [
      "f = open('out.txt');\n",
      "print(f.read())\n",
      "f.close()"
     ],
     "language": "python",
     "metadata": {},
     "outputs": [
      {
       "output_type": "stream",
       "stream": "stdout",
       "text": [
        "Problem:    stdin\n",
        "Rows:       0\n",
        "Columns:    0\n",
        "Non-zeros:  0\n",
        "Status:     OPTIMAL\n",
        "Objective:  0 (MINimum)\n",
        "\n",
        "   No.   Row name   St   Activity     Lower bound   Upper bound    Marginal\n",
        "------ ------------ -- ------------- ------------- ------------- -------------\n",
        "\n",
        "   No. Column name  St   Activity     Lower bound   Upper bound    Marginal\n",
        "------ ------------ -- ------------- ------------- ------------- -------------\n",
        "\n",
        "Karush-Kuhn-Tucker optimality conditions:\n",
        "\n",
        "KKT.PE: max.abs.err = 0.00e+00 on row 0\n",
        "        max.rel.err = 0.00e+00 on row 0\n",
        "        High quality\n",
        "\n",
        "KKT.PB: max.abs.err = 0.00e+00 on row 0\n",
        "        max.rel.err = 0.00e+00 on row 0\n",
        "        High quality\n",
        "\n",
        "KKT.DE: max.abs.err = 0.00e+00 on column 0\n",
        "        max.rel.err = 0.00e+00 on column 0\n",
        "        High quality\n",
        "\n",
        "KKT.DB: max.abs.err = 0.00e+00 on row 0\n",
        "        max.rel.err = 0.00e+00 on row 0\n",
        "        High quality\n",
        "\n",
        "End of output\n",
        "\n"
       ]
      }
     ],
     "prompt_number": 19
    },
    {
     "cell_type": "code",
     "collapsed": false,
     "input": [
      "f = open('results.txt');\n",
      "print(f.read())\n",
      "f.close()"
     ],
     "language": "python",
     "metadata": {},
     "outputs": [
      {
       "output_type": "stream",
       "stream": "stdout",
       "text": [
        "\n",
        "Hello, World\n",
        "\n",
        "\n"
       ]
      }
     ],
     "prompt_number": 20
    },
    {
     "cell_type": "heading",
     "level": 2,
     "metadata": {},
     "source": [
      "Simple Model"
     ]
    },
    {
     "cell_type": "code",
     "collapsed": false,
     "input": [
      "%%script glpsol -m /dev/stdin -o results.txt -y display.txt\n",
      "\n",
      "set PRODS := {'Butane','Petrol','HO','Diesel'};\n",
      "set CRUDS := {'1','2'};\n",
      "set UNITS := {'Distiller','Reformer','Cracker','P_Blender','D_Blender','HO_Blender'};\n",
      "\n",
      "var f{PRODS union CRUDS} >= 0;\n",
      "var u{UNITS} >= 0;\n",
      "\n",
      "param ReqProd{PRODS};\n",
      "param UnitCap{UNITS};\n",
      "param CrudAvail{CRUDS};\n",
      "\n",
      "s.t. Requirement {p in PRODS} : f[p] >= ReqProd[p];\n",
      "s.t. Availability {c in CRUDS} : f[c] <= CrudAvail[c];\n",
      "\n",
      "s.t. A : f['Butane'] = 0.03*f['1'] + 0.05*f['2'];\n",
      "    \n",
      "    \n",
      "data;\n",
      "\n",
      "param: ReqProd :=\n",
      "        Butane 20000\n",
      "        Petrol 40000\n",
      "        HO     42000\n",
      "        Diesel 30000;\n",
      "\n",
      "param: CrudAvail :=\n",
      "        '1'  250000\n",
      "        '2' 400000;\n",
      "        \n",
      "    \n",
      "end;\n"
     ],
     "language": "python",
     "metadata": {},
     "outputs": [
      {
       "output_type": "stream",
       "stream": "stdout",
       "text": [
        "GLPSOL: GLPK LP/MIP Solver, v4.52\n",
        "Parameter(s) specified in the command line:\n",
        " -m /dev/stdin -o results.txt -y display.txt\n",
        "Reading model section from /dev/stdin...\n",
        "Reading data section from /dev/stdin...\n",
        "/dev/stdin:33: warning: final NL missing before end of file\n",
        "33 lines were read\n",
        "Generating Requirement...\n",
        "Generating Availability...\n",
        "Model has been successfully generated\n",
        "GLPK Simplex Optimizer, v4.52\n",
        "6 rows, 6 columns, 6 non-zeros\n",
        "Preprocessing...\n",
        "~     0: obj =   0.000000000e+00  infeas =  0.000e+00\n",
        "OPTIMAL SOLUTION FOUND BY LP PREPROCESSOR\n",
        "Time used:   0.0 secs\n",
        "Memory used: 0.1 Mb (118350 bytes)\n",
        "Writing basic solution to `results.txt'...\n"
       ]
      }
     ],
     "prompt_number": 44
    },
    {
     "cell_type": "code",
     "collapsed": false,
     "input": [
      "f = open('display.txt');\n",
      "print(f.read())\n",
      "f.close()"
     ],
     "language": "python",
     "metadata": {},
     "outputs": [
      {
       "output_type": "stream",
       "stream": "stdout",
       "text": [
        "\n",
        "Hello, World\n",
        "\n",
        "\n"
       ]
      }
     ],
     "prompt_number": 45
    },
    {
     "cell_type": "code",
     "collapsed": false,
     "input": [
      "f = open('results.txt');\n",
      "print(f.read())\n",
      "f.close()"
     ],
     "language": "python",
     "metadata": {},
     "outputs": [
      {
       "output_type": "stream",
       "stream": "stdout",
       "text": [
        "Problem:    stdin\n",
        "Rows:       6\n",
        "Columns:    6\n",
        "Non-zeros:  6\n",
        "Status:     OPTIMAL\n",
        "Objective:  0 (MINimum)\n",
        "\n",
        "   No.   Row name   St   Activity     Lower bound   Upper bound    Marginal\n",
        "------ ------------ -- ------------- ------------- ------------- -------------\n",
        "     1 Requirement[Butane]\n",
        "                    NL         20000         20000                       < eps\n",
        "     2 Requirement[Petrol]\n",
        "                    NL         40000         40000                       < eps\n",
        "     3 Requirement[HO]\n",
        "                    NL         42000         42000                       < eps\n",
        "     4 Requirement[Diesel]\n",
        "                    NL         30000         30000                       < eps\n",
        "     5 Availability['1']\n",
        "                    B              0                      250000 \n",
        "     6 Availability['2']\n",
        "                    B              0                      400000 \n",
        "\n",
        "   No. Column name  St   Activity     Lower bound   Upper bound    Marginal\n",
        "------ ------------ -- ------------- ------------- ------------- -------------\n",
        "     1 f[Butane]    B          20000             0               \n",
        "     2 f[Petrol]    B          40000             0               \n",
        "     3 f[HO]        B          42000             0               \n",
        "     4 f[Diesel]    B          30000             0               \n",
        "     5 f['1']       NL             0             0                       < eps\n",
        "     6 f['2']       NL             0             0                       < eps\n",
        "\n",
        "Karush-Kuhn-Tucker optimality conditions:\n",
        "\n",
        "KKT.PE: max.abs.err = 0.00e+00 on row 0\n",
        "        max.rel.err = 0.00e+00 on row 0\n",
        "        High quality\n",
        "\n",
        "KKT.PB: max.abs.err = 0.00e+00 on row 0\n",
        "        max.rel.err = 0.00e+00 on row 0\n",
        "        High quality\n",
        "\n",
        "KKT.DE: max.abs.err = 0.00e+00 on column 0\n",
        "        max.rel.err = 0.00e+00 on column 0\n",
        "        High quality\n",
        "\n",
        "KKT.DB: max.abs.err = 0.00e+00 on row 0\n",
        "        max.rel.err = 0.00e+00 on row 0\n",
        "        High quality\n",
        "\n",
        "End of output\n",
        "\n"
       ]
      }
     ],
     "prompt_number": 46
    },
    {
     "cell_type": "code",
     "collapsed": false,
     "input": [
      "print output"
     ],
     "language": "python",
     "metadata": {},
     "outputs": [
      {
       "output_type": "stream",
       "stream": "stdout",
       "text": [
        "GLPSOL: GLPK LP/MIP Solver, v4.52\n",
        "Parameter(s) specified in the command line:\n",
        " -m /dev/stdin -o results.txt -y display.txt\n",
        "Reading model section from /dev/stdin...\n",
        "/dev/stdin:5: warning: final NL missing before end of file\n",
        "5 lines were read\n",
        "Model has been successfully generated\n",
        "GLPK Simplex Optimizer, v4.52\n",
        "0 rows, 0 columns, 0 non-zeros\n",
        "~     0: obj =   0.000000000e+00  infeas =  0.000e+00\n",
        "OPTIMAL SOLUTION FOUND\n",
        "Time used:   0.0 secs\n",
        "Memory used: 0.1 Mb (57638 bytes)\n",
        "Writing basic solution to `results.txt'...\n",
        "\n"
       ]
      }
     ],
     "prompt_number": 30
    },
    {
     "cell_type": "code",
     "collapsed": false,
     "input": [],
     "language": "python",
     "metadata": {},
     "outputs": [],
     "prompt_number": 30
    },
    {
     "cell_type": "code",
     "collapsed": false,
     "input": [],
     "language": "python",
     "metadata": {},
     "outputs": []
    }
   ],
   "metadata": {}
  }
 ]
}