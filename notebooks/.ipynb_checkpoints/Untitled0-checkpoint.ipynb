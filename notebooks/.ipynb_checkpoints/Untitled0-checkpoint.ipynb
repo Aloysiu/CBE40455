{
 "metadata": {
  "name": ""
 },
 "nbformat": 3,
 "nbformat_minor": 0,
 "worksheets": [
  {
   "cells": [
    {
     "cell_type": "code",
     "collapsed": false,
     "input": [
      "from geopy import *"
     ],
     "language": "python",
     "metadata": {},
     "outputs": [
      {
       "ename": "ImportError",
       "evalue": "No module named geopy",
       "output_type": "pyerr",
       "traceback": [
        "\u001b[0;31m---------------------------------------------------------------------------\u001b[0m\n\u001b[0;31mImportError\u001b[0m                               Traceback (most recent call last)",
        "\u001b[0;32m<ipython-input-1-f69549a57cf6>\u001b[0m in \u001b[0;36m<module>\u001b[0;34m()\u001b[0m\n\u001b[0;32m----> 1\u001b[0;31m \u001b[0;32mfrom\u001b[0m \u001b[0mgeopy\u001b[0m \u001b[0;32mimport\u001b[0m \u001b[0;34m*\u001b[0m\u001b[0;34m\u001b[0m\u001b[0m\n\u001b[0m",
        "\u001b[0;31mImportError\u001b[0m: No module named geopy"
       ]
      }
     ],
     "prompt_number": 1
    },
    {
     "cell_type": "code",
     "collapsed": false,
     "input": [
      "!pip install geopy"
     ],
     "language": "python",
     "metadata": {},
     "outputs": [
      {
       "output_type": "stream",
       "stream": "stdout",
       "text": [
        "Downloading/unpacking geopy\r\n"
       ]
      },
      {
       "output_type": "stream",
       "stream": "stdout",
       "text": [
        "  Downloading geopy-0.98.3.tar.gz (62kB): \r",
        "  Downloading geopy-0.98.3.tar.gz (62kB):   6%  4.1kB\r",
        "  Downloading geopy-0.98.3.tar.gz (62kB):  13%  8.2kB"
       ]
      },
      {
       "output_type": "stream",
       "stream": "stdout",
       "text": [
        "\r",
        "  Downloading geopy-0.98.3.tar.gz (62kB):  19%  12kB \r",
        "  Downloading geopy-0.98.3.tar.gz (62kB):  26%  16kB\r",
        "  Downloading geopy-0.98.3.tar.gz (62kB):  32%  20kB\r",
        "  Downloading geopy-0.98.3.tar.gz (62kB):  39%  24kB\r",
        "  Downloading geopy-0.98.3.tar.gz (62kB):  45%  28kB\r",
        "  Downloading geopy-0.98.3.tar.gz (62kB):  52%  32kB\r",
        "  Downloading geopy-0.98.3.tar.gz (62kB):  59%  36kB\r",
        "  Downloading geopy-0.98.3.tar.gz (62kB):  65%  40kB\r",
        "  Downloading geopy-0.98.3.tar.gz (62kB):  72%  45kB\r",
        "  Downloading geopy-0.98.3.tar.gz (62kB):  78%  49kB"
       ]
      },
      {
       "output_type": "stream",
       "stream": "stdout",
       "text": [
        "\r",
        "  Downloading geopy-0.98.3.tar.gz (62kB):  85%  53kB\r",
        "  Downloading geopy-0.98.3.tar.gz (62kB):  91%  57kB\r",
        "  Downloading geopy-0.98.3.tar.gz (62kB):  98%  61kB\r",
        "  Downloading geopy-0.98.3.tar.gz (62kB): 100%  62kB\r",
        "  Downloading geopy-0.98.3.tar.gz (62kB):           \r",
        "  Downloading geopy-0.98.3.tar.gz (62kB): 62kB downloaded\r\n"
       ]
      },
      {
       "output_type": "stream",
       "stream": "stdout",
       "text": [
        "  Running setup.py (path:/private/var/folders/c7/17c_xd_54374cf0m_sfw7qb40000gn/T/pip_build_jeff/geopy/setup.py) egg_info for package geopy\r\n"
       ]
      },
      {
       "output_type": "stream",
       "stream": "stdout",
       "text": [
        "    \r\n"
       ]
      },
      {
       "output_type": "stream",
       "stream": "stdout",
       "text": [
        "    warning: no previously-included files matching '*' found under directory 'test'\r\n",
        "    no previously-included directories found matching 'geopy/__pycache__'\r\n",
        "    no previously-included directories found matching 'geopy/geocoders/__pycache__'\r\n",
        "Installing collected packages: geopy\r\n",
        "  Running setup.py install for geopy\r\n"
       ]
      },
      {
       "output_type": "stream",
       "stream": "stdout",
       "text": [
        "    \r\n",
        "    warning: no previously-included files matching '*' found under directory 'test'\r\n",
        "    no previously-included directories found matching 'geopy/__pycache__'\r\n",
        "    no previously-included directories found matching 'geopy/geocoders/__pycache__'\r\n"
       ]
      },
      {
       "output_type": "stream",
       "stream": "stdout",
       "text": [
        "Successfully installed geopy\r\n",
        "Cleaning up...\r\n"
       ]
      }
     ],
     "prompt_number": 2
    },
    {
     "cell_type": "code",
     "collapsed": false,
     "input": [
      "from geopy import geocoders"
     ],
     "language": "python",
     "metadata": {},
     "outputs": [],
     "prompt_number": 3
    },
    {
     "cell_type": "code",
     "collapsed": false,
     "input": [
      "g = geocoders.GoogleV3()\n",
      "place, (lat,lng) = g.geocode(\"52044 Carding Mill Ct., Granger, IN 46530\")"
     ],
     "language": "python",
     "metadata": {},
     "outputs": [],
     "prompt_number": 4
    },
    {
     "cell_type": "code",
     "collapsed": false,
     "input": [
      "place"
     ],
     "language": "python",
     "metadata": {},
     "outputs": [
      {
       "metadata": {},
       "output_type": "pyout",
       "prompt_number": 5,
       "text": [
        "u'52044 Carding Mill Court, Granger, IN 46530, USA'"
       ]
      }
     ],
     "prompt_number": 5
    },
    {
     "cell_type": "code",
     "collapsed": false,
     "input": [
      "lat"
     ],
     "language": "python",
     "metadata": {},
     "outputs": [
      {
       "metadata": {},
       "output_type": "pyout",
       "prompt_number": 6,
       "text": [
        "41.7374515"
       ]
      }
     ],
     "prompt_number": 6
    },
    {
     "cell_type": "code",
     "collapsed": false,
     "input": [
      "lng"
     ],
     "language": "python",
     "metadata": {},
     "outputs": [
      {
       "metadata": {},
       "output_type": "pyout",
       "prompt_number": 7,
       "text": [
        "-86.2072243"
       ]
      }
     ],
     "prompt_number": 7
    },
    {
     "cell_type": "code",
     "collapsed": false,
     "input": [
      "from geopy import geocoders\n",
      "g = geocoders.GoogleV3()\n",
      "\n",
      "place,(lat,lng) = g.geocode(\"52044 Carding Mill Ct., Granger, IN 46530\")\n",
      "print lat,lng\n",
      "\n",
      "from IPython.display import IFrame\n",
      "from IPython.core.display import display\n",
      "\n",
      "# Google Maps URL template for an iframe\n",
      "\n",
      "google_maps_url = \"http://maps.google.com/maps?q={0}+{1}&\" + \\\n",
      "  \"ie=UTF8&t=h&z=14&{0},{1}&output=embed\".format(lat, lng)\n",
      "    \n",
      "url = \n",
      "display(IFrame(\"http://maps.googleapis.com/maps/api/staticmap?center=-15.800513,-47.91378&zoom=11&size=200x200&sensor=false\",'200px','200px'))"
     ],
     "language": "python",
     "metadata": {},
     "outputs": [
      {
       "output_type": "stream",
       "stream": "stdout",
       "text": [
        "41.7374515 -86.2072243\n"
       ]
      },
      {
       "html": [
        "\n",
        "        <iframe\n",
        "            width=\"200px\"\n",
        "            height=200px\"\n",
        "            src=\"http://maps.googleapis.com/maps/api/staticmap?center=-15.800513,-47.91378&zoom=11&size=200x200&sensor=false\"\n",
        "            frameborder=\"0\"\n",
        "            allowfullscreen\n",
        "        ></iframe>\n",
        "        "
       ],
       "metadata": {},
       "output_type": "display_data",
       "text": [
        "<IPython.lib.display.IFrame at 0x107f66f10>"
       ]
      }
     ],
     "prompt_number": 35
    },
    {
     "cell_type": "markdown",
     "metadata": {},
     "source": [
      "<img src=\"http://maps.googleapis.com/maps/api/staticmap?center=Brooklyn+Bridge,New+York,NY&zoom=13&size=600x300\n",
      "&markers=color:white%7Clabel:L%7C40.702147,-74.015794&markers=color:green%7Clabel:G%7C40.711614,-74.012318\n",
      "&markers=color:red%7Clabel:C%7C40.718217,-73.998284&sensor=false\"/>"
     ]
    },
    {
     "cell_type": "code",
     "collapsed": false,
     "input": [
      "url = \"http://maps.googleapis.com/maps/api/staticmap?center=41.7375,-86.207&zoom=10&size=600x300&sensor=false\"\n",
      "\n",
      "import urllib\n",
      "from IPython.core.display import Image\n",
      "\n",
      "Image(urllib.urlopen(url).read())"
     ],
     "language": "python",
     "metadata": {},
     "outputs": [
      {
       "metadata": {},
       "output_type": "pyout",
       "png": "[encoded data removed]",
       "prompt_number": 82,
       "text": [
        "<IPython.core.display.Image at 0x1091e0410>"
       ]
      }
     ],
     "prompt_number": 82
    },
    {
     "cell_type": "code",
     "collapsed": false,
     "input": [
      "%%writefile data.csv\n",
      "FROM,TO,DISTANCE,COST\n",
      "Seattle,New York,2.5,0.12\n",
      "Seattle,Chicago,1.7,0.08\n",
      "Seattle,Topeka,1.8,0.09\n",
      "San Diego,New York,2.5,0.15\n",
      "San Diego,Chicago,1.8,0.10\n",
      "San Diego,Topeka,1.4,0.07\n"
     ],
     "language": "python",
     "metadata": {},
     "outputs": [
      {
       "output_type": "stream",
       "stream": "stdout",
       "text": [
        "Overwriting data.csv\n"
       ]
      }
     ],
     "prompt_number": 40
    },
    {
     "cell_type": "markdown",
     "metadata": {},
     "source": [
      "<img src=\"http://maps.googleapis.com/maps/api/staticmap?center=-15.800513,-47.91378&zoom=11&size=200x200&sensor=false\">"
     ]
    },
    {
     "cell_type": "code",
     "collapsed": false,
     "input": [
      "%%script glpsol -m /dev/stdin \n",
      "\n",
      "# Read CSV data file\n",
      "\n",
      "set S dimen 2;\n",
      "param d{S};\n",
      "param c{S};\n",
      "\n",
      "table data IN \"CSV\" \"data.csv\":\n",
      "    S <- [FROM,TO], d~DISTANCE, c~COST;\n",
      "    \n",
      "# Construct sets\n",
      "\n",
      "set FROM := setof{(a,b) in S} a;\n",
      "set TO := setof{(a,b) in S} b;\n",
      "set CITIES := FROM union TO;\n",
      "    \n",
      "# Minimum Distance\n",
      "var x{S} binary;\n",
      "minimize cost : sum{(a,b) in S} x[a,b]*c[a,b];\n",
      "\n",
      "s.t. A{t in TO}: sum{f in FROM} x[f,t] = 1;\n",
      "\n",
      "\n",
      "\n",
      "solve;\n",
      "\n",
      "for {(a,b) in S} : printf \"%12s %12s %d\\n\",a,b,x[a,b];\n",
      "\n",
      "for {a in CITIES} : printf \"%s\\n\",a;\n",
      "    \n",
      "end;"
     ],
     "language": "python",
     "metadata": {},
     "outputs": [
      {
       "output_type": "stream",
       "stream": "stdout",
       "text": [
        "GLPSOL: GLPK LP/MIP Solver, v4.52\n",
        "Parameter(s) specified in the command line:\n",
        " -m /dev/stdin\n",
        "Reading model section from /dev/stdin...\n",
        "/dev/stdin:31: warning: final NL missing before end of file\n",
        "31 lines were read\n",
        "Reading data...\n",
        "data.csv:7: warning: missing final end-of-line\n",
        "Generating cost...\n",
        "Generating A...\n",
        "Model has been successfully generated\n",
        "GLPK Integer Optimizer, v4.52\n",
        "4 rows, 6 columns, 12 non-zeros\n",
        "6 integer variables, all of which are binary\n",
        "Preprocessing...\n",
        "3 rows, 6 columns, 6 non-zeros\n",
        "6 integer variables, all of which are binary\n",
        "Scaling...\n",
        " A: min|aij| =  1.000e+00  max|aij| =  1.000e+00  ratio =  1.000e+00\n",
        "Problem data seem to be well scaled\n",
        "Constructing initial basis...\n",
        "Size of triangular part is 3\n",
        "Solving LP relaxation...\n",
        "GLPK Simplex Optimizer, v4.52\n",
        "3 rows, 6 columns, 6 non-zeros\n",
        "*     0: obj =   3.200000000e-01  infeas =  0.000e+00 (0)\n",
        "*     2: obj =   2.700000000e-01  infeas =  0.000e+00 (0)\n",
        "OPTIMAL LP SOLUTION FOUND\n",
        "Integer optimization begins...\n",
        "+     2: mip =     not found yet >=              -inf        (1; 0)\n",
        "+     2: >>>>>   2.700000000e-01 >=   2.700000000e-01   0.0% (1; 0)\n",
        "+     2: mip =   2.700000000e-01 >=     tree is empty   0.0% (0; 1)\n",
        "INTEGER OPTIMAL SOLUTION FOUND\n",
        "Time used:   0.0 secs\n",
        "Memory used: 0.1 Mb (135263 bytes)\n",
        "     Seattle     New York 1\n",
        "     Seattle      Chicago 1\n",
        "     Seattle       Topeka 0\n",
        "   San Diego     New York 0\n",
        "   San Diego      Chicago 0\n",
        "   San Diego       Topeka 1\n",
        "Seattle\n",
        "San Diego\n",
        "New York\n",
        "Chicago\n",
        "Topeka\n",
        "Model has been successfully processed\n"
       ]
      }
     ],
     "prompt_number": 56
    },
    {
     "cell_type": "code",
     "collapsed": false,
     "input": [
      "from cStringIO import StringIO\n",
      "import Image\n",
      "import urllib\n",
      "from IPython.display import display\n",
      "\n",
      "url = \"http://maps.googleapis.com/maps/api/staticmap?center=41.7,-86.3&size=800x800&zoom=12&sensor=false\"\n",
      "buffer = StringIO(urllib.urlopen(url).read())\n",
      "image = Image.open(buffer)\n"
     ],
     "language": "python",
     "metadata": {},
     "outputs": [
      {
       "ename": "AttributeError",
       "evalue": "type object 'Image' has no attribute 'open'",
       "output_type": "pyerr",
       "traceback": [
        "\u001b[0;31m---------------------------------------------------------------------------\u001b[0m\n\u001b[0;31mAttributeError\u001b[0m                            Traceback (most recent call last)",
        "\u001b[0;32m<ipython-input-19-23f116047076>\u001b[0m in \u001b[0;36m<module>\u001b[0;34m()\u001b[0m\n\u001b[1;32m      5\u001b[0m \u001b[0murl\u001b[0m \u001b[0;34m=\u001b[0m \u001b[0;34m\"http://maps.googleapis.com/maps/api/staticmap?center=41.7,-86.3&size=800x800&zoom=12&sensor=false\"\u001b[0m\u001b[0;34m\u001b[0m\u001b[0m\n\u001b[1;32m      6\u001b[0m \u001b[0mbuffer\u001b[0m \u001b[0;34m=\u001b[0m \u001b[0mStringIO\u001b[0m\u001b[0;34m(\u001b[0m\u001b[0murllib\u001b[0m\u001b[0;34m.\u001b[0m\u001b[0murlopen\u001b[0m\u001b[0;34m(\u001b[0m\u001b[0murl\u001b[0m\u001b[0;34m)\u001b[0m\u001b[0;34m.\u001b[0m\u001b[0mread\u001b[0m\u001b[0;34m(\u001b[0m\u001b[0;34m)\u001b[0m\u001b[0;34m)\u001b[0m\u001b[0;34m\u001b[0m\u001b[0m\n\u001b[0;32m----> 7\u001b[0;31m \u001b[0mimage\u001b[0m \u001b[0;34m=\u001b[0m \u001b[0mImage\u001b[0m\u001b[0;34m.\u001b[0m\u001b[0mopen\u001b[0m\u001b[0;34m(\u001b[0m\u001b[0mbuffer\u001b[0m\u001b[0;34m)\u001b[0m\u001b[0;34m\u001b[0m\u001b[0m\n\u001b[0m\u001b[1;32m      8\u001b[0m \u001b[0mdisplay\u001b[0m\u001b[0;34m(\u001b[0m\u001b[0mimage\u001b[0m\u001b[0;34m)\u001b[0m\u001b[0;34m\u001b[0m\u001b[0m\n",
        "\u001b[0;31mAttributeError\u001b[0m: type object 'Image' has no attribute 'open'"
       ]
      }
     ],
     "prompt_number": 19
    },
    {
     "cell_type": "code",
     "collapsed": false,
     "input": [
      "\n",
      "from IPython.display import Image\n",
      "\n",
      "url = \"http://maps.googleapis.com/maps/api/staticmap?center=41.7,-86.3&size=800x800&zoom=12&sensor=false\"\n",
      "buffer = StringIO(urllib.urlopen(url).read())"
     ],
     "language": "python",
     "metadata": {},
     "outputs": [],
     "prompt_number": 22
    },
    {
     "cell_type": "code",
     "collapsed": false,
     "input": [
      "from IPython.display import Image\n",
      "Image(\"http://maps.googleapis.com/maps/api/staticmap?center=-15.800513,-47.91378&zoom=11&size=200x200&sensor=false\")"
     ],
     "language": "python",
     "metadata": {},
     "outputs": [
      {
       "ename": "ValueError",
       "evalue": "Cannot embed the '91378&zoom=11&size=200x200&sensor=false' image format",
       "output_type": "pyerr",
       "traceback": [
        "\u001b[0;31m---------------------------------------------------------------------------\u001b[0m\n\u001b[0;31mValueError\u001b[0m                                Traceback (most recent call last)",
        "\u001b[0;32m<ipython-input-28-5f648064af18>\u001b[0m in \u001b[0;36m<module>\u001b[0;34m()\u001b[0m\n\u001b[1;32m      1\u001b[0m \u001b[0;32mfrom\u001b[0m \u001b[0mIPython\u001b[0m\u001b[0;34m.\u001b[0m\u001b[0mdisplay\u001b[0m \u001b[0;32mimport\u001b[0m \u001b[0mImage\u001b[0m\u001b[0;34m\u001b[0m\u001b[0m\n\u001b[0;32m----> 2\u001b[0;31m \u001b[0mImage\u001b[0m\u001b[0;34m(\u001b[0m\u001b[0;34m\"http://maps.googleapis.com/maps/api/staticmap?center=-15.800513,-47.91378&zoom=11&size=200x200&sensor=false\"\u001b[0m\u001b[0;34m)\u001b[0m\u001b[0;34m\u001b[0m\u001b[0m\n\u001b[0m",
        "\u001b[0;32m/Users/jeff/anaconda/lib/python2.7/site-packages/IPython/core/display.pyc\u001b[0m in \u001b[0;36m__init__\u001b[0;34m(self, data, url, filename, format, embed, width, height, retina)\u001b[0m\n\u001b[1;32m    595\u001b[0m \u001b[0;34m\u001b[0m\u001b[0m\n\u001b[1;32m    596\u001b[0m         \u001b[0;32mif\u001b[0m \u001b[0mself\u001b[0m\u001b[0;34m.\u001b[0m\u001b[0membed\u001b[0m \u001b[0;32mand\u001b[0m \u001b[0mself\u001b[0m\u001b[0;34m.\u001b[0m\u001b[0mformat\u001b[0m \u001b[0;32mnot\u001b[0m \u001b[0;32min\u001b[0m \u001b[0mself\u001b[0m\u001b[0;34m.\u001b[0m\u001b[0m_ACCEPTABLE_EMBEDDINGS\u001b[0m\u001b[0;34m:\u001b[0m\u001b[0;34m\u001b[0m\u001b[0m\n\u001b[0;32m--> 597\u001b[0;31m             \u001b[0;32mraise\u001b[0m \u001b[0mValueError\u001b[0m\u001b[0;34m(\u001b[0m\u001b[0;34m\"Cannot embed the '%s' image format\"\u001b[0m \u001b[0;34m%\u001b[0m \u001b[0;34m(\u001b[0m\u001b[0mself\u001b[0m\u001b[0;34m.\u001b[0m\u001b[0mformat\u001b[0m\u001b[0;34m)\u001b[0m\u001b[0;34m)\u001b[0m\u001b[0;34m\u001b[0m\u001b[0m\n\u001b[0m\u001b[1;32m    598\u001b[0m         \u001b[0mself\u001b[0m\u001b[0;34m.\u001b[0m\u001b[0mwidth\u001b[0m \u001b[0;34m=\u001b[0m \u001b[0mwidth\u001b[0m\u001b[0;34m\u001b[0m\u001b[0m\n\u001b[1;32m    599\u001b[0m         \u001b[0mself\u001b[0m\u001b[0;34m.\u001b[0m\u001b[0mheight\u001b[0m \u001b[0;34m=\u001b[0m \u001b[0mheight\u001b[0m\u001b[0;34m\u001b[0m\u001b[0m\n",
        "\u001b[0;31mValueError\u001b[0m: Cannot embed the '91378&zoom=11&size=200x200&sensor=false' image format"
       ]
      }
     ],
     "prompt_number": 28
    },
    {
     "cell_type": "code",
     "collapsed": false,
     "input": [],
     "language": "python",
     "metadata": {},
     "outputs": []
    }
   ],
   "metadata": {}
  }
 ]
}