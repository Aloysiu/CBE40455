{
 "metadata": {
  "name": ""
 },
 "nbformat": 3,
 "nbformat_minor": 0,
 "worksheets": [
  {
   "cells": [
    {
     "cell_type": "heading",
     "level": 1,
     "metadata": {},
     "source": [
      "Warehouse Fulfullment Operations"
     ]
    },
    {
     "cell_type": "markdown",
     "metadata": {},
     "source": [
      "This [IPython notebook](http://ipython.org/notebook.html) demonstrates use of the [SimPy](http://simpy.readthedocs.org/en/latest/) to simulate the order fulfillment operations of a hypothetical warehouse.\n",
      "\n",
      "J.C. Kantor (Kantor.1@nd.edu)\n",
      "\n",
      "The latest version of this IPython notebook is available at [http://github.com/jckantor/CBE20255](http://github.com/jckantor/CBE20255)  for noncommercial use under terms of the [Creative Commons Attribution Noncommericial ShareAlike License](http://creativecommons.org/licenses/by-nc-sa/4.0/)."
     ]
    },
    {
     "cell_type": "heading",
     "level": 2,
     "metadata": {},
     "source": [
      "Order Fulfillment Model"
     ]
    },
    {
     "cell_type": "markdown",
     "metadata": {},
     "source": [
      "http://kevingue.wordpress.com/2012/02/13/discrete-time-modeling-for-order-picking/"
     ]
    },
    {
     "cell_type": "heading",
     "level": 3,
     "metadata": {},
     "source": [
      "SimPy Installation"
     ]
    },
    {
     "cell_type": "code",
     "collapsed": false,
     "input": [
      "!pip install simpy\n",
      "import simpy\n",
      "simpy.test()"
     ],
     "language": "python",
     "metadata": {},
     "outputs": [
      {
       "output_type": "stream",
       "stream": "stdout",
       "text": [
        "Requirement already satisfied (use --upgrade to upgrade): simpy in /Applications/anaconda/lib/python2.7/site-packages\r\n",
        "Cleaning up...\r\n"
       ]
      },
      {
       "output_type": "stream",
       "stream": "stdout",
       "text": [
        "============================= test session starts =============================="
       ]
      },
      {
       "output_type": "stream",
       "stream": "stdout",
       "text": [
        "\n"
       ]
      },
      {
       "output_type": "stream",
       "stream": "stdout",
       "text": [
        "platform darwin -- Python 2.7.6 -- py-1.4.20 -- pytest-2.5.2"
       ]
      },
      {
       "output_type": "stream",
       "stream": "stdout",
       "text": [
        "\n"
       ]
      },
      {
       "output_type": "stream",
       "stream": "stdout",
       "text": [
        "collected 112 items"
       ]
      },
      {
       "output_type": "stream",
       "stream": "stdout",
       "text": [
        "\n"
       ]
      },
      {
       "output_type": "stream",
       "stream": "stdout",
       "text": [
        "\n"
       ]
      },
      {
       "output_type": "stream",
       "stream": "stdout",
       "text": [
        "../../../../../../Applications/anaconda/lib/python2.7/site-packages/simpy/test/test_condition.py "
       ]
      },
      {
       "output_type": "stream",
       "stream": "stdout",
       "text": [
        "."
       ]
      },
      {
       "output_type": "stream",
       "stream": "stdout",
       "text": [
        "."
       ]
      },
      {
       "output_type": "stream",
       "stream": "stdout",
       "text": [
        "."
       ]
      },
      {
       "output_type": "stream",
       "stream": "stdout",
       "text": [
        "."
       ]
      },
      {
       "output_type": "stream",
       "stream": "stdout",
       "text": [
        "."
       ]
      },
      {
       "output_type": "stream",
       "stream": "stdout",
       "text": [
        "."
       ]
      },
      {
       "output_type": "stream",
       "stream": "stdout",
       "text": [
        "."
       ]
      },
      {
       "output_type": "stream",
       "stream": "stdout",
       "text": [
        "."
       ]
      },
      {
       "output_type": "stream",
       "stream": "stdout",
       "text": [
        "."
       ]
      },
      {
       "output_type": "stream",
       "stream": "stdout",
       "text": [
        "."
       ]
      },
      {
       "output_type": "stream",
       "stream": "stdout",
       "text": [
        "."
       ]
      },
      {
       "output_type": "stream",
       "stream": "stdout",
       "text": [
        "."
       ]
      },
      {
       "output_type": "stream",
       "stream": "stdout",
       "text": [
        "."
       ]
      },
      {
       "output_type": "stream",
       "stream": "stdout",
       "text": [
        "."
       ]
      },
      {
       "output_type": "stream",
       "stream": "stdout",
       "text": [
        "."
       ]
      },
      {
       "output_type": "stream",
       "stream": "stdout",
       "text": [
        "\n"
       ]
      },
      {
       "output_type": "stream",
       "stream": "stdout",
       "text": [
        "../../../../../../Applications/anaconda/lib/python2.7/site-packages/simpy/test/test_environment.py "
       ]
      },
      {
       "output_type": "stream",
       "stream": "stdout",
       "text": [
        "."
       ]
      },
      {
       "output_type": "stream",
       "stream": "stdout",
       "text": [
        "."
       ]
      },
      {
       "output_type": "stream",
       "stream": "stdout",
       "text": [
        "."
       ]
      },
      {
       "output_type": "stream",
       "stream": "stdout",
       "text": [
        "."
       ]
      },
      {
       "output_type": "stream",
       "stream": "stdout",
       "text": [
        "\n"
       ]
      },
      {
       "output_type": "stream",
       "stream": "stdout",
       "text": [
        "../../../../../../Applications/anaconda/lib/python2.7/site-packages/simpy/test/test_event.py "
       ]
      },
      {
       "output_type": "stream",
       "stream": "stdout",
       "text": [
        "."
       ]
      },
      {
       "output_type": "stream",
       "stream": "stdout",
       "text": [
        "."
       ]
      },
      {
       "output_type": "stream",
       "stream": "stdout",
       "text": [
        "."
       ]
      },
      {
       "output_type": "stream",
       "stream": "stdout",
       "text": [
        "."
       ]
      },
      {
       "output_type": "stream",
       "stream": "stdout",
       "text": [
        "."
       ]
      },
      {
       "output_type": "stream",
       "stream": "stdout",
       "text": [
        "."
       ]
      },
      {
       "output_type": "stream",
       "stream": "stdout",
       "text": [
        "\n"
       ]
      },
      {
       "output_type": "stream",
       "stream": "stdout",
       "text": [
        "../../../../../../Applications/anaconda/lib/python2.7/site-packages/simpy/test/test_exceptions.py "
       ]
      },
      {
       "output_type": "stream",
       "stream": "stdout",
       "text": [
        "."
       ]
      },
      {
       "output_type": "stream",
       "stream": "stdout",
       "text": [
        "."
       ]
      },
      {
       "output_type": "stream",
       "stream": "stdout",
       "text": [
        "."
       ]
      },
      {
       "output_type": "stream",
       "stream": "stdout",
       "text": [
        "s"
       ]
      },
      {
       "output_type": "stream",
       "stream": "stdout",
       "text": [
        "."
       ]
      },
      {
       "output_type": "stream",
       "stream": "stdout",
       "text": [
        "."
       ]
      },
      {
       "output_type": "stream",
       "stream": "stdout",
       "text": [
        "."
       ]
      },
      {
       "output_type": "stream",
       "stream": "stdout",
       "text": [
        "."
       ]
      },
      {
       "output_type": "stream",
       "stream": "stdout",
       "text": [
        "\n"
       ]
      },
      {
       "output_type": "stream",
       "stream": "stdout",
       "text": [
        "../../../../../../Applications/anaconda/lib/python2.7/site-packages/simpy/test/test_interrupts.py "
       ]
      },
      {
       "output_type": "stream",
       "stream": "stdout",
       "text": [
        "."
       ]
      },
      {
       "output_type": "stream",
       "stream": "stdout",
       "text": [
        "."
       ]
      },
      {
       "output_type": "stream",
       "stream": "stdout",
       "text": [
        "."
       ]
      },
      {
       "output_type": "stream",
       "stream": "stdout",
       "text": [
        "."
       ]
      },
      {
       "output_type": "stream",
       "stream": "stdout",
       "text": [
        "."
       ]
      },
      {
       "output_type": "stream",
       "stream": "stdout",
       "text": [
        "."
       ]
      },
      {
       "output_type": "stream",
       "stream": "stdout",
       "text": [
        "."
       ]
      },
      {
       "output_type": "stream",
       "stream": "stdout",
       "text": [
        "."
       ]
      },
      {
       "output_type": "stream",
       "stream": "stdout",
       "text": [
        "."
       ]
      },
      {
       "output_type": "stream",
       "stream": "stdout",
       "text": [
        "."
       ]
      },
      {
       "output_type": "stream",
       "stream": "stdout",
       "text": [
        "\n"
       ]
      },
      {
       "output_type": "stream",
       "stream": "stdout",
       "text": [
        "../../../../../../Applications/anaconda/lib/python2.7/site-packages/simpy/test/test_process.py "
       ]
      },
      {
       "output_type": "stream",
       "stream": "stdout",
       "text": [
        "."
       ]
      },
      {
       "output_type": "stream",
       "stream": "stdout",
       "text": [
        "."
       ]
      },
      {
       "output_type": "stream",
       "stream": "stdout",
       "text": [
        "."
       ]
      },
      {
       "output_type": "stream",
       "stream": "stdout",
       "text": [
        "."
       ]
      },
      {
       "output_type": "stream",
       "stream": "stdout",
       "text": [
        "."
       ]
      },
      {
       "output_type": "stream",
       "stream": "stdout",
       "text": [
        "s"
       ]
      },
      {
       "output_type": "stream",
       "stream": "stdout",
       "text": [
        "."
       ]
      },
      {
       "output_type": "stream",
       "stream": "stdout",
       "text": [
        "."
       ]
      },
      {
       "output_type": "stream",
       "stream": "stdout",
       "text": [
        "."
       ]
      },
      {
       "output_type": "stream",
       "stream": "stdout",
       "text": [
        "."
       ]
      },
      {
       "output_type": "stream",
       "stream": "stdout",
       "text": [
        "."
       ]
      },
      {
       "output_type": "stream",
       "stream": "stdout",
       "text": [
        "\n"
       ]
      },
      {
       "output_type": "stream",
       "stream": "stdout",
       "text": [
        "../../../../../../Applications/anaconda/lib/python2.7/site-packages/simpy/test/test_resources.py "
       ]
      },
      {
       "output_type": "stream",
       "stream": "stdout",
       "text": [
        "."
       ]
      },
      {
       "output_type": "stream",
       "stream": "stdout",
       "text": [
        "."
       ]
      },
      {
       "output_type": "stream",
       "stream": "stdout",
       "text": [
        "."
       ]
      },
      {
       "output_type": "stream",
       "stream": "stdout",
       "text": [
        "."
       ]
      },
      {
       "output_type": "stream",
       "stream": "stdout",
       "text": [
        "."
       ]
      },
      {
       "output_type": "stream",
       "stream": "stdout",
       "text": [
        "."
       ]
      },
      {
       "output_type": "stream",
       "stream": "stdout",
       "text": [
        "."
       ]
      },
      {
       "output_type": "stream",
       "stream": "stdout",
       "text": [
        "."
       ]
      },
      {
       "output_type": "stream",
       "stream": "stdout",
       "text": [
        "."
       ]
      },
      {
       "output_type": "stream",
       "stream": "stdout",
       "text": [
        "."
       ]
      },
      {
       "output_type": "stream",
       "stream": "stdout",
       "text": [
        "."
       ]
      },
      {
       "output_type": "stream",
       "stream": "stdout",
       "text": [
        "."
       ]
      },
      {
       "output_type": "stream",
       "stream": "stdout",
       "text": [
        "."
       ]
      },
      {
       "output_type": "stream",
       "stream": "stdout",
       "text": [
        "."
       ]
      },
      {
       "output_type": "stream",
       "stream": "stdout",
       "text": [
        "."
       ]
      },
      {
       "output_type": "stream",
       "stream": "stdout",
       "text": [
        "."
       ]
      },
      {
       "output_type": "stream",
       "stream": "stdout",
       "text": [
        "."
       ]
      },
      {
       "output_type": "stream",
       "stream": "stdout",
       "text": [
        "."
       ]
      },
      {
       "output_type": "stream",
       "stream": "stdout",
       "text": [
        "."
       ]
      },
      {
       "output_type": "stream",
       "stream": "stdout",
       "text": [
        "."
       ]
      },
      {
       "output_type": "stream",
       "stream": "stdout",
       "text": [
        "."
       ]
      },
      {
       "output_type": "stream",
       "stream": "stdout",
       "text": [
        "."
       ]
      },
      {
       "output_type": "stream",
       "stream": "stdout",
       "text": [
        "."
       ]
      },
      {
       "output_type": "stream",
       "stream": "stdout",
       "text": [
        "."
       ]
      },
      {
       "output_type": "stream",
       "stream": "stdout",
       "text": [
        "."
       ]
      },
      {
       "output_type": "stream",
       "stream": "stdout",
       "text": [
        "."
       ]
      },
      {
       "output_type": "stream",
       "stream": "stdout",
       "text": [
        "."
       ]
      },
      {
       "output_type": "stream",
       "stream": "stdout",
       "text": [
        "."
       ]
      },
      {
       "output_type": "stream",
       "stream": "stdout",
       "text": [
        "\n"
       ]
      },
      {
       "output_type": "stream",
       "stream": "stdout",
       "text": [
        "../../../../../../Applications/anaconda/lib/python2.7/site-packages/simpy/test/test_rt.py "
       ]
      },
      {
       "output_type": "stream",
       "stream": "stdout",
       "text": [
        "."
       ]
      },
      {
       "output_type": "stream",
       "stream": "stdout",
       "text": [
        "."
       ]
      },
      {
       "output_type": "stream",
       "stream": "stdout",
       "text": [
        "."
       ]
      },
      {
       "output_type": "stream",
       "stream": "stdout",
       "text": [
        "."
       ]
      },
      {
       "output_type": "stream",
       "stream": "stdout",
       "text": [
        "."
       ]
      },
      {
       "output_type": "stream",
       "stream": "stdout",
       "text": [
        "."
       ]
      },
      {
       "output_type": "stream",
       "stream": "stdout",
       "text": [
        "."
       ]
      },
      {
       "output_type": "stream",
       "stream": "stdout",
       "text": [
        "\n"
       ]
      },
      {
       "output_type": "stream",
       "stream": "stdout",
       "text": [
        "../../../../../../Applications/anaconda/lib/python2.7/site-packages/simpy/test/test_timeout.py "
       ]
      },
      {
       "output_type": "stream",
       "stream": "stdout",
       "text": [
        "."
       ]
      },
      {
       "output_type": "stream",
       "stream": "stdout",
       "text": [
        "."
       ]
      },
      {
       "output_type": "stream",
       "stream": "stdout",
       "text": [
        "."
       ]
      },
      {
       "output_type": "stream",
       "stream": "stdout",
       "text": [
        "."
       ]
      },
      {
       "output_type": "stream",
       "stream": "stdout",
       "text": [
        "."
       ]
      },
      {
       "output_type": "stream",
       "stream": "stdout",
       "text": [
        "\n"
       ]
      },
      {
       "output_type": "stream",
       "stream": "stdout",
       "text": [
        "../../../../../../Applications/anaconda/lib/python2.7/site-packages/simpy/test/test_util.py "
       ]
      },
      {
       "output_type": "stream",
       "stream": "stdout",
       "text": [
        "."
       ]
      },
      {
       "output_type": "stream",
       "stream": "stdout",
       "text": [
        "."
       ]
      },
      {
       "output_type": "stream",
       "stream": "stdout",
       "text": [
        "."
       ]
      },
      {
       "output_type": "stream",
       "stream": "stdout",
       "text": [
        "."
       ]
      },
      {
       "output_type": "stream",
       "stream": "stdout",
       "text": [
        "."
       ]
      },
      {
       "output_type": "stream",
       "stream": "stdout",
       "text": [
        "."
       ]
      },
      {
       "output_type": "stream",
       "stream": "stdout",
       "text": [
        "."
       ]
      },
      {
       "output_type": "stream",
       "stream": "stdout",
       "text": [
        "."
       ]
      },
      {
       "output_type": "stream",
       "stream": "stdout",
       "text": [
        "."
       ]
      },
      {
       "output_type": "stream",
       "stream": "stdout",
       "text": [
        "."
       ]
      },
      {
       "output_type": "stream",
       "stream": "stdout",
       "text": [
        "."
       ]
      },
      {
       "output_type": "stream",
       "stream": "stdout",
       "text": [
        "."
       ]
      },
      {
       "output_type": "stream",
       "stream": "stdout",
       "text": [
        "."
       ]
      },
      {
       "output_type": "stream",
       "stream": "stdout",
       "text": [
        "."
       ]
      },
      {
       "output_type": "stream",
       "stream": "stdout",
       "text": [
        "."
       ]
      },
      {
       "output_type": "stream",
       "stream": "stdout",
       "text": [
        "."
       ]
      },
      {
       "output_type": "stream",
       "stream": "stdout",
       "text": [
        "."
       ]
      },
      {
       "output_type": "stream",
       "stream": "stdout",
       "text": [
        "."
       ]
      },
      {
       "output_type": "stream",
       "stream": "stdout",
       "text": [
        "\n"
       ]
      },
      {
       "output_type": "stream",
       "stream": "stdout",
       "text": [
        "\n"
       ]
      },
      {
       "output_type": "stream",
       "stream": "stdout",
       "text": [
        "==================== 110 passed, 2 skipped in 1.82 seconds ====================="
       ]
      },
      {
       "output_type": "stream",
       "stream": "stdout",
       "text": [
        "\n"
       ]
      }
     ],
     "prompt_number": 1
    },
    {
     "cell_type": "heading",
     "level": 3,
     "metadata": {},
     "source": [
      "Order Processing"
     ]
    },
    {
     "cell_type": "markdown",
     "metadata": {},
     "source": [
      "The order fulfillment operation is a sequence of eight events\n",
      "\n",
      "1. Order sent to the fulfillment center.\n",
      "1. Picker requested for the order.\n",
      "1. Order picked from the warehouse.\n",
      "1. Picker released.\n",
      "1. Inspector requested to review the order prior to shipping.\n",
      "1. Order reviewed.\n",
      "1. Reviewer released.\n",
      "1. Order shipped."
     ]
    },
    {
     "cell_type": "heading",
     "level": 3,
     "metadata": {},
     "source": [
      "Order Generator"
     ]
    },
    {
     "cell_type": "markdown",
     "metadata": {},
     "source": [
      "`orderGenerator` creates a sequence of orders following a Poisson distribution at an average rate 1/T_ORDER. Each order is tagged with a unique name using `itertools.count()`."
     ]
    },
    {
     "cell_type": "heading",
     "level": 3,
     "metadata": {},
     "source": [
      "Event Logging"
     ]
    },
    {
     "cell_type": "markdown",
     "metadata": {},
     "source": [
      "Events are logged and stored in a dictionary attached to an instance of the fulfillment class. The keys are an (orderId,event) tuple with the time stamp stored as the value. The raw data trace can be accessed as the `._data` field, or as a pandas Dataframe in the `.log` field."
     ]
    },
    {
     "cell_type": "heading",
     "level": 3,
     "metadata": {},
     "source": [
      "Fulfillment Class"
     ]
    },
    {
     "cell_type": "code",
     "collapsed": false,
     "input": [
      "# Global variables\n",
      "T_ORDER = 10                      # average time between orders.\n",
      "T_PICK = 15                       # mean time to pick order from warehouse (beta)\n",
      "T_INSPECT = 2                     # mean time to inspect order prior to shipment (beta)\n",
      "T_SHIP_MIN = 8; T_SHIP_MAX = 12   # mean time to ship order (uniform)\n",
      "ALPHA = 2.0; BETA = 5.0           # beta distribution parameters\n",
      "\n",
      "# Global defaults\n",
      "T_SIM = 1440               # simulation period\n",
      "N_PICKER = 2               # number of product pickers\n",
      "N_INSPECTOR = 1            # number of product inspectors\n",
      "\n",
      "import simpy\n",
      "import itertools\n",
      "import random\n",
      "import pandas as pd\n",
      "\n",
      "class fulfillment(object):\n",
      "    def __init__(self,n_picker=N_PICKER,n_inspector=N_INSPECTOR):\n",
      "        self.env = simpy.Environment()\n",
      "        self._data = dict()\n",
      "        self.picker = simpy.Resource(self.env,n_picker)\n",
      "        self.inspector = simpy.Resource(self.env,n_inspector)\n",
      "        self.env.process(self.orderGenerator())\n",
      "        \n",
      "    def writeLog(self,orderId,event):\n",
      "        self._data[orderId,event] = self.env.now\n",
      "        \n",
      "    @property\n",
      "    def log(self):\n",
      "        df = pd.DataFrame([[a,b,self._data[a,b]] for (a,b) in self._data.keys()])      \n",
      "        df = df.pivot(index=0,columns=1,values=2).reset_index()\n",
      "        return df[list(df.columns)[1:]] \n",
      "        \n",
      "    def order(self,orderId):\n",
      "        self.writeLog(orderId,'Ordered')\n",
      "        with self.picker.request() as preq:\n",
      "            yield preq\n",
      "            self.writeLog(orderId,'Pick Assigned')\n",
      "            yield self.env.timeout(T_PICK*((ALPHA+BETA)/ALPHA)*random.betavariate(ALPHA,BETA))\n",
      "            self.writeLog(orderId,'Picked')\n",
      "            self.picker.release(preq)\n",
      "        with self.inspector.request() as ireq:\n",
      "            yield ireq\n",
      "            self.writeLog(orderId,'Review Assigned')\n",
      "            yield self.env.timeout(T_INSPECT*((ALPHA+BETA)/ALPHA)*random.betavariate(ALPHA,BETA))\n",
      "            self.writeLog(orderId,'Reviewed')\n",
      "            self.inspector.release(ireq)\n",
      "                \n",
      "        yield self.env.timeout(random.uniform(T_SHIP_MIN,T_SHIP_MAX))\n",
      "        self.writeLog(orderId,'Shipped')\n",
      "                \n",
      "    def orderGenerator(self):\n",
      "        for orderId in itertools.count():\n",
      "            yield self.env.timeout(random.expovariate(1.0/T_ORDER))\n",
      "            self.env.process(self.order(orderId))\n",
      "             \n",
      "    def run(self,t_sim = T_SIM):\n",
      "        self.env.run(until=t_sim)\n",
      "        return(self.log)"
     ],
     "language": "python",
     "metadata": {},
     "outputs": [],
     "prompt_number": 2
    },
    {
     "cell_type": "heading",
     "level": 3,
     "metadata": {},
     "source": [
      "Simulation"
     ]
    },
    {
     "cell_type": "code",
     "collapsed": false,
     "input": [
      "# create an order fulfillment instance\n",
      "w = fulfillment(n_picker = 2, n_inspector = 1)\n",
      "\n",
      "# run a simulation for a specified period\n",
      "log = w.run(5000)"
     ],
     "language": "python",
     "metadata": {},
     "outputs": [],
     "prompt_number": 3
    },
    {
     "cell_type": "code",
     "collapsed": false,
     "input": [
      "log.plot()\n",
      "xlabel('Order Number')\n",
      "ylabel('Time [minutes]')"
     ],
     "language": "python",
     "metadata": {},
     "outputs": [
      {
       "metadata": {},
       "output_type": "pyout",
       "prompt_number": 4,
       "text": [
        "<matplotlib.text.Text at 0x109bf2950>"
       ]
      },
      {
       "metadata": {},
       "output_type": "display_data",
       "png": "[encoded data removed]",
       "text": [
        "<matplotlib.figure.Figure at 0x1084f3290>"
       ]
      }
     ],
     "prompt_number": 4
    },
    {
     "cell_type": "heading",
     "level": 2,
     "metadata": {},
     "source": [
      "Analyzing Results"
     ]
    },
    {
     "cell_type": "heading",
     "level": 3,
     "metadata": {},
     "source": [
      "Total Processing Time"
     ]
    },
    {
     "cell_type": "code",
     "collapsed": false,
     "input": [
      "torder = log['Shipped']-log['Ordered']\n",
      "subplot(3,1,1)\n",
      "plot(torder)\n",
      "xlabel('Order Number')\n",
      "ylabel('Time [minutes]')\n",
      "title('Time from Order to Shipment')\n",
      "\n",
      "subplot(2,1,2)\n",
      "torder.hist(bins=30)\n",
      "xlabel('Time [minutes]')\n",
      "ylabel('Count')"
     ],
     "language": "python",
     "metadata": {},
     "outputs": [
      {
       "metadata": {},
       "output_type": "pyout",
       "prompt_number": 5,
       "text": [
        "<matplotlib.text.Text at 0x109cc0590>"
       ]
      },
      {
       "metadata": {},
       "output_type": "display_data",
       "png": "[encoded data removed]",
       "text": [
        "<matplotlib.figure.Figure at 0x1084c3b50>"
       ]
      }
     ],
     "prompt_number": 5
    },
    {
     "cell_type": "heading",
     "level": 3,
     "metadata": {},
     "source": [
      "Time to Assign Picker"
     ]
    },
    {
     "cell_type": "code",
     "collapsed": false,
     "input": [
      "twait = log['Pick Assigned']-log['Ordered']\n",
      "subplot(3,1,1)\n",
      "plot(twait)\n",
      "xlabel('Order Number')\n",
      "ylabel('Time [minutes]')\n",
      "title('Time to Assign Picker')\n",
      "\n",
      "subplot(2,1,2)\n",
      "twait.hist(bins=30)\n",
      "xlabel('Time [minutes]')\n",
      "ylabel('Count')"
     ],
     "language": "python",
     "metadata": {},
     "outputs": [
      {
       "metadata": {},
       "output_type": "pyout",
       "prompt_number": 6,
       "text": [
        "<matplotlib.text.Text at 0x109fcbcd0>"
       ]
      },
      {
       "metadata": {},
       "output_type": "display_data",
       "png": "[encoded data removed]",
       "text": [
        "<matplotlib.figure.Figure at 0x109f2a910>"
       ]
      }
     ],
     "prompt_number": 6
    },
    {
     "cell_type": "heading",
     "level": 3,
     "metadata": {},
     "source": [
      "Time to Pick Order"
     ]
    },
    {
     "cell_type": "code",
     "collapsed": false,
     "input": [
      "tpick = log['Picked']-log['Pick Assigned']\n",
      "subplot(3,1,1)\n",
      "plot(tpick)\n",
      "xlabel('Order Number')\n",
      "ylabel('Time [minutes]')\n",
      "title('Time to Pick Order')\n",
      "\n",
      "subplot(2,1,2)\n",
      "tpick.hist(bins=30)\n",
      "xlabel('Time [minutes]')\n",
      "ylabel('Count')"
     ],
     "language": "python",
     "metadata": {},
     "outputs": [
      {
       "metadata": {},
       "output_type": "pyout",
       "prompt_number": 7,
       "text": [
        "<matplotlib.text.Text at 0x10a16d850>"
       ]
      },
      {
       "metadata": {},
       "output_type": "display_data",
       "png": "[encoded data removed]",
       "text": [
        "<matplotlib.figure.Figure at 0x109fad690>"
       ]
      }
     ],
     "prompt_number": 7
    },
    {
     "cell_type": "heading",
     "level": 3,
     "metadata": {},
     "source": [
      "Time to Assign Reviewer"
     ]
    },
    {
     "cell_type": "code",
     "collapsed": false,
     "input": [
      "twait = log['Review Assigned'] - log['Picked']\n",
      "subplot(3,1,1)\n",
      "plot(twait)\n",
      "xlabel('Order Number')\n",
      "ylabel('Time [minutes]')\n",
      "title('Time to Assign Inspector')\n",
      "\n",
      "subplot(2,1,2)\n",
      "twait.hist(bins=30)\n",
      "xlabel('Time [minutes]')\n",
      "ylabel('Count')"
     ],
     "language": "python",
     "metadata": {},
     "outputs": [
      {
       "metadata": {},
       "output_type": "pyout",
       "prompt_number": 8,
       "text": [
        "<matplotlib.text.Text at 0x10a901610>"
       ]
      },
      {
       "metadata": {},
       "output_type": "display_data",
       "png": "[encoded data removed]",
       "text": [
        "<matplotlib.figure.Figure at 0x10a5579d0>"
       ]
      }
     ],
     "prompt_number": 8
    },
    {
     "cell_type": "heading",
     "level": 3,
     "metadata": {},
     "source": [
      "Time to Review Order"
     ]
    },
    {
     "cell_type": "code",
     "collapsed": false,
     "input": [
      "treview = log['Reviewed']-log['Review Assigned']\n",
      "subplot(3,1,1)\n",
      "plot(treview)\n",
      "xlabel('Order Number')\n",
      "ylabel('Time [minutes]')\n",
      "title('Time to Review Order')\n",
      "\n",
      "subplot(2,1,2)\n",
      "treview.hist(bins=30)\n",
      "xlabel('Time [minutes]')\n",
      "ylabel('Count')"
     ],
     "language": "python",
     "metadata": {},
     "outputs": [
      {
       "metadata": {},
       "output_type": "pyout",
       "prompt_number": 9,
       "text": [
        "<matplotlib.text.Text at 0x10ab12490>"
       ]
      },
      {
       "metadata": {},
       "output_type": "display_data",
       "png": "[encoded data removed]",
       "text": [
        "<matplotlib.figure.Figure at 0x10a94b110>"
       ]
      }
     ],
     "prompt_number": 9
    },
    {
     "cell_type": "heading",
     "level": 3,
     "metadata": {},
     "source": [
      "Time to Ship"
     ]
    },
    {
     "cell_type": "code",
     "collapsed": false,
     "input": [
      "tship = log['Shipped']-log['Reviewed']\n",
      "subplot(3,1,1)\n",
      "plot(tship)\n",
      "xlabel('Order Number')\n",
      "ylabel('Time [minutes]')\n",
      "title('Time to Ship')\n",
      "\n",
      "subplot(2,1,2)\n",
      "tship.hist(bins=30)\n",
      "xlabel('Time [minutes]')\n",
      "ylabel('Count')"
     ],
     "language": "python",
     "metadata": {},
     "outputs": [
      {
       "metadata": {},
       "output_type": "pyout",
       "prompt_number": 10,
       "text": [
        "<matplotlib.text.Text at 0x10af240d0>"
       ]
      },
      {
       "metadata": {},
       "output_type": "display_data",
       "png": "[encoded data removed]",
       "text": [
        "<matplotlib.figure.Figure at 0x10ab70950>"
       ]
      }
     ],
     "prompt_number": 10
    },
    {
     "cell_type": "code",
     "collapsed": false,
     "input": [
      "display(log)"
     ],
     "language": "python",
     "metadata": {},
     "outputs": [
      {
       "html": [
        "<div style=\"max-height:1000px;max-width:1500px;overflow:auto;\">\n",
        "<table border=\"1\" class=\"dataframe\">\n",
        "  <thead>\n",
        "    <tr style=\"text-align: right;\">\n",
        "      <th>1</th>\n",
        "      <th>Ordered</th>\n",
        "      <th>Pick Assigned</th>\n",
        "      <th>Picked</th>\n",
        "      <th>Review Assigned</th>\n",
        "      <th>Reviewed</th>\n",
        "      <th>Shipped</th>\n",
        "    </tr>\n",
        "  </thead>\n",
        "  <tbody>\n",
        "    <tr>\n",
        "      <th>0 </th>\n",
        "      <td>  33.955464</td>\n",
        "      <td>  33.955464</td>\n",
        "      <td>  37.410044</td>\n",
        "      <td>  37.410044</td>\n",
        "      <td>  38.916508</td>\n",
        "      <td>  47.633764</td>\n",
        "    </tr>\n",
        "    <tr>\n",
        "      <th>1 </th>\n",
        "      <td>  58.361701</td>\n",
        "      <td>  58.361701</td>\n",
        "      <td>  62.324515</td>\n",
        "      <td>  62.324515</td>\n",
        "      <td>  63.802223</td>\n",
        "      <td>  71.883851</td>\n",
        "    </tr>\n",
        "    <tr>\n",
        "      <th>2 </th>\n",
        "      <td>  76.982543</td>\n",
        "      <td>  76.982543</td>\n",
        "      <td>  85.645324</td>\n",
        "      <td>  85.645324</td>\n",
        "      <td>  85.981948</td>\n",
        "      <td>  94.324122</td>\n",
        "    </tr>\n",
        "    <tr>\n",
        "      <th>3 </th>\n",
        "      <td>  98.045450</td>\n",
        "      <td>  98.045450</td>\n",
        "      <td> 119.955708</td>\n",
        "      <td> 122.050457</td>\n",
        "      <td> 124.781464</td>\n",
        "      <td> 132.918591</td>\n",
        "    </tr>\n",
        "    <tr>\n",
        "      <th>4 </th>\n",
        "      <td> 104.861140</td>\n",
        "      <td> 104.861140</td>\n",
        "      <td> 119.383159</td>\n",
        "      <td> 119.383159</td>\n",
        "      <td> 122.050457</td>\n",
        "      <td> 131.989079</td>\n",
        "    </tr>\n",
        "    <tr>\n",
        "      <th>5 </th>\n",
        "      <td> 110.570842</td>\n",
        "      <td> 119.383159</td>\n",
        "      <td> 120.832456</td>\n",
        "      <td> 124.781464</td>\n",
        "      <td> 126.560962</td>\n",
        "      <td> 137.023373</td>\n",
        "    </tr>\n",
        "    <tr>\n",
        "      <th>6 </th>\n",
        "      <td> 118.246204</td>\n",
        "      <td> 119.955708</td>\n",
        "      <td> 131.090496</td>\n",
        "      <td> 131.090496</td>\n",
        "      <td> 134.982627</td>\n",
        "      <td> 144.956054</td>\n",
        "    </tr>\n",
        "    <tr>\n",
        "      <th>7 </th>\n",
        "      <td> 132.577063</td>\n",
        "      <td> 132.577063</td>\n",
        "      <td> 140.290069</td>\n",
        "      <td> 140.290069</td>\n",
        "      <td> 143.033438</td>\n",
        "      <td> 152.881794</td>\n",
        "    </tr>\n",
        "    <tr>\n",
        "      <th>8 </th>\n",
        "      <td> 138.197782</td>\n",
        "      <td> 138.197782</td>\n",
        "      <td> 159.296520</td>\n",
        "      <td> 159.601684</td>\n",
        "      <td> 160.895337</td>\n",
        "      <td> 171.747575</td>\n",
        "    </tr>\n",
        "    <tr>\n",
        "      <th>9 </th>\n",
        "      <td> 143.721867</td>\n",
        "      <td> 143.721867</td>\n",
        "      <td> 156.048652</td>\n",
        "      <td> 156.048652</td>\n",
        "      <td> 159.601684</td>\n",
        "      <td> 168.195989</td>\n",
        "    </tr>\n",
        "    <tr>\n",
        "      <th>10</th>\n",
        "      <td> 157.057970</td>\n",
        "      <td> 157.057970</td>\n",
        "      <td> 166.837782</td>\n",
        "      <td> 166.837782</td>\n",
        "      <td> 170.498576</td>\n",
        "      <td> 178.644972</td>\n",
        "    </tr>\n",
        "    <tr>\n",
        "      <th>11</th>\n",
        "      <td> 162.938501</td>\n",
        "      <td> 162.938501</td>\n",
        "      <td> 185.057006</td>\n",
        "      <td> 185.057006</td>\n",
        "      <td> 187.806045</td>\n",
        "      <td> 197.943394</td>\n",
        "    </tr>\n",
        "    <tr>\n",
        "      <th>12</th>\n",
        "      <td> 166.540063</td>\n",
        "      <td> 166.837782</td>\n",
        "      <td> 177.700954</td>\n",
        "      <td> 177.700954</td>\n",
        "      <td> 180.329617</td>\n",
        "      <td> 188.413233</td>\n",
        "    </tr>\n",
        "    <tr>\n",
        "      <th>13</th>\n",
        "      <td> 168.939019</td>\n",
        "      <td> 177.700954</td>\n",
        "      <td> 186.686942</td>\n",
        "      <td> 187.806045</td>\n",
        "      <td> 189.968816</td>\n",
        "      <td> 198.559362</td>\n",
        "    </tr>\n",
        "    <tr>\n",
        "      <th>14</th>\n",
        "      <td> 177.290574</td>\n",
        "      <td> 185.057006</td>\n",
        "      <td> 195.055534</td>\n",
        "      <td> 195.055534</td>\n",
        "      <td> 195.324430</td>\n",
        "      <td> 204.884590</td>\n",
        "    </tr>\n",
        "    <tr>\n",
        "      <th>15</th>\n",
        "      <td> 201.273743</td>\n",
        "      <td> 201.273743</td>\n",
        "      <td> 232.659091</td>\n",
        "      <td> 232.659091</td>\n",
        "      <td> 234.047820</td>\n",
        "      <td> 245.846868</td>\n",
        "    </tr>\n",
        "    <tr>\n",
        "      <th>16</th>\n",
        "      <td> 207.737509</td>\n",
        "      <td> 207.737509</td>\n",
        "      <td> 216.643446</td>\n",
        "      <td> 216.643446</td>\n",
        "      <td> 218.565096</td>\n",
        "      <td> 230.392393</td>\n",
        "    </tr>\n",
        "    <tr>\n",
        "      <th>17</th>\n",
        "      <td> 210.515918</td>\n",
        "      <td> 216.643446</td>\n",
        "      <td> 235.491396</td>\n",
        "      <td> 235.491396</td>\n",
        "      <td> 236.153869</td>\n",
        "      <td> 245.889325</td>\n",
        "    </tr>\n",
        "    <tr>\n",
        "      <th>18</th>\n",
        "      <td> 211.276005</td>\n",
        "      <td> 232.659091</td>\n",
        "      <td> 258.445393</td>\n",
        "      <td> 258.445393</td>\n",
        "      <td> 260.488652</td>\n",
        "      <td> 272.222070</td>\n",
        "    </tr>\n",
        "    <tr>\n",
        "      <th>19</th>\n",
        "      <td> 212.449286</td>\n",
        "      <td> 235.491396</td>\n",
        "      <td> 242.685579</td>\n",
        "      <td> 242.685579</td>\n",
        "      <td> 243.458149</td>\n",
        "      <td> 254.579926</td>\n",
        "    </tr>\n",
        "    <tr>\n",
        "      <th>20</th>\n",
        "      <td> 217.917692</td>\n",
        "      <td> 242.685579</td>\n",
        "      <td> 263.983147</td>\n",
        "      <td> 263.983147</td>\n",
        "      <td> 264.334695</td>\n",
        "      <td> 274.680523</td>\n",
        "    </tr>\n",
        "    <tr>\n",
        "      <th>21</th>\n",
        "      <td> 235.628477</td>\n",
        "      <td> 258.445393</td>\n",
        "      <td> 266.821434</td>\n",
        "      <td> 266.821434</td>\n",
        "      <td> 268.032112</td>\n",
        "      <td> 276.548310</td>\n",
        "    </tr>\n",
        "    <tr>\n",
        "      <th>22</th>\n",
        "      <td> 246.134019</td>\n",
        "      <td> 263.983147</td>\n",
        "      <td> 268.863755</td>\n",
        "      <td> 268.863755</td>\n",
        "      <td> 270.540283</td>\n",
        "      <td> 278.710269</td>\n",
        "    </tr>\n",
        "    <tr>\n",
        "      <th>23</th>\n",
        "      <td> 257.220521</td>\n",
        "      <td> 266.821434</td>\n",
        "      <td> 288.516035</td>\n",
        "      <td> 288.516035</td>\n",
        "      <td> 290.685680</td>\n",
        "      <td> 300.528548</td>\n",
        "    </tr>\n",
        "    <tr>\n",
        "      <th>24</th>\n",
        "      <td> 262.870641</td>\n",
        "      <td> 268.863755</td>\n",
        "      <td> 291.934316</td>\n",
        "      <td> 291.934316</td>\n",
        "      <td> 294.893135</td>\n",
        "      <td> 304.546451</td>\n",
        "    </tr>\n",
        "    <tr>\n",
        "      <th>25</th>\n",
        "      <td> 302.496565</td>\n",
        "      <td> 302.496565</td>\n",
        "      <td> 320.761880</td>\n",
        "      <td> 320.761880</td>\n",
        "      <td> 321.660957</td>\n",
        "      <td> 331.505219</td>\n",
        "    </tr>\n",
        "    <tr>\n",
        "      <th>26</th>\n",
        "      <td> 307.891879</td>\n",
        "      <td> 307.891879</td>\n",
        "      <td> 324.492814</td>\n",
        "      <td> 324.492814</td>\n",
        "      <td> 326.116786</td>\n",
        "      <td> 336.702202</td>\n",
        "    </tr>\n",
        "    <tr>\n",
        "      <th>27</th>\n",
        "      <td> 309.567764</td>\n",
        "      <td> 320.761880</td>\n",
        "      <td> 326.011251</td>\n",
        "      <td> 326.116786</td>\n",
        "      <td> 327.985571</td>\n",
        "      <td> 338.344729</td>\n",
        "    </tr>\n",
        "    <tr>\n",
        "      <th>28</th>\n",
        "      <td> 319.012054</td>\n",
        "      <td> 324.492814</td>\n",
        "      <td> 338.765259</td>\n",
        "      <td> 338.765259</td>\n",
        "      <td> 341.246849</td>\n",
        "      <td> 352.590765</td>\n",
        "    </tr>\n",
        "    <tr>\n",
        "      <th>29</th>\n",
        "      <td> 337.253010</td>\n",
        "      <td> 337.253010</td>\n",
        "      <td> 352.383970</td>\n",
        "      <td> 352.383970</td>\n",
        "      <td> 356.598865</td>\n",
        "      <td> 365.067180</td>\n",
        "    </tr>\n",
        "    <tr>\n",
        "      <th>30</th>\n",
        "      <td> 354.479341</td>\n",
        "      <td> 354.479341</td>\n",
        "      <td> 375.936269</td>\n",
        "      <td> 375.936269</td>\n",
        "      <td> 376.981524</td>\n",
        "      <td> 385.459476</td>\n",
        "    </tr>\n",
        "    <tr>\n",
        "      <th>31</th>\n",
        "      <td> 369.683977</td>\n",
        "      <td> 369.683977</td>\n",
        "      <td> 371.732177</td>\n",
        "      <td> 371.732177</td>\n",
        "      <td> 373.463729</td>\n",
        "      <td> 384.274949</td>\n",
        "    </tr>\n",
        "    <tr>\n",
        "      <th>32</th>\n",
        "      <td> 379.897986</td>\n",
        "      <td> 379.897986</td>\n",
        "      <td> 391.453769</td>\n",
        "      <td> 395.485407</td>\n",
        "      <td> 396.706326</td>\n",
        "      <td> 405.215731</td>\n",
        "    </tr>\n",
        "    <tr>\n",
        "      <th>33</th>\n",
        "      <td> 383.670515</td>\n",
        "      <td> 383.670515</td>\n",
        "      <td> 391.003772</td>\n",
        "      <td> 391.003772</td>\n",
        "      <td> 395.485407</td>\n",
        "      <td> 406.962574</td>\n",
        "    </tr>\n",
        "    <tr>\n",
        "      <th>34</th>\n",
        "      <td> 393.403885</td>\n",
        "      <td> 393.403885</td>\n",
        "      <td> 404.807429</td>\n",
        "      <td> 404.807429</td>\n",
        "      <td> 407.080148</td>\n",
        "      <td> 418.323231</td>\n",
        "    </tr>\n",
        "    <tr>\n",
        "      <th>35</th>\n",
        "      <td> 407.477274</td>\n",
        "      <td> 407.477274</td>\n",
        "      <td> 414.008293</td>\n",
        "      <td> 414.008293</td>\n",
        "      <td> 417.676371</td>\n",
        "      <td> 426.223993</td>\n",
        "    </tr>\n",
        "    <tr>\n",
        "      <th>36</th>\n",
        "      <td> 408.179336</td>\n",
        "      <td> 408.179336</td>\n",
        "      <td> 416.670819</td>\n",
        "      <td> 417.676371</td>\n",
        "      <td> 418.882487</td>\n",
        "      <td> 428.101985</td>\n",
        "    </tr>\n",
        "    <tr>\n",
        "      <th>37</th>\n",
        "      <td> 415.904901</td>\n",
        "      <td> 415.904901</td>\n",
        "      <td> 451.026177</td>\n",
        "      <td> 451.026177</td>\n",
        "      <td> 452.670127</td>\n",
        "      <td> 464.100307</td>\n",
        "    </tr>\n",
        "    <tr>\n",
        "      <th>38</th>\n",
        "      <td> 426.095914</td>\n",
        "      <td> 426.095914</td>\n",
        "      <td> 437.356046</td>\n",
        "      <td> 437.356046</td>\n",
        "      <td> 438.135711</td>\n",
        "      <td> 449.158006</td>\n",
        "    </tr>\n",
        "    <tr>\n",
        "      <th>39</th>\n",
        "      <td> 428.755330</td>\n",
        "      <td> 437.356046</td>\n",
        "      <td> 452.921483</td>\n",
        "      <td> 452.921483</td>\n",
        "      <td> 454.019259</td>\n",
        "      <td> 463.758297</td>\n",
        "    </tr>\n",
        "    <tr>\n",
        "      <th>40</th>\n",
        "      <td> 469.493057</td>\n",
        "      <td> 469.493057</td>\n",
        "      <td> 480.693777</td>\n",
        "      <td> 480.693777</td>\n",
        "      <td> 481.332150</td>\n",
        "      <td> 490.179375</td>\n",
        "    </tr>\n",
        "    <tr>\n",
        "      <th>41</th>\n",
        "      <td> 470.461787</td>\n",
        "      <td> 470.461787</td>\n",
        "      <td> 484.822316</td>\n",
        "      <td> 484.822316</td>\n",
        "      <td> 486.111136</td>\n",
        "      <td> 496.662178</td>\n",
        "    </tr>\n",
        "    <tr>\n",
        "      <th>42</th>\n",
        "      <td> 478.526191</td>\n",
        "      <td> 480.693777</td>\n",
        "      <td> 493.093444</td>\n",
        "      <td> 493.093444</td>\n",
        "      <td> 496.570842</td>\n",
        "      <td> 504.766480</td>\n",
        "    </tr>\n",
        "    <tr>\n",
        "      <th>43</th>\n",
        "      <td> 481.361492</td>\n",
        "      <td> 484.822316</td>\n",
        "      <td> 497.422556</td>\n",
        "      <td> 497.422556</td>\n",
        "      <td> 500.954495</td>\n",
        "      <td> 512.143194</td>\n",
        "    </tr>\n",
        "    <tr>\n",
        "      <th>44</th>\n",
        "      <td> 517.677591</td>\n",
        "      <td> 517.677591</td>\n",
        "      <td> 532.819045</td>\n",
        "      <td> 532.819045</td>\n",
        "      <td> 533.887476</td>\n",
        "      <td> 544.235684</td>\n",
        "    </tr>\n",
        "    <tr>\n",
        "      <th>45</th>\n",
        "      <td> 531.005178</td>\n",
        "      <td> 531.005178</td>\n",
        "      <td> 552.873047</td>\n",
        "      <td> 554.473923</td>\n",
        "      <td> 555.172679</td>\n",
        "      <td> 566.829099</td>\n",
        "    </tr>\n",
        "    <tr>\n",
        "      <th>46</th>\n",
        "      <td> 531.312245</td>\n",
        "      <td> 532.819045</td>\n",
        "      <td> 547.069544</td>\n",
        "      <td> 547.069544</td>\n",
        "      <td> 549.555688</td>\n",
        "      <td> 557.584145</td>\n",
        "    </tr>\n",
        "    <tr>\n",
        "      <th>47</th>\n",
        "      <td> 545.176837</td>\n",
        "      <td> 547.069544</td>\n",
        "      <td> 552.240479</td>\n",
        "      <td> 552.240479</td>\n",
        "      <td> 554.473923</td>\n",
        "      <td> 564.682758</td>\n",
        "    </tr>\n",
        "    <tr>\n",
        "      <th>48</th>\n",
        "      <td> 572.960146</td>\n",
        "      <td> 572.960146</td>\n",
        "      <td> 588.400476</td>\n",
        "      <td> 590.297723</td>\n",
        "      <td> 593.089773</td>\n",
        "      <td> 603.650838</td>\n",
        "    </tr>\n",
        "    <tr>\n",
        "      <th>49</th>\n",
        "      <td> 585.079709</td>\n",
        "      <td> 585.079709</td>\n",
        "      <td> 587.425996</td>\n",
        "      <td> 587.425996</td>\n",
        "      <td> 590.297723</td>\n",
        "      <td> 599.644136</td>\n",
        "    </tr>\n",
        "    <tr>\n",
        "      <th>50</th>\n",
        "      <td> 585.204061</td>\n",
        "      <td> 587.425996</td>\n",
        "      <td> 596.863113</td>\n",
        "      <td> 596.863113</td>\n",
        "      <td> 597.621879</td>\n",
        "      <td> 607.532545</td>\n",
        "    </tr>\n",
        "    <tr>\n",
        "      <th>51</th>\n",
        "      <td> 585.638701</td>\n",
        "      <td> 588.400476</td>\n",
        "      <td> 601.660243</td>\n",
        "      <td> 601.660243</td>\n",
        "      <td> 602.981874</td>\n",
        "      <td> 611.374182</td>\n",
        "    </tr>\n",
        "    <tr>\n",
        "      <th>52</th>\n",
        "      <td> 598.465379</td>\n",
        "      <td> 598.465379</td>\n",
        "      <td> 607.600244</td>\n",
        "      <td> 607.600244</td>\n",
        "      <td> 610.710158</td>\n",
        "      <td> 619.174276</td>\n",
        "    </tr>\n",
        "    <tr>\n",
        "      <th>53</th>\n",
        "      <td> 620.912606</td>\n",
        "      <td> 620.912606</td>\n",
        "      <td> 629.039858</td>\n",
        "      <td> 629.039858</td>\n",
        "      <td> 631.940789</td>\n",
        "      <td> 642.439117</td>\n",
        "    </tr>\n",
        "    <tr>\n",
        "      <th>54</th>\n",
        "      <td> 629.161201</td>\n",
        "      <td> 629.161201</td>\n",
        "      <td> 641.458821</td>\n",
        "      <td> 641.458821</td>\n",
        "      <td> 643.206680</td>\n",
        "      <td> 655.053735</td>\n",
        "    </tr>\n",
        "    <tr>\n",
        "      <th>55</th>\n",
        "      <td> 630.485262</td>\n",
        "      <td> 630.485262</td>\n",
        "      <td> 654.068090</td>\n",
        "      <td> 654.068090</td>\n",
        "      <td> 656.395005</td>\n",
        "      <td> 667.157680</td>\n",
        "    </tr>\n",
        "    <tr>\n",
        "      <th>56</th>\n",
        "      <td> 639.341685</td>\n",
        "      <td> 641.458821</td>\n",
        "      <td> 663.014594</td>\n",
        "      <td> 663.014594</td>\n",
        "      <td> 665.038548</td>\n",
        "      <td> 674.167417</td>\n",
        "    </tr>\n",
        "    <tr>\n",
        "      <th>57</th>\n",
        "      <td> 641.285199</td>\n",
        "      <td> 654.068090</td>\n",
        "      <td> 673.533301</td>\n",
        "      <td> 673.533301</td>\n",
        "      <td> 675.875028</td>\n",
        "      <td> 685.105295</td>\n",
        "    </tr>\n",
        "    <tr>\n",
        "      <th>58</th>\n",
        "      <td> 652.013935</td>\n",
        "      <td> 663.014594</td>\n",
        "      <td> 675.540707</td>\n",
        "      <td> 675.875028</td>\n",
        "      <td> 678.155991</td>\n",
        "      <td> 686.640259</td>\n",
        "    </tr>\n",
        "    <tr>\n",
        "      <th>59</th>\n",
        "      <td> 652.941200</td>\n",
        "      <td> 673.533301</td>\n",
        "      <td> 692.989957</td>\n",
        "      <td> 692.989957</td>\n",
        "      <td> 694.834877</td>\n",
        "      <td> 704.972545</td>\n",
        "    </tr>\n",
        "    <tr>\n",
        "      <th></th>\n",
        "      <td>...</td>\n",
        "      <td>...</td>\n",
        "      <td>...</td>\n",
        "      <td>...</td>\n",
        "      <td>...</td>\n",
        "      <td>...</td>\n",
        "    </tr>\n",
        "  </tbody>\n",
        "</table>\n",
        "<p>513 rows \u00d7 6 columns</p>\n",
        "</div>"
       ],
       "metadata": {},
       "output_type": "display_data",
       "text": [
        "1      Ordered  Pick Assigned      Picked  Review Assigned    Reviewed  \\\n",
        "0    33.955464      33.955464   37.410044        37.410044   38.916508   \n",
        "1    58.361701      58.361701   62.324515        62.324515   63.802223   \n",
        "2    76.982543      76.982543   85.645324        85.645324   85.981948   \n",
        "3    98.045450      98.045450  119.955708       122.050457  124.781464   \n",
        "4   104.861140     104.861140  119.383159       119.383159  122.050457   \n",
        "5   110.570842     119.383159  120.832456       124.781464  126.560962   \n",
        "6   118.246204     119.955708  131.090496       131.090496  134.982627   \n",
        "7   132.577063     132.577063  140.290069       140.290069  143.033438   \n",
        "8   138.197782     138.197782  159.296520       159.601684  160.895337   \n",
        "9   143.721867     143.721867  156.048652       156.048652  159.601684   \n",
        "10  157.057970     157.057970  166.837782       166.837782  170.498576   \n",
        "11  162.938501     162.938501  185.057006       185.057006  187.806045   \n",
        "12  166.540063     166.837782  177.700954       177.700954  180.329617   \n",
        "13  168.939019     177.700954  186.686942       187.806045  189.968816   \n",
        "14  177.290574     185.057006  195.055534       195.055534  195.324430   \n",
        "15  201.273743     201.273743  232.659091       232.659091  234.047820   \n",
        "16  207.737509     207.737509  216.643446       216.643446  218.565096   \n",
        "17  210.515918     216.643446  235.491396       235.491396  236.153869   \n",
        "18  211.276005     232.659091  258.445393       258.445393  260.488652   \n",
        "19  212.449286     235.491396  242.685579       242.685579  243.458149   \n",
        "20  217.917692     242.685579  263.983147       263.983147  264.334695   \n",
        "21  235.628477     258.445393  266.821434       266.821434  268.032112   \n",
        "22  246.134019     263.983147  268.863755       268.863755  270.540283   \n",
        "23  257.220521     266.821434  288.516035       288.516035  290.685680   \n",
        "24  262.870641     268.863755  291.934316       291.934316  294.893135   \n",
        "25  302.496565     302.496565  320.761880       320.761880  321.660957   \n",
        "26  307.891879     307.891879  324.492814       324.492814  326.116786   \n",
        "27  309.567764     320.761880  326.011251       326.116786  327.985571   \n",
        "28  319.012054     324.492814  338.765259       338.765259  341.246849   \n",
        "29  337.253010     337.253010  352.383970       352.383970  356.598865   \n",
        "30  354.479341     354.479341  375.936269       375.936269  376.981524   \n",
        "31  369.683977     369.683977  371.732177       371.732177  373.463729   \n",
        "32  379.897986     379.897986  391.453769       395.485407  396.706326   \n",
        "33  383.670515     383.670515  391.003772       391.003772  395.485407   \n",
        "34  393.403885     393.403885  404.807429       404.807429  407.080148   \n",
        "35  407.477274     407.477274  414.008293       414.008293  417.676371   \n",
        "36  408.179336     408.179336  416.670819       417.676371  418.882487   \n",
        "37  415.904901     415.904901  451.026177       451.026177  452.670127   \n",
        "38  426.095914     426.095914  437.356046       437.356046  438.135711   \n",
        "39  428.755330     437.356046  452.921483       452.921483  454.019259   \n",
        "40  469.493057     469.493057  480.693777       480.693777  481.332150   \n",
        "41  470.461787     470.461787  484.822316       484.822316  486.111136   \n",
        "42  478.526191     480.693777  493.093444       493.093444  496.570842   \n",
        "43  481.361492     484.822316  497.422556       497.422556  500.954495   \n",
        "44  517.677591     517.677591  532.819045       532.819045  533.887476   \n",
        "45  531.005178     531.005178  552.873047       554.473923  555.172679   \n",
        "46  531.312245     532.819045  547.069544       547.069544  549.555688   \n",
        "47  545.176837     547.069544  552.240479       552.240479  554.473923   \n",
        "48  572.960146     572.960146  588.400476       590.297723  593.089773   \n",
        "49  585.079709     585.079709  587.425996       587.425996  590.297723   \n",
        "50  585.204061     587.425996  596.863113       596.863113  597.621879   \n",
        "51  585.638701     588.400476  601.660243       601.660243  602.981874   \n",
        "52  598.465379     598.465379  607.600244       607.600244  610.710158   \n",
        "53  620.912606     620.912606  629.039858       629.039858  631.940789   \n",
        "54  629.161201     629.161201  641.458821       641.458821  643.206680   \n",
        "55  630.485262     630.485262  654.068090       654.068090  656.395005   \n",
        "56  639.341685     641.458821  663.014594       663.014594  665.038548   \n",
        "57  641.285199     654.068090  673.533301       673.533301  675.875028   \n",
        "58  652.013935     663.014594  675.540707       675.875028  678.155991   \n",
        "59  652.941200     673.533301  692.989957       692.989957  694.834877   \n",
        "           ...            ...         ...              ...         ...   \n",
        "\n",
        "1      Shipped  \n",
        "0    47.633764  \n",
        "1    71.883851  \n",
        "2    94.324122  \n",
        "3   132.918591  \n",
        "4   131.989079  \n",
        "5   137.023373  \n",
        "6   144.956054  \n",
        "7   152.881794  \n",
        "8   171.747575  \n",
        "9   168.195989  \n",
        "10  178.644972  \n",
        "11  197.943394  \n",
        "12  188.413233  \n",
        "13  198.559362  \n",
        "14  204.884590  \n",
        "15  245.846868  \n",
        "16  230.392393  \n",
        "17  245.889325  \n",
        "18  272.222070  \n",
        "19  254.579926  \n",
        "20  274.680523  \n",
        "21  276.548310  \n",
        "22  278.710269  \n",
        "23  300.528548  \n",
        "24  304.546451  \n",
        "25  331.505219  \n",
        "26  336.702202  \n",
        "27  338.344729  \n",
        "28  352.590765  \n",
        "29  365.067180  \n",
        "30  385.459476  \n",
        "31  384.274949  \n",
        "32  405.215731  \n",
        "33  406.962574  \n",
        "34  418.323231  \n",
        "35  426.223993  \n",
        "36  428.101985  \n",
        "37  464.100307  \n",
        "38  449.158006  \n",
        "39  463.758297  \n",
        "40  490.179375  \n",
        "41  496.662178  \n",
        "42  504.766480  \n",
        "43  512.143194  \n",
        "44  544.235684  \n",
        "45  566.829099  \n",
        "46  557.584145  \n",
        "47  564.682758  \n",
        "48  603.650838  \n",
        "49  599.644136  \n",
        "50  607.532545  \n",
        "51  611.374182  \n",
        "52  619.174276  \n",
        "53  642.439117  \n",
        "54  655.053735  \n",
        "55  667.157680  \n",
        "56  674.167417  \n",
        "57  685.105295  \n",
        "58  686.640259  \n",
        "59  704.972545  \n",
        "           ...  \n",
        "\n",
        "[513 rows x 6 columns]"
       ]
      }
     ],
     "prompt_number": 11
    },
    {
     "cell_type": "code",
     "collapsed": false,
     "input": [],
     "language": "python",
     "metadata": {},
     "outputs": [],
     "prompt_number": 11
    }
   ],
   "metadata": {}
  }
 ]
}