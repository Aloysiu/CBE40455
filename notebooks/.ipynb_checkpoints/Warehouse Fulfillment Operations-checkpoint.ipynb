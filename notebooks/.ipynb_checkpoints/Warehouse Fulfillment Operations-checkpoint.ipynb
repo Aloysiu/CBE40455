{
 "metadata": {
  "name": ""
 },
 "nbformat": 3,
 "nbformat_minor": 0,
 "worksheets": [
  {
   "cells": [
    {
     "cell_type": "heading",
     "level": 1,
     "metadata": {},
     "source": [
      "Warehouse Fulfullment Operations"
     ]
    },
    {
     "cell_type": "markdown",
     "metadata": {},
     "source": [
      "This [IPython notebook](http://ipython.org/notebook.html) demonstrates use of the [SimPy](http://simpy.readthedocs.org/en/latest/) to simulate the order fulfillment operations of a hypothetical warehouse.\n",
      "\n",
      "J.C. Kantor (Kantor.1@nd.edu)\n",
      "\n",
      "The latest version of this IPython notebook is available at [http://github.com/jckantor/CBE20255](http://github.com/jckantor/CBE20255)  for noncommercial use under terms of the [Creative Commons Attribution Noncommericial ShareAlike License](http://creativecommons.org/licenses/by-nc-sa/4.0/)."
     ]
    },
    {
     "cell_type": "heading",
     "level": 2,
     "metadata": {},
     "source": [
      "Order Fulfillment Model"
     ]
    },
    {
     "cell_type": "markdown",
     "metadata": {},
     "source": [
      "http://kevingue.wordpress.com/2012/02/13/discrete-time-modeling-for-order-picking/"
     ]
    },
    {
     "cell_type": "heading",
     "level": 3,
     "metadata": {},
     "source": [
      "SimPy Installation"
     ]
    },
    {
     "cell_type": "code",
     "collapsed": false,
     "input": [
      "!pip install simpy\n",
      "import simpy\n",
      "simpy.test()"
     ],
     "language": "python",
     "metadata": {},
     "outputs": [
      {
       "output_type": "stream",
       "stream": "stdout",
       "text": [
        "Requirement already satisfied (use --upgrade to upgrade): simpy in /Applications/anaconda/lib/python2.7/site-packages\r\n",
        "Cleaning up...\r\n"
       ]
      },
      {
       "output_type": "stream",
       "stream": "stdout",
       "text": [
        "============================= test session starts =============================="
       ]
      },
      {
       "output_type": "stream",
       "stream": "stdout",
       "text": [
        "\n"
       ]
      },
      {
       "output_type": "stream",
       "stream": "stdout",
       "text": [
        "platform darwin -- Python 2.7.6 -- py-1.4.20 -- pytest-2.5.2"
       ]
      },
      {
       "output_type": "stream",
       "stream": "stdout",
       "text": [
        "\n"
       ]
      },
      {
       "output_type": "stream",
       "stream": "stdout",
       "text": [
        "collected 112 items"
       ]
      },
      {
       "output_type": "stream",
       "stream": "stdout",
       "text": [
        "\n"
       ]
      },
      {
       "output_type": "stream",
       "stream": "stdout",
       "text": [
        "\n"
       ]
      },
      {
       "output_type": "stream",
       "stream": "stdout",
       "text": [
        "../../../../../../Applications/anaconda/lib/python2.7/site-packages/simpy/test/test_condition.py "
       ]
      },
      {
       "output_type": "stream",
       "stream": "stdout",
       "text": [
        "."
       ]
      },
      {
       "output_type": "stream",
       "stream": "stdout",
       "text": [
        "."
       ]
      },
      {
       "output_type": "stream",
       "stream": "stdout",
       "text": [
        "."
       ]
      },
      {
       "output_type": "stream",
       "stream": "stdout",
       "text": [
        "."
       ]
      },
      {
       "output_type": "stream",
       "stream": "stdout",
       "text": [
        "."
       ]
      },
      {
       "output_type": "stream",
       "stream": "stdout",
       "text": [
        "."
       ]
      },
      {
       "output_type": "stream",
       "stream": "stdout",
       "text": [
        "."
       ]
      },
      {
       "output_type": "stream",
       "stream": "stdout",
       "text": [
        "."
       ]
      },
      {
       "output_type": "stream",
       "stream": "stdout",
       "text": [
        "."
       ]
      },
      {
       "output_type": "stream",
       "stream": "stdout",
       "text": [
        "."
       ]
      },
      {
       "output_type": "stream",
       "stream": "stdout",
       "text": [
        "."
       ]
      },
      {
       "output_type": "stream",
       "stream": "stdout",
       "text": [
        "."
       ]
      },
      {
       "output_type": "stream",
       "stream": "stdout",
       "text": [
        "."
       ]
      },
      {
       "output_type": "stream",
       "stream": "stdout",
       "text": [
        "."
       ]
      },
      {
       "output_type": "stream",
       "stream": "stdout",
       "text": [
        "."
       ]
      },
      {
       "output_type": "stream",
       "stream": "stdout",
       "text": [
        "\n"
       ]
      },
      {
       "output_type": "stream",
       "stream": "stdout",
       "text": [
        "../../../../../../Applications/anaconda/lib/python2.7/site-packages/simpy/test/test_environment.py "
       ]
      },
      {
       "output_type": "stream",
       "stream": "stdout",
       "text": [
        "."
       ]
      },
      {
       "output_type": "stream",
       "stream": "stdout",
       "text": [
        "."
       ]
      },
      {
       "output_type": "stream",
       "stream": "stdout",
       "text": [
        "."
       ]
      },
      {
       "output_type": "stream",
       "stream": "stdout",
       "text": [
        "."
       ]
      },
      {
       "output_type": "stream",
       "stream": "stdout",
       "text": [
        "\n"
       ]
      },
      {
       "output_type": "stream",
       "stream": "stdout",
       "text": [
        "../../../../../../Applications/anaconda/lib/python2.7/site-packages/simpy/test/test_event.py "
       ]
      },
      {
       "output_type": "stream",
       "stream": "stdout",
       "text": [
        "."
       ]
      },
      {
       "output_type": "stream",
       "stream": "stdout",
       "text": [
        "."
       ]
      },
      {
       "output_type": "stream",
       "stream": "stdout",
       "text": [
        "."
       ]
      },
      {
       "output_type": "stream",
       "stream": "stdout",
       "text": [
        "."
       ]
      },
      {
       "output_type": "stream",
       "stream": "stdout",
       "text": [
        "."
       ]
      },
      {
       "output_type": "stream",
       "stream": "stdout",
       "text": [
        "."
       ]
      },
      {
       "output_type": "stream",
       "stream": "stdout",
       "text": [
        "\n"
       ]
      },
      {
       "output_type": "stream",
       "stream": "stdout",
       "text": [
        "../../../../../../Applications/anaconda/lib/python2.7/site-packages/simpy/test/test_exceptions.py "
       ]
      },
      {
       "output_type": "stream",
       "stream": "stdout",
       "text": [
        "."
       ]
      },
      {
       "output_type": "stream",
       "stream": "stdout",
       "text": [
        "."
       ]
      },
      {
       "output_type": "stream",
       "stream": "stdout",
       "text": [
        "."
       ]
      },
      {
       "output_type": "stream",
       "stream": "stdout",
       "text": [
        "s"
       ]
      },
      {
       "output_type": "stream",
       "stream": "stdout",
       "text": [
        "."
       ]
      },
      {
       "output_type": "stream",
       "stream": "stdout",
       "text": [
        "."
       ]
      },
      {
       "output_type": "stream",
       "stream": "stdout",
       "text": [
        "."
       ]
      },
      {
       "output_type": "stream",
       "stream": "stdout",
       "text": [
        "."
       ]
      },
      {
       "output_type": "stream",
       "stream": "stdout",
       "text": [
        "\n"
       ]
      },
      {
       "output_type": "stream",
       "stream": "stdout",
       "text": [
        "../../../../../../Applications/anaconda/lib/python2.7/site-packages/simpy/test/test_interrupts.py "
       ]
      },
      {
       "output_type": "stream",
       "stream": "stdout",
       "text": [
        "."
       ]
      },
      {
       "output_type": "stream",
       "stream": "stdout",
       "text": [
        "."
       ]
      },
      {
       "output_type": "stream",
       "stream": "stdout",
       "text": [
        "."
       ]
      },
      {
       "output_type": "stream",
       "stream": "stdout",
       "text": [
        "."
       ]
      },
      {
       "output_type": "stream",
       "stream": "stdout",
       "text": [
        "."
       ]
      },
      {
       "output_type": "stream",
       "stream": "stdout",
       "text": [
        "."
       ]
      },
      {
       "output_type": "stream",
       "stream": "stdout",
       "text": [
        "."
       ]
      },
      {
       "output_type": "stream",
       "stream": "stdout",
       "text": [
        "."
       ]
      },
      {
       "output_type": "stream",
       "stream": "stdout",
       "text": [
        "."
       ]
      },
      {
       "output_type": "stream",
       "stream": "stdout",
       "text": [
        "."
       ]
      },
      {
       "output_type": "stream",
       "stream": "stdout",
       "text": [
        "\n"
       ]
      },
      {
       "output_type": "stream",
       "stream": "stdout",
       "text": [
        "../../../../../../Applications/anaconda/lib/python2.7/site-packages/simpy/test/test_process.py "
       ]
      },
      {
       "output_type": "stream",
       "stream": "stdout",
       "text": [
        "."
       ]
      },
      {
       "output_type": "stream",
       "stream": "stdout",
       "text": [
        "."
       ]
      },
      {
       "output_type": "stream",
       "stream": "stdout",
       "text": [
        "."
       ]
      },
      {
       "output_type": "stream",
       "stream": "stdout",
       "text": [
        "."
       ]
      },
      {
       "output_type": "stream",
       "stream": "stdout",
       "text": [
        "."
       ]
      },
      {
       "output_type": "stream",
       "stream": "stdout",
       "text": [
        "s"
       ]
      },
      {
       "output_type": "stream",
       "stream": "stdout",
       "text": [
        "."
       ]
      },
      {
       "output_type": "stream",
       "stream": "stdout",
       "text": [
        "."
       ]
      },
      {
       "output_type": "stream",
       "stream": "stdout",
       "text": [
        "."
       ]
      },
      {
       "output_type": "stream",
       "stream": "stdout",
       "text": [
        "."
       ]
      },
      {
       "output_type": "stream",
       "stream": "stdout",
       "text": [
        "."
       ]
      },
      {
       "output_type": "stream",
       "stream": "stdout",
       "text": [
        "\n"
       ]
      },
      {
       "output_type": "stream",
       "stream": "stdout",
       "text": [
        "../../../../../../Applications/anaconda/lib/python2.7/site-packages/simpy/test/test_resources.py "
       ]
      },
      {
       "output_type": "stream",
       "stream": "stdout",
       "text": [
        "."
       ]
      },
      {
       "output_type": "stream",
       "stream": "stdout",
       "text": [
        "."
       ]
      },
      {
       "output_type": "stream",
       "stream": "stdout",
       "text": [
        "."
       ]
      },
      {
       "output_type": "stream",
       "stream": "stdout",
       "text": [
        "."
       ]
      },
      {
       "output_type": "stream",
       "stream": "stdout",
       "text": [
        "."
       ]
      },
      {
       "output_type": "stream",
       "stream": "stdout",
       "text": [
        "."
       ]
      },
      {
       "output_type": "stream",
       "stream": "stdout",
       "text": [
        "."
       ]
      },
      {
       "output_type": "stream",
       "stream": "stdout",
       "text": [
        "."
       ]
      },
      {
       "output_type": "stream",
       "stream": "stdout",
       "text": [
        "."
       ]
      },
      {
       "output_type": "stream",
       "stream": "stdout",
       "text": [
        "."
       ]
      },
      {
       "output_type": "stream",
       "stream": "stdout",
       "text": [
        "."
       ]
      },
      {
       "output_type": "stream",
       "stream": "stdout",
       "text": [
        "."
       ]
      },
      {
       "output_type": "stream",
       "stream": "stdout",
       "text": [
        "."
       ]
      },
      {
       "output_type": "stream",
       "stream": "stdout",
       "text": [
        "."
       ]
      },
      {
       "output_type": "stream",
       "stream": "stdout",
       "text": [
        "."
       ]
      },
      {
       "output_type": "stream",
       "stream": "stdout",
       "text": [
        "."
       ]
      },
      {
       "output_type": "stream",
       "stream": "stdout",
       "text": [
        "."
       ]
      },
      {
       "output_type": "stream",
       "stream": "stdout",
       "text": [
        "."
       ]
      },
      {
       "output_type": "stream",
       "stream": "stdout",
       "text": [
        "."
       ]
      },
      {
       "output_type": "stream",
       "stream": "stdout",
       "text": [
        "."
       ]
      },
      {
       "output_type": "stream",
       "stream": "stdout",
       "text": [
        "."
       ]
      },
      {
       "output_type": "stream",
       "stream": "stdout",
       "text": [
        "."
       ]
      },
      {
       "output_type": "stream",
       "stream": "stdout",
       "text": [
        "."
       ]
      },
      {
       "output_type": "stream",
       "stream": "stdout",
       "text": [
        "."
       ]
      },
      {
       "output_type": "stream",
       "stream": "stdout",
       "text": [
        "."
       ]
      },
      {
       "output_type": "stream",
       "stream": "stdout",
       "text": [
        "."
       ]
      },
      {
       "output_type": "stream",
       "stream": "stdout",
       "text": [
        "."
       ]
      },
      {
       "output_type": "stream",
       "stream": "stdout",
       "text": [
        "."
       ]
      },
      {
       "output_type": "stream",
       "stream": "stdout",
       "text": [
        "\n"
       ]
      },
      {
       "output_type": "stream",
       "stream": "stdout",
       "text": [
        "../../../../../../Applications/anaconda/lib/python2.7/site-packages/simpy/test/test_rt.py "
       ]
      },
      {
       "output_type": "stream",
       "stream": "stdout",
       "text": [
        "."
       ]
      },
      {
       "output_type": "stream",
       "stream": "stdout",
       "text": [
        "."
       ]
      },
      {
       "output_type": "stream",
       "stream": "stdout",
       "text": [
        "."
       ]
      },
      {
       "output_type": "stream",
       "stream": "stdout",
       "text": [
        "."
       ]
      },
      {
       "output_type": "stream",
       "stream": "stdout",
       "text": [
        "."
       ]
      },
      {
       "output_type": "stream",
       "stream": "stdout",
       "text": [
        "."
       ]
      },
      {
       "output_type": "stream",
       "stream": "stdout",
       "text": [
        "."
       ]
      },
      {
       "output_type": "stream",
       "stream": "stdout",
       "text": [
        "\n"
       ]
      },
      {
       "output_type": "stream",
       "stream": "stdout",
       "text": [
        "../../../../../../Applications/anaconda/lib/python2.7/site-packages/simpy/test/test_timeout.py "
       ]
      },
      {
       "output_type": "stream",
       "stream": "stdout",
       "text": [
        "."
       ]
      },
      {
       "output_type": "stream",
       "stream": "stdout",
       "text": [
        "."
       ]
      },
      {
       "output_type": "stream",
       "stream": "stdout",
       "text": [
        "."
       ]
      },
      {
       "output_type": "stream",
       "stream": "stdout",
       "text": [
        "."
       ]
      },
      {
       "output_type": "stream",
       "stream": "stdout",
       "text": [
        "."
       ]
      },
      {
       "output_type": "stream",
       "stream": "stdout",
       "text": [
        "\n"
       ]
      },
      {
       "output_type": "stream",
       "stream": "stdout",
       "text": [
        "../../../../../../Applications/anaconda/lib/python2.7/site-packages/simpy/test/test_util.py "
       ]
      },
      {
       "output_type": "stream",
       "stream": "stdout",
       "text": [
        "."
       ]
      },
      {
       "output_type": "stream",
       "stream": "stdout",
       "text": [
        "."
       ]
      },
      {
       "output_type": "stream",
       "stream": "stdout",
       "text": [
        "."
       ]
      },
      {
       "output_type": "stream",
       "stream": "stdout",
       "text": [
        "."
       ]
      },
      {
       "output_type": "stream",
       "stream": "stdout",
       "text": [
        "."
       ]
      },
      {
       "output_type": "stream",
       "stream": "stdout",
       "text": [
        "."
       ]
      },
      {
       "output_type": "stream",
       "stream": "stdout",
       "text": [
        "."
       ]
      },
      {
       "output_type": "stream",
       "stream": "stdout",
       "text": [
        "."
       ]
      },
      {
       "output_type": "stream",
       "stream": "stdout",
       "text": [
        "."
       ]
      },
      {
       "output_type": "stream",
       "stream": "stdout",
       "text": [
        "."
       ]
      },
      {
       "output_type": "stream",
       "stream": "stdout",
       "text": [
        "."
       ]
      },
      {
       "output_type": "stream",
       "stream": "stdout",
       "text": [
        "."
       ]
      },
      {
       "output_type": "stream",
       "stream": "stdout",
       "text": [
        "."
       ]
      },
      {
       "output_type": "stream",
       "stream": "stdout",
       "text": [
        "."
       ]
      },
      {
       "output_type": "stream",
       "stream": "stdout",
       "text": [
        "."
       ]
      },
      {
       "output_type": "stream",
       "stream": "stdout",
       "text": [
        "."
       ]
      },
      {
       "output_type": "stream",
       "stream": "stdout",
       "text": [
        "."
       ]
      },
      {
       "output_type": "stream",
       "stream": "stdout",
       "text": [
        "."
       ]
      },
      {
       "output_type": "stream",
       "stream": "stdout",
       "text": [
        "\n"
       ]
      },
      {
       "output_type": "stream",
       "stream": "stdout",
       "text": [
        "\n"
       ]
      },
      {
       "output_type": "stream",
       "stream": "stdout",
       "text": [
        "==================== 110 passed, 2 skipped in 1.80 seconds ====================="
       ]
      },
      {
       "output_type": "stream",
       "stream": "stdout",
       "text": [
        "\n"
       ]
      }
     ],
     "prompt_number": 1
    },
    {
     "cell_type": "heading",
     "level": 3,
     "metadata": {},
     "source": [
      "Order Processing"
     ]
    },
    {
     "cell_type": "markdown",
     "metadata": {},
     "source": [
      "The order fulfillment operation is a sequence of eight events\n",
      "\n",
      "1. Order sent to the fulfillment center.\n",
      "1. Picker requested for the order.\n",
      "1. Order picked from the warehouse.\n",
      "1. Picker released.\n",
      "1. Inspector requested to review the order prior to shipping.\n",
      "1. Order reviewed.\n",
      "1. Reviewer released.\n",
      "1. Order shipped."
     ]
    },
    {
     "cell_type": "heading",
     "level": 3,
     "metadata": {},
     "source": [
      "Order Generator"
     ]
    },
    {
     "cell_type": "markdown",
     "metadata": {},
     "source": [
      "`orderGenerator` creates a sequence of orders following a Poisson distribution at an average rate 1/T_ORDER. Each order is tagged with a unique name using `itertools.count()`."
     ]
    },
    {
     "cell_type": "heading",
     "level": 3,
     "metadata": {},
     "source": [
      "Event Logging"
     ]
    },
    {
     "cell_type": "markdown",
     "metadata": {},
     "source": [
      "Events are logged and stored in a dictionary attached to an instance of the fulfillment class. The keys are an (orderId,event) tuple with the time stamp stored as the value. The raw data trace can be accessed as the `._data` field, or as a pandas Dataframe in the `.log` field."
     ]
    },
    {
     "cell_type": "heading",
     "level": 3,
     "metadata": {},
     "source": [
      "Fulfillment Class"
     ]
    },
    {
     "cell_type": "code",
     "collapsed": false,
     "input": [
      "# Global variables\n",
      "T_ORDER = 10                      # average time between orders.\n",
      "T_PICK = 15                       # mean time to pick order from warehouse (beta)\n",
      "T_INSPECT = 2                     # mean time to inspect order prior to shipment (beta)\n",
      "T_SHIP_MIN = 8; T_SHIP_MAX = 12   # mean time to ship order (uniform)\n",
      "ALPHA = 2.0; BETA = 5.0           # beta distribution parameters\n",
      "\n",
      "# Global defaults\n",
      "T_SIM = 1440               # simulation period\n",
      "N_PICKER = 2               # number of product pickers\n",
      "N_INSPECTOR = 1            # number of product inspectors\n",
      "\n",
      "import simpy\n",
      "import itertools\n",
      "import random\n",
      "import pandas as pd\n",
      "\n",
      "class fulfillment(object):\n",
      "    def __init__(self,n_picker=N_PICKER,n_inspector=N_INSPECTOR):\n",
      "        self.env = simpy.Environment()\n",
      "        self._data = dict()\n",
      "        self.picker = simpy.Resource(self.env,n_picker)\n",
      "        self.inspector = simpy.Resource(self.env,n_inspector)\n",
      "        self.env.process(self.orderGenerator())\n",
      "        \n",
      "    def writeLog(self,orderId,event):\n",
      "        self._data[orderId,event] = self.env.now\n",
      "        \n",
      "    @property\n",
      "    def log(self):\n",
      "        df = pd.DataFrame([[a,b,self._data[a,b]] for (a,b) in self._data.keys()])      \n",
      "        df = df.pivot(index=0,columns=1,values=2).reset_index()\n",
      "        return df[list(df.columns)[1:]] \n",
      "        \n",
      "    def order(self,orderId):\n",
      "        self.writeLog(orderId,'Ordered')\n",
      "        with self.picker.request() as preq:\n",
      "            yield preq\n",
      "            self.writeLog(orderId,'Pick Assigned')\n",
      "            yield self.env.timeout(T_PICK*((ALPHA+BETA)/ALPHA)*random.betavariate(ALPHA,BETA))\n",
      "            self.writeLog(orderId,'Picked')\n",
      "            self.picker.release(preq)\n",
      "        with self.inspector.request() as ireq:\n",
      "            yield ireq\n",
      "            self.writeLog(orderId,'Review Assigned')\n",
      "            yield self.env.timeout(T_INSPECT*((ALPHA+BETA)/ALPHA)*random.betavariate(ALPHA,BETA))\n",
      "            self.writeLog(orderId,'Reviewed')\n",
      "            self.inspector.release(ireq)\n",
      "                \n",
      "        yield self.env.timeout(random.uniform(T_SHIP_MIN,T_SHIP_MAX))\n",
      "        self.writeLog(orderId,'Shipped')\n",
      "                \n",
      "    def orderGenerator(self):\n",
      "        for orderId in itertools.count():\n",
      "            yield self.env.timeout(random.expovariate(1.0/T_ORDER))\n",
      "            self.env.process(self.order(orderId))\n",
      "             \n",
      "    def run(self,t_sim = T_SIM):\n",
      "        self.env.run(until=t_sim)\n",
      "        return(self.log)"
     ],
     "language": "python",
     "metadata": {},
     "outputs": [],
     "prompt_number": 2
    },
    {
     "cell_type": "heading",
     "level": 3,
     "metadata": {},
     "source": [
      "Simulation"
     ]
    },
    {
     "cell_type": "code",
     "collapsed": false,
     "input": [
      "# create an order fulfillment instance\n",
      "w = fulfillment(n_picker = 2, n_inspector = 1)\n",
      "\n",
      "# run a simulation for a specified period\n",
      "log = w.run(5000)"
     ],
     "language": "python",
     "metadata": {},
     "outputs": [],
     "prompt_number": 3
    },
    {
     "cell_type": "code",
     "collapsed": false,
     "input": [
      "log.plot()\n",
      "xlabel('Order Number')\n",
      "ylabel('Time [minutes]')"
     ],
     "language": "python",
     "metadata": {},
     "outputs": [
      {
       "metadata": {},
       "output_type": "pyout",
       "prompt_number": 4,
       "text": [
        "<matplotlib.text.Text at 0x109bd8450>"
       ]
      },
      {
       "metadata": {},
       "output_type": "display_data",
       "png": "[encoded data removed]",
       "text": [
        "<matplotlib.figure.Figure at 0x1083b3950>"
       ]
      }
     ],
     "prompt_number": 4
    },
    {
     "cell_type": "heading",
     "level": 2,
     "metadata": {},
     "source": [
      "Analyzing Results"
     ]
    },
    {
     "cell_type": "heading",
     "level": 3,
     "metadata": {},
     "source": [
      "Total Processing Time"
     ]
    },
    {
     "cell_type": "code",
     "collapsed": false,
     "input": [
      "torder = log['Shipped']-log['Ordered']\n",
      "subplot(3,1,1)\n",
      "plot(torder)\n",
      "xlabel('Order Number')\n",
      "ylabel('Time [minutes]')\n",
      "title('Time from Order to Shipment')\n",
      "\n",
      "subplot(2,1,2)\n",
      "torder.hist(bins=30)\n",
      "xlabel('Time [minutes]')\n",
      "ylabel('Count')"
     ],
     "language": "python",
     "metadata": {},
     "outputs": [
      {
       "metadata": {},
       "output_type": "pyout",
       "prompt_number": 5,
       "text": [
        "<matplotlib.text.Text at 0x109ca36d0>"
       ]
      },
      {
       "metadata": {},
       "output_type": "display_data",
       "png": "[encoded data removed]",
       "text": [
        "<matplotlib.figure.Figure at 0x108383c10>"
       ]
      }
     ],
     "prompt_number": 5
    },
    {
     "cell_type": "heading",
     "level": 3,
     "metadata": {},
     "source": [
      "Time to Assign Picker"
     ]
    },
    {
     "cell_type": "code",
     "collapsed": false,
     "input": [
      "twait = log['Pick Assigned']-log['Ordered']\n",
      "subplot(3,1,1)\n",
      "plot(twait)\n",
      "xlabel('Order Number')\n",
      "ylabel('Time [minutes]')\n",
      "title('Time to Assign Picker')\n",
      "\n",
      "subplot(2,1,2)\n",
      "twait.hist(bins=30)\n",
      "xlabel('Time [minutes]')\n",
      "ylabel('Count')"
     ],
     "language": "python",
     "metadata": {},
     "outputs": [
      {
       "metadata": {},
       "output_type": "pyout",
       "prompt_number": 6,
       "text": [
        "<matplotlib.text.Text at 0x109fc3590>"
       ]
      },
      {
       "metadata": {},
       "output_type": "display_data",
       "png": "[encoded data removed]",
       "text": [
        "<matplotlib.figure.Figure at 0x109f25410>"
       ]
      }
     ],
     "prompt_number": 6
    },
    {
     "cell_type": "heading",
     "level": 3,
     "metadata": {},
     "source": [
      "Time to Pick Order"
     ]
    },
    {
     "cell_type": "code",
     "collapsed": false,
     "input": [
      "tpick = log['Picked']-log['Pick Assigned']\n",
      "subplot(3,1,1)\n",
      "plot(tpick)\n",
      "xlabel('Order Number')\n",
      "ylabel('Time [minutes]')\n",
      "title('Time to Pick Order')\n",
      "\n",
      "subplot(2,1,2)\n",
      "tpick.hist(bins=30)\n",
      "xlabel('Time [minutes]')\n",
      "ylabel('Count')"
     ],
     "language": "python",
     "metadata": {},
     "outputs": [
      {
       "metadata": {},
       "output_type": "pyout",
       "prompt_number": 7,
       "text": [
        "<matplotlib.text.Text at 0x10a2cded0>"
       ]
      },
      {
       "metadata": {},
       "output_type": "display_data",
       "png": "[encoded data removed]",
       "text": [
        "<matplotlib.figure.Figure at 0x109f2ab90>"
       ]
      }
     ],
     "prompt_number": 7
    },
    {
     "cell_type": "heading",
     "level": 3,
     "metadata": {},
     "source": [
      "Time to Assign Reviewer"
     ]
    },
    {
     "cell_type": "code",
     "collapsed": false,
     "input": [
      "twait = log['Review Assigned'] - log['Picked']\n",
      "subplot(3,1,1)\n",
      "plot(twait)\n",
      "xlabel('Order Number')\n",
      "ylabel('Time [minutes]')\n",
      "title('Time to Assign Inspector')\n",
      "\n",
      "subplot(2,1,2)\n",
      "twait.hist(bins=30)\n",
      "xlabel('Time [minutes]')\n",
      "ylabel('Count')"
     ],
     "language": "python",
     "metadata": {},
     "outputs": [
      {
       "metadata": {},
       "output_type": "pyout",
       "prompt_number": 8,
       "text": [
        "<matplotlib.text.Text at 0x10a679810>"
       ]
      },
      {
       "metadata": {},
       "output_type": "display_data",
       "png": "[encoded data removed]",
       "text": [
        "<matplotlib.figure.Figure at 0x109f3dd90>"
       ]
      }
     ],
     "prompt_number": 8
    },
    {
     "cell_type": "heading",
     "level": 3,
     "metadata": {},
     "source": [
      "Time to Review Order"
     ]
    },
    {
     "cell_type": "code",
     "collapsed": false,
     "input": [
      "treview = log['Reviewed']-log['Review Assigned']\n",
      "subplot(3,1,1)\n",
      "plot(treview)\n",
      "xlabel('Order Number')\n",
      "ylabel('Time [minutes]')\n",
      "title('Time to Review Order')\n",
      "\n",
      "subplot(2,1,2)\n",
      "treview.hist(bins=30)\n",
      "xlabel('Time [minutes]')\n",
      "ylabel('Count')"
     ],
     "language": "python",
     "metadata": {},
     "outputs": [
      {
       "metadata": {},
       "output_type": "pyout",
       "prompt_number": 9,
       "text": [
        "<matplotlib.text.Text at 0x10ac10990>"
       ]
      },
      {
       "metadata": {},
       "output_type": "display_data",
       "png": "[encoded data removed]",
       "text": [
        "<matplotlib.figure.Figure at 0x109f196d0>"
       ]
      }
     ],
     "prompt_number": 9
    },
    {
     "cell_type": "heading",
     "level": 3,
     "metadata": {},
     "source": [
      "Time to Ship"
     ]
    },
    {
     "cell_type": "code",
     "collapsed": false,
     "input": [
      "tship = log['Shipped']-log['Reviewed']\n",
      "subplot(3,1,1)\n",
      "plot(tship)\n",
      "xlabel('Order Number')\n",
      "ylabel('Time [minutes]')\n",
      "title('Time to Ship')\n",
      "\n",
      "subplot(2,1,2)\n",
      "tship.hist(bins=30)\n",
      "xlabel('Time [minutes]')\n",
      "ylabel('Count')"
     ],
     "language": "python",
     "metadata": {},
     "outputs": [
      {
       "metadata": {},
       "output_type": "pyout",
       "prompt_number": 10,
       "text": [
        "<matplotlib.text.Text at 0x10ae21690>"
       ]
      },
      {
       "metadata": {},
       "output_type": "display_data",
       "png": "[encoded data removed]",
       "text": [
        "<matplotlib.figure.Figure at 0x10ac6df90>"
       ]
      }
     ],
     "prompt_number": 10
    },
    {
     "cell_type": "code",
     "collapsed": false,
     "input": [
      "display(log)"
     ],
     "language": "python",
     "metadata": {},
     "outputs": [
      {
       "html": [
        "<div style=\"max-height:1000px;max-width:1500px;overflow:auto;\">\n",
        "<table border=\"1\" class=\"dataframe\">\n",
        "  <thead>\n",
        "    <tr style=\"text-align: right;\">\n",
        "      <th>1</th>\n",
        "      <th>Ordered</th>\n",
        "      <th>Pick Assigned</th>\n",
        "      <th>Picked</th>\n",
        "      <th>Review Assigned</th>\n",
        "      <th>Reviewed</th>\n",
        "      <th>Shipped</th>\n",
        "    </tr>\n",
        "  </thead>\n",
        "  <tbody>\n",
        "    <tr>\n",
        "      <th>0 </th>\n",
        "      <td>   4.379324</td>\n",
        "      <td>   4.379324</td>\n",
        "      <td>  14.970525</td>\n",
        "      <td>  14.970525</td>\n",
        "      <td>  16.129283</td>\n",
        "      <td>  27.780829</td>\n",
        "    </tr>\n",
        "    <tr>\n",
        "      <th>1 </th>\n",
        "      <td>  22.239833</td>\n",
        "      <td>  22.239833</td>\n",
        "      <td>  43.002923</td>\n",
        "      <td>  44.487228</td>\n",
        "      <td>  47.634112</td>\n",
        "      <td>  58.327152</td>\n",
        "    </tr>\n",
        "    <tr>\n",
        "      <th>2 </th>\n",
        "      <td>  29.085036</td>\n",
        "      <td>  29.085036</td>\n",
        "      <td>  42.207516</td>\n",
        "      <td>  42.207516</td>\n",
        "      <td>  44.487228</td>\n",
        "      <td>  52.656670</td>\n",
        "    </tr>\n",
        "    <tr>\n",
        "      <th>3 </th>\n",
        "      <td>  37.219709</td>\n",
        "      <td>  42.207516</td>\n",
        "      <td>  51.210415</td>\n",
        "      <td>  51.210415</td>\n",
        "      <td>  53.048847</td>\n",
        "      <td>  62.343703</td>\n",
        "    </tr>\n",
        "    <tr>\n",
        "      <th>4 </th>\n",
        "      <td>  47.239954</td>\n",
        "      <td>  47.239954</td>\n",
        "      <td>  52.610310</td>\n",
        "      <td>  53.048847</td>\n",
        "      <td>  54.985286</td>\n",
        "      <td>  66.523903</td>\n",
        "    </tr>\n",
        "    <tr>\n",
        "      <th>5 </th>\n",
        "      <td>  84.624327</td>\n",
        "      <td>  84.624327</td>\n",
        "      <td> 102.420737</td>\n",
        "      <td> 103.382917</td>\n",
        "      <td> 105.828086</td>\n",
        "      <td> 116.458841</td>\n",
        "    </tr>\n",
        "    <tr>\n",
        "      <th>6 </th>\n",
        "      <td>  86.838075</td>\n",
        "      <td>  86.838075</td>\n",
        "      <td>  93.870827</td>\n",
        "      <td>  93.870827</td>\n",
        "      <td>  96.311717</td>\n",
        "      <td> 106.486874</td>\n",
        "    </tr>\n",
        "    <tr>\n",
        "      <th>7 </th>\n",
        "      <td>  89.313892</td>\n",
        "      <td>  93.870827</td>\n",
        "      <td> 102.402156</td>\n",
        "      <td> 102.402156</td>\n",
        "      <td> 103.382917</td>\n",
        "      <td> 114.466421</td>\n",
        "    </tr>\n",
        "    <tr>\n",
        "      <th>8 </th>\n",
        "      <td>  92.469510</td>\n",
        "      <td> 102.402156</td>\n",
        "      <td> 118.854108</td>\n",
        "      <td> 120.153723</td>\n",
        "      <td> 120.720272</td>\n",
        "      <td> 130.435293</td>\n",
        "    </tr>\n",
        "    <tr>\n",
        "      <th>9 </th>\n",
        "      <td> 102.739174</td>\n",
        "      <td> 102.739174</td>\n",
        "      <td> 111.027054</td>\n",
        "      <td> 111.027054</td>\n",
        "      <td> 113.760412</td>\n",
        "      <td> 123.102889</td>\n",
        "    </tr>\n",
        "    <tr>\n",
        "      <th>10</th>\n",
        "      <td> 114.926334</td>\n",
        "      <td> 114.926334</td>\n",
        "      <td> 118.503039</td>\n",
        "      <td> 118.503039</td>\n",
        "      <td> 120.153723</td>\n",
        "      <td> 128.986114</td>\n",
        "    </tr>\n",
        "    <tr>\n",
        "      <th>11</th>\n",
        "      <td> 121.380722</td>\n",
        "      <td> 121.380722</td>\n",
        "      <td> 130.070927</td>\n",
        "      <td> 130.070927</td>\n",
        "      <td> 131.219593</td>\n",
        "      <td> 139.566143</td>\n",
        "    </tr>\n",
        "    <tr>\n",
        "      <th>12</th>\n",
        "      <td> 138.668222</td>\n",
        "      <td> 138.668222</td>\n",
        "      <td> 149.072749</td>\n",
        "      <td> 149.072749</td>\n",
        "      <td> 149.411737</td>\n",
        "      <td> 160.943675</td>\n",
        "    </tr>\n",
        "    <tr>\n",
        "      <th>13</th>\n",
        "      <td> 141.714632</td>\n",
        "      <td> 141.714632</td>\n",
        "      <td> 172.022504</td>\n",
        "      <td> 172.022504</td>\n",
        "      <td> 173.530873</td>\n",
        "      <td> 183.145938</td>\n",
        "    </tr>\n",
        "    <tr>\n",
        "      <th>14</th>\n",
        "      <td> 153.595642</td>\n",
        "      <td> 153.595642</td>\n",
        "      <td> 176.749059</td>\n",
        "      <td> 176.749059</td>\n",
        "      <td> 177.424902</td>\n",
        "      <td> 187.789578</td>\n",
        "    </tr>\n",
        "    <tr>\n",
        "      <th>15</th>\n",
        "      <td> 156.420967</td>\n",
        "      <td> 172.022504</td>\n",
        "      <td> 187.362834</td>\n",
        "      <td> 187.362834</td>\n",
        "      <td> 188.929830</td>\n",
        "      <td> 200.013360</td>\n",
        "    </tr>\n",
        "    <tr>\n",
        "      <th>16</th>\n",
        "      <td> 158.375842</td>\n",
        "      <td> 176.749059</td>\n",
        "      <td> 197.211728</td>\n",
        "      <td> 197.211728</td>\n",
        "      <td> 197.811256</td>\n",
        "      <td> 207.188209</td>\n",
        "    </tr>\n",
        "    <tr>\n",
        "      <th>17</th>\n",
        "      <td> 177.360191</td>\n",
        "      <td> 187.362834</td>\n",
        "      <td> 212.202825</td>\n",
        "      <td> 212.202825</td>\n",
        "      <td> 213.175260</td>\n",
        "      <td> 224.981085</td>\n",
        "    </tr>\n",
        "    <tr>\n",
        "      <th>18</th>\n",
        "      <td> 184.338684</td>\n",
        "      <td> 197.211728</td>\n",
        "      <td> 207.427874</td>\n",
        "      <td> 207.427874</td>\n",
        "      <td> 208.326195</td>\n",
        "      <td> 217.263391</td>\n",
        "    </tr>\n",
        "    <tr>\n",
        "      <th>19</th>\n",
        "      <td> 185.357763</td>\n",
        "      <td> 207.427874</td>\n",
        "      <td> 214.109667</td>\n",
        "      <td> 214.109667</td>\n",
        "      <td> 217.769030</td>\n",
        "      <td> 229.371706</td>\n",
        "    </tr>\n",
        "    <tr>\n",
        "      <th>20</th>\n",
        "      <td> 204.764842</td>\n",
        "      <td> 212.202825</td>\n",
        "      <td> 217.288268</td>\n",
        "      <td> 217.769030</td>\n",
        "      <td> 218.002022</td>\n",
        "      <td> 226.908137</td>\n",
        "    </tr>\n",
        "    <tr>\n",
        "      <th>21</th>\n",
        "      <td> 214.248799</td>\n",
        "      <td> 214.248799</td>\n",
        "      <td> 223.292486</td>\n",
        "      <td> 223.292486</td>\n",
        "      <td> 226.415661</td>\n",
        "      <td> 238.079518</td>\n",
        "    </tr>\n",
        "    <tr>\n",
        "      <th>22</th>\n",
        "      <td> 224.043181</td>\n",
        "      <td> 224.043181</td>\n",
        "      <td> 248.785784</td>\n",
        "      <td> 248.785784</td>\n",
        "      <td> 251.180049</td>\n",
        "      <td> 260.294800</td>\n",
        "    </tr>\n",
        "    <tr>\n",
        "      <th>23</th>\n",
        "      <td> 230.009774</td>\n",
        "      <td> 230.009774</td>\n",
        "      <td> 239.166708</td>\n",
        "      <td> 239.166708</td>\n",
        "      <td> 240.816625</td>\n",
        "      <td> 250.270966</td>\n",
        "    </tr>\n",
        "    <tr>\n",
        "      <th>24</th>\n",
        "      <td> 237.345692</td>\n",
        "      <td> 239.166708</td>\n",
        "      <td> 257.715940</td>\n",
        "      <td> 257.715940</td>\n",
        "      <td> 258.906887</td>\n",
        "      <td> 269.881368</td>\n",
        "    </tr>\n",
        "    <tr>\n",
        "      <th>25</th>\n",
        "      <td> 255.944489</td>\n",
        "      <td> 255.944489</td>\n",
        "      <td> 275.451254</td>\n",
        "      <td> 275.451254</td>\n",
        "      <td> 277.374117</td>\n",
        "      <td> 285.611767</td>\n",
        "    </tr>\n",
        "    <tr>\n",
        "      <th>26</th>\n",
        "      <td> 259.318236</td>\n",
        "      <td> 259.318236</td>\n",
        "      <td> 266.646375</td>\n",
        "      <td> 266.646375</td>\n",
        "      <td> 270.252682</td>\n",
        "      <td> 279.441694</td>\n",
        "    </tr>\n",
        "    <tr>\n",
        "      <th>27</th>\n",
        "      <td> 261.053583</td>\n",
        "      <td> 266.646375</td>\n",
        "      <td> 270.575271</td>\n",
        "      <td> 270.575271</td>\n",
        "      <td> 271.988325</td>\n",
        "      <td> 282.951130</td>\n",
        "    </tr>\n",
        "    <tr>\n",
        "      <th>28</th>\n",
        "      <td> 280.380717</td>\n",
        "      <td> 280.380717</td>\n",
        "      <td> 307.985491</td>\n",
        "      <td> 307.985491</td>\n",
        "      <td> 310.440570</td>\n",
        "      <td> 319.559145</td>\n",
        "    </tr>\n",
        "    <tr>\n",
        "      <th>29</th>\n",
        "      <td> 284.371791</td>\n",
        "      <td> 284.371791</td>\n",
        "      <td> 291.226205</td>\n",
        "      <td> 291.226205</td>\n",
        "      <td> 291.543317</td>\n",
        "      <td> 302.296846</td>\n",
        "    </tr>\n",
        "    <tr>\n",
        "      <th>30</th>\n",
        "      <td> 285.791615</td>\n",
        "      <td> 291.226205</td>\n",
        "      <td> 300.799597</td>\n",
        "      <td> 300.799597</td>\n",
        "      <td> 302.316051</td>\n",
        "      <td> 313.931180</td>\n",
        "    </tr>\n",
        "    <tr>\n",
        "      <th>31</th>\n",
        "      <td> 293.810343</td>\n",
        "      <td> 300.799597</td>\n",
        "      <td> 320.955617</td>\n",
        "      <td> 320.955617</td>\n",
        "      <td> 323.563703</td>\n",
        "      <td> 331.596520</td>\n",
        "    </tr>\n",
        "    <tr>\n",
        "      <th>32</th>\n",
        "      <td> 314.470108</td>\n",
        "      <td> 314.470108</td>\n",
        "      <td> 325.836117</td>\n",
        "      <td> 325.836117</td>\n",
        "      <td> 327.966072</td>\n",
        "      <td> 337.056094</td>\n",
        "    </tr>\n",
        "    <tr>\n",
        "      <th>33</th>\n",
        "      <td> 317.120069</td>\n",
        "      <td> 320.955617</td>\n",
        "      <td> 345.143272</td>\n",
        "      <td> 345.143272</td>\n",
        "      <td> 348.214732</td>\n",
        "      <td> 359.078384</td>\n",
        "    </tr>\n",
        "    <tr>\n",
        "      <th>34</th>\n",
        "      <td> 326.440456</td>\n",
        "      <td> 326.440456</td>\n",
        "      <td> 331.840222</td>\n",
        "      <td> 331.840222</td>\n",
        "      <td> 335.052527</td>\n",
        "      <td> 346.143700</td>\n",
        "    </tr>\n",
        "    <tr>\n",
        "      <th>35</th>\n",
        "      <td> 333.624923</td>\n",
        "      <td> 333.624923</td>\n",
        "      <td> 345.400327</td>\n",
        "      <td> 348.214732</td>\n",
        "      <td> 349.773316</td>\n",
        "      <td> 361.394722</td>\n",
        "    </tr>\n",
        "    <tr>\n",
        "      <th>36</th>\n",
        "      <td> 336.953695</td>\n",
        "      <td> 345.143272</td>\n",
        "      <td> 353.099372</td>\n",
        "      <td> 353.099372</td>\n",
        "      <td> 356.586981</td>\n",
        "      <td> 368.497644</td>\n",
        "    </tr>\n",
        "    <tr>\n",
        "      <th>37</th>\n",
        "      <td> 338.296363</td>\n",
        "      <td> 345.400327</td>\n",
        "      <td> 361.859758</td>\n",
        "      <td> 361.859758</td>\n",
        "      <td> 363.217865</td>\n",
        "      <td> 374.287555</td>\n",
        "    </tr>\n",
        "    <tr>\n",
        "      <th>38</th>\n",
        "      <td> 343.588143</td>\n",
        "      <td> 353.099372</td>\n",
        "      <td> 379.825564</td>\n",
        "      <td> 379.825564</td>\n",
        "      <td> 383.965770</td>\n",
        "      <td> 394.415953</td>\n",
        "    </tr>\n",
        "    <tr>\n",
        "      <th>39</th>\n",
        "      <td> 386.379939</td>\n",
        "      <td> 386.379939</td>\n",
        "      <td> 403.718570</td>\n",
        "      <td> 403.718570</td>\n",
        "      <td> 404.694040</td>\n",
        "      <td> 415.308116</td>\n",
        "    </tr>\n",
        "    <tr>\n",
        "      <th>40</th>\n",
        "      <td> 387.247576</td>\n",
        "      <td> 387.247576</td>\n",
        "      <td> 406.318397</td>\n",
        "      <td> 406.318397</td>\n",
        "      <td> 409.292481</td>\n",
        "      <td> 420.534302</td>\n",
        "    </tr>\n",
        "    <tr>\n",
        "      <th>41</th>\n",
        "      <td> 408.088258</td>\n",
        "      <td> 408.088258</td>\n",
        "      <td> 419.995508</td>\n",
        "      <td> 419.995508</td>\n",
        "      <td> 421.961575</td>\n",
        "      <td> 433.763797</td>\n",
        "    </tr>\n",
        "    <tr>\n",
        "      <th>42</th>\n",
        "      <td> 417.270432</td>\n",
        "      <td> 417.270432</td>\n",
        "      <td> 426.099068</td>\n",
        "      <td> 426.099068</td>\n",
        "      <td> 426.837945</td>\n",
        "      <td> 436.880671</td>\n",
        "    </tr>\n",
        "    <tr>\n",
        "      <th>43</th>\n",
        "      <td> 420.486538</td>\n",
        "      <td> 420.486538</td>\n",
        "      <td> 439.917098</td>\n",
        "      <td> 439.917098</td>\n",
        "      <td> 440.714060</td>\n",
        "      <td> 449.480042</td>\n",
        "    </tr>\n",
        "    <tr>\n",
        "      <th>44</th>\n",
        "      <td> 424.297605</td>\n",
        "      <td> 426.099068</td>\n",
        "      <td> 441.724353</td>\n",
        "      <td> 441.724353</td>\n",
        "      <td> 443.848671</td>\n",
        "      <td> 454.115379</td>\n",
        "    </tr>\n",
        "    <tr>\n",
        "      <th>45</th>\n",
        "      <td> 437.960108</td>\n",
        "      <td> 439.917098</td>\n",
        "      <td> 464.339436</td>\n",
        "      <td> 464.339436</td>\n",
        "      <td> 466.417445</td>\n",
        "      <td> 478.104414</td>\n",
        "    </tr>\n",
        "    <tr>\n",
        "      <th>46</th>\n",
        "      <td> 448.830004</td>\n",
        "      <td> 448.830004</td>\n",
        "      <td> 483.102844</td>\n",
        "      <td> 483.102844</td>\n",
        "      <td> 485.323862</td>\n",
        "      <td> 494.256977</td>\n",
        "    </tr>\n",
        "    <tr>\n",
        "      <th>47</th>\n",
        "      <td> 471.389593</td>\n",
        "      <td> 471.389593</td>\n",
        "      <td> 473.220633</td>\n",
        "      <td> 473.220633</td>\n",
        "      <td> 476.132503</td>\n",
        "      <td> 484.283000</td>\n",
        "    </tr>\n",
        "    <tr>\n",
        "      <th>48</th>\n",
        "      <td> 473.782342</td>\n",
        "      <td> 473.782342</td>\n",
        "      <td> 475.095418</td>\n",
        "      <td> 476.132503</td>\n",
        "      <td> 478.725648</td>\n",
        "      <td> 488.423835</td>\n",
        "    </tr>\n",
        "    <tr>\n",
        "      <th>49</th>\n",
        "      <td> 482.978665</td>\n",
        "      <td> 482.978665</td>\n",
        "      <td> 506.041060</td>\n",
        "      <td> 507.416348</td>\n",
        "      <td> 509.870838</td>\n",
        "      <td> 521.475796</td>\n",
        "    </tr>\n",
        "    <tr>\n",
        "      <th>50</th>\n",
        "      <td> 483.142652</td>\n",
        "      <td> 483.142652</td>\n",
        "      <td> 501.510797</td>\n",
        "      <td> 501.510797</td>\n",
        "      <td> 502.770498</td>\n",
        "      <td> 511.837772</td>\n",
        "    </tr>\n",
        "    <tr>\n",
        "      <th>51</th>\n",
        "      <td> 486.448676</td>\n",
        "      <td> 501.510797</td>\n",
        "      <td> 505.709669</td>\n",
        "      <td> 505.709669</td>\n",
        "      <td> 507.416348</td>\n",
        "      <td> 516.013327</td>\n",
        "    </tr>\n",
        "    <tr>\n",
        "      <th>52</th>\n",
        "      <td> 488.197310</td>\n",
        "      <td> 505.709669</td>\n",
        "      <td> 519.290898</td>\n",
        "      <td> 519.290898</td>\n",
        "      <td> 521.624239</td>\n",
        "      <td> 530.453240</td>\n",
        "    </tr>\n",
        "    <tr>\n",
        "      <th>53</th>\n",
        "      <td> 505.630347</td>\n",
        "      <td> 506.041060</td>\n",
        "      <td> 524.652187</td>\n",
        "      <td> 524.652187</td>\n",
        "      <td> 526.200318</td>\n",
        "      <td> 536.576382</td>\n",
        "    </tr>\n",
        "    <tr>\n",
        "      <th>54</th>\n",
        "      <td> 515.370388</td>\n",
        "      <td> 519.290898</td>\n",
        "      <td> 537.506792</td>\n",
        "      <td> 537.506792</td>\n",
        "      <td> 538.175180</td>\n",
        "      <td> 547.511398</td>\n",
        "    </tr>\n",
        "    <tr>\n",
        "      <th>55</th>\n",
        "      <td> 541.357734</td>\n",
        "      <td> 541.357734</td>\n",
        "      <td> 545.213802</td>\n",
        "      <td> 545.213802</td>\n",
        "      <td> 549.365103</td>\n",
        "      <td> 559.389039</td>\n",
        "    </tr>\n",
        "    <tr>\n",
        "      <th>56</th>\n",
        "      <td> 562.538278</td>\n",
        "      <td> 562.538278</td>\n",
        "      <td> 596.219748</td>\n",
        "      <td> 596.219748</td>\n",
        "      <td> 598.917052</td>\n",
        "      <td> 609.233995</td>\n",
        "    </tr>\n",
        "    <tr>\n",
        "      <th>57</th>\n",
        "      <td> 568.116796</td>\n",
        "      <td> 568.116796</td>\n",
        "      <td> 573.656440</td>\n",
        "      <td> 573.656440</td>\n",
        "      <td> 574.805897</td>\n",
        "      <td> 584.075401</td>\n",
        "    </tr>\n",
        "    <tr>\n",
        "      <th>58</th>\n",
        "      <td> 576.830239</td>\n",
        "      <td> 576.830239</td>\n",
        "      <td> 579.555174</td>\n",
        "      <td> 579.555174</td>\n",
        "      <td> 579.955492</td>\n",
        "      <td> 591.556676</td>\n",
        "    </tr>\n",
        "    <tr>\n",
        "      <th>59</th>\n",
        "      <td> 599.851061</td>\n",
        "      <td> 599.851061</td>\n",
        "      <td> 603.351886</td>\n",
        "      <td> 603.351886</td>\n",
        "      <td> 604.440114</td>\n",
        "      <td> 612.764248</td>\n",
        "    </tr>\n",
        "    <tr>\n",
        "      <th></th>\n",
        "      <td>...</td>\n",
        "      <td>...</td>\n",
        "      <td>...</td>\n",
        "      <td>...</td>\n",
        "      <td>...</td>\n",
        "      <td>...</td>\n",
        "    </tr>\n",
        "  </tbody>\n",
        "</table>\n",
        "<p>485 rows \u00d7 6 columns</p>\n",
        "</div>"
       ],
       "metadata": {},
       "output_type": "display_data",
       "text": [
        "1      Ordered  Pick Assigned      Picked  Review Assigned    Reviewed  \\\n",
        "0     4.379324       4.379324   14.970525        14.970525   16.129283   \n",
        "1    22.239833      22.239833   43.002923        44.487228   47.634112   \n",
        "2    29.085036      29.085036   42.207516        42.207516   44.487228   \n",
        "3    37.219709      42.207516   51.210415        51.210415   53.048847   \n",
        "4    47.239954      47.239954   52.610310        53.048847   54.985286   \n",
        "5    84.624327      84.624327  102.420737       103.382917  105.828086   \n",
        "6    86.838075      86.838075   93.870827        93.870827   96.311717   \n",
        "7    89.313892      93.870827  102.402156       102.402156  103.382917   \n",
        "8    92.469510     102.402156  118.854108       120.153723  120.720272   \n",
        "9   102.739174     102.739174  111.027054       111.027054  113.760412   \n",
        "10  114.926334     114.926334  118.503039       118.503039  120.153723   \n",
        "11  121.380722     121.380722  130.070927       130.070927  131.219593   \n",
        "12  138.668222     138.668222  149.072749       149.072749  149.411737   \n",
        "13  141.714632     141.714632  172.022504       172.022504  173.530873   \n",
        "14  153.595642     153.595642  176.749059       176.749059  177.424902   \n",
        "15  156.420967     172.022504  187.362834       187.362834  188.929830   \n",
        "16  158.375842     176.749059  197.211728       197.211728  197.811256   \n",
        "17  177.360191     187.362834  212.202825       212.202825  213.175260   \n",
        "18  184.338684     197.211728  207.427874       207.427874  208.326195   \n",
        "19  185.357763     207.427874  214.109667       214.109667  217.769030   \n",
        "20  204.764842     212.202825  217.288268       217.769030  218.002022   \n",
        "21  214.248799     214.248799  223.292486       223.292486  226.415661   \n",
        "22  224.043181     224.043181  248.785784       248.785784  251.180049   \n",
        "23  230.009774     230.009774  239.166708       239.166708  240.816625   \n",
        "24  237.345692     239.166708  257.715940       257.715940  258.906887   \n",
        "25  255.944489     255.944489  275.451254       275.451254  277.374117   \n",
        "26  259.318236     259.318236  266.646375       266.646375  270.252682   \n",
        "27  261.053583     266.646375  270.575271       270.575271  271.988325   \n",
        "28  280.380717     280.380717  307.985491       307.985491  310.440570   \n",
        "29  284.371791     284.371791  291.226205       291.226205  291.543317   \n",
        "30  285.791615     291.226205  300.799597       300.799597  302.316051   \n",
        "31  293.810343     300.799597  320.955617       320.955617  323.563703   \n",
        "32  314.470108     314.470108  325.836117       325.836117  327.966072   \n",
        "33  317.120069     320.955617  345.143272       345.143272  348.214732   \n",
        "34  326.440456     326.440456  331.840222       331.840222  335.052527   \n",
        "35  333.624923     333.624923  345.400327       348.214732  349.773316   \n",
        "36  336.953695     345.143272  353.099372       353.099372  356.586981   \n",
        "37  338.296363     345.400327  361.859758       361.859758  363.217865   \n",
        "38  343.588143     353.099372  379.825564       379.825564  383.965770   \n",
        "39  386.379939     386.379939  403.718570       403.718570  404.694040   \n",
        "40  387.247576     387.247576  406.318397       406.318397  409.292481   \n",
        "41  408.088258     408.088258  419.995508       419.995508  421.961575   \n",
        "42  417.270432     417.270432  426.099068       426.099068  426.837945   \n",
        "43  420.486538     420.486538  439.917098       439.917098  440.714060   \n",
        "44  424.297605     426.099068  441.724353       441.724353  443.848671   \n",
        "45  437.960108     439.917098  464.339436       464.339436  466.417445   \n",
        "46  448.830004     448.830004  483.102844       483.102844  485.323862   \n",
        "47  471.389593     471.389593  473.220633       473.220633  476.132503   \n",
        "48  473.782342     473.782342  475.095418       476.132503  478.725648   \n",
        "49  482.978665     482.978665  506.041060       507.416348  509.870838   \n",
        "50  483.142652     483.142652  501.510797       501.510797  502.770498   \n",
        "51  486.448676     501.510797  505.709669       505.709669  507.416348   \n",
        "52  488.197310     505.709669  519.290898       519.290898  521.624239   \n",
        "53  505.630347     506.041060  524.652187       524.652187  526.200318   \n",
        "54  515.370388     519.290898  537.506792       537.506792  538.175180   \n",
        "55  541.357734     541.357734  545.213802       545.213802  549.365103   \n",
        "56  562.538278     562.538278  596.219748       596.219748  598.917052   \n",
        "57  568.116796     568.116796  573.656440       573.656440  574.805897   \n",
        "58  576.830239     576.830239  579.555174       579.555174  579.955492   \n",
        "59  599.851061     599.851061  603.351886       603.351886  604.440114   \n",
        "           ...            ...         ...              ...         ...   \n",
        "\n",
        "1      Shipped  \n",
        "0    27.780829  \n",
        "1    58.327152  \n",
        "2    52.656670  \n",
        "3    62.343703  \n",
        "4    66.523903  \n",
        "5   116.458841  \n",
        "6   106.486874  \n",
        "7   114.466421  \n",
        "8   130.435293  \n",
        "9   123.102889  \n",
        "10  128.986114  \n",
        "11  139.566143  \n",
        "12  160.943675  \n",
        "13  183.145938  \n",
        "14  187.789578  \n",
        "15  200.013360  \n",
        "16  207.188209  \n",
        "17  224.981085  \n",
        "18  217.263391  \n",
        "19  229.371706  \n",
        "20  226.908137  \n",
        "21  238.079518  \n",
        "22  260.294800  \n",
        "23  250.270966  \n",
        "24  269.881368  \n",
        "25  285.611767  \n",
        "26  279.441694  \n",
        "27  282.951130  \n",
        "28  319.559145  \n",
        "29  302.296846  \n",
        "30  313.931180  \n",
        "31  331.596520  \n",
        "32  337.056094  \n",
        "33  359.078384  \n",
        "34  346.143700  \n",
        "35  361.394722  \n",
        "36  368.497644  \n",
        "37  374.287555  \n",
        "38  394.415953  \n",
        "39  415.308116  \n",
        "40  420.534302  \n",
        "41  433.763797  \n",
        "42  436.880671  \n",
        "43  449.480042  \n",
        "44  454.115379  \n",
        "45  478.104414  \n",
        "46  494.256977  \n",
        "47  484.283000  \n",
        "48  488.423835  \n",
        "49  521.475796  \n",
        "50  511.837772  \n",
        "51  516.013327  \n",
        "52  530.453240  \n",
        "53  536.576382  \n",
        "54  547.511398  \n",
        "55  559.389039  \n",
        "56  609.233995  \n",
        "57  584.075401  \n",
        "58  591.556676  \n",
        "59  612.764248  \n",
        "           ...  \n",
        "\n",
        "[485 rows x 6 columns]"
       ]
      }
     ],
     "prompt_number": 11
    },
    {
     "cell_type": "code",
     "collapsed": false,
     "input": [],
     "language": "python",
     "metadata": {},
     "outputs": [],
     "prompt_number": 11
    }
   ],
   "metadata": {}
  }
 ]
}