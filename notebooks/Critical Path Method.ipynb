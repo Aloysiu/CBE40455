{
 "metadata": {
  "name": ""
 },
 "nbformat": 3,
 "nbformat_minor": 0,
 "worksheets": [
  {
   "cells": [
    {
     "cell_type": "heading",
     "level": 1,
     "metadata": {},
     "source": [
      "Critical Path Method"
     ]
    },
    {
     "cell_type": "markdown",
     "metadata": {},
     "source": [
      "This [IPython notebook](http://ipython.org/notebook.html) demonstrates the Critical Path Method using GLPK/MathProg.\n",
      "\n",
      "J.C. Kantor (Kantor.1@nd.edu)\n",
      "\n",
      "The latest version of this IPython notebook is available at [http://github.com/jckantor/CBE20255](http://github.com/jckantor/CBE20255)  for noncommercial use under terms of the [Creative Commons Attribution Noncommericial ShareAlike License](http://creativecommons.org/licenses/by-nc-sa/4.0/)."
     ]
    },
    {
     "cell_type": "heading",
     "level": 2,
     "metadata": {},
     "source": [
      "Background"
     ]
    },
    {
     "cell_type": "markdown",
     "metadata": {},
     "source": [
      "The Critical Path Method is a technique for calculating the shortest time span needed to complete a series of tasks. The tasks are represented by nodes, each labelled with the duration. The precedence order of the task is given by a set of arcs.\n",
      "\n",
      "Here we demonstrate the representation and calculation of the critical path. Decision variables are introduced for\n",
      "\n",
      "* Earliest Start\n",
      "* Earliest Finish\n",
      "* Latest Start\n",
      "* Latest Finish\n",
      "* Slack = Earliest Finish - Earliest Start = Latest Finish - Earliest Finish\n",
      "\n",
      "Tasks on the Critical Path have zero slack."
     ]
    },
    {
     "cell_type": "heading",
     "level": 2,
     "metadata": {},
     "source": [
      "MathProg Model"
     ]
    },
    {
     "cell_type": "code",
     "collapsed": false,
     "input": [
      "%%writefile ProjectCPM.mod\n",
      "\n",
      "# Example: ProjectCPM.mod\n",
      "\n",
      "set TASKS;\n",
      "set ARCS within {TASKS cross TASKS};\n",
      "\n",
      "/* Parameters are the durations for each task */\n",
      "param dur{TASKS} >= 0;\n",
      "param desc{TASKS} symbolic;\n",
      "\n",
      "/* Decision Variables associated with each task*/\n",
      "var Tes{TASKS} >= 0;     # Earliest Start\n",
      "var Tef{TASKS} >= 0;     # Earliest Finish\n",
      "var Tls{TASKS} >= 0;     # Latest Start\n",
      "var Tlf{TASKS} >= 0;     # Latest Finish\n",
      "var Tsl{TASKS} >= 0;     # Slacks\n",
      "\n",
      "/* Global finish time */\n",
      "var Tf >= 0;\n",
      "\n",
      "/* Minimize the global finish time and, secondarily, maximize slacks */\n",
      "minimize ProjectFinish : card(TASKS)*Tf - sum {j in TASKS} Tsl[j];\n",
      "\n",
      "/* Finish is the least upper bound on the finish time for all tasks */\n",
      "s.t. Efnsh {j in TASKS} : Tef[j] <= Tf;\n",
      "s.t. Lfnsh {j in TASKS} : Tlf[j] <= Tf;\n",
      "\n",
      "/* Relationship between start and finish times for each task */\n",
      "s.t. Estrt {j in TASKS} : Tef[j] = Tes[j] + dur[j];\n",
      "s.t. Lstrt {j in TASKS} : Tlf[j] = Tls[j] + dur[j];\n",
      "\n",
      "/* Slacks */\n",
      "s.t. Slack {j in TASKS} : Tsl[j] = Tls[j] - Tes[j];\n",
      "\n",
      "/* Task ordering */\n",
      "s.t. Eordr {(i,j) in ARCS} : Tef[i] <= Tes[j];\n",
      "s.t. Lordr {(j,k) in ARCS} : Tlf[j] <= Tls[k];\n",
      "\n",
      "/* Compute Solution  */\n",
      "solve;\n",
      "\n",
      "/* Print Report */\n",
      "printf 'PROJECT LENGTH = %8g\\n',Tf;\n",
      "\n",
      "/* Critical Tasks are those with zero slack */\n",
      "\n",
      "/* Rank-order tasks on the critical path by earliest start time */\n",
      "param r{j in TASKS : Tsl[j] = 0} := sum{k in TASKS : Tsl[k] = 0}\n",
      "   if (Tes[k] <= Tes[j]) then 1;\n",
      "\n",
      "printf '\\nCRITICAL PATH\\n';\n",
      "printf '    TASK    DUR     Start    Finish    Description\\n';\n",
      "printf {k in 1..card(TASKS), j in TASKS : Tsl[j]=0 && k==r[j]}\n",
      "   '%8s %6g  %8g  %8g    %-25s\\n', j, dur[j], Tes[j], Tef[j], desc[j];\n",
      "\n",
      "/* Noncritical Tasks have positive slack */\n",
      "\n",
      "/* Rank-order tasks not on the critical path by earliest start time */\n",
      "param s{j in TASKS : Tsl[j] > 0} := sum{k in TASKS : Tsl[k] = 0}\n",
      "   if (Tes[k] <= Tes[j]) then 1;\n",
      "\n",
      "printf '\\nNON-CRITICAL TASKS\\n';\n",
      "printf '                 Earliest  Earliest    Latest    Latest \\n';\n",
      "printf '    TASK    DUR     Start    Finish     Start    Finish     Slack   Description\\n';\n",
      "printf {k in 1..card(TASKS), j in TASKS : Tsl[j] > 0 && k==s[j]}\n",
      "   '%8s %6g  %8g  %8g  %8g  %8g  %8g   %-25s\\n', \n",
      "   j,dur[j],Tes[j],Tef[j],Tls[j],Tlf[j],Tsl[j],desc[j];\n",
      "printf '\\n';\n",
      "\n",
      "end;\n"
     ],
     "language": "python",
     "metadata": {},
     "outputs": [
      {
       "output_type": "stream",
       "stream": "stdout",
       "text": [
        "Overwriting ProjectCPM.mod\n"
       ]
      }
     ],
     "prompt_number": 29
    },
    {
     "cell_type": "heading",
     "level": 2,
     "metadata": {},
     "source": [
      "Example: Stadium Construction"
     ]
    },
    {
     "cell_type": "markdown",
     "metadata": {},
     "source": [
      "Stadium Construction, [Example 7.1.1](http://www.maximalsoftware.com/modellib/modXpressMP.html) from [Christelle Gueret, Christian Prins, Marc Sevaux, \"Applications of Optimization with Xpress-MP,\" Chapter 7, Dash Optimization, 2000](http://citeseerx.ist.psu.edu/viewdoc/download?doi=10.1.1.69.9634&rep=rep1&type=pdf)."
     ]
    },
    {
     "cell_type": "code",
     "collapsed": false,
     "input": [
      "%%script glpsol -m ProjectCPM.mod -d /dev/stdin -y /dev/stdout\n",
      "\n",
      "param : TASKS : dur desc :=\n",
      "   T01   2.0  'Installing the contruction site'\n",
      "   T02  16.0  'Terracing'\n",
      "   T03   9.0  'Constructing the foundations'\n",
      "   T04   8.0  'Access roads and other networks'\n",
      "   T05  10.0  'Erecting the basement'\n",
      "   T06   6.0  'Main floor'\n",
      "   T07   2.0  'Dividing up the changing rooms'\n",
      "   T08   2.0  'Electrifying the terraces'\n",
      "   T09   9.0  'Constructing the roof'\n",
      "   T10   5.0  'Lighting the stadium'\n",
      "   T11   3.0  'Installing the terraces'\n",
      "   T12   2.0  'Sealing the roof'\n",
      "   T13   1.0  'Finishing the changing rooms'\n",
      "   T14   7.0  'Constructing the ticket office'\n",
      "   T15   4.0  'Secondary access roads'\n",
      "   T16   3.0  'Means of signaling'\n",
      "   T17   9.0  'Lawn and sports accessories'\n",
      "   T18   1.0  'Handing over the building' ;\n",
      "\n",
      "set ARCS := \n",
      "   T01  T02\n",
      "   T02  T03\n",
      "   T02  T04\n",
      "   T02  T14\n",
      "   T03  T05\n",
      "   T04  T07\n",
      "   T04  T10\n",
      "   T04  T09\n",
      "   T04  T06\n",
      "   T04  T15\n",
      "   T05  T06\n",
      "   T06  T09\n",
      "   T06  T11\n",
      "   T06  T08\n",
      "   T07  T13\n",
      "   T08  T16\n",
      "   T09  T12\n",
      "   T11  T16\n",
      "   T12  T17\n",
      "   T14  T16\n",
      "   T14  T15\n",
      "   T17  T18 ;\n",
      "\n",
      "end;\n"
     ],
     "language": "python",
     "metadata": {},
     "outputs": [
      {
       "output_type": "stream",
       "stream": "stdout",
       "text": [
        "GLPSOL: GLPK LP/MIP Solver, v4.52\n",
        "Parameter(s) specified in the command line:\n",
        " -m ProjectCPM.mod -d /dev/stdin -y /dev/stdout\n",
        "Reading model section from ProjectCPM.mod...\n",
        "ProjectCPM.mod:70: warning: final NL missing before end of file\n",
        "70 lines were read\n",
        "Reading data section from /dev/stdin...\n",
        "/dev/stdin:46: warning: final NL missing before end of file\n",
        "46 lines were read\n",
        "Generating ProjectFinish...\n",
        "Generating Efnsh...\n",
        "Generating Lfnsh...\n",
        "Generating Estrt...\n",
        "Generating Lstrt...\n",
        "Generating Slack...\n",
        "Generating Eordr...\n",
        "Generating Lordr...\n",
        "Model has been successfully generated\n",
        "GLPK Simplex Optimizer, v4.52\n",
        "135 rows, 91 columns, 305 non-zeros\n",
        "Preprocessing...\n",
        "134 rows, 73 columns, 268 non-zeros\n",
        "Scaling...\n",
        " A: min|aij| =  1.000e+00  max|aij| =  1.000e+00  ratio =  1.000e+00\n",
        "Problem data seem to be well scaled\n",
        "Constructing initial basis...\n",
        "Size of triangular part is 134\n",
        "      0: obj =   0.000000000e+00  infeas =  5.340e+02 (0)\n",
        "*    98: obj =   1.152000000e+03  infeas =  0.000e+00 (0)\n",
        "*   108: obj =   9.230000000e+02  infeas =  0.000e+00 (0)\n",
        "OPTIMAL LP SOLUTION FOUND\n",
        "Time used:   0.0 secs\n",
        "Memory used: 0.3 Mb (351307 bytes)\n",
        "PROJECT LENGTH =       64\n",
        "\n",
        "CRITICAL PATH\n",
        "    TASK    DUR     Start    Finish    Description\n",
        "     T01      2         0         2    Installing the contruction site\n",
        "     T02     16         2        18    Terracing                \n",
        "     T03      9        18        27    Contructing the foundations\n",
        "     T05     10        27        37    Erecting the basement    \n",
        "     T06      6        37        43    Main floor               \n",
        "     T09      9        43        52    Constructing the roof    \n",
        "     T12      2        52        54    Sealing the roof         \n",
        "     T17      9        54        63    Lawn and sports accessories\n",
        "     T18      1        63        64    Handing over the building\n",
        "\n",
        "NON-CRITICAL TASKS\n",
        "                 Earliest  Earliest    Latest    Latest \n",
        "    TASK    DUR     Start    Finish     Start    Finish     Slack   Description\n",
        "     T04      8        18        26        29        37        11   Access Roads and other networks\n",
        "     T07      2        26        28        61        63        35   Dividing up the changing rooms\n",
        "     T10      5        26        31        59        64        33   Lighting the stadium     \n",
        "     T14      7        18        25        53        60        35   Constructing the ticket office\n",
        "     T15      4        26        30        60        64        34   Secondary access roads   \n",
        "     T13      1        28        29        63        64        35   Finishing the changing rooms\n",
        "     T08      2        43        45        59        61        16   Electrifying the terraces\n",
        "     T11      3        43        46        58        61        15   Installing the terraces  \n",
        "     T16      3        46        49        61        64        15   Means of signaling       \n",
        "\n",
        "Model has been successfully processed\n"
       ]
      }
     ],
     "prompt_number": 30
    },
    {
     "cell_type": "heading",
     "level": 2,
     "metadata": {},
     "source": [
      "Visualization"
     ]
    },
    {
     "cell_type": "code",
     "collapsed": false,
     "input": [
      "!pip install networkx"
     ],
     "language": "python",
     "metadata": {},
     "outputs": [
      {
       "output_type": "stream",
       "stream": "stdout",
       "text": [
        "Requirement already satisfied (use --upgrade to upgrade): networkx in /Users/jeff/anaconda/lib/python2.7/site-packages\r\n",
        "Cleaning up...\r\n"
       ]
      }
     ],
     "prompt_number": 1
    },
    {
     "cell_type": "code",
     "collapsed": false,
     "input": [
      "import networkx as nx\n",
      "\n",
      "G=nx.Graph()\n",
      "G.add_nodes_from(['T01','T02','T03','T04','T05','T06','T07','T08',\\\n",
      "    'T09','T10','T11','T12','T13','T14','T15','T16','T18'])\n",
      "\n",
      "G.add_edge('T01','T02')\n",
      "G.add_edge('T02','T03')\n",
      "G.add_edge('T02','T04')\n",
      "G.add_edge('T02','T14')\n",
      "G.add_edge('T03','T05')\n",
      "G.add_edge('T04','T07')\n",
      "G.add_edge('T04','T10')\n",
      "G.add_edge('T04','T09')\n",
      "G.add_edge('T04','T06')\n",
      "G.add_edge('T04','T15')\n",
      "G.add_edge('T05','T06')\n",
      "G.add_edge('T06','T09')\n",
      "G.add_edge('T06','T11')\n",
      "G.add_edge('T06','T08')\n",
      "G.add_edge('T07','T13')\n",
      "G.add_edge('T08','T16')\n",
      "G.add_edge('T09','T12')\n",
      "G.add_edge('T11','T16')\n",
      "G.add_edge('T12','T17')\n",
      "G.add_edge('T14','T16')\n",
      "G.add_edge('T14','T15')\n",
      "G.add_edge('T17','T18') ;\n",
      "\n",
      "nx.draw(G)\n",
      "show() # display"
     ],
     "language": "python",
     "metadata": {},
     "outputs": [
      {
       "metadata": {},
       "output_type": "display_data",
       "png": "[encoded data removed]",
       "text": [
        "<matplotlib.figure.Figure at 0x10808ab90>"
       ]
      }
     ],
     "prompt_number": 8
    },
    {
     "cell_type": "code",
     "collapsed": false,
     "input": [],
     "language": "python",
     "metadata": {},
     "outputs": []
    }
   ],
   "metadata": {}
  }
 ]
}