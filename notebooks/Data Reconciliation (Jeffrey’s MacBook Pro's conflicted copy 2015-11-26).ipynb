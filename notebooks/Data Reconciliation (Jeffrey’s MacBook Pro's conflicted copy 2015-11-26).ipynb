{
 "cells": [
  {
   "cell_type": "markdown",
   "metadata": {},
   "source": [
    "##### The latest version of this Jupyter notebook is available at [http://github.com/jckantor/CBE40455](http://github.com/jckantor/CBE20255)  for noncommercial use under terms of the [Creative Commons Attribution Noncommericial ShareAlike License](http://creativecommons.org/licenses/by-nc-sa/4.0/).\n",
    "\n",
    "J.C. Kantor (Kantor.1@nd.edu)"
   ]
  },
  {
   "cell_type": "markdown",
   "metadata": {},
   "source": [
    "# Data Reconciliation"
   ]
  },
  {
   "cell_type": "markdown",
   "metadata": {},
   "source": [
    "This notebook demonstrates use of linear programming using GLPK/Mathprog for reconciliation of process measurements."
   ]
  },
  {
   "cell_type": "markdown",
   "metadata": {},
   "source": [
    "## Data Reconciliation and Gross Error Detection"
   ]
  },
  {
   "cell_type": "markdown",
   "metadata": {},
   "source": [
    "The following demonstration was motivated by a former student Matt N. who was exploring methods for assessing measurement information in a refinery application. The illustration was adapted from Chapter 1 of \"Reconciliation & Gross Error Detection: An Intelligent Use of Process Data\" by Shankar Narasimhan and Cornelius Jordache (Gulf Publishing, 2000)."
   ]
  },
  {
   "cell_type": "markdown",
   "metadata": {},
   "source": [
    "### Heat Exchanger with Bypass\n",
    "<pre>\n",
    "           1/1          2/2         4/3         6/5\n",
    "        -------- SPLIT ----- HTEXG ----- MIXER --------\n",
    "                   |                       ^ \n",
    "                   |                       |\n",
    "                   |    3            5/4   |\n",
    "                   +-------> VALVE --------+\n",
    "</pre>\n",
    "\n",
    "The flow sheet is labeled by s/k pairs which refer to stream s and measurement k. Streams are numbered s in 1..S and sensors are numbered k in 1..K. The parameter s[k] denotes the stream associated with measurement k.\n",
    "\n",
    "Given sensor measurements \\(y_k\\), the task is to infer values for the flowrates \\(x_{s_k}\\) using mass balance equations and a sensor model\n",
    "\n",
    "$\\begin{eqnarray}\n",
    "     |y_k-x_{s_k}| & \\leq & e_k + M g_k \\\\\n",
    "     |e_k| & \\leq & e^{max}_k\n",
    "\\end{eqnarray}$\n",
    "\n",
    "\\(g_k\\) is a binary variable indicating the presence of a gross error in sensor \\(k\\). \\(M\\) is a big number. A gross error occurs if the measured data is not consistent with sensor model and mass balances. The optimization objective is to find an estimate of mass flows minimizing the number of gross sensor errors."
   ]
  },
  {
   "cell_type": "code",
   "execution_count": 2,
   "metadata": {
    "collapsed": false
   },
   "outputs": [
    {
     "name": "stdout",
     "output_type": "stream",
     "text": [
      "Writing DataReconciliation.dat\n"
     ]
    }
   ],
   "source": [
    "%%writefile DataReconciliation.dat\n",
    "\n",
    "/* All of the relevant sensor information is given in the data section. The\n",
    "relevant information includes the number of sensors, and a table indexed by \n",
    "sensor number k with information on which stream is measured (s[k]), the \n",
    "measurement (y[k]), and  'no-penalty' range for measurement errors (emax[k]). \n",
    "*/\n",
    "\n",
    "set UNITS := SPLIT HTEXG VALVE MIXER;\n",
    "set STREAMS := 1 2 3 4 5 6;\n",
    "\n",
    "/* Mass Balance Coefficients */\n",
    "param  A :\n",
    "            1   2   3   4   5   6  :=\n",
    "   SPLIT   -1   1   1   .   .   .\n",
    "   HTEXG    .  -1   .   1   .   .\n",
    "   VALVE    .   .  -1   .   1   .\n",
    "   MIXER    .   .   .   1   1  -1 ;\n",
    "\n",
    "/* Sensors and Measurement Data*/\n",
    "param: SENSORS:   s      y     emax :=    \n",
    "          1       1   101.91   1.75\n",
    "          2       2    68.45   1.75\n",
    "          3       4    64.20   1.75\n",
    "          4       5    36.44   1.75\n",
    "          5       6    98.88   1.75 ;\n",
    "\n",
    "end;"
   ]
  },
  {
   "cell_type": "code",
   "execution_count": 3,
   "metadata": {
    "collapsed": false
   },
   "outputs": [],
   "source": [
    "%%script glpsol -m /dev/stdin -d DataReconciliation.dat --out output\n",
    "\n",
    "# Example: DataReconciliation.mod\n",
    "\n",
    "/* Sets */\n",
    "set STREAMS;\n",
    "set SENSORS;\n",
    "set UNITS;\n",
    "\n",
    "/* Mass Balances  Coefficients */\n",
    "param A{UNITS,STREAMS} default 0;\n",
    "\n",
    "/* Sensors Parameters */\n",
    "param y{SENSORS} >= 0;        # Measurement Data\n",
    "param s{SENSORS}  > 0;        # Stream measured by each sensor\n",
    "param emax{SENSORS} >= 0;     # Bound on error for each sensor\n",
    "param bigM := 100;            # Big M\n",
    "\n",
    "/* Stream Variables */\n",
    "var x{STREAMS} >= 0;\n",
    "\n",
    "/* Sensor Variables */\n",
    "var epos{SENSORS} >= 0;\n",
    "var eneg{SENSORS} >= 0;\n",
    "var gerr{SENSORS} binary;     # Gross Errors\n",
    "\n",
    "/* Optimization Criterion */\n",
    "minimize L1: sum {k in SENSORS} (epos[k]+eneg[k] + bigM*gerr[k]);\n",
    "\n",
    "/* Mass Balances */\n",
    "s.t. MASSBAL {i in UNITS}: sum{j in STREAMS} A[i,j]*x[j] = 0;\n",
    "\n",
    "/* Error Model */\n",
    "s.t. s_err {k in SENSORS}: y[k] =  x[s[k]] + epos[k] - eneg[k];\n",
    "s.t. e_pos {k in SENSORS}: epos[k] <= emax[k] + bigM*gerr[k];\n",
    "s.t. e_neg {k in SENSORS}: eneg[k] <= emax[k] + bigM*gerr[k];\n",
    "\n",
    "/* Solve and Display Solution */\n",
    "solve;\n",
    "\n",
    "printf \"Measurement Reconciliation\";\n",
    "printf \"\\n\\n   Sensor    Measured     Reconciled    Difference    GrossError\";\n",
    "for {k in SENSORS}{\n",
    "   printf \"\\n      %s      %7.2f       %7.2f      %7.2f\",\n",
    "      k,y[k],x[s[k]],(epos[k]-eneg[k]),gerr[k];\n",
    "   printf \"         %3s\", if gerr[k]=1 then \"X\" else \" \";\n",
    "}\n",
    "printf \"\\n\\n\\nStream Estimates\";\n",
    "printf \"\\n\\n   Stream    Estimate\";\n",
    "printf {i in STREAMS} \"\\n      %s      %7.2f\",i,x[i];\n",
    "\n",
    "table tab1 {k in SENSORS} OUT \"CSV\" \"MeasurementReconciliation.csv\" \"ColumnChart\":\n",
    "    k~Sensor,\n",
    "    y[k]~Measurement,\n",
    "    x[s[k]]~Reconciled;\n",
    "\n",
    "table tab2 {k in SENSORS} OUT \"CSV\" \"MeasurementError.csv\" \"ColumnChart\":\n",
    "    k~Sensor,\n",
    "    (epos[k]-eneg[k])~Error;\n",
    "\n",
    "data;\n",
    "\n",
    "end;\n"
   ]
  },
  {
   "cell_type": "code",
   "execution_count": 12,
   "metadata": {
    "collapsed": false
   },
   "outputs": [
    {
     "ename": "ImportError",
     "evalue": "No module named Jupyter.display",
     "output_type": "error",
     "traceback": [
      "\u001b[0;31m---------------------------------------------------------------------------\u001b[0m",
      "\u001b[0;31mImportError\u001b[0m                               Traceback (most recent call last)",
      "\u001b[0;32m<ipython-input-12-e928160af3f0>\u001b[0m in \u001b[0;36m<module>\u001b[0;34m()\u001b[0m\n\u001b[1;32m      1\u001b[0m \u001b[0;32mimport\u001b[0m \u001b[0mpandas\u001b[0m \u001b[0;32mas\u001b[0m \u001b[0mpd\u001b[0m\u001b[0;34m\u001b[0m\u001b[0m\n\u001b[0;32m----> 2\u001b[0;31m \u001b[0;32mfrom\u001b[0m \u001b[0mJupyter\u001b[0m\u001b[0;34m.\u001b[0m\u001b[0mdisplay\u001b[0m \u001b[0;32mimport\u001b[0m \u001b[0mdisplay\u001b[0m\u001b[0;34m\u001b[0m\u001b[0m\n\u001b[0m\u001b[1;32m      3\u001b[0m \u001b[0;34m\u001b[0m\u001b[0m\n\u001b[1;32m      4\u001b[0m \u001b[0mme\u001b[0m \u001b[0;34m=\u001b[0m \u001b[0mpd\u001b[0m\u001b[0;34m.\u001b[0m\u001b[0mread_csv\u001b[0m\u001b[0;34m(\u001b[0m\u001b[0;34m\"MeasurementError.csv\"\u001b[0m\u001b[0;34m)\u001b[0m\u001b[0;34m\u001b[0m\u001b[0m\n\u001b[1;32m      5\u001b[0m \u001b[0mdisplay\u001b[0m\u001b[0;34m(\u001b[0m\u001b[0mme\u001b[0m\u001b[0;34m)\u001b[0m\u001b[0;34m\u001b[0m\u001b[0m\n",
      "\u001b[0;31mImportError\u001b[0m: No module named Jupyter.display"
     ]
    }
   ],
   "source": [
    "import pandas as pd\n",
    "from Jupyter.display import display\n",
    "\n",
    "me = pd.read_csv(\"MeasurementError.csv\")\n",
    "display(me)\n",
    "me[\"Error\"].plot(kind=\"bar\")"
   ]
  },
  {
   "cell_type": "code",
   "execution_count": null,
   "metadata": {
    "collapsed": false
   },
   "outputs": [],
   "source": []
  }
 ],
 "metadata": {
  "kernelspec": {
   "display_name": "Python 2",
   "language": "python",
   "name": "python2"
  },
  "language_info": {
   "codemirror_mode": {
    "name": "ipython",
    "version": 2
   },
   "file_extension": ".py",
   "mimetype": "text/x-python",
   "name": "python",
   "nbconvert_exporter": "python",
   "pygments_lexer": "ipython2",
   "version": "2.7.10"
  }
 },
 "nbformat": 4,
 "nbformat_minor": 0
}
