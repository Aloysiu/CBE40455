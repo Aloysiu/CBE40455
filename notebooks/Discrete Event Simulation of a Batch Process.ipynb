{
 "cells": [
  {
   "cell_type": "markdown",
   "metadata": {},
   "source": [
    "##### The latest version of this Jupyter notebook is available at [http://github.com/jckantor/CBE40455](http://github.com/jckantor/CBE20255)  for noncommercial use under terms of the [Creative Commons Attribution Noncommericial ShareAlike License](http://creativecommons.org/licenses/by-nc-sa/4.0/).\n",
    "\n",
    "J.C. Kantor (Kantor.1@nd.edu)\n",
    "\n",
    "# Discrete Event Simulation of a Batch Process\n",
    "\n",
    "The simulation of batch processes as discrete event systems has a history in chemical engineering.  Special purpose software tools, including GPSS, Simula, and SLAM, have used to investigate the performance and design of batch processes since the 1960's.\n",
    "\n",
    "Here we consider a simple example of a batch chemical process as described by [Schultheisz and Sommerfeld (1988)](http://ufdc.ufl.edu/AA00000383/00098/44).\n",
    "\n",
    "![](../img/DES_Batch_Process.png)\n",
    "\n",
    "The plant produces a single a product in reponse to customer orders. Customer orders arrive at random intervals uniformily distributed over a period of 115 +/- 30 minutes. The orders are held in a queue until one of three identical batch reactors can be assigned. The batch reaction time is 335 +/- 60 minutes. After completion, the batch is held in the reactor until an intermediate storage tank is available to take the batch.  The batch is feed from the storage tank to a batch distillation unit which takes 110 +/- 25 minutes to finish the product. The storage tank can hold one batch, and must be completely emptied before it is avaiable for the next batch.\n",
    "\n",
    "The purpose of the simulation is to determine the performance of the batch plant, and to do what-if studies to explore ways to improve process performance. Typical questions include:\n",
    "\n",
    "* What is the average length of time an order waits in the reactor queue, and is that length statistically stationary or is it growing in time?\n",
    "* What is average time from arrival of an order to customer fullfillment?\n",
    "* How long are the reactors held up by waiting for the availability of the storage tank?\n",
    "* Would performance be improved by adding additional reactor(s)? An additional storage tank?  An additional still?\n",
    "* How much will performance deteriorate if we add a clean out step before returning each reactor or the storage tank for reuse?\n",
    "* What is the impact of occasional failures in the batch reactor equipment?"
   ]
  },
  {
   "cell_type": "markdown",
   "metadata": {},
   "source": [
    "## Model Development in SimPy\n",
    "\n",
    "[SimPy](https://bitbucket.org/simpy/simpy/) is a framework developed in Python using concepts from Simula and Simscript for the simulation of discrete-event systems. SimPy relies on Python's `yield` statement to [create generators](https://pythontips.com/2013/09/29/the-python-yield-keyword-explained/) that mimic event driven dynamics of the systems being simulated.\n",
    "\n",
    "The first step in model development with SimPy is to import the appropriate development libraries. With SimPy is often useful to include the `random` library for developing stochastic applications."
   ]
  },
  {
   "cell_type": "code",
   "execution_count": 1,
   "metadata": {
    "collapsed": true
   },
   "outputs": [],
   "source": [
    "%matplotlib inline\n",
    "import matplotlib.pyplot as plt\n",
    "import pandas as pd\n",
    "\n",
    "import random\n",
    "import itertools\n",
    "import simpy"
   ]
  },
  {
   "cell_type": "markdown",
   "metadata": {},
   "source": [
    "The first step in any SimPy simulation is to setup the simulation environment and define any shared resources that may be used in the course of the simulation."
   ]
  },
  {
   "cell_type": "code",
   "execution_count": 2,
   "metadata": {
    "collapsed": true
   },
   "outputs": [],
   "source": [
    "env = simpy.Environment()"
   ]
  },
  {
   "cell_type": "markdown",
   "metadata": {},
   "source": [
    "In this application, the batch process is conceptually modeled as a sequence of components that process individual orders. Here we use the SimPy [Store](http://simpy.readthedocs.io/en/latest/api_reference/simpy.resources.html) primative to describe the reactor queue and storage tank. These components will accept orders corresponding to batches, and process them on a first-in, first-out (FIFO) basis.  We'll put no upper limit on the orders that can be stored in the reactor queue, but we will establish the storage tank so that it can accept only one batch at a time."
   ]
  },
  {
   "cell_type": "code",
   "execution_count": 3,
   "metadata": {
    "collapsed": true
   },
   "outputs": [],
   "source": [
    "N_STORAGE_TANKS = 1\n",
    "\n",
    "reactor_queue = simpy.Store(env)\n",
    "storage_tank = simpy.Store(env,N_STORAGE_TANKS)"
   ]
  },
  {
   "cell_type": "markdown",
   "metadata": {},
   "source": [
    "Next we turn to the process that will generate the customer orders. The function `order_generator` begins by initializing a counter that will be used to assigned a consecutive order numbers, after which `order_generator` enters a loop that will create a total of 100 orders for the simulation.\n",
    "\n",
    "At the start of each loop, `order_generator` issues a yield statement that will return control back to the simulation for a simulated period extending into the future. The period is given by a random number uniformly distributed in the range 115 +/- 30 minutes. \n",
    "\n",
    "Technically speaking, the `yield` statement defines the function as a generator of events, and provides the means for `order_generator` to communicate with other processes and to be controlled by the simulation environment. At least one `yield` statement is needed in every function that will simulate a SimPy process.\n",
    "\n",
    "Once control returns to `order_generator`, the order counter is incremented and a second yield used to request the simuation environment put the order into the reactor queue. On return the order_generator completes the loop by writing an entry into the simulation log.\n",
    "\n",
    "The `env.process()` creates order generator within the simulation environment. The actual simulation, however, happens later when we use `env.run()` after creating the other needed processes for this application. "
   ]
  },
  {
   "cell_type": "code",
   "execution_count": 4,
   "metadata": {
    "collapsed": false
   },
   "outputs": [
    {
     "data": {
      "text/plain": [
       "<Process(order_generator) object at 0x10f441f28>"
      ]
     },
     "execution_count": 4,
     "metadata": {},
     "output_type": "execute_result"
    }
   ],
   "source": [
    "def order_generator(env,reactor_queue):\n",
    "    orderID = 0\n",
    "    while orderID < 100:\n",
    "        yield env.timeout(random.uniform(115-30,115+30))\n",
    "        orderID += 1\n",
    "        yield reactor_queue.put(orderID)\n",
    "        writeLog(env, orderID, 'Stage 0', 'Queue')\n",
    "        \n",
    "env.process(order_generator(env,reactor_queue))"
   ]
  },
  {
   "cell_type": "markdown",
   "metadata": {},
   "source": [
    "The user is responsible for managing the logging of simulation events.  A simple but useful approach is to initialize a Python list, then append data containing a description of the event and time at which it occurred. Later we'll see how to process this log to get the desired process performance indicators."
   ]
  },
  {
   "cell_type": "code",
   "execution_count": 5,
   "metadata": {
    "collapsed": true
   },
   "outputs": [],
   "source": [
    "log = []\n",
    "def writeLog(env, orderID, stage, event):\n",
    "    log.append([orderID, stage, event, env.now])"
   ]
  },
  {
   "cell_type": "markdown",
   "metadata": {},
   "source": [
    "Next we create a function `batch_reactor` that will be use to create processes corresponding to each of the three batch reactors. Each reactor is assigned a unique name so they can be distinguished in the simulation log.\n",
    "\n",
    "The batch reactors have three interactions with the simulation environment. The first is to get an orderID from the reactor_queue. The batch_reactor yields to the simulation environment until an order is ready for processing. Once the processing can start, and suitable event is written to the log, the process waits a period of time corresponding the length of the reaction, and the order put into the storage_tank.  The reactor will wait until the storage tank is ready to accept a new batch.\n",
    "\n",
    "`env.process()` is called three times to put three copies of the batch_reactor process into the simulation environment."
   ]
  },
  {
   "cell_type": "code",
   "execution_count": 6,
   "metadata": {
    "collapsed": false
   },
   "outputs": [
    {
     "data": {
      "text/plain": [
       "<Process(batch_reactor) object at 0x10f4591d0>"
      ]
     },
     "execution_count": 6,
     "metadata": {},
     "output_type": "execute_result"
    }
   ],
   "source": [
    "def batch_reactor(name, env, reactor_queue, storage_tank):\n",
    "    while True:\n",
    "        orderID = yield reactor_queue.get()\n",
    "        writeLog(env, orderID, 'Stage 1', name)\n",
    "        yield env.timeout(random.uniform(335-60,335+60))\n",
    "        writeLog(env, orderID, 'Stage 2', name)\n",
    "        yield storage_tank.put(orderID)\n",
    "        writeLog(env, orderID, 'Stage 3', 'Storage')\n",
    "        \n",
    "env.process(batch_reactor('Reactor A', env, reactor_queue, storage_tank))\n",
    "env.process(batch_reactor('Reactor B', env, reactor_queue, storage_tank))\n",
    "env.process(batch_reactor('Reactor C', env, reactor_queue, storage_tank))"
   ]
  },
  {
   "cell_type": "markdown",
   "metadata": {},
   "source": [
    "The last process to model is the batch still. Similar to the reactor model, `batch_still` yields control while waiting for an orderID to be retrieved from a preceding unit. Once an order has been received from the storage_tank, a message is written to the simulation log, time is yielded to the simulation environment corresponding to the time required for distillation, and then a final completion message is written to the log."
   ]
  },
  {
   "cell_type": "code",
   "execution_count": 7,
   "metadata": {
    "collapsed": false
   },
   "outputs": [
    {
     "data": {
      "text/plain": [
       "<Process(batch_still) object at 0x10f459550>"
      ]
     },
     "execution_count": 7,
     "metadata": {},
     "output_type": "execute_result"
    }
   ],
   "source": [
    "def batch_still(name, env, storage_tank):\n",
    "    while True:\n",
    "        orderID = yield storage_tank.get()\n",
    "        writeLog(env, orderID, 'Stage 4', name)\n",
    "        yield env.timeout(random.uniform(110-25,110+25))\n",
    "        writeLog(env, orderID, 'Stage 5', 'complete')\n",
    "\n",
    "env.process(batch_still('Still A', env, storage_tank))"
   ]
  },
  {
   "cell_type": "markdown",
   "metadata": {},
   "source": [
    "We're now ready to run the the simulation.  In this case the simulation is limited to the 100 orders generated in the `order_generator` process. Simulation is complete once all of the resulting events have been processed."
   ]
  },
  {
   "cell_type": "code",
   "execution_count": 8,
   "metadata": {
    "collapsed": false,
    "scrolled": false
   },
   "outputs": [
    {
     "name": "stdout",
     "output_type": "stream",
     "text": [
      "Simulation complete.\n",
      "600  messages have been logged.\n"
     ]
    }
   ],
   "source": [
    "env.run()\n",
    "\n",
    "print('Simulation complete.')\n",
    "print(len(log), ' messages have been logged.')"
   ]
  },
  {
   "cell_type": "markdown",
   "metadata": {},
   "source": [
    "## Processing the Simulation Log"
   ]
  },
  {
   "cell_type": "code",
   "execution_count": 9,
   "metadata": {
    "collapsed": false,
    "scrolled": true
   },
   "outputs": [],
   "source": [
    "def process_log(log):\n",
    "\n",
    "    df = pd.DataFrame([[a,b,c,t] for (a,b,c,t) in log])\n",
    "    df = df.pivot(index=0,columns=1,values=3).reset_index()\n",
    "    df = df.set_index([0]).dropna()\n",
    "    df.index.rename('OrderID',inplace=True)\n",
    "\n",
    "    stage1 = df['Stage 1']-df['Stage 0']\n",
    "    stage2 = df['Stage 2']-df['Stage 1']\n",
    "    stage3 = df['Stage 3']-df['Stage 2']\n",
    "    stage4 = df['Stage 4']-df['Stage 3']\n",
    "    stage5 = df['Stage 5']-df['Stage 4']\n",
    "\n",
    "    print('Mean Order Completion = {0:6.1f} min.\\n'.format((df['Stage 5'] - df['Stage 0']).mean()))\n",
    "\n",
    "    print('Mean Time in Process Stages:\\n')\n",
    "    print('     Reactor Queue = {0:6.1f} min.'.format(stage1.mean()))\n",
    "    print('          Reactors = {0:6.1f} min.'.format(stage2.mean()))\n",
    "    print('    Reactor Holdup = {0:6.1f} min.'.format(stage3.mean()))\n",
    "    print('           Storage = {0:6.1f} min.'.format(stage4.mean()))\n",
    "    print('             Still = {0:6.1f} min.'.format(stage5.mean()))\n",
    "\n",
    "    print('\\nUtilization\\n')\n",
    "    print('Reactor Utilization = {0:5.3f}'.format(stage2.sum()/3.0/(df['Stage 2'].max()-df['Stage 2'].min())))\n",
    "    print('  Still Utilization = {0:5.3f}'.format(stage5.sum()/(df['Stage 5'].max()-df['Stage 5'].min())))\n",
    "    \n",
    "    stage1.hist(bins=30)\n",
    "    plt.title('Distribution of Reactor Queue Times')\n",
    "    plt.ylabel('Count')\n",
    "    plt.xlabel('Minutes')"
   ]
  },
  {
   "cell_type": "code",
   "execution_count": 10,
   "metadata": {
    "collapsed": false
   },
   "outputs": [
    {
     "name": "stdout",
     "output_type": "stream",
     "text": [
      "Mean Order Completion =  609.3 min.\n",
      "\n",
      "Mean Time in Process Stages:\n",
      "\n",
      "     Reactor Queue =   98.4 min.\n",
      "          Reactors =  338.6 min.\n",
      "    Reactor Holdup =    4.5 min.\n",
      "           Storage =   57.7 min.\n",
      "             Still =  110.2 min.\n",
      "\n",
      "Utilization\n",
      "\n",
      "Reactor Utilization = 0.994\n",
      "  Still Utilization = 0.959\n"
     ]
    },
    {
     "data": {
      "image/png": "[encoded data removed]",
      "text/plain": [
       "<matplotlib.figure.Figure at 0x10f459c18>"
      ]
     },
     "metadata": {},
     "output_type": "display_data"
    }
   ],
   "source": [
    "process_log(log)"
   ]
  },
  {
   "cell_type": "markdown",
   "metadata": {},
   "source": [
    "## Encapsulating a Process as a Python Class\n",
    "\n",
    "A SimPy process can hold a lot of parts! For that reason it is often convenient to encapsulate a process into a Python class that can handle the initialization of simulation environment, setting up a simulation log, and functions to return desired performance indicators. \n",
    "\n",
    "This is demonstrated here for the batch process application. An extra feature has been added where the number of reactors can be specified to allow a parametric study of the process design. "
   ]
  },
  {
   "cell_type": "code",
   "execution_count": 11,
   "metadata": {
    "collapsed": false,
    "scrolled": false
   },
   "outputs": [
    {
     "name": "stdout",
     "output_type": "stream",
     "text": [
      "Mean Order Completion =  531.6 min.\n",
      "\n",
      "Mean Time in Process Stages:\n",
      "\n",
      "     Reactor Queue =   43.4 min.\n",
      "          Reactors =  338.8 min.\n",
      "    Reactor Holdup =    1.4 min.\n",
      "           Storage =   36.4 min.\n",
      "             Still =  111.5 min.\n",
      "\n",
      "Utilization\n",
      "\n",
      "Reactor Utilization = 0.969\n",
      "  Still Utilization = 0.950\n"
     ]
    },
    {
     "data": {
      "image/png": "[encoded data removed]",
      "text/plain": [
       "<matplotlib.figure.Figure at 0x11329f668>"
      ]
     },
     "metadata": {},
     "output_type": "display_data"
    }
   ],
   "source": [
    "class batch_process(object):\n",
    "    \n",
    "    def __init__(self, N_ORDERS=100, N_REACTORS = 3):\n",
    "        self.env = simpy.Environment()\n",
    "        self.log = []\n",
    "        self.reactor_queue = simpy.Store(self.env)\n",
    "        self.storage_tank = simpy.Store(self.env,1)\n",
    "        self.env.process(self.order_generator(N_ORDERS))\n",
    "        for n in range(1,N_REACTORS+1):\n",
    "            name = 'Reactor_{0:d}'.format(n)\n",
    "            self.env.process(self.batch_reactor(name))\n",
    "        self.env.process(self.batch_still('Still'))\n",
    "        \n",
    "    def writeLog(self, orderID, stage, event):\n",
    "        self.log.append([orderID, stage, event, self.env.now])\n",
    "        \n",
    "    def order_generator(self,N_ORDERS):\n",
    "        orderID = 0\n",
    "        while orderID < N_ORDERS:\n",
    "            yield self.env.timeout(random.uniform(115-30,115+30))\n",
    "            orderID += 1\n",
    "            yield self.reactor_queue.put(orderID)\n",
    "            self.writeLog(orderID, 'Stage 0', 'Queue')\n",
    "            \n",
    "    def batch_reactor(self,name):\n",
    "        while True:\n",
    "            orderID = yield self.reactor_queue.get()\n",
    "            self.writeLog(orderID, 'Stage 1', name)\n",
    "            yield self.env.timeout(random.uniform(335-60,335+60))\n",
    "            self.writeLog(orderID, 'Stage 2', name)\n",
    "            yield self.storage_tank.put(orderID)\n",
    "            self.writeLog(orderID, 'Stage 3', 'Storage')\n",
    "\n",
    "    def batch_still(self,name):\n",
    "        while True:\n",
    "            orderID = yield self.storage_tank.get()\n",
    "            self.writeLog(orderID, 'Stage 4', name)\n",
    "            yield self.env.timeout(random.uniform(110-25,110+25))\n",
    "            self.writeLog(orderID, 'Stage 5', 'complete')\n",
    "            \n",
    "    def process_log(self):\n",
    "        df = pd.DataFrame([[a,b,c,t] for (a,b,c,t) in self.log])\n",
    "        df = df.pivot(index=0,columns=1,values=3).reset_index()\n",
    "        df = df.set_index([0]).dropna()\n",
    "        df.index.rename('OrderID',inplace=True)\n",
    "\n",
    "        stage1 = df['Stage 1']-df['Stage 0']\n",
    "        stage2 = df['Stage 2']-df['Stage 1']\n",
    "        stage3 = df['Stage 3']-df['Stage 2']\n",
    "        stage4 = df['Stage 4']-df['Stage 3']\n",
    "        stage5 = df['Stage 5']-df['Stage 4']\n",
    "\n",
    "        print('Mean Order Completion = {0:6.1f} min.\\n'.format((df['Stage 5'] - df['Stage 0']).mean()))\n",
    "\n",
    "        print('Mean Time in Process Stages:\\n')\n",
    "        print('     Reactor Queue = {0:6.1f} min.'.format(stage1.mean()))\n",
    "        print('          Reactors = {0:6.1f} min.'.format(stage2.mean()))\n",
    "        print('    Reactor Holdup = {0:6.1f} min.'.format(stage3.mean()))\n",
    "        print('           Storage = {0:6.1f} min.'.format(stage4.mean()))\n",
    "        print('             Still = {0:6.1f} min.'.format(stage5.mean()))\n",
    "\n",
    "        print('\\nUtilization\\n')\n",
    "        print('Reactor Utilization = {0:5.3f}'.format(stage2.sum()/3.0/(df['Stage 2'].max()-df['Stage 2'].min())))\n",
    "        print('  Still Utilization = {0:5.3f}'.format(stage5.sum()/(df['Stage 5'].max()-df['Stage 5'].min())))\n",
    "    \n",
    "        stage1.hist(bins=30)\n",
    "        plt.title('Distribution of Reactor Queue Times')\n",
    "        plt.ylabel('Count')\n",
    "        plt.xlabel('Minutes')        \n",
    "            \n",
    "    def run(self):\n",
    "        self.env.run()\n",
    "                  \n",
    "            \n",
    "b = batch_process(N_REACTORS=3)         \n",
    "b.run()\n",
    "b.process_log()\n",
    "        "
   ]
  },
  {
   "cell_type": "markdown",
   "metadata": {},
   "source": [
    "\n",
    "## References\n",
    "\n",
    "Engell, Sebastian. \"Introduction to the Special Issue on Discrete Event Models of Continuous Systems.\" Mathematical and Computer Modeling of Dynamical Systems, Vol. 6, No. 1, pp 3-5 (2010).\n",
    "\n",
    "Schultheisz, Daniel, and Jude T. Sommerfeld. \"Discrete-Event Simulation in Chemical Engineering.\" Chemical Engineering Education 22.2 (1988): 98-102.\n"
   ]
  },
  {
   "cell_type": "code",
   "execution_count": null,
   "metadata": {
    "collapsed": true
   },
   "outputs": [],
   "source": []
  }
 ],
 "metadata": {
  "kernelspec": {
   "display_name": "Python [conda root]",
   "language": "python",
   "name": "conda-root-py"
  },
  "language_info": {
   "codemirror_mode": {
    "name": "ipython",
    "version": 3
   },
   "file_extension": ".py",
   "mimetype": "text/x-python",
   "name": "python",
   "nbconvert_exporter": "python",
   "pygments_lexer": "ipython3",
   "version": "3.5.2"
  }
 },
 "nbformat": 4,
 "nbformat_minor": 2
}
