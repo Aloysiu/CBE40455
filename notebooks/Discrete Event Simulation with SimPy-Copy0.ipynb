{
 "metadata": {
  "name": ""
 },
 "nbformat": 3,
 "nbformat_minor": 0,
 "worksheets": [
  {
   "cells": [
    {
     "cell_type": "heading",
     "level": 1,
     "metadata": {},
     "source": [
      "Discrete Event Simulation with SimPy"
     ]
    },
    {
     "cell_type": "heading",
     "level": 2,
     "metadata": {},
     "source": [
      "Installation"
     ]
    },
    {
     "cell_type": "code",
     "collapsed": false,
     "input": [
      "!pip install simpy\n",
      "import simpy\n",
      "simpy.test()"
     ],
     "language": "python",
     "metadata": {},
     "outputs": [
      {
       "output_type": "stream",
       "stream": "stdout",
       "text": [
        "Requirement already satisfied (use --upgrade to upgrade): simpy in /Applications/anaconda/lib/python2.7/site-packages\r\n",
        "Cleaning up...\r\n"
       ]
      },
      {
       "output_type": "stream",
       "stream": "stdout",
       "text": [
        "============================= test session starts =============================="
       ]
      },
      {
       "output_type": "stream",
       "stream": "stdout",
       "text": [
        "\n"
       ]
      },
      {
       "output_type": "stream",
       "stream": "stdout",
       "text": [
        "platform darwin -- Python 2.7.6 -- py-1.4.20 -- pytest-2.5.2"
       ]
      },
      {
       "output_type": "stream",
       "stream": "stdout",
       "text": [
        "\n"
       ]
      },
      {
       "output_type": "stream",
       "stream": "stdout",
       "text": [
        "collected 112 items"
       ]
      },
      {
       "output_type": "stream",
       "stream": "stdout",
       "text": [
        "\n"
       ]
      },
      {
       "output_type": "stream",
       "stream": "stdout",
       "text": [
        "\n"
       ]
      },
      {
       "output_type": "stream",
       "stream": "stdout",
       "text": [
        "../../../../../../Applications/anaconda/lib/python2.7/site-packages/simpy/test/test_condition.py "
       ]
      },
      {
       "output_type": "stream",
       "stream": "stdout",
       "text": [
        "."
       ]
      },
      {
       "output_type": "stream",
       "stream": "stdout",
       "text": [
        "."
       ]
      },
      {
       "output_type": "stream",
       "stream": "stdout",
       "text": [
        "."
       ]
      },
      {
       "output_type": "stream",
       "stream": "stdout",
       "text": [
        "."
       ]
      },
      {
       "output_type": "stream",
       "stream": "stdout",
       "text": [
        "."
       ]
      },
      {
       "output_type": "stream",
       "stream": "stdout",
       "text": [
        "."
       ]
      },
      {
       "output_type": "stream",
       "stream": "stdout",
       "text": [
        "."
       ]
      },
      {
       "output_type": "stream",
       "stream": "stdout",
       "text": [
        "."
       ]
      },
      {
       "output_type": "stream",
       "stream": "stdout",
       "text": [
        "."
       ]
      },
      {
       "output_type": "stream",
       "stream": "stdout",
       "text": [
        "."
       ]
      },
      {
       "output_type": "stream",
       "stream": "stdout",
       "text": [
        "."
       ]
      },
      {
       "output_type": "stream",
       "stream": "stdout",
       "text": [
        "."
       ]
      },
      {
       "output_type": "stream",
       "stream": "stdout",
       "text": [
        "."
       ]
      },
      {
       "output_type": "stream",
       "stream": "stdout",
       "text": [
        "."
       ]
      },
      {
       "output_type": "stream",
       "stream": "stdout",
       "text": [
        "."
       ]
      },
      {
       "output_type": "stream",
       "stream": "stdout",
       "text": [
        "\n"
       ]
      },
      {
       "output_type": "stream",
       "stream": "stdout",
       "text": [
        "../../../../../../Applications/anaconda/lib/python2.7/site-packages/simpy/test/test_environment.py "
       ]
      },
      {
       "output_type": "stream",
       "stream": "stdout",
       "text": [
        "."
       ]
      },
      {
       "output_type": "stream",
       "stream": "stdout",
       "text": [
        "."
       ]
      },
      {
       "output_type": "stream",
       "stream": "stdout",
       "text": [
        "."
       ]
      },
      {
       "output_type": "stream",
       "stream": "stdout",
       "text": [
        "."
       ]
      },
      {
       "output_type": "stream",
       "stream": "stdout",
       "text": [
        "\n"
       ]
      },
      {
       "output_type": "stream",
       "stream": "stdout",
       "text": [
        "../../../../../../Applications/anaconda/lib/python2.7/site-packages/simpy/test/test_event.py "
       ]
      },
      {
       "output_type": "stream",
       "stream": "stdout",
       "text": [
        "."
       ]
      },
      {
       "output_type": "stream",
       "stream": "stdout",
       "text": [
        "."
       ]
      },
      {
       "output_type": "stream",
       "stream": "stdout",
       "text": [
        "."
       ]
      },
      {
       "output_type": "stream",
       "stream": "stdout",
       "text": [
        "."
       ]
      },
      {
       "output_type": "stream",
       "stream": "stdout",
       "text": [
        "."
       ]
      },
      {
       "output_type": "stream",
       "stream": "stdout",
       "text": [
        "."
       ]
      },
      {
       "output_type": "stream",
       "stream": "stdout",
       "text": [
        "\n"
       ]
      },
      {
       "output_type": "stream",
       "stream": "stdout",
       "text": [
        "../../../../../../Applications/anaconda/lib/python2.7/site-packages/simpy/test/test_exceptions.py "
       ]
      },
      {
       "output_type": "stream",
       "stream": "stdout",
       "text": [
        "."
       ]
      },
      {
       "output_type": "stream",
       "stream": "stdout",
       "text": [
        "."
       ]
      },
      {
       "output_type": "stream",
       "stream": "stdout",
       "text": [
        "."
       ]
      },
      {
       "output_type": "stream",
       "stream": "stdout",
       "text": [
        "s"
       ]
      },
      {
       "output_type": "stream",
       "stream": "stdout",
       "text": [
        "."
       ]
      },
      {
       "output_type": "stream",
       "stream": "stdout",
       "text": [
        "."
       ]
      },
      {
       "output_type": "stream",
       "stream": "stdout",
       "text": [
        "."
       ]
      },
      {
       "output_type": "stream",
       "stream": "stdout",
       "text": [
        "."
       ]
      },
      {
       "output_type": "stream",
       "stream": "stdout",
       "text": [
        "\n"
       ]
      },
      {
       "output_type": "stream",
       "stream": "stdout",
       "text": [
        "../../../../../../Applications/anaconda/lib/python2.7/site-packages/simpy/test/test_interrupts.py "
       ]
      },
      {
       "output_type": "stream",
       "stream": "stdout",
       "text": [
        "."
       ]
      },
      {
       "output_type": "stream",
       "stream": "stdout",
       "text": [
        "."
       ]
      },
      {
       "output_type": "stream",
       "stream": "stdout",
       "text": [
        "."
       ]
      },
      {
       "output_type": "stream",
       "stream": "stdout",
       "text": [
        "."
       ]
      },
      {
       "output_type": "stream",
       "stream": "stdout",
       "text": [
        "."
       ]
      },
      {
       "output_type": "stream",
       "stream": "stdout",
       "text": [
        "."
       ]
      },
      {
       "output_type": "stream",
       "stream": "stdout",
       "text": [
        "."
       ]
      },
      {
       "output_type": "stream",
       "stream": "stdout",
       "text": [
        "."
       ]
      },
      {
       "output_type": "stream",
       "stream": "stdout",
       "text": [
        "."
       ]
      },
      {
       "output_type": "stream",
       "stream": "stdout",
       "text": [
        "."
       ]
      },
      {
       "output_type": "stream",
       "stream": "stdout",
       "text": [
        "\n"
       ]
      },
      {
       "output_type": "stream",
       "stream": "stdout",
       "text": [
        "../../../../../../Applications/anaconda/lib/python2.7/site-packages/simpy/test/test_process.py "
       ]
      },
      {
       "output_type": "stream",
       "stream": "stdout",
       "text": [
        "."
       ]
      },
      {
       "output_type": "stream",
       "stream": "stdout",
       "text": [
        "."
       ]
      },
      {
       "output_type": "stream",
       "stream": "stdout",
       "text": [
        "."
       ]
      },
      {
       "output_type": "stream",
       "stream": "stdout",
       "text": [
        "."
       ]
      },
      {
       "output_type": "stream",
       "stream": "stdout",
       "text": [
        "."
       ]
      },
      {
       "output_type": "stream",
       "stream": "stdout",
       "text": [
        "s"
       ]
      },
      {
       "output_type": "stream",
       "stream": "stdout",
       "text": [
        "."
       ]
      },
      {
       "output_type": "stream",
       "stream": "stdout",
       "text": [
        "."
       ]
      },
      {
       "output_type": "stream",
       "stream": "stdout",
       "text": [
        "."
       ]
      },
      {
       "output_type": "stream",
       "stream": "stdout",
       "text": [
        "."
       ]
      },
      {
       "output_type": "stream",
       "stream": "stdout",
       "text": [
        "."
       ]
      },
      {
       "output_type": "stream",
       "stream": "stdout",
       "text": [
        "\n"
       ]
      },
      {
       "output_type": "stream",
       "stream": "stdout",
       "text": [
        "../../../../../../Applications/anaconda/lib/python2.7/site-packages/simpy/test/test_resources.py "
       ]
      },
      {
       "output_type": "stream",
       "stream": "stdout",
       "text": [
        "."
       ]
      },
      {
       "output_type": "stream",
       "stream": "stdout",
       "text": [
        "."
       ]
      },
      {
       "output_type": "stream",
       "stream": "stdout",
       "text": [
        "."
       ]
      },
      {
       "output_type": "stream",
       "stream": "stdout",
       "text": [
        "."
       ]
      },
      {
       "output_type": "stream",
       "stream": "stdout",
       "text": [
        "."
       ]
      },
      {
       "output_type": "stream",
       "stream": "stdout",
       "text": [
        "."
       ]
      },
      {
       "output_type": "stream",
       "stream": "stdout",
       "text": [
        "."
       ]
      },
      {
       "output_type": "stream",
       "stream": "stdout",
       "text": [
        "."
       ]
      },
      {
       "output_type": "stream",
       "stream": "stdout",
       "text": [
        "."
       ]
      },
      {
       "output_type": "stream",
       "stream": "stdout",
       "text": [
        "."
       ]
      },
      {
       "output_type": "stream",
       "stream": "stdout",
       "text": [
        "."
       ]
      },
      {
       "output_type": "stream",
       "stream": "stdout",
       "text": [
        "."
       ]
      },
      {
       "output_type": "stream",
       "stream": "stdout",
       "text": [
        "."
       ]
      },
      {
       "output_type": "stream",
       "stream": "stdout",
       "text": [
        "."
       ]
      },
      {
       "output_type": "stream",
       "stream": "stdout",
       "text": [
        "."
       ]
      },
      {
       "output_type": "stream",
       "stream": "stdout",
       "text": [
        "."
       ]
      },
      {
       "output_type": "stream",
       "stream": "stdout",
       "text": [
        "."
       ]
      },
      {
       "output_type": "stream",
       "stream": "stdout",
       "text": [
        "."
       ]
      },
      {
       "output_type": "stream",
       "stream": "stdout",
       "text": [
        "."
       ]
      },
      {
       "output_type": "stream",
       "stream": "stdout",
       "text": [
        "."
       ]
      },
      {
       "output_type": "stream",
       "stream": "stdout",
       "text": [
        "."
       ]
      },
      {
       "output_type": "stream",
       "stream": "stdout",
       "text": [
        "."
       ]
      },
      {
       "output_type": "stream",
       "stream": "stdout",
       "text": [
        "."
       ]
      },
      {
       "output_type": "stream",
       "stream": "stdout",
       "text": [
        "."
       ]
      },
      {
       "output_type": "stream",
       "stream": "stdout",
       "text": [
        "."
       ]
      },
      {
       "output_type": "stream",
       "stream": "stdout",
       "text": [
        "."
       ]
      },
      {
       "output_type": "stream",
       "stream": "stdout",
       "text": [
        "."
       ]
      },
      {
       "output_type": "stream",
       "stream": "stdout",
       "text": [
        "."
       ]
      },
      {
       "output_type": "stream",
       "stream": "stdout",
       "text": [
        "\n"
       ]
      },
      {
       "output_type": "stream",
       "stream": "stdout",
       "text": [
        "../../../../../../Applications/anaconda/lib/python2.7/site-packages/simpy/test/test_rt.py "
       ]
      },
      {
       "output_type": "stream",
       "stream": "stdout",
       "text": [
        "."
       ]
      },
      {
       "output_type": "stream",
       "stream": "stdout",
       "text": [
        "."
       ]
      },
      {
       "output_type": "stream",
       "stream": "stdout",
       "text": [
        "."
       ]
      },
      {
       "output_type": "stream",
       "stream": "stdout",
       "text": [
        "."
       ]
      },
      {
       "output_type": "stream",
       "stream": "stdout",
       "text": [
        "."
       ]
      },
      {
       "output_type": "stream",
       "stream": "stdout",
       "text": [
        "."
       ]
      },
      {
       "output_type": "stream",
       "stream": "stdout",
       "text": [
        "."
       ]
      },
      {
       "output_type": "stream",
       "stream": "stdout",
       "text": [
        "\n"
       ]
      },
      {
       "output_type": "stream",
       "stream": "stdout",
       "text": [
        "../../../../../../Applications/anaconda/lib/python2.7/site-packages/simpy/test/test_timeout.py "
       ]
      },
      {
       "output_type": "stream",
       "stream": "stdout",
       "text": [
        "."
       ]
      },
      {
       "output_type": "stream",
       "stream": "stdout",
       "text": [
        "."
       ]
      },
      {
       "output_type": "stream",
       "stream": "stdout",
       "text": [
        "."
       ]
      },
      {
       "output_type": "stream",
       "stream": "stdout",
       "text": [
        "."
       ]
      },
      {
       "output_type": "stream",
       "stream": "stdout",
       "text": [
        "."
       ]
      },
      {
       "output_type": "stream",
       "stream": "stdout",
       "text": [
        "\n"
       ]
      },
      {
       "output_type": "stream",
       "stream": "stdout",
       "text": [
        "../../../../../../Applications/anaconda/lib/python2.7/site-packages/simpy/test/test_util.py "
       ]
      },
      {
       "output_type": "stream",
       "stream": "stdout",
       "text": [
        "."
       ]
      },
      {
       "output_type": "stream",
       "stream": "stdout",
       "text": [
        "."
       ]
      },
      {
       "output_type": "stream",
       "stream": "stdout",
       "text": [
        "."
       ]
      },
      {
       "output_type": "stream",
       "stream": "stdout",
       "text": [
        "."
       ]
      },
      {
       "output_type": "stream",
       "stream": "stdout",
       "text": [
        "."
       ]
      },
      {
       "output_type": "stream",
       "stream": "stdout",
       "text": [
        "."
       ]
      },
      {
       "output_type": "stream",
       "stream": "stdout",
       "text": [
        "."
       ]
      },
      {
       "output_type": "stream",
       "stream": "stdout",
       "text": [
        "."
       ]
      },
      {
       "output_type": "stream",
       "stream": "stdout",
       "text": [
        "."
       ]
      },
      {
       "output_type": "stream",
       "stream": "stdout",
       "text": [
        "."
       ]
      },
      {
       "output_type": "stream",
       "stream": "stdout",
       "text": [
        "."
       ]
      },
      {
       "output_type": "stream",
       "stream": "stdout",
       "text": [
        "."
       ]
      },
      {
       "output_type": "stream",
       "stream": "stdout",
       "text": [
        "."
       ]
      },
      {
       "output_type": "stream",
       "stream": "stdout",
       "text": [
        "."
       ]
      },
      {
       "output_type": "stream",
       "stream": "stdout",
       "text": [
        "."
       ]
      },
      {
       "output_type": "stream",
       "stream": "stdout",
       "text": [
        "."
       ]
      },
      {
       "output_type": "stream",
       "stream": "stdout",
       "text": [
        "."
       ]
      },
      {
       "output_type": "stream",
       "stream": "stdout",
       "text": [
        "."
       ]
      },
      {
       "output_type": "stream",
       "stream": "stdout",
       "text": [
        "\n"
       ]
      },
      {
       "output_type": "stream",
       "stream": "stdout",
       "text": [
        "\n"
       ]
      },
      {
       "output_type": "stream",
       "stream": "stdout",
       "text": [
        "==================== 110 passed, 2 skipped in 3.18 seconds ====================="
       ]
      },
      {
       "output_type": "stream",
       "stream": "stdout",
       "text": [
        "\n"
       ]
      }
     ],
     "prompt_number": 3
    },
    {
     "cell_type": "heading",
     "level": 3,
     "metadata": {},
     "source": [
      "Minimum SimPy Model"
     ]
    },
    {
     "cell_type": "markdown",
     "metadata": {},
     "source": [
      "Import SimPy, create a simulation environment, and run it for 10 times units. This doesn't do much because there are no proceses or resources in the environment, but it's a start. We'll run the simulation for 1440 minutes (i.e., 24 hours)."
     ]
    },
    {
     "cell_type": "code",
     "collapsed": false,
     "input": [
      "import simpy\n",
      "\n",
      "# create the simulation environment\n",
      "env = simpy.Environment()\n",
      "\n",
      "# start processes\n",
      "env.run(until=1440)"
     ],
     "language": "python",
     "metadata": {},
     "outputs": [],
     "prompt_number": 67
    },
    {
     "cell_type": "markdown",
     "metadata": {},
     "source": [
      "Let's add a process. A process is an ordered sequence of events. The process will consist of a single tire order which must pass through a sequence of events."
     ]
    },
    {
     "cell_type": "code",
     "collapsed": false,
     "input": [
      "import simpy\n",
      "\n",
      "def tireOrder(env):   \n",
      "    print \"Order Placed: {:4.1f}\".format(env.now)\n",
      "    yield env.timeout(5)\n",
      "    print \"   Laid Down: {:4.1f}\".format(env.now)\n",
      "    yield env.timeout(10)\n",
      "    print \"       Taped: {:4.1f}\".format(env.now)\n",
      "    yield env.timeout(2)\n",
      "    print \"    Strapped: {:4.1f}\".format(env.now)\n",
      "    yield env.timeout(2)\n",
      "    print \"     Shipped: {:4.1f}\".format(env.now)\n",
      "\n",
      "# create the simulation environment\n",
      "env = simpy.Environment()\n",
      "\n",
      "# create a tireOrder\n",
      "env.process(tireOrder(env))\n",
      "\n",
      "# run the simulation\n",
      "env.run(until=1440)"
     ],
     "language": "python",
     "metadata": {},
     "outputs": [
      {
       "output_type": "stream",
       "stream": "stdout",
       "text": [
        "Order Placed:  0.0\n",
        "   Laid Down:  5.0\n",
        "       Taped: 15.0\n",
        "    Strapped: 17.0\n",
        "     Shipped: 19.0\n"
       ]
      }
     ],
     "prompt_number": 71
    },
    {
     "cell_type": "markdown",
     "metadata": {},
     "source": [
      "One order isn't very interesting. Let's create a sequence of tire orders. We'll give tire order a unique name using `itertools.count()`."
     ]
    },
    {
     "cell_type": "code",
     "collapsed": false,
     "input": [
      "import simpy\n",
      "import itertools\n",
      "\n",
      "T_SIM = 120\n",
      "\n",
      "def tireOrder(env,name):   \n",
      "    print \"\\n {:>6.1f}: {:s} Placed\".format(env.now,name)\n",
      "    yield env.timeout(5)\n",
      "    print \" {:>6.1f}: {:s} Laid Down\".format(env.now,name)\n",
      "    yield env.timeout(10)\n",
      "    print \" {:>6.1f}: {:s} Taped\".format(env.now,name)\n",
      "    yield env.timeout(2)\n",
      "    print \" {:>6.1f}: {:s} Strapped\".format(env.now,name)\n",
      "    yield env.timeout(2)\n",
      "    print \" {:>6.1f}: {:s} Shipped\".format(env.now,name)\n",
      "\n",
      "def tireOrderGenerator(env):\n",
      "    for k in itertools.count():\n",
      "        yield env.timeout(30)\n",
      "        env.process(tireOrder(env,\"Order {:2d}\".format(k)))\n",
      "\n",
      "# create the simulation environment\n",
      "env = simpy.Environment()\n",
      "\n",
      "# create a tireOrder\n",
      "env.process(tireOrderGenerator(env))\n",
      "\n",
      "# run the simulation\n",
      "env.run(until=T_SIM)"
     ],
     "language": "python",
     "metadata": {},
     "outputs": [
      {
       "output_type": "stream",
       "stream": "stdout",
       "text": [
        "\n",
        "   30.0: Order  0 Placed\n",
        "   35.0: Order  0 Laid Down\n",
        "   45.0: Order  0 Taped\n",
        "   47.0: Order  0 Strapped\n",
        "   49.0: Order  0 Shipped\n",
        "\n",
        "   60.0: Order  1 Placed\n",
        "   65.0: Order  1 Laid Down\n",
        "   75.0: Order  1 Taped\n",
        "   77.0: Order  1 Strapped\n",
        "   79.0: Order  1 Shipped\n",
        "\n",
        "   90.0: Order  2 Placed\n",
        "   95.0: Order  2 Laid Down\n",
        "  105.0: Order  2 Taped\n",
        "  107.0: Order  2 Strapped\n",
        "  109.0: Order  2 Shipped\n"
       ]
      }
     ],
     "prompt_number": 34
    },
    {
     "cell_type": "markdown",
     "metadata": {},
     "source": [
      "Let's add some randomness to the order placement."
     ]
    },
    {
     "cell_type": "code",
     "collapsed": false,
     "input": [
      "import simpy\n",
      "import itertools\n",
      "import random\n",
      "\n",
      "T_ORDER = 30\n",
      "T_SIM = 120\n",
      "\n",
      "def tireOrder(env,name):   \n",
      "    print \" ***{:>6.1f}: {:s} Placed\".format(env.now,name)\n",
      "    yield env.timeout(5)\n",
      "    print \"    {:>6.1f}: {:s} Laid Down\".format(env.now,name)\n",
      "    yield env.timeout(10)\n",
      "    print \"    {:>6.1f}: {:s} Taped\".format(env.now,name)\n",
      "    yield env.timeout(2)\n",
      "    print \"    {:>6.1f}: {:s} Strapped\".format(env.now,name)\n",
      "    yield env.timeout(2)\n",
      "    print \" -->{:>6.1f}: {:s} Shipped\".format(env.now,name)\n",
      "\n",
      "def tireOrderGenerator(env):\n",
      "    for k in itertools.count():\n",
      "        yield env.timeout(random.expovariate(1.0/T_ORDER))\n",
      "        env.process(tireOrder(env,\"Order {:2d}\".format(k)))\n",
      "\n",
      "# create the simulation environment\n",
      "env = simpy.Environment()\n",
      "\n",
      "# create a tireOrder\n",
      "env.process(tireOrderGenerator(env))\n",
      "\n",
      "# run the simulation\n",
      "env.run(until=T_SIM)"
     ],
     "language": "python",
     "metadata": {},
     "outputs": [
      {
       "output_type": "stream",
       "stream": "stdout",
       "text": [
        " ***  49.3: Order  0 Placed\n",
        "      54.3: Order  0 Laid Down\n",
        " ***  61.4: Order  1 Placed\n",
        "      64.3: Order  0 Taped\n",
        "      66.3: Order  0 Strapped\n",
        "      66.4: Order  1 Laid Down\n",
        " -->  68.3: Order  0 Shipped\n",
        "      76.4: Order  1 Taped\n",
        " ***  77.6: Order  2 Placed\n",
        "      78.4: Order  1 Strapped\n",
        " -->  80.4: Order  1 Shipped\n",
        "      82.6: Order  2 Laid Down\n",
        "      92.6: Order  2 Taped\n",
        "      94.6: Order  2 Strapped\n",
        " -->  96.6: Order  2 Shipped\n",
        " *** 112.4: Order  3 Placed\n",
        "     117.4: Order  3 Laid Down\n"
       ]
      }
     ],
     "prompt_number": 35
    },
    {
     "cell_type": "markdown",
     "metadata": {},
     "source": [
      "The orders overlap which, we expect, will create a competition for resources. We'll add the DOT entry step which was omitted in the cells above, and explore how throught put depends on the number of available resources."
     ]
    },
    {
     "cell_type": "code",
     "collapsed": false,
     "input": [
      "import simpy\n",
      "import itertools\n",
      "import random\n",
      "\n",
      "T_ORDER = 10\n",
      "T_SIM = 120\n",
      "\n",
      "def tireOrder(env,name,dot):   \n",
      "    print \" ***{:>6.1f}: {:s} Placed\".format(env.now,name)\n",
      "    yield env.timeout(5)\n",
      "    print \"    {:>6.1f}: {:s} Laid Down\".format(env.now,name)\n",
      "    yield env.timeout(10)\n",
      "    with dot.request() as req:\n",
      "        yield req\n",
      "        print \"    {:>6.1f}: {:s} DOT entry\".format(env.now,name)\n",
      "        yield env.timeout(30)\n",
      "    print \"    {:>6.1f}: {:s} Taped\".format(env.now,name)\n",
      "    yield env.timeout(2)\n",
      "    print \"    {:>6.1f}: {:s} Strapped\".format(env.now,name)\n",
      "    yield env.timeout(2)\n",
      "    print \" -->{:>6.1f}: {:s} Shipped\".format(env.now,name)\n",
      "\n",
      "def tireOrderGenerator(env,dot):\n",
      "    for k in itertools.count():\n",
      "        yield env.timeout(random.expovariate(1.0/T_ORDER))\n",
      "        env.process(tireOrder(env,\"Order {:2d}\".format(k),dot))\n",
      "\n",
      "# create the simulation environment\n",
      "env = simpy.Environment()\n",
      "\n",
      "# create resources\n",
      "dot = simpy.Resource(env,1)\n",
      "\n",
      "# create a tireOrder\n",
      "env.process(tireOrderGenerator(env,dot))\n",
      "\n",
      "# run the simulation\n",
      "env.run(until=T_SIM)"
     ],
     "language": "python",
     "metadata": {},
     "outputs": [
      {
       "output_type": "stream",
       "stream": "stdout",
       "text": [
        " ***   2.7: Order  0 Placed\n",
        " ***   4.9: Order  1 Placed\n",
        "       7.7: Order  0 Laid Down\n",
        "       9.9: Order  1 Laid Down\n",
        "      17.7: Order  0 DOT entry\n",
        " ***  43.9: Order  2 Placed\n",
        "      47.7: Order  0 Taped\n",
        "      47.7: Order  1 DOT entry\n",
        "      48.9: Order  2 Laid Down\n",
        "      49.7: Order  0 Strapped\n",
        " -->  51.7: Order  0 Shipped\n",
        " ***  53.2: Order  3 Placed\n",
        "      58.2: Order  3 Laid Down\n",
        " ***  59.9: Order  4 Placed\n",
        "      64.9: Order  4 Laid Down\n",
        " ***  66.0: Order  5 Placed\n",
        "      71.0: Order  5 Laid Down\n",
        "      77.7: Order  1 Taped\n",
        "      77.7: Order  2 DOT entry\n",
        "      79.7: Order  1 Strapped\n",
        " -->  81.7: Order  1 Shipped\n",
        " ***  85.3: Order  6 Placed\n",
        "      90.3: Order  6 Laid Down\n",
        " ***  99.8: Order  7 Placed\n",
        " *** 103.4: Order  8 Placed\n",
        "     104.8: Order  7 Laid Down\n",
        "     107.7: Order  2 Taped\n",
        "     107.7: Order  3 DOT entry\n",
        "     108.4: Order  8 Laid Down\n",
        "     109.7: Order  2 Strapped\n",
        " --> 111.7: Order  2 Shipped\n",
        " *** 115.4: Order  9 Placed\n",
        " *** 119.6: Order 10 Placed\n"
       ]
      }
     ],
     "prompt_number": 50
    },
    {
     "cell_type": "markdown",
     "metadata": {},
     "source": [
      "This is getting interesting. At this point we can begin to see the tradeoffs between ordering frequency, process times, and resource constraints. To go further we'll need to gather data and process data into more usable information."
     ]
    },
    {
     "cell_type": "code",
     "collapsed": false,
     "input": [
      "import simpy\n",
      "import itertools\n",
      "import random\n",
      "import pandas as pd\n",
      "\n",
      "T_ORDER = 10\n",
      "T_SIM = 1440\n",
      "\n",
      "log = pd.DataFrame()\n",
      "log = dict()\n",
      "def writeLog(t,orderId,event):\n",
      "    log[orderId,event] = t\n",
      "\n",
      "def tireOrder(env,orderId,dot):   \n",
      "    writeLog(env.now,orderId,'Order Placed')\n",
      "    yield env.timeout(5)\n",
      "    writeLog(env.now,orderId,'Laid Down')\n",
      "    yield env.timeout(10)\n",
      "    with dot.request() as req:\n",
      "        yield req\n",
      "        writeLog(env.now,orderId,'DOT entry')\n",
      "        yield env.timeout(30)\n",
      "    writeLog(env.now,orderId,'Taped')\n",
      "    yield env.timeout(2)\n",
      "    writeLog(env.now,orderId,'Strapped')\n",
      "    yield env.timeout(2)\n",
      "    writeLog(env.now,orderId,'Shipped')\n",
      "\n",
      "def tireOrderGenerator(env,dot):\n",
      "    for k in itertools.count():\n",
      "        yield env.timeout(random.expovariate(1.0/T_ORDER))\n",
      "        env.process(tireOrder(env,k,dot))\n",
      "\n",
      "# create the simulation environment\n",
      "env = simpy.Environment()\n",
      "\n",
      "# create resources\n",
      "dot = simpy.Resource(env,2)\n",
      "\n",
      "# create a tireOrder\n",
      "env.process(tireOrderGenerator(env,dot))\n",
      "\n",
      "# run the simulation\n",
      "env.run(until=T_SIM)\n",
      "\n",
      "x = pd.DataFrame([[a,b,log[a,b]] for (a,b) in log.keys()])\n",
      "y = x.pivot(index=0,columns=1,values=2).reset_index()\n",
      "display(columns)\n",
      "y = y[columns]\n",
      "\n",
      "y.plot()"
     ],
     "language": "python",
     "metadata": {},
     "outputs": [
      {
       "metadata": {},
       "output_type": "display_data",
       "text": [
        "['DOT entry', 'Laid Down', 'Order Placed', 'Shipped', 'Strapped', 'Taped']"
       ]
      },
      {
       "metadata": {},
       "output_type": "pyout",
       "prompt_number": 5,
       "text": [
        "<matplotlib.axes.AxesSubplot at 0x1096d9790>"
       ]
      },
      {
       "metadata": {},
       "output_type": "display_data",
       "png": "[encoded data removed]",
       "text": [
        "<matplotlib.figure.Figure at 0x1096d9550>"
       ]
      }
     ],
     "prompt_number": 5
    },
    {
     "cell_type": "markdown",
     "metadata": {},
     "source": [
      "Repackage as a function that can be called and to return a trace of events."
     ]
    },
    {
     "cell_type": "code",
     "collapsed": false,
     "input": [
      "import simpy\n",
      "import itertools\n",
      "import random\n",
      "import pandas as pd\n",
      "\n",
      "T_ORDER = 10        # average time between orders.\n",
      "T_SIM = 120        # simulation period\n",
      "\n",
      "N_picker = 3        # number of product pickers\n",
      "N_DOT = 2           # number of DOT \n",
      "\n",
      "class eventLog(object):\n",
      "    def __init__(self):\n",
      "        self._data = dict()\n",
      "        \n",
      "    def write(self,t,orderId,event):\n",
      "        self._data[orderId,event] = t\n",
      "    \n",
      "    @property\n",
      "    def DataFrame(self):\n",
      "        df = pd.DataFrame([[a,b,self._data[a,b]] for (a,b) in self._data.keys()])      \n",
      "        df = df.pivot(index=0,columns=1,values=2).reset_index()\n",
      "        return df[list(df.columns)[1:]]\n",
      "\n",
      "# Process to handle a single tireOrder\n",
      "def tireOrder(env,log,picker,DOT,orderId):\n",
      "    # log order\n",
      "    log.write(env.now,orderId,'a. Order Placed')\n",
      "    \n",
      "    # Lay down the order\n",
      "    with picker.request() as req1:\n",
      "        yield req1\n",
      "        yield env.timeout(random.randint(10,30))\n",
      "        log.write(env.now,orderId,'b. Laid Down')\n",
      "        picker.release(req1)\n",
      "    \n",
      "        # DOT entry \n",
      "        with DOT.request() as req2:\n",
      "            yield req2\n",
      "            yield env.timeout(random.randint(5,10))\n",
      "            log.write(env.now,orderId,'c. DOT entry')\n",
      "            DOT.release(req2)\n",
      "        \n",
      "            # Taping\n",
      "            yield env.timeout(2)\n",
      "            log.write(env.now,orderId,'d. Taped')\n",
      "    \n",
      "            # Strapping\n",
      "            yield env.timeout(2)\n",
      "            log.write(env.now,orderId,'e. Strapped')\n",
      "    \n",
      "            # Shipping\n",
      "            yield env.timeout(10)\n",
      "            log.write(env.now,orderId,'f. Shipped')\n",
      "\n",
      "# Generates tireOrders following a Poisson process at rate 1/T_ORDER\n",
      "def orderGenerator(env,log,picker,DOT):\n",
      "    for orderNumber in itertools.count():\n",
      "        yield env.timeout(random.expovariate(1.0/T_ORDER))\n",
      "        env.process(tireOrder(env,log,picker,DOT,orderNumber))\n",
      "\n",
      "# Perform one simulation and return pandas DataFrame\n",
      "def simulate():\n",
      "    env = simpy.Environment()\n",
      "    log = eventLog() \n",
      "    picker = simpy.Resource(env,N_picker)\n",
      "    DOT = simpy.Resource(env,N_DOT)\n",
      "    env.process(orderGenerator(env,log,picker,DOT))\n",
      "    env.run(until=T_SIM) \n",
      "    return log.DataFrame\n",
      "\n",
      "log = simulate()\n",
      "log.plot()\n",
      "xlabel('Order Number')\n",
      "ylabel('Time [minutes]')\n",
      "#display(log)"
     ],
     "language": "python",
     "metadata": {},
     "outputs": [
      {
       "metadata": {},
       "output_type": "pyout",
       "prompt_number": 160,
       "text": [
        "<matplotlib.text.Text at 0x115a7c490>"
       ]
      },
      {
       "metadata": {},
       "output_type": "display_data",
       "png": "[encoded data removed]",
       "text": [
        "<matplotlib.figure.Figure at 0x115a739d0>"
       ]
      }
     ],
     "prompt_number": 160
    },
    {
     "cell_type": "code",
     "collapsed": false,
     "input": [
      "log"
     ],
     "language": "python",
     "metadata": {},
     "outputs": [
      {
       "html": [
        "<div style=\"max-height:1000px;max-width:1500px;overflow:auto;\">\n",
        "<table border=\"1\" class=\"dataframe\">\n",
        "  <thead>\n",
        "    <tr style=\"text-align: right;\">\n",
        "      <th>1</th>\n",
        "      <th>a. Order Placed</th>\n",
        "      <th>b. Laid Down</th>\n",
        "      <th>c. DOT entry</th>\n",
        "      <th>d. Taped</th>\n",
        "      <th>e. Strapped</th>\n",
        "      <th>f. Shipped</th>\n",
        "    </tr>\n",
        "  </thead>\n",
        "  <tbody>\n",
        "    <tr>\n",
        "      <th>0 </th>\n",
        "      <td>   2.373288</td>\n",
        "      <td>  27.373288</td>\n",
        "      <td>  35.373288</td>\n",
        "      <td>  37.373288</td>\n",
        "      <td>  39.373288</td>\n",
        "      <td>  49.373288</td>\n",
        "    </tr>\n",
        "    <tr>\n",
        "      <th>1 </th>\n",
        "      <td>   3.980799</td>\n",
        "      <td>  29.980799</td>\n",
        "      <td>  40.504040</td>\n",
        "      <td>  42.504040</td>\n",
        "      <td>  44.504040</td>\n",
        "      <td>  54.504040</td>\n",
        "    </tr>\n",
        "    <tr>\n",
        "      <th>2 </th>\n",
        "      <td>  11.504040</td>\n",
        "      <td>  23.504040</td>\n",
        "      <td>  32.504040</td>\n",
        "      <td>  34.504040</td>\n",
        "      <td>  36.504040</td>\n",
        "      <td>  46.504040</td>\n",
        "    </tr>\n",
        "    <tr>\n",
        "      <th>3 </th>\n",
        "      <td>  37.670710</td>\n",
        "      <td>  47.670710</td>\n",
        "      <td>  52.670710</td>\n",
        "      <td>  54.670710</td>\n",
        "      <td>  56.670710</td>\n",
        "      <td>  66.670710</td>\n",
        "    </tr>\n",
        "    <tr>\n",
        "      <th>4 </th>\n",
        "      <td>  46.937007</td>\n",
        "      <td>  63.937007</td>\n",
        "      <td>  68.937007</td>\n",
        "      <td>  70.937007</td>\n",
        "      <td>  72.937007</td>\n",
        "      <td>  82.937007</td>\n",
        "    </tr>\n",
        "    <tr>\n",
        "      <th>5 </th>\n",
        "      <td>  50.523708</td>\n",
        "      <td>  78.523708</td>\n",
        "      <td>  86.523708</td>\n",
        "      <td>  88.523708</td>\n",
        "      <td>  90.523708</td>\n",
        "      <td> 100.523708</td>\n",
        "    </tr>\n",
        "    <tr>\n",
        "      <th>6 </th>\n",
        "      <td>  54.456636</td>\n",
        "      <td>  71.456636</td>\n",
        "      <td>  81.456636</td>\n",
        "      <td>  83.456636</td>\n",
        "      <td>  85.456636</td>\n",
        "      <td>  95.456636</td>\n",
        "    </tr>\n",
        "    <tr>\n",
        "      <th>7 </th>\n",
        "      <td>  71.429140</td>\n",
        "      <td>  86.429140</td>\n",
        "      <td>  92.429140</td>\n",
        "      <td>  94.429140</td>\n",
        "      <td>  96.429140</td>\n",
        "      <td> 106.429140</td>\n",
        "    </tr>\n",
        "    <tr>\n",
        "      <th>8 </th>\n",
        "      <td>  78.099955</td>\n",
        "      <td>  96.099955</td>\n",
        "      <td> 105.099955</td>\n",
        "      <td> 107.099955</td>\n",
        "      <td> 109.099955</td>\n",
        "      <td> 119.099955</td>\n",
        "    </tr>\n",
        "    <tr>\n",
        "      <th>9 </th>\n",
        "      <td>  82.981021</td>\n",
        "      <td> 106.981021</td>\n",
        "      <td> 111.981021</td>\n",
        "      <td> 113.981021</td>\n",
        "      <td> 115.981021</td>\n",
        "      <td>        NaN</td>\n",
        "    </tr>\n",
        "    <tr>\n",
        "      <th>10</th>\n",
        "      <td>  88.826632</td>\n",
        "      <td> 110.826632</td>\n",
        "      <td> 118.826632</td>\n",
        "      <td>        NaN</td>\n",
        "      <td>        NaN</td>\n",
        "      <td>        NaN</td>\n",
        "    </tr>\n",
        "    <tr>\n",
        "      <th>11</th>\n",
        "      <td>  90.294227</td>\n",
        "      <td> 117.099955</td>\n",
        "      <td>        NaN</td>\n",
        "      <td>        NaN</td>\n",
        "      <td>        NaN</td>\n",
        "      <td>        NaN</td>\n",
        "    </tr>\n",
        "    <tr>\n",
        "      <th>12</th>\n",
        "      <td>  96.817983</td>\n",
        "      <td>        NaN</td>\n",
        "      <td>        NaN</td>\n",
        "      <td>        NaN</td>\n",
        "      <td>        NaN</td>\n",
        "      <td>        NaN</td>\n",
        "    </tr>\n",
        "    <tr>\n",
        "      <th>13</th>\n",
        "      <td> 111.837343</td>\n",
        "      <td>        NaN</td>\n",
        "      <td>        NaN</td>\n",
        "      <td>        NaN</td>\n",
        "      <td>        NaN</td>\n",
        "      <td>        NaN</td>\n",
        "    </tr>\n",
        "  </tbody>\n",
        "</table>\n",
        "<p>14 rows \u00d7 6 columns</p>\n",
        "</div>"
       ],
       "metadata": {},
       "output_type": "pyout",
       "prompt_number": 161,
       "text": [
        "1   a. Order Placed  b. Laid Down  c. DOT entry    d. Taped  e. Strapped  \\\n",
        "0          2.373288     27.373288     35.373288   37.373288    39.373288   \n",
        "1          3.980799     29.980799     40.504040   42.504040    44.504040   \n",
        "2         11.504040     23.504040     32.504040   34.504040    36.504040   \n",
        "3         37.670710     47.670710     52.670710   54.670710    56.670710   \n",
        "4         46.937007     63.937007     68.937007   70.937007    72.937007   \n",
        "5         50.523708     78.523708     86.523708   88.523708    90.523708   \n",
        "6         54.456636     71.456636     81.456636   83.456636    85.456636   \n",
        "7         71.429140     86.429140     92.429140   94.429140    96.429140   \n",
        "8         78.099955     96.099955    105.099955  107.099955   109.099955   \n",
        "9         82.981021    106.981021    111.981021  113.981021   115.981021   \n",
        "10        88.826632    110.826632    118.826632         NaN          NaN   \n",
        "11        90.294227    117.099955           NaN         NaN          NaN   \n",
        "12        96.817983           NaN           NaN         NaN          NaN   \n",
        "13       111.837343           NaN           NaN         NaN          NaN   \n",
        "\n",
        "1   f. Shipped  \n",
        "0    49.373288  \n",
        "1    54.504040  \n",
        "2    46.504040  \n",
        "3    66.670710  \n",
        "4    82.937007  \n",
        "5   100.523708  \n",
        "6    95.456636  \n",
        "7   106.429140  \n",
        "8   119.099955  \n",
        "9          NaN  \n",
        "10         NaN  \n",
        "11         NaN  \n",
        "12         NaN  \n",
        "13         NaN  \n",
        "\n",
        "[14 rows x 6 columns]"
       ]
      }
     ],
     "prompt_number": 161
    },
    {
     "cell_type": "heading",
     "level": 2,
     "metadata": {},
     "source": [
      "Tutorials"
     ]
    },
    {
     "cell_type": "markdown",
     "metadata": {},
     "source": [
      "A process is simply a function that sets up and responds to events. Here define a generic 'clock' process that prints a message, then yields control while waiting for a timeout event.  We'll instantiate a few clocks then run the simulation."
     ]
    },
    {
     "cell_type": "code",
     "collapsed": false,
     "input": [
      "import simpy\n",
      "\n",
      "def clock(env,name,tick):\n",
      "    while True:\n",
      "        print \"{:<3s} at time {:4.1f} minutes\".format(name, env.now)\n",
      "        yield env.timeout(tick)\n",
      "\n",
      "env = simpy.Environment()\n",
      "\n",
      "A = env.process(clock(env,'A',1.7))\n",
      "B = env.process(clock(env,'B',2.1))\n",
      "\n",
      "# start processes\n",
      "env.run(until=10)"
     ],
     "language": "python",
     "metadata": {},
     "outputs": [
      {
       "output_type": "stream",
       "stream": "stdout",
       "text": [
        "A   at time  0.0 minutes\n",
        "B   at time  0.0 minutes\n",
        "A   at time  1.7 minutes\n",
        "B   at time  2.1 minutes\n",
        "A   at time  3.4 minutes\n",
        "B   at time  4.2 minutes\n",
        "A   at time  5.1 minutes\n",
        "B   at time  6.3 minutes\n",
        "A   at time  6.8 minutes\n",
        "B   at time  8.4 minutes\n",
        "A   at time  8.5 minutes\n"
       ]
      }
     ],
     "prompt_number": 26
    },
    {
     "cell_type": "markdown",
     "metadata": {},
     "source": [
      "Setting up a class provides a means of modeling more complex behaviors. Here we'll consider a Roomba cleaning robot that can be either in a running mode or a charging mode."
     ]
    },
    {
     "cell_type": "code",
     "collapsed": false,
     "input": [
      "\n",
      "class Roomba(object):\n",
      "    def __init__(self,env,name,charge_duration,clean_duration):\n",
      "        self.env = env\n",
      "        self.name = name\n",
      "        self.charge_duration = charge_duration\n",
      "        self.clean_duration = clean_duration\n",
      "        self.proc = env.process(self.run())\n",
      "\n",
      "    def run(self):\n",
      "        while True:\n",
      "            yield env.process(self.charge())\n",
      "            yield env.process(self.clean())\n",
      "    \n",
      "    def clean(self):\n",
      "        print \"{:<3s} start charging at {:4.1f}\".format(self.name,env.now)\n",
      "        yield env.timeout(self.clean_duration)\n",
      "    \n",
      "    def charge(self):\n",
      "        print \"{:<3s} start cleaning at {:4.1f}\".format(self.name,env.now)\n",
      "        yield env.timeout(self.charge_duration)\n",
      "\n",
      "import simpy\n",
      "env = simpy.Environment()\n",
      "\n",
      "A = Roomba(env,'A',1.1,2.3)\n",
      "B = Roomba(env,'B',0.9,3.1)\n",
      "\n",
      "# start processes\n",
      "env.run(until=6)"
     ],
     "language": "python",
     "metadata": {},
     "outputs": [
      {
       "output_type": "stream",
       "stream": "stdout",
       "text": [
        "A   start cleaning at  0.0\n",
        "B   start cleaning at  0.0\n",
        "B   start charging at  0.9\n",
        "A   start charging at  1.1\n",
        "A   start cleaning at  3.4\n",
        "B   start cleaning at  4.0\n",
        "A   start charging at  4.5\n",
        "B   start charging at  4.9\n"
       ]
      }
     ],
     "prompt_number": 64
    }
   ],
   "metadata": {}
  }
 ]
}