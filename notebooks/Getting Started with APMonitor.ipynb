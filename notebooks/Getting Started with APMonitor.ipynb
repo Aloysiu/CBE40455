{
 "metadata": {
  "name": "",
  "signature": "sha256:3fec20cfc13e1b37bc416f07730f144ac9bb81d55e37d0283b1428a7b05d7e05"
 },
 "nbformat": 3,
 "nbformat_minor": 0,
 "worksheets": [
  {
   "cells": [
    {
     "cell_type": "heading",
     "level": 1,
     "metadata": {},
     "source": [
      "Getting Started with APMonitor"
     ]
    },
    {
     "cell_type": "markdown",
     "metadata": {},
     "source": [
      "This [IPython notebook](http://ipython.org/notebook.html) demonstrates the use of APMonitor from an iPython notebook. The video is used with permission from [learnCheme.com](http://learncheme.ning.com/), a project at the University of Colorado funded by the National Science Foundation and the Shell Corporation.\n",
      "\n",
      "J.C. Kantor (Kantor.1@nd.edu)\n",
      "\n",
      "The latest version of this IPython notebook is available at [http://github.com/jckantor/CBE20255](http://github.com/jckantor/CBE20255)  for noncommercial use under terms of the [Creative Commons Attribution Noncommericial ShareAlike License](http://creativecommons.org/licenses/by-nc-sa/4.0/)."
     ]
    },
    {
     "cell_type": "heading",
     "level": 2,
     "metadata": {},
     "source": [
      "Using APMonitor from an iPython Notebook"
     ]
    },
    {
     "cell_type": "markdown",
     "metadata": {},
     "source": [
      "[APMonitor](http://apmonitor.com/) ('Advanced Process Monitor') is a system for modeling and solving engineering problems. The system consists of a simple, non-procedural language for describing a mathematical model, solvers that reside on remote servers, and software tools for managing the process of obtaining a solution to specific problems."
     ]
    },
    {
     "cell_type": "heading",
     "level": 2,
     "metadata": {},
     "source": [
      "Example 1. Solving simple material balances"
     ]
    },
    {
     "cell_type": "heading",
     "level": 3,
     "metadata": {},
     "source": [
      "Problem Statement"
     ]
    },
    {
     "cell_type": "code",
     "collapsed": false,
     "input": [
      "from IPython.display import YouTubeVideo\n",
      "YouTubeVideo(\"KrrZB5LvXF4\",560,315,start=0,end=72)"
     ],
     "language": "python",
     "metadata": {},
     "outputs": [
      {
       "html": [
        "\n",
        "        <iframe\n",
        "            width=\"560\"\n",
        "            height=315\"\n",
        "            src=\"https://www.youtube.com/embed/KrrZB5LvXF4?start=0&end=72\"\n",
        "            frameborder=\"0\"\n",
        "            allowfullscreen\n",
        "        ></iframe>\n",
        "        "
       ],
       "metadata": {},
       "output_type": "pyout",
       "prompt_number": 20,
       "text": [
        "<IPython.lib.display.YouTubeVideo at 0x105f5cd50>"
       ]
      }
     ],
     "prompt_number": 20
    },
    {
     "cell_type": "heading",
     "level": 3,
     "metadata": {},
     "source": [
      "Solution"
     ]
    },
    {
     "cell_type": "markdown",
     "metadata": {},
     "source": [
      "####Step 1. Create the APMonitor Model"
     ]
    },
    {
     "cell_type": "code",
     "collapsed": false,
     "input": [
      "%%writefile ex1.apm\n",
      "\n",
      "Variables\n",
      "  n1 >= 0\n",
      "  n2 >= 0\n",
      "End Variables\n",
      "\n",
      "Equations\n",
      "  100 = n1 + n2\n",
      "  30 = 0.7*n1 + 0.2*n2\n",
      "End Equations\n"
     ],
     "language": "python",
     "metadata": {},
     "outputs": [
      {
       "output_type": "stream",
       "stream": "stdout",
       "text": [
        "Overwriting ex1.apm\n"
       ]
      }
     ],
     "prompt_number": 38
    },
    {
     "cell_type": "markdown",
     "metadata": {},
     "source": [
      "####Step 2. Call the Solver\n",
      "\n",
      "The solver is called using apm_solve from the apm python package. apm_solve requires two arguments. The first is the name of the file in which the model has been saved, and the second is a flag describing the type of problem to be solved. A system of steady-state equations with no degrees of freedom is type = 1."
     ]
    },
    {
     "cell_type": "code",
     "collapsed": false,
     "input": [
      "from apm import *\n",
      "z = apm_solve('ex1',1)"
     ],
     "language": "python",
     "metadata": {},
     "outputs": [
      {
       "output_type": "stream",
       "stream": "stdout",
       "text": [
        "Optional data file ex1.csv does not exist\n"
       ]
      }
     ],
     "prompt_number": 42
    },
    {
     "cell_type": "markdown",
     "metadata": {},
     "source": [
      "####Step 3. Display the Solution"
     ]
    },
    {
     "cell_type": "code",
     "collapsed": false,
     "input": [
      "import pandas as pd\n",
      "pd.Series(z)"
     ],
     "language": "python",
     "metadata": {},
     "outputs": [
      {
       "metadata": {},
       "output_type": "pyout",
       "prompt_number": 40,
       "text": [
        "n1    20\n",
        "n2    80\n",
        "dtype: float64"
       ]
      }
     ],
     "prompt_number": 40
    },
    {
     "cell_type": "heading",
     "level": 3,
     "metadata": {},
     "source": [
      "Exercise"
     ]
    },
    {
     "cell_type": "markdown",
     "metadata": {},
     "source": [
      "Using the techniques demonstrated above, develop an APMonitor model for the mass balance problem described in the following video clip. The model should be written to a file exerise1.apm, and the solution displayed as a table of molar flowrates for each of the three components described in the problem statement. You'll need at least two input cells. The first is where you would write the APMonitor model and save it to your workspace with the %%writefile 'magic'.  The second cell can combine Steps 2 and 3 shown above to generate a solution to the model and display the results."
     ]
    },
    {
     "cell_type": "code",
     "collapsed": false,
     "input": [
      "from IPython.display import YouTubeVideo\n",
      "YouTubeVideo(\"KrrZB5LvXF4\",560,315,start=144,end=166)"
     ],
     "language": "python",
     "metadata": {},
     "outputs": [
      {
       "html": [
        "\n",
        "        <iframe\n",
        "            width=\"560\"\n",
        "            height=315\"\n",
        "            src=\"https://www.youtube.com/embed/KrrZB5LvXF4?start=144&end=166\"\n",
        "            frameborder=\"0\"\n",
        "            allowfullscreen\n",
        "        ></iframe>\n",
        "        "
       ],
       "metadata": {},
       "output_type": "pyout",
       "prompt_number": 33,
       "text": [
        "<IPython.lib.display.YouTubeVideo at 0x107df9790>"
       ]
      }
     ],
     "prompt_number": 33
    },
    {
     "cell_type": "markdown",
     "metadata": {},
     "source": [
      "Write your model in the following input cell."
     ]
    },
    {
     "cell_type": "code",
     "collapsed": false,
     "input": [],
     "language": "python",
     "metadata": {},
     "outputs": []
    },
    {
     "cell_type": "markdown",
     "metadata": {},
     "source": [
      "Write commands to solve the model and display the solution in the following input cell."
     ]
    },
    {
     "cell_type": "code",
     "collapsed": false,
     "input": [],
     "language": "python",
     "metadata": {},
     "outputs": []
    },
    {
     "cell_type": "heading",
     "level": 2,
     "metadata": {},
     "source": [
      "Example 2. Fitting a Model to Data"
     ]
    },
    {
     "cell_type": "markdown",
     "metadata": {},
     "source": [
      "Vapor pressure of [ethyl acetate](http://www.ddbst.com/en/EED/PCP/VAP_C21.php)"
     ]
    },
    {
     "cell_type": "code",
     "collapsed": false,
     "input": [
      "vp = [[281.52, 5.214], \n",
      "      [286.15, 7.066],\n",
      "      [293.15, 9.733],\n",
      "      [293.25, 9.733],\n",
      "      [295.15, 10.799],\n",
      "      [295.31, 10.819],\n",
      "     [298.15, 12.612],\n",
      "     [303.15, 16.012],\n",
      "     [303.75, 16.399],\n",
      "     [306.45, 18.532],\n",
      "     [308.15, 20.198],\n",
      "     [309.11, 20.772],\n",
      "     [309.35, 21.065],\n",
      "     [312.05, 23.598],\n",
      "     [312.61, 24.491],\n",
      "     [313.15, 25.043],\n",
      "     [313.15, 25.078],\n",
      "     [315.25, 26.931],\n",
      "     [318.15, 31.064],\n",
      "     [318.35, 31.064],\n",
      "     [321.45, 35.464],\n",
      "     [322.92, 37.266],\n",
      "     [323.15, 38.104],\n",
      "     [326.05, 42.396],\n",
      "     [326.50, 43.210],\n",
      "     [328.15, 46.290],\n",
      "     [329.85, 49.463],\n",
      "     [333.15, 55.854],\n",
      "     [333.15, 55.942],\n",
      "     [333.45, 56.262],\n",
      "     [336.70, 63.003],\n",
      "     [338.15, 67.008],\n",
      "     [340.45, 72.661],\n",
      "     [340.84, 74.274],\n",
      "     [343.15, 79.727],\n",
      "     [343.45, 80.660],\n",
      "     [346.05, 88.659],\n",
      "     [348.15, 94.392],\n",
      "     [348.85, 97.192],\n",
      "     [350.19, 101.138],\n",
      "     [350.44, 101.792],\n",
      "     [350.45, 101.325],\n",
      "     [350.85, 102.925],\n",
      "     [353.15, 110.991],\n",
      "     [353.35, 113.191],\n",
      "     [356.16, 122.630],\n",
      "     [358.15, 130.349],\n",
      "     [360.35, 140.122],\n",
      "     [360.73, 141.508],\n",
      "     [362.35, 148.921],\n",
      "     [363.15, 152.214],\n",
      "     [364.35, 156.347],\n",
      "     [364.95, 161.053],\n",
      "     [367.15, 172.253],\n",
      "     [368.15, 176.372],\n",
      "     [368.65, 179.585],\n",
      "     [370.15, 187.051],\n",
      "     [373.15, 203.717],\n",
      "     [378.13, 232.208]]"
     ],
     "language": "python",
     "metadata": {},
     "outputs": [],
     "prompt_number": 49
    },
    {
     "cell_type": "code",
     "collapsed": false,
     "input": [
      "import pandas as pd\n",
      "\n",
      "v = array(vp).T\n",
      "T = v[0]\n",
      "P = v[1]\n",
      "\n",
      "df = pd.DataFrame(P,T,columns=['Vapor Pressure'])\n",
      "plot(T,P,'r.')"
     ],
     "language": "python",
     "metadata": {},
     "outputs": [
      {
       "metadata": {},
       "output_type": "pyout",
       "prompt_number": 69,
       "text": [
        "[<matplotlib.lines.Line2D at 0x10847f410>]"
       ]
      },
      {
       "metadata": {},
       "output_type": "display_data",
       "png": "[encoded data removed]",
       "text": [
        "<matplotlib.figure.Figure at 0x10847ef10>"
       ]
      }
     ],
     "prompt_number": 69
    },
    {
     "cell_type": "code",
     "collapsed": false,
     "input": [
      "%%writefile antoine.apm\n",
      "\n",
      "Model\n",
      "\n",
      "  Begin \n",
      "\n",
      "End Model"
     ],
     "language": "python",
     "metadata": {},
     "outputs": [
      {
       "output_type": "stream",
       "stream": "stdout",
       "text": [
        "Writing antoine.apm\n"
       ]
      }
     ],
     "prompt_number": 70
    },
    {
     "cell_type": "heading",
     "level": 2,
     "metadata": {},
     "source": [
      "Example 3. Steady State Optimization"
     ]
    },
    {
     "cell_type": "code",
     "collapsed": false,
     "input": [
      "%%writefile lp.apm\n",
      "\n",
      "Variables\n",
      "  x1 > 0 , < 5  ! spring production (100 L)\n",
      "  x2 > 0 , < 4  ! nebsi production (100 L)\n",
      "  profit\n",
      "End Variables\n",
      "\n",
      "Equations\n",
      "  maximize profit\n",
      "  \n",
      "  profit = 100 * x1 + 125 * x2\n",
      "  3 * x1 + 6 * x2 <= 30\n",
      "  8 * x1 + 4 * x2 <= 44\n",
      "End Equations\n"
     ],
     "language": "python",
     "metadata": {},
     "outputs": [
      {
       "output_type": "stream",
       "stream": "stdout",
       "text": [
        "Overwriting lp.apm\n"
       ]
      }
     ],
     "prompt_number": 44
    },
    {
     "cell_type": "code",
     "collapsed": false,
     "input": [
      "from apm import *\n",
      "z = apm_solve('lp',3);\n",
      "\n",
      "import pandas as pd\n",
      "pd.Series(z)"
     ],
     "language": "python",
     "metadata": {},
     "outputs": [
      {
       "output_type": "stream",
       "stream": "stdout",
       "text": [
        "Optional data file lp.csv does not exist\n"
       ]
      },
      {
       "metadata": {},
       "output_type": "pyout",
       "prompt_number": 47,
       "text": [
        "profit    775\n",
        "slk_3       0\n",
        "slk_4       0\n",
        "x1          4\n",
        "x2          3\n",
        "dtype: float64"
       ]
      }
     ],
     "prompt_number": 47
    },
    {
     "cell_type": "heading",
     "level": 2,
     "metadata": {},
     "source": [
      "Example 4. Dynamic Simulation"
     ]
    },
    {
     "cell_type": "code",
     "collapsed": false,
     "input": [
      "%%writefile demo.apm\n",
      "Model                \n",
      "  Parameters         \n",
      "   tau = 5         \n",
      "   K = 3  \n",
      "   u \n",
      "  End Parameters     \n",
      "\n",
      "  Variables          \n",
      "   x = 0               \n",
      "   y = 0                \n",
      "  End Variables      \n",
      "\n",
      "  Equations          \n",
      "   tau * $x + x = K * u  \n",
      "   y = 2 * x         \n",
      "  End Equations      \n",
      "End Model            "
     ],
     "language": "python",
     "metadata": {},
     "outputs": [
      {
       "output_type": "stream",
       "stream": "stdout",
       "text": [
        "Overwriting demo.apm\n"
       ]
      }
     ],
     "prompt_number": 22
    },
    {
     "cell_type": "code",
     "collapsed": false,
     "input": [
      "%%writefile demo.csv\n",
      "\n",
      "\n",
      "time, u\n",
      "0,    0\n",
      "0.5,  0\n",
      "1,    1\n",
      "2,    1\n",
      "3,    1\n",
      "5,    1\n",
      "8,    1\n",
      "12,   1\n",
      "15,   1\n",
      "18,   1\n",
      "21,   1\n",
      "22,   1\n",
      "25,   1\n",
      "28,   1\n",
      "30,   1"
     ],
     "language": "python",
     "metadata": {},
     "outputs": [
      {
       "output_type": "stream",
       "stream": "stdout",
       "text": [
        "Overwriting demo.csv\n"
       ]
      }
     ],
     "prompt_number": 23
    },
    {
     "cell_type": "code",
     "collapsed": false,
     "input": [
      "from apm import *\n",
      "z = apm_solve('demo',7);"
     ],
     "language": "python",
     "metadata": {},
     "outputs": []
    },
    {
     "cell_type": "code",
     "collapsed": false,
     "input": [
      "plot(z['time'],z['x'])\n",
      "plot(z['time'],z['y'])\n",
      "plot(z['time'],z['u'])\n",
      "legend(['x','y'])"
     ],
     "language": "python",
     "metadata": {},
     "outputs": [
      {
       "metadata": {},
       "output_type": "pyout",
       "prompt_number": 24,
       "text": [
        "<matplotlib.legend.Legend at 0x109b24750>"
       ]
      },
      {
       "metadata": {},
       "output_type": "display_data",
       "png": "[encoded data removed]",
       "text": [
        "<matplotlib.figure.Figure at 0x10043bcd0>"
       ]
      }
     ],
     "prompt_number": 24
    },
    {
     "cell_type": "code",
     "collapsed": false,
     "input": [],
     "language": "python",
     "metadata": {},
     "outputs": [],
     "prompt_number": 20
    }
   ],
   "metadata": {}
  }
 ]
}