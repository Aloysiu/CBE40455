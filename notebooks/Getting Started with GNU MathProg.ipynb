{
 "metadata": {
  "name": ""
 },
 "nbformat": 3,
 "nbformat_minor": 0,
 "worksheets": [
  {
   "cells": [
    {
     "cell_type": "heading",
     "level": 1,
     "metadata": {},
     "source": [
      "Getting Started with GNU MathProg"
     ]
    },
    {
     "cell_type": "heading",
     "level": 2,
     "metadata": {},
     "source": [
      "GNU MathProg"
     ]
    },
    {
     "cell_type": "markdown",
     "metadata": {},
     "source": [
      "Mathematical programming languages are designed for the purpose of writing applied optimization problems in a concise, high-level, maintainable manner with sufficient precision to be translated and solved using optimization software.\n",
      "\n",
      "[GAMS](http://www.gams.com/) (the General Algebraic Modeling System) is generally cited as the first example of a commercially successful mathematical programming language. Since the introduction of GAMS in the late 1970's, a number of succesful languages have been produced including [AIMMS](http://business.aimms.com/), [AMPL](http://www.ampl.com/), [LINDO/LINGO](http://www.lindo.com/), [MPL](http://www.maximalsoftware.com/), [XPRESS-MOSEL](http://www.fico.com/en/products/fico-xpress-optimization-suite/), and many others.  Of these, AMPL appears to be most widely adopted language for university training.\n",
      "\n",
      "[GNU MathProg](http://en.wikibooks.org/wiki/GLPK/GMPL_(MathProg)) is part of the open source [GNU GLPK project](http://www.gnu.org/software/glpk/). MathProg offers a subset of the AMPL language roughly equivalent to AMPL as it distributed in the early 1990's and described in the [AMPL book](http://www.ampl.com/BOOK/download.html). Though distributed as part of GLPK, MathProg interfaces are available for other solvers including [lpsolve](http://lpsolve.sourceforge.net/5.5/MathProg.htm) and COIN-OR CBC. MathProg can export models in a several formats compatiable with most commercial and non-commericial solvers for mixed-integer linear programs."
     ]
    },
    {
     "cell_type": "heading",
     "level": 3,
     "metadata": {},
     "source": [
      "Installation"
     ]
    },
    {
     "cell_type": "markdown",
     "metadata": {},
     "source": [
      "You will need to install a working copy of GLPK before executing code cells in the following tutorial. Here some basic recommendations.\n",
      "\n",
      "1. For Windows/PC hardware, the [Windows for GLPK web site](http://winglpk.sourceforge.net/) maintains a pre-compiled version of GLPK based on the lastest official release.\n",
      "\n",
      "2. For MacOS users, the most convenient installation process is to use a package manager. If you are not already doing so, you may consider installing the excellect [Homebrew package manager](http://brew.sh/) using the instructions on their homepage. Once Homebrew is installed, GLPK can be installed with two commands\n",
      "\n",
      "<pre>\n",
      "  brew top homebrew/science\n",
      "  brew install glpk\n",
      "</pre>\n"
     ]
    },
    {
     "cell_type": "markdown",
     "metadata": {},
     "source": [
      "If GLPK has been installed correctly on your machine, you should be able to execute the following command. Test this before going further with this tutorial."
     ]
    },
    {
     "cell_type": "code",
     "collapsed": false,
     "input": [
      "%%script glpsol -m /dev/stdin\n",
      "printf \"Hello, World\\n\";\n",
      "end;"
     ],
     "language": "python",
     "metadata": {},
     "outputs": [
      {
       "output_type": "stream",
       "stream": "stdout",
       "text": [
        "GLPSOL: GLPK LP/MIP Solver, v4.52\n",
        "Parameter(s) specified in the command line:\n",
        " -m /dev/stdin\n",
        "Reading model section from /dev/stdin...\n",
        "/dev/stdin:2: warning: final NL missing before end of file\n",
        "2 lines were read\n",
        "Hello, World\n",
        "Model has been successfully generated\n",
        "GLPK Simplex Optimizer, v4.52\n",
        "0 rows, 0 columns, 0 non-zeros\n",
        "~     0: obj =   0.000000000e+00  infeas =  0.000e+00\n",
        "OPTIMAL SOLUTION FOUND\n",
        "Time used:   0.0 secs\n",
        "Memory used: 0.0 Mb (41523 bytes)\n"
       ]
      }
     ],
     "prompt_number": 8
    },
    {
     "cell_type": "code",
     "collapsed": false,
     "input": [],
     "language": "python",
     "metadata": {},
     "outputs": []
    }
   ],
   "metadata": {}
  }
 ]
}