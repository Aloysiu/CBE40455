{
 "cells": [
  {
   "cell_type": "markdown",
   "metadata": {},
   "source": [
    "##### The latest version of this Jupyter notebook is available at [http://github.com/jckantor/CBE40455](http://github.com/jckantor/CBE20255)  for noncommercial use under terms of the [Creative Commons Attribution Noncommericial ShareAlike License](http://creativecommons.org/licenses/by-nc-sa/4.0/).\n",
    "\n",
    "J.C. Kantor (Kantor.1@nd.edu)"
   ]
  },
  {
   "cell_type": "markdown",
   "metadata": {},
   "source": [
    "# Getting Started with GNU MathProg in Jupyter Notebooks"
   ]
  },
  {
   "cell_type": "markdown",
   "metadata": {},
   "source": [
    "This notebook describes the installation and use of GLPK/MathProg from within a [Jupyter notebook](http://jupyter.org/).\n",
    "\n",
    "#### Table of Contents\n",
    "\n",
    "* [GNU MathProg is a Mathematical Programming Language](#GNU-MathProg-is-a-Mathematical-Programming-Language)\n",
    "* [Installing GLPK/MathProg to Run from a Jupyter Notebook](#Installing-GLPK/MathProg-to-Run-from-a-Jupyter-Notebook)\n",
    "* [Specifying Input Files for MathProg](#Specifying-Input-Files-for-MathProg)\n",
    "* [Redirecting MathProg Output](#Redirecting-MathProg-Output)\n",
    "* [Working with MathProg Tables](#Working-with-MathProg-Tables)\n",
    "* [Simple Scripting](#Simple-Scripting)"
   ]
  },
  {
   "cell_type": "markdown",
   "metadata": {},
   "source": [
    "## GNU MathProg is a Mathematical Programming Language"
   ]
  },
  {
   "cell_type": "markdown",
   "metadata": {},
   "source": [
    "GNU MathProg is a mathematical programming languages designed for the purpose of writing applications of mixed-integer linear programming in a concise, high-level, maintainable manner with sufficient detail to be translated and solved using optimization software.\n",
    "\n",
    "Since the introduction of [GAMS](http://www.gams.com/) (the General Algebraic Modeling System) in the late 1970's, a number of succesful languages have been produced including [AIMMS](http://business.aimms.com/), [AMPL](http://www.ampl.com/), [LINDO/LINGO](http://www.lindo.com/), [MPL](http://www.maximalsoftware.com/), [XPRESS-MOSEL](http://www.fico.com/en/products/fico-xpress-optimization-suite/), and others.  Of these, AMPL is the most widely adopted language for university training.\n",
    "\n",
    "[GNU MathProg](http://en.wikibooks.org/wiki/GLPK/GMPL_(MathProg) provides a significant subset of the AMPL language roughly equivalent to the version of AMPL distributed in the early 1990's and described in the [AMPL book](http://www.ampl.com/BOOK/download.html). Though a component of the open source [GNU GLPK project](http://www.gnu.org/software/glpk/) for linear programming, the MathProg interface is also available for other solvers including [lpsolve](http://lpsolve.sourceforge.net/5.5/MathProg.htm) and COIN-OR CBC. MathProg can export models formats compatiable with most commercial and non-commericial solvers for mixed-integer linear programs."
   ]
  },
  {
   "cell_type": "markdown",
   "metadata": {},
   "source": [
    "## Installing GLPK/MathProg to Run from a Jupyter Notebook"
   ]
  },
  {
   "cell_type": "markdown",
   "metadata": {},
   "source": [
    "You will need to obtain a working copy of GLPK to run the code cells in the following tutorial. Here some recommendations.\n",
    "\n",
    "### In the Cloud\n",
    "\n",
    "This notebook is part of collection of notebooks available in the github repository [CBE40455](https://github.com/jckantor/CBE40455).  This collection can be opened directly in a Docker container on [mybinder.org](http://mybinder.org). Click on this button \n",
    "\n",
    "[![Binder](http://mybinder.org/badge.svg)](http://mybinder.org/repo/jckantor/CBE40455)\n",
    "\n",
    "[mybinder.org](http://mybinder.org) provides a live version of notebook that can be run, edited, and downloaded for your use under terms of the Creative Commons License. Unfortunately, persistent file storage is not available through this service, so you need to be sure and download any changes or new notebooks that you may create.\n",
    "\n",
    "### On your Laptop\n",
    "\n",
    "Assuming you have downloaded and installed a version of Jupyter notebooks (either Continuum Analytics [Anaconda](https://www.continuum.io/downloads) or [Enthought Canopy](https://store.enthought.com/downloads/#default)), the next step is to install a version of GLPK.\n",
    "\n",
    "1. For Windows/PC hardware, the [Windows for GLPK web site](http://winglpk.sourceforge.net/) maintains a pre-compiled version of GLPK based on the lastest official release. Test your GLPK installation by executing the `glpsol` version command in a terminal window.\n",
    "```\n",
    "glpsol -v\n",
    "```\n",
    "\n",
    "2. For MacOS users, the most convenient installation process is to use a package manager. If you are not already doing so, you may consider installing the excellect [Homebrew package manager](http://brew.sh/) using the instructions on their homepage. The basic instruction is to open a terminal window (open the file browser go to the directory Applications/Utilities then click on `Terminal`), then execute this command:\n",
    "```\n",
    "ruby -e \"$(curl -fsSL https://raw.githubusercontent.com/Homebrew/install/master/install)\"\n",
    "```\n",
    "After Homebrew is installed, GLPK can be installed with two commands in the terminal window:\n",
    "```\n",
    "  brew tap homebrew/science\n",
    "  brew install glpk\n",
    "```\n",
    "Test your GLPK installation by executing the `glpsol` version command in a terminal window.\n",
    "```\n",
    "glpsol -v\n",
    "```\n",
    "\n",
    "### Testing \n",
    "\n",
    "If GLPK has been installed correctly on your machine then you should be able to execute the following command from within a Jupyter notebook.. Test this before going further with this tutorial."
   ]
  },
  {
   "cell_type": "code",
   "execution_count": 247,
   "metadata": {
    "collapsed": false
   },
   "outputs": [
    {
     "name": "stdout",
     "output_type": "stream",
     "text": [
      "GLPSOL: GLPK LP/MIP Solver, v4.52\n",
      "Parameter(s) specified in the command line:\n",
      " -m /dev/stdin\n",
      "Reading model section from /dev/stdin...\n",
      "3 lines were read\n",
      "Hello, World\n",
      "Model has been successfully generated\n",
      "GLPK Simplex Optimizer, v4.52\n",
      "0 rows, 0 columns, 0 non-zeros\n",
      "~     0: obj =   0.000000000e+00  infeas =  0.000e+00\n",
      "OPTIMAL SOLUTION FOUND\n",
      "Time used:   0.0 secs\n",
      "Memory used: 0.0 Mb (41523 bytes)\n"
     ]
    }
   ],
   "source": [
    "%%script glpsol -m /dev/stdin\n",
    "\n",
    "printf \"Hello, World\\n\";\n",
    "end;"
   ]
  },
  {
   "cell_type": "markdown",
   "metadata": {},
   "source": [
    "## Running GLPK/MathProg from Code Cells"
   ]
  },
  {
   "cell_type": "markdown",
   "metadata": {},
   "source": [
    "Jupyter notebooks provide a set of commands known as [Cell magics](http://nbviewer.ipython.org/github/ipython/ipython/blob/master/examples/notebooks/Cell%20Magics.ipynb)\n",
    "that provide the mechanism for using GLPK/MathProg within code cells. \n",
    "\n",
    "To process a MathProg model within a code cell, use the `%%script` cell magic to run the [`glpsol`](http://en.wikibooks.org/wiki/GLPK/Using_GLPSOL) command. The first line of the cell will read\n",
    "\n",
    "`%%script glpsol -m /dev/stdin` \n",
    "\n",
    "This line uses cell magic [`%%script`](http://nbviewer.ipython.org/github/ipython/ipython/blob/master/examples/notebooks/Script%20Magics.ipynb) to run the command `glpsol -m /dev/stdin`.  The `-m /dev/stdin` part is a `glpsol` option directing `glpsol` to accept MathProg input from the standard input. For the `%%script` command, the standard input consists of the remaining lines in the code cell. \n",
    "\n",
    "Let's demonstrate this for a simple model that adds two parameter values and displays the result. Look for the displayed result among the other output generated by the `glpsol` command."
   ]
  },
  {
   "cell_type": "code",
   "execution_count": 248,
   "metadata": {
    "collapsed": false
   },
   "outputs": [
    {
     "name": "stdout",
     "output_type": "stream",
     "text": [
      "GLPSOL: GLPK LP/MIP Solver, v4.52\n",
      "Parameter(s) specified in the command line:\n",
      " -m /dev/stdin\n",
      "Reading model section from /dev/stdin...\n",
      "15 lines were read\n",
      "Generating Ca...\n",
      "Generating Cb...\n",
      "Generating obj...\n",
      "Model has been successfully generated\n",
      "GLPK Simplex Optimizer, v4.52\n",
      "3 rows, 2 columns, 6 non-zeros\n",
      "Preprocessing...\n",
      "2 rows, 2 columns, 4 non-zeros\n",
      "Scaling...\n",
      " A: min|aij| =  1.000e+00  max|aij| =  3.000e+00  ratio =  3.000e+00\n",
      "Problem data seem to be well scaled\n",
      "Constructing initial basis...\n",
      "Size of triangular part is 2\n",
      "*     0: obj =   0.000000000e+00  infeas =  0.000e+00 (0)\n",
      "*     2: obj =   5.371428571e+00  infeas =  0.000e+00 (0)\n",
      "OPTIMAL LP SOLUTION FOUND\n",
      "Time used:   0.0 secs\n",
      "Memory used: 0.1 Mb (102203 bytes)\n",
      "Display statement at line 13\n",
      "x.val = 3.81428571428571\n",
      "y.val = 1.55714285714286\n",
      "Model has been successfully processed\n"
     ]
    }
   ],
   "source": [
    "%%script glpsol -m /dev/stdin\n",
    "\n",
    "param a := 12.3;\n",
    "param b := 13.0;\n",
    "\n",
    "var x >= 0;\n",
    "var y >= 0;\n",
    "\n",
    "s.t. Ca : 2*x + 3*y <= a;\n",
    "s.t. Cb : 3*x + 1*y <= b;\n",
    "\n",
    "maximize obj: x + y;\n",
    "solve;\n",
    "display x,y;\n",
    "   \n",
    "end;"
   ]
  },
  {
   "cell_type": "markdown",
   "metadata": {},
   "source": [
    "## Specifying Input Files for MathProg"
   ]
  },
  {
   "cell_type": "markdown",
   "metadata": {},
   "source": [
    "`glpsol` provides the `-m filename` option to specify one model file with a `.mod` suffix, and multiple `-d filename` to specify multiple data files with `.dat` suffixes.  As explained later, dditional input files can be specified via the MathProg `table` command. \n",
    "\n",
    "Using the `%%script` cell magic, one of the input files can be specifieds `/dev/stdin` in which case the input will be read from the remaining lines in the cell.\n",
    "\n",
    "To demonstrate, let's first save a simple model file using the `%%writefile` cell magic."
   ]
  },
  {
   "cell_type": "code",
   "execution_count": 249,
   "metadata": {
    "collapsed": false
   },
   "outputs": [
    {
     "name": "stdout",
     "output_type": "stream",
     "text": [
      "Overwriting ExampleModel.mod\n"
     ]
    }
   ],
   "source": [
    "%%writefile ExampleModel.mod\n",
    "\n",
    "# model section\n",
    "param a;\n",
    "param b;\n",
    "\n",
    "var x >= 0;\n",
    "var y >= 0;\n",
    "\n",
    "subject to Ca: 3.0*x + 4.0*y <= a;\n",
    "subject to Cb: 4.0*x + 2.0*y <= b;\n",
    "\n",
    "maximize obj: x + y;\n",
    "solve;\n",
    "printf \"x = %6.3f\\n\", x;\n",
    "printf \"y = %6.3f\\n\", y;\n",
    "\n",
    "end;"
   ]
  },
  {
   "cell_type": "markdown",
   "metadata": {},
   "source": [
    "This model requires at least one data section to specify values for the parameters `a` and `b`. The next cell shows this is done from the standard input."
   ]
  },
  {
   "cell_type": "code",
   "execution_count": 229,
   "metadata": {
    "collapsed": false
   },
   "outputs": [
    {
     "name": "stdout",
     "output_type": "stream",
     "text": [
      "GLPSOL: GLPK LP/MIP Solver, v4.52\n",
      "Parameter(s) specified in the command line:\n",
      " -m ExampleModel.mod -d /dev/stdin\n",
      "Reading model section from ExampleModel.mod...\n",
      "ExampleModel.mod:17: warning: final NL missing before end of file\n",
      "17 lines were read\n",
      "Reading data section from /dev/stdin...\n",
      "5 lines were read\n",
      "Generating Ca...\n",
      "Generating Cb...\n",
      "Generating obj...\n",
      "Model has been successfully generated\n",
      "GLPK Simplex Optimizer, v4.52\n",
      "3 rows, 2 columns, 6 non-zeros\n",
      "Preprocessing...\n",
      "2 rows, 2 columns, 4 non-zeros\n",
      "Scaling...\n",
      " A: min|aij| =  2.000e+00  max|aij| =  4.000e+00  ratio =  2.000e+00\n",
      "Problem data seem to be well scaled\n",
      "Constructing initial basis...\n",
      "Size of triangular part is 2\n",
      "*     0: obj =   0.000000000e+00  infeas =  0.000e+00 (0)\n",
      "*     2: obj =   3.500000000e+00  infeas =  0.000e+00 (0)\n",
      "OPTIMAL LP SOLUTION FOUND\n",
      "Time used:   0.0 secs\n",
      "Memory used: 0.1 Mb (102209 bytes)\n",
      "x =  1.700\n",
      "y =  1.800\n",
      "Model has been successfully processed\n"
     ]
    }
   ],
   "source": [
    "%%script glpsol -m ExampleModel.mod -d /dev/stdin\n",
    "\n",
    "param a := 12.3;\n",
    "param b := 10.4;\n",
    "\n",
    "end;"
   ]
  },
  {
   "cell_type": "markdown",
   "metadata": {},
   "source": [
    "The next two cells show an alternative approach in which the data files if first saved as a data file, and `glpsol` is run as a system command using options to specify separate model and data sections."
   ]
  },
  {
   "cell_type": "code",
   "execution_count": 230,
   "metadata": {
    "collapsed": false
   },
   "outputs": [
    {
     "name": "stdout",
     "output_type": "stream",
     "text": [
      "Overwriting ExampleModel.dat\n"
     ]
    }
   ],
   "source": [
    "%%writefile ExampleModel.dat\n",
    "data;\n",
    "\n",
    "param a := 2.3;\n",
    "param b := 0.4;\n",
    "\n",
    "end;"
   ]
  },
  {
   "cell_type": "code",
   "execution_count": 231,
   "metadata": {
    "collapsed": false
   },
   "outputs": [
    {
     "name": "stdout",
     "output_type": "stream",
     "text": [
      "GLPSOL: GLPK LP/MIP Solver, v4.52\r\n",
      "Parameter(s) specified in the command line:\r\n",
      " -m ExampleModel.mod -d ExampleModel.dat\r\n",
      "Reading model section from ExampleModel.mod...\r\n",
      "ExampleModel.mod:17: warning: final NL missing before end of file\r\n",
      "17 lines were read\r\n",
      "Reading data section from ExampleModel.dat...\r\n",
      "ExampleModel.dat:6: warning: final NL missing before end of file\r\n",
      "6 lines were read\r\n",
      "Generating Ca...\r\n",
      "Generating Cb...\r\n",
      "Generating obj...\r\n",
      "Model has been successfully generated\r\n",
      "GLPK Simplex Optimizer, v4.52\r\n",
      "3 rows, 2 columns, 6 non-zeros\r\n",
      "Preprocessing...\r\n",
      "2 rows, 2 columns, 4 non-zeros\r\n",
      "Scaling...\r\n",
      " A: min|aij| =  2.000e+00  max|aij| =  4.000e+00  ratio =  2.000e+00\r\n",
      "Problem data seem to be well scaled\r\n",
      "Constructing initial basis...\r\n",
      "Size of triangular part is 2\r\n",
      "*     0: obj =   0.000000000e+00  infeas =  0.000e+00 (0)\r\n",
      "*     2: obj =   2.000000000e-01  infeas =  0.000e+00 (0)\r\n",
      "OPTIMAL LP SOLUTION FOUND\r\n",
      "Time used:   0.0 secs\r\n",
      "Memory used: 0.1 Mb (102209 bytes)\r\n",
      "x =  0.000\r\n",
      "y =  0.200\r\n",
      "Model has been successfully processed\r\n"
     ]
    }
   ],
   "source": [
    "!glpsol -m ExampleModel.mod -d ExampleModel.dat"
   ]
  },
  {
   "cell_type": "markdown",
   "metadata": {},
   "source": [
    "## Redirecting MathProg Output\n",
    "\n",
    "The `glpsol` command generates six types of output while processing a MathProg model:\n",
    "\n",
    "* **log**: A log showing the execution steps of `glpsol`, including reports of model syntax errors and solution status. This is always sent to standard output. The `--log filename` writes a copy of the log to a specified file.\n",
    "* **display, printf**: The output of MathProg `display` or `printf` commands. By default this is sent to standard output, but may be redirected using the `glpsol -y filename` option.\n",
    "* **plain text solution**: This is a generic, human readable solution report that is generated only if the `glpsol -o filename` option is set.\n",
    "* **machine solution**: This is a machine readable solution report generated by the `glpsol -w filename` option. The main use of this option is break up the post-processing of a solution into modular parts.\n",
    "* **table**: The `MathProg` `table` commmand provides a method for writing data to specified files and database connectors, including `.csv` formats.\n",
    "* **errors**: Abnormal exits from `glpsol` are always report on standard error.\n",
    "\n",
    "\n",
    "| Mathprog Output | default | redirect |\n",
    "| -- | -- |\n",
    "| **log** | /dev/stdout | --log filename (copy) |\n",
    "| **display, printf** | /dev/stdout | `-y filename` |\n",
    "| **table**| | specified in table command|\n",
    "| **plain text solution** | | `-o filename` |\n",
    "| **binary solution** | | `-w filename` |\n",
    "| **errors** | /dev/stderr | ` ` |\n",
    "\n",
    "\n",
    "\n",
    "* --out redirect stdout\n",
    "* --err redirect err output\n"
   ]
  },
  {
   "cell_type": "code",
   "execution_count": 292,
   "metadata": {
    "collapsed": false
   },
   "outputs": [],
   "source": [
    "%%script --out output glpsol -m ExampleModel.mod -d /dev/stdin -y out.txt\n",
    "\n",
    "data;\n",
    "\n",
    "param a := 12.3;\n",
    "param b := 10.4;\n",
    "\n",
    "end;"
   ]
  },
  {
   "cell_type": "code",
   "execution_count": 295,
   "metadata": {
    "collapsed": false
   },
   "outputs": [
    {
     "name": "stdout",
     "output_type": "stream",
     "text": [
      "x =  1.700\n",
      "y =  1.800\n",
      "\n"
     ]
    }
   ],
   "source": [
    "def readfile(fname):\n",
    "    f = open('out.txt')\n",
    "    s = f.read()\n",
    "    f.close()\n",
    "    return s\n",
    "\n",
    "print readfile('out.txt')"
   ]
  },
  {
   "cell_type": "code",
   "execution_count": 289,
   "metadata": {
    "collapsed": false
   },
   "outputs": [
    {
     "name": "stdout",
     "output_type": "stream",
     "text": [
      "GLPSOL: GLPK LP/MIP Solver, v4.52\n",
      "Parameter(s) specified in the command line:\n",
      " -m ExampleModel.mod -d /dev/stdin -y out.txt\n",
      "Reading model section from ExampleModel.mod...\n",
      "ExampleModel.mod:17: warning: final NL missing before end of file\n",
      "17 lines were read\n",
      "Reading data section from /dev/stdin...\n",
      "7 lines were read\n",
      "Generating Ca...\n",
      "Generating Cb...\n",
      "Generating obj...\n",
      "Model has been successfully generated\n",
      "GLPK Simplex Optimizer, v4.52\n",
      "3 rows, 2 columns, 6 non-zeros\n",
      "Preprocessing...\n",
      "2 rows, 2 columns, 4 non-zeros\n",
      "Scaling...\n",
      " A: min|aij| =  2.000e+00  max|aij| =  4.000e+00  ratio =  2.000e+00\n",
      "Problem data seem to be well scaled\n",
      "Constructing initial basis...\n",
      "Size of triangular part is 2\n",
      "*     0: obj =   0.000000000e+00  infeas =  0.000e+00 (0)\n",
      "*     2: obj =   3.500000000e+00  infeas =  0.000e+00 (0)\n",
      "OPTIMAL LP SOLUTION FOUND\n",
      "Time used:   0.0 secs\n",
      "Memory used: 0.1 Mb (102256 bytes)\n",
      "Model has been successfully processed\n",
      "\n"
     ]
    }
   ],
   "source": [
    "print output"
   ]
  },
  {
   "cell_type": "markdown",
   "metadata": {},
   "source": [
    "The `-y out.txt` option redirects display output to the file `out.txt`. The file can be read and displayed using the usual python methods as shown here:"
   ]
  },
  {
   "cell_type": "markdown",
   "metadata": {},
   "source": [
    "The `--out output` is an option passed to script that redirects normal cell output to a python variable `output`. This will contain the remaining output of the `glpsol` command which can be displayed as follows:"
   ]
  },
  {
   "cell_type": "markdown",
   "metadata": {},
   "source": [
    "If things went well we should see a line `OPTIMAL LP SOLUTION FOUND` along with additional information that is useful in tuning larger models for efficient solution.  If things didn't go well, an appropriate message will be displayed indicating an error in processing the model description, or problems in finding a numerical solution.\n",
    "\n",
    "In this case `glpsol` says an optimal solution was found. The next step is to show the displayed results that were written to the file `out.txt`."
   ]
  },
  {
   "cell_type": "markdown",
   "metadata": {},
   "source": [
    "The extra `.val` appended to each variable name indicates that we are looking at value of the variable found by the solver. Also associated with each variable is a `.dual` value that will be useful in analyzing the results of linear optimization problems. "
   ]
  },
  {
   "cell_type": "markdown",
   "metadata": {},
   "source": [
    "## Working with MathProg Tables"
   ]
  },
  {
   "cell_type": "code",
   "execution_count": 275,
   "metadata": {
    "collapsed": true
   },
   "outputs": [],
   "source": [
    "%%script --out output glpsol -m /dev/stdin -y /dev/stdout\n",
    "\n",
    "# declare problem variables\n",
    "var x;\n",
    "var y;\n",
    "\n",
    "# list all equations\n",
    "Cons1 : 3*x + 2*y <= 12;\n",
    "Cons2 : 2.1*x + y <= 3;\n",
    "    \n",
    "maximize obj: x + y;\n",
    "\n",
    "# solve\n",
    "solve;\n",
    "\n",
    "# output results to .csv file\n",
    "table result {1..1} OUT \"CSV\" \"out.csv\" : x, y;\n",
    "    \n",
    "end;"
   ]
  },
  {
   "cell_type": "markdown",
   "metadata": {},
   "source": [
    "### Reading Data from .csv Files"
   ]
  },
  {
   "cell_type": "code",
   "execution_count": 11,
   "metadata": {
    "collapsed": false
   },
   "outputs": [
    {
     "name": "stdout",
     "output_type": "stream",
     "text": [
      "Overwriting input.csv\n"
     ]
    }
   ],
   "source": [
    "%%writefile input.csv\n",
    "Name, Age\n",
    "Abigail, 22.1\n",
    "Brent, 24.1\n",
    "Carla, 21.0\n",
    "Doug, 20.0"
   ]
  },
  {
   "cell_type": "code",
   "execution_count": 12,
   "metadata": {
    "collapsed": false
   },
   "outputs": [],
   "source": [
    "%%script --out output glpsol -m /dev/stdin\n",
    "\n",
    "set NAMES;\n",
    "\n",
    "param Age{NAMES};\n",
    "\n",
    "table tin IN \"CSV\" \"input.csv\" : NAMES <- [Name], Age;\n",
    "    \n",
    "for {n in NAMES}: printf \"%s\\n\", n;\n",
    "    \n",
    "end;"
   ]
  },
  {
   "cell_type": "code",
   "execution_count": 13,
   "metadata": {
    "collapsed": false
   },
   "outputs": [
    {
     "name": "stdout",
     "output_type": "stream",
     "text": [
      "GLPSOL: GLPK LP/MIP Solver, v4.52\n",
      "Parameter(s) specified in the command line:\n",
      " -m /dev/stdin\n",
      "Reading model section from /dev/stdin...\n",
      "/dev/stdin:10: warning: final NL missing before end of file\n",
      "10 lines were read\n",
      "Reading tin...\n",
      "/dev/stdin:6: field Age missing in input table\n",
      "MathProg model processing error\n",
      "\n"
     ]
    }
   ],
   "source": [
    "print output"
   ]
  },
  {
   "cell_type": "code",
   "execution_count": 14,
   "metadata": {
    "collapsed": false
   },
   "outputs": [
    {
     "data": {
      "text/html": [
       "<div style=\"max-height:1000px;max-width:1500px;overflow:auto;\">\n",
       "<table border=\"1\" class=\"dataframe\">\n",
       "  <thead>\n",
       "    <tr style=\"text-align: right;\">\n",
       "      <th></th>\n",
       "      <th>Name</th>\n",
       "      <th> Age</th>\n",
       "    </tr>\n",
       "  </thead>\n",
       "  <tbody>\n",
       "    <tr>\n",
       "      <th>0</th>\n",
       "      <td> Abigail</td>\n",
       "      <td> 22.1</td>\n",
       "    </tr>\n",
       "    <tr>\n",
       "      <th>1</th>\n",
       "      <td>   Brent</td>\n",
       "      <td> 24.1</td>\n",
       "    </tr>\n",
       "    <tr>\n",
       "      <th>2</th>\n",
       "      <td>   Carla</td>\n",
       "      <td> 21.0</td>\n",
       "    </tr>\n",
       "    <tr>\n",
       "      <th>3</th>\n",
       "      <td>    Doug</td>\n",
       "      <td> 20.0</td>\n",
       "    </tr>\n",
       "  </tbody>\n",
       "</table>\n",
       "</div>"
      ],
      "text/plain": [
       "      Name   Age\n",
       "0  Abigail  22.1\n",
       "1    Brent  24.1\n",
       "2    Carla  21.0\n",
       "3     Doug  20.0"
      ]
     },
     "execution_count": 14,
     "metadata": {},
     "output_type": "execute_result"
    }
   ],
   "source": [
    "import pandas\n",
    "pandas.read_csv(\"input.csv\")"
   ]
  },
  {
   "cell_type": "code",
   "execution_count": 117,
   "metadata": {
    "collapsed": false
   },
   "outputs": [
    {
     "name": "stdout",
     "output_type": "stream",
     "text": [
      "x,y,z\n",
      "-7.57575757575758,12.9090909090909,8.90909090909091\n",
      "\n"
     ]
    }
   ],
   "source": [
    "f = open('out.csv')\n",
    "print f.read()\n",
    "f.close()"
   ]
  },
  {
   "cell_type": "markdown",
   "metadata": {},
   "source": [
    "### Writing MathProg Output to .csv Files"
   ]
  },
  {
   "cell_type": "code",
   "execution_count": 15,
   "metadata": {
    "collapsed": false
   },
   "outputs": [],
   "source": [
    "%%script --out output glpsol -m /dev/stdin\n",
    "\n",
    "# declare problem variables\n",
    "var x;\n",
    "var y;\n",
    "var z;\n",
    "\n",
    "# list all equations\n",
    "eqn1 : 3*x + 2*y + z = 12;\n",
    "eqn2 : 2.1*x + y = -3;\n",
    "eqn3 : y - z = 4;\n",
    "\n",
    "# solve\n",
    "solve;\n",
    "\n",
    "# output results to .csv file\n",
    "table result {1..1} OUT \"CSV\" \"out.csv\" : x, y, z;\n",
    "    \n",
    "end;"
   ]
  },
  {
   "cell_type": "markdown",
   "metadata": {},
   "source": [
    "First check the diagnostic output to verify that no errors were encountered."
   ]
  },
  {
   "cell_type": "code",
   "execution_count": 16,
   "metadata": {
    "collapsed": false
   },
   "outputs": [
    {
     "name": "stdout",
     "output_type": "stream",
     "text": [
      "GLPSOL: GLPK LP/MIP Solver, v4.52\n",
      "Parameter(s) specified in the command line:\n",
      " -m /dev/stdin\n",
      "Reading model section from /dev/stdin...\n",
      "/dev/stdin:18: warning: final NL missing before end of file\n",
      "18 lines were read\n",
      "Generating eqn1...\n",
      "Generating eqn2...\n",
      "Generating eqn3...\n",
      "Model has been successfully generated\n",
      "GLPK Simplex Optimizer, v4.52\n",
      "3 rows, 3 columns, 7 non-zeros\n",
      "Preprocessing...\n",
      "3 rows, 3 columns, 7 non-zeros\n",
      "Scaling...\n",
      " A: min|aij| =  1.000e+00  max|aij| =  3.000e+00  ratio =  3.000e+00\n",
      "Problem data seem to be well scaled\n",
      "Constructing initial basis...\n",
      "Size of triangular part is 2\n",
      "      0: obj =   0.000000000e+00  infeas =  1.420e+01 (1)\n",
      "*     1: obj =   0.000000000e+00  infeas =  0.000e+00 (0)\n",
      "OPTIMAL LP SOLUTION FOUND\n",
      "Time used:   0.0 secs\n",
      "Memory used: 0.1 Mb (94191 bytes)\n",
      "Writing result...\n",
      "Model has been successfully processed\n",
      "\n"
     ]
    }
   ],
   "source": [
    "print output"
   ]
  },
  {
   "cell_type": "markdown",
   "metadata": {},
   "source": [
    "The result of the `table` command is a `.csv` file that can be read by virtually any spreadsheet or data analysis software.  Let's first verify the format"
   ]
  },
  {
   "cell_type": "code",
   "execution_count": 17,
   "metadata": {
    "collapsed": false
   },
   "outputs": [
    {
     "name": "stdout",
     "output_type": "stream",
     "text": [
      "x,y,z\n",
      "-7.57575757575758,12.9090909090909,8.90909090909091\n",
      "\n"
     ]
    }
   ],
   "source": [
    "f = open('out.csv');\n",
    "print(f.read())\n",
    "f.close()"
   ]
  },
  {
   "cell_type": "markdown",
   "metadata": {},
   "source": [
    "As an example of it's use, here's how the file could be read as a pandas DataFrame and the results plotted."
   ]
  },
  {
   "cell_type": "code",
   "execution_count": 18,
   "metadata": {
    "collapsed": false
   },
   "outputs": [
    {
     "data": {
      "text/html": [
       "<div style=\"max-height:1000px;max-width:1500px;overflow:auto;\">\n",
       "<table border=\"1\" class=\"dataframe\">\n",
       "  <thead>\n",
       "    <tr style=\"text-align: right;\">\n",
       "      <th></th>\n",
       "      <th>x</th>\n",
       "      <th>y</th>\n",
       "      <th>z</th>\n",
       "    </tr>\n",
       "  </thead>\n",
       "  <tbody>\n",
       "    <tr>\n",
       "      <th>0</th>\n",
       "      <td>-7.575758</td>\n",
       "      <td> 12.909091</td>\n",
       "      <td> 8.909091</td>\n",
       "    </tr>\n",
       "  </tbody>\n",
       "</table>\n",
       "</div>"
      ],
      "text/plain": [
       "          x          y         z\n",
       "0 -7.575758  12.909091  8.909091"
      ]
     },
     "metadata": {},
     "output_type": "display_data"
    },
    {
     "data": {
      "text/plain": [
       "<matplotlib.axes.AxesSubplot at 0x109aa1f10>"
      ]
     },
     "execution_count": 18,
     "metadata": {},
     "output_type": "execute_result"
    },
    {
     "data": {
      "image/png": "[encoded data removed]",
      "text/plain": [
       "<matplotlib.figure.Figure at 0x109aa1950>"
      ]
     },
     "metadata": {},
     "output_type": "display_data"
    }
   ],
   "source": [
    "import pandas\n",
    "df = pandas.read_csv(\"out.csv\");\n",
    "display(df)\n",
    "df.plot(kind='bar')"
   ]
  },
  {
   "cell_type": "code",
   "execution_count": 19,
   "metadata": {
    "collapsed": false
   },
   "outputs": [
    {
     "name": "stdout",
     "output_type": "stream",
     "text": [
      "Overwriting input.csv\n"
     ]
    }
   ],
   "source": [
    "%%writefile input.csv\n",
    "A,B,C\n",
    "12.2, 13.1, 13.2"
   ]
  },
  {
   "cell_type": "code",
   "execution_count": 20,
   "metadata": {
    "collapsed": false
   },
   "outputs": [],
   "source": [
    "%%script --out output glpsol -m /dev/stdin\n",
    "\n",
    "set S;\n",
    "\n",
    "param a;\n",
    "param b;\n",
    "param c;\n",
    "\n",
    "table input IN \"CSV\" \"input.csv\": S <- [A], a~A, b~B, c~C;\n",
    "    \n",
    "end;"
   ]
  },
  {
   "cell_type": "code",
   "execution_count": 21,
   "metadata": {
    "collapsed": false
   },
   "outputs": [
    {
     "name": "stdout",
     "output_type": "stream",
     "text": [
      "GLPSOL: GLPK LP/MIP Solver, v4.52\n",
      "Parameter(s) specified in the command line:\n",
      " -m /dev/stdin\n",
      "Reading model section from /dev/stdin...\n",
      "/dev/stdin:8: a must have 1 subscript rather than 0\n",
      "Context: ...am b ; param c ; table input IN '...' '...' : S <- [ A ] , a\n",
      "MathProg model processing error\n",
      "\n"
     ]
    }
   ],
   "source": [
    "print output"
   ]
  },
  {
   "cell_type": "markdown",
   "metadata": {},
   "source": [
    "## Simple Scripting"
   ]
  },
  {
   "cell_type": "code",
   "execution_count": 70,
   "metadata": {
    "collapsed": false
   },
   "outputs": [
    {
     "name": "stdout",
     "output_type": "stream",
     "text": [
      "12.0\n"
     ]
    }
   ],
   "source": [
    "%%bash -s $a\n",
    "echo $1"
   ]
  },
  {
   "cell_type": "code",
   "execution_count": 85,
   "metadata": {
    "collapsed": false
   },
   "outputs": [
    {
     "name": "stderr",
     "output_type": "stream",
     "text": [
      "UsageError: %%script is a cell magic, but the cell body is empty."
     ]
    }
   ],
   "source": [
    "%%script echo $a"
   ]
  },
  {
   "cell_type": "code",
   "execution_count": 148,
   "metadata": {
    "collapsed": false
   },
   "outputs": [
    {
     "name": "stdout",
     "output_type": "stream",
     "text": [
      "GLPSOL: GLPK LP/MIP Solver, v4.52\n",
      "Parameter(s) specified in the command line:\n",
      " -m test.mod\n",
      "Reading model section from test.mod...\n",
      "test.mod:17: warning: final NL missing before end of file\n",
      "17 lines were read\n",
      "Generating Ca...\n",
      "Generating Cb...\n",
      "Generating obj...\n",
      "Model has been successfully generated\n",
      "GLPK Simplex Optimizer, v4.52\n",
      "3 rows, 2 columns, 6 non-zeros\n",
      "Preprocessing...\n",
      "2 rows, 2 columns, 4 non-zeros\n",
      "Scaling...\n",
      " A: min|aij| =  1.000e+00  max|aij| =  3.000e+00  ratio =  3.000e+00\n",
      "Problem data seem to be well scaled\n",
      "Constructing initial basis...\n",
      "Size of triangular part is 2\n",
      "*     0: obj =   0.000000000e+00  infeas =  0.000e+00 (0)\n",
      "*     2: obj =   5.371428571e+00  infeas =  0.000e+00 (0)\n",
      "OPTIMAL LP SOLUTION FOUND\n",
      "Time used:   0.0 secs\n",
      "Memory used: 0.1 Mb (102201 bytes)\n",
      "Display statement at line 15\n",
      "x.val = 3.81428571428571\n",
      "y.val = 1.55714285714286\n",
      "Model has been successfully processed\n"
     ]
    }
   ],
   "source": [
    "%%bash -s $a\n",
    "glpsol -m $1\n"
   ]
  }
 ],
 "metadata": {
  "kernelspec": {
   "display_name": "Python 2",
   "language": "python",
   "name": "python2"
  },
  "language_info": {
   "codemirror_mode": {
    "name": "ipython",
    "version": 2
   },
   "file_extension": ".py",
   "mimetype": "text/x-python",
   "name": "python",
   "nbconvert_exporter": "python",
   "pygments_lexer": "ipython2",
   "version": "2.7.10"
  }
 },
 "nbformat": 4,
 "nbformat_minor": 0
}
