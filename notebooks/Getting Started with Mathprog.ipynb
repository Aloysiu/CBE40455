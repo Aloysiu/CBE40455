{
 "metadata": {
  "name": ""
 },
 "nbformat": 3,
 "nbformat_minor": 0,
 "worksheets": [
  {
   "cells": [
    {
     "cell_type": "heading",
     "level": 1,
     "metadata": {},
     "source": [
      "Getting Started with Mathprog"
     ]
    },
    {
     "cell_type": "code",
     "collapsed": false,
     "input": [
      "%%writefile test.dat\n",
      "\n",
      "data;\n",
      "\n",
      "param a := 3;\n",
      "\n",
      "end;\n"
     ],
     "language": "python",
     "metadata": {},
     "outputs": [
      {
       "output_type": "stream",
       "stream": "stdout",
       "text": [
        "Overwriting test.dat\n"
       ]
      }
     ],
     "prompt_number": 20
    },
    {
     "cell_type": "code",
     "collapsed": false,
     "input": [
      "%%script glpsol -m /dev/stdin -d test.dat\n",
      "\n",
      "param a;\n",
      "\n",
      "printf \"Hello, World\\n\";\n",
      "printf \"a = %d\\n\", a;\n",
      "\n",
      "end;\n"
     ],
     "language": "python",
     "metadata": {},
     "outputs": [
      {
       "output_type": "stream",
       "stream": "stdout",
       "text": [
        "GLPSOL: GLPK LP/MIP Solver, v4.52\n",
        "Parameter(s) specified in the command line:\n",
        " -m /dev/stdin -d test.dat\n",
        "Reading model section from /dev/stdin...\n",
        "/dev/stdin:7: warning: final NL missing before end of file\n",
        "7 lines were read\n",
        "Reading data section from test.dat...\n",
        "test.dat:6: warning: final NL missing before end of file\n",
        "6 lines were read\n",
        "Hello, World\n",
        "a = 3\n",
        "Model has been successfully generated\n",
        "GLPK Simplex Optimizer, v4.52\n",
        "0 rows, 0 columns, 0 non-zeros\n",
        "~     0: obj =   0.000000000e+00  infeas =  0.000e+00\n",
        "OPTIMAL SOLUTION FOUND\n",
        "Time used:   0.0 secs\n",
        "Memory used: 0.1 Mb (65619 bytes)\n"
       ]
      }
     ],
     "prompt_number": 22
    },
    {
     "cell_type": "code",
     "collapsed": false,
     "input": [],
     "language": "python",
     "metadata": {},
     "outputs": []
    }
   ],
   "metadata": {}
  }
 ]
}