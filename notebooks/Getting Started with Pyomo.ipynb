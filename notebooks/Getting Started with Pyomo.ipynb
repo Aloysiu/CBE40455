{
 "metadata": {
  "name": "",
  "signature": "sha256:a1c2569d059fdfb6bd46588aad00550ef77507575cac050aec938fc71a0ef8c4"
 },
 "nbformat": 3,
 "nbformat_minor": 0,
 "worksheets": [
  {
   "cells": [
    {
     "cell_type": "code",
     "collapsed": false,
     "input": [
      "!pip install coopr "
     ],
     "language": "python",
     "metadata": {},
     "outputs": [
      {
       "output_type": "stream",
       "stream": "stdout",
       "text": [
        "Downloading/unpacking coopr\r\n"
       ]
      },
      {
       "output_type": "stream",
       "stream": "stdout",
       "text": [
        "  Downloading Coopr-3.4.7842.tar.gz\r\n"
       ]
      },
      {
       "output_type": "stream",
       "stream": "stdout",
       "text": [
        "  Running setup.py (path:/private/var/folders/c7/17c_xd_54374cf0m_sfw7qb40000gn/T/pip_build_jeff/coopr/setup.py) egg_info for package coopr\r\n"
       ]
      },
      {
       "output_type": "stream",
       "stream": "stdout",
       "text": [
        "    \r\n"
       ]
      },
      {
       "output_type": "stream",
       "stream": "stdout",
       "text": [
        "Requirement already satisfied (use --upgrade to upgrade): PyUtilib>=4.4.3026 in /Users/jeff/anaconda/lib/python2.7/site-packages (from coopr)\r\n"
       ]
      },
      {
       "output_type": "stream",
       "stream": "stdout",
       "text": [
        "Requirement already satisfied (use --upgrade to upgrade): coopr.age>=1.1.3 in /Users/jeff/anaconda/lib/python2.7/site-packages (from coopr)\r\n",
        "Requirement already satisfied (use --upgrade to upgrade): coopr.core>=1.0.1 in /Users/jeff/anaconda/lib/python2.7/site-packages (from coopr)\r\n",
        "Requirement already satisfied (use --upgrade to upgrade): coopr.dae>=1.1 in /Users/jeff/anaconda/lib/python2.7/site-packages (from coopr)\r\n",
        "Requirement already satisfied (use --upgrade to upgrade): coopr.gdp>=1.1.1 in /Users/jeff/anaconda/lib/python2.7/site-packages (from coopr)\r\n",
        "Requirement already satisfied (use --upgrade to upgrade): coopr.misc>=2.8.1 in /Users/jeff/anaconda/lib/python2.7/site-packages (from coopr)\r\n",
        "Requirement already satisfied (use --upgrade to upgrade): coopr.openopt>=1.1.2 in /Users/jeff/anaconda/lib/python2.7/site-packages (from coopr)\r\n",
        "Requirement already satisfied (use --upgrade to upgrade): coopr.opt>=2.11 in /Users/jeff/anaconda/lib/python2.7/site-packages (from coopr)\r\n",
        "Requirement already satisfied (use --upgrade to upgrade): coopr.os>=1.0.3 in /Users/jeff/anaconda/lib/python2.7/site-packages (from coopr)\r\n",
        "Requirement already satisfied (use --upgrade to upgrade): coopr.plugins>=3.1 in /Users/jeff/anaconda/lib/python2.7/site-packages (from coopr)\r\n",
        "Requirement already satisfied (use --upgrade to upgrade): coopr.pyomo>=3.5 in /Users/jeff/anaconda/lib/python2.7/site-packages (from coopr)\r\n",
        "Requirement already satisfied (use --upgrade to upgrade): coopr.pysos>=2.0.8 in /Users/jeff/anaconda/lib/python2.7/site-packages (from coopr)\r\n",
        "Requirement already satisfied (use --upgrade to upgrade): coopr.pysp>=3.4 in /Users/jeff/anaconda/lib/python2.7/site-packages (from coopr)\r\n",
        "Requirement already satisfied (use --upgrade to upgrade): coopr.sucasa>=2.1 in /Users/jeff/anaconda/lib/python2.7/site-packages (from coopr)\r\n",
        "Requirement already satisfied (use --upgrade to upgrade): ply in /Users/jeff/anaconda/lib/python2.7/site-packages (from coopr)\r\n",
        "Requirement already satisfied (use --upgrade to upgrade): nose in /Users/jeff/anaconda/lib/python2.7/site-packages (from coopr)\r\n",
        "Requirement already satisfied (use --upgrade to upgrade): six>=1.2.0 in /Users/jeff/anaconda/lib/python2.7/site-packages (from coopr)\r\n",
        "Requirement already satisfied (use --upgrade to upgrade): pyutilib.autotest>=2.0.1 in /Users/jeff/anaconda/lib/python2.7/site-packages (from PyUtilib>=4.4.3026->coopr)\r\n",
        "Requirement already satisfied (use --upgrade to upgrade): pyutilib.common>=3.0.7 in /Users/jeff/anaconda/lib/python2.7/site-packages (from PyUtilib>=4.4.3026->coopr)\r\n",
        "Requirement already satisfied (use --upgrade to upgrade): pyutilib.component.app>=3.2 in /Users/jeff/anaconda/lib/python2.7/site-packages (from PyUtilib>=4.4.3026->coopr)\r\n",
        "Requirement already satisfied (use --upgrade to upgrade): pyutilib.component.config>=3.6.1 in /Users/jeff/anaconda/lib/python2.7/site-packages (from PyUtilib>=4.4.3026->coopr)\r\n",
        "Requirement already satisfied (use --upgrade to upgrade): pyutilib.component.core>=4.6 in /Users/jeff/anaconda/lib/python2.7/site-packages (from PyUtilib>=4.4.3026->coopr)\r\n",
        "Requirement already satisfied (use --upgrade to upgrade): pyutilib.component.executables>=3.5 in /Users/jeff/anaconda/lib/python2.7/site-packages (from PyUtilib>=4.4.3026->coopr)\r\n",
        "Requirement already satisfied (use --upgrade to upgrade): pyutilib.component.loader>=3.4.1 in /Users/jeff/anaconda/lib/python2.7/site-packages (from PyUtilib>=4.4.3026->coopr)\r\n",
        "Requirement already satisfied (use --upgrade to upgrade): pyutilib.dev>=2.4 in /Users/jeff/anaconda/lib/python2.7/site-packages (from PyUtilib>=4.4.3026->coopr)\r\n",
        "Requirement already satisfied (use --upgrade to upgrade): pyutilib.enum>=1.2 in /Users/jeff/anaconda/lib/python2.7/site-packages (from PyUtilib>=4.4.3026->coopr)\r\n",
        "Requirement already satisfied (use --upgrade to upgrade): pyutilib.excel>=3.1.2 in /Users/jeff/anaconda/lib/python2.7/site-packages (from PyUtilib>=4.4.3026->coopr)\r\n",
        "Requirement already satisfied (use --upgrade to upgrade): pyutilib.math>=3.3.1 in /Users/jeff/anaconda/lib/python2.7/site-packages (from PyUtilib>=4.4.3026->coopr)\r\n",
        "Requirement already satisfied (use --upgrade to upgrade): pyutilib.misc>=5.6 in /Users/jeff/anaconda/lib/python2.7/site-packages (from PyUtilib>=4.4.3026->coopr)\r\n",
        "Requirement already satisfied (use --upgrade to upgrade): pyutilib.ply>=3.0.8 in /Users/jeff/anaconda/lib/python2.7/site-packages (from PyUtilib>=4.4.3026->coopr)\r\n",
        "Requirement already satisfied (use --upgrade to upgrade): pyutilib.pyro>=3.6 in /Users/jeff/anaconda/lib/python2.7/site-packages (from PyUtilib>=4.4.3026->coopr)\r\n",
        "Requirement already satisfied (use --upgrade to upgrade): pyutilib.R>=3.1 in /Users/jeff/anaconda/lib/python2.7/site-packages (from PyUtilib>=4.4.3026->coopr)\r\n",
        "Requirement already satisfied (use --upgrade to upgrade): pyutilib.services>=3.4 in /Users/jeff/anaconda/lib/python2.7/site-packages (from PyUtilib>=4.4.3026->coopr)\r\n",
        "Requirement already satisfied (use --upgrade to upgrade): pyutilib.subprocess>=3.6 in /Users/jeff/anaconda/lib/python2.7/site-packages (from PyUtilib>=4.4.3026->coopr)\r\n",
        "Requirement already satisfied (use --upgrade to upgrade): pyutilib.svn>=1.5 in /Users/jeff/anaconda/lib/python2.7/site-packages (from PyUtilib>=4.4.3026->coopr)\r\n",
        "Requirement already satisfied (use --upgrade to upgrade): pyutilib.th>=5.4.1 in /Users/jeff/anaconda/lib/python2.7/site-packages (from PyUtilib>=4.4.3026->coopr)\r\n",
        "Requirement already satisfied (use --upgrade to upgrade): pyutilib.virtualenv>=4.2 in /Users/jeff/anaconda/lib/python2.7/site-packages (from PyUtilib>=4.4.3026->coopr)\r\n",
        "Requirement already satisfied (use --upgrade to upgrade): pyutilib.workflow>=3.5 in /Users/jeff/anaconda/lib/python2.7/site-packages (from PyUtilib>=4.4.3026->coopr)\r\n",
        "Requirement already satisfied (use --upgrade to upgrade): virtualenv<1.10 in /Users/jeff/anaconda/lib/python2.7/site-packages (from pyutilib.virtualenv>=4.2->PyUtilib>=4.4.3026->coopr)\r\n",
        "Installing collected packages: coopr\r\n",
        "  Running setup.py install for coopr\r\n"
       ]
      },
      {
       "output_type": "stream",
       "stream": "stdout",
       "text": [
        "    Skipping installation of /Users/jeff/anaconda/lib/python2.7/site-packages/coopr/__init__.py (namespace package)\r\n",
        "    \r\n"
       ]
      },
      {
       "output_type": "stream",
       "stream": "stdout",
       "text": [
        "    Installing /Users/jeff/anaconda/lib/python2.7/site-packages/Coopr-3.4.7842-py2.7-nspkg.pth\r\n"
       ]
      },
      {
       "output_type": "stream",
       "stream": "stdout",
       "text": [
        "Successfully installed coopr\r\n",
        "Cleaning up...\r\n"
       ]
      }
     ],
     "prompt_number": 29
    },
    {
     "cell_type": "code",
     "collapsed": false,
     "input": [
      "import coopr"
     ],
     "language": "python",
     "metadata": {},
     "outputs": [],
     "prompt_number": 3
    },
    {
     "cell_type": "code",
     "collapsed": false,
     "input": [
      "clear coopr"
     ],
     "language": "python",
     "metadata": {},
     "outputs": [
      {
       "output_type": "stream",
       "stream": "stdout",
       "text": [
        "\u001b[H\u001b[2J"
       ]
      }
     ],
     "prompt_number": 4
    },
    {
     "cell_type": "code",
     "collapsed": false,
     "input": [
      "import math\n",
      "from coopr import opt,pyomo\n",
      "import yaml"
     ],
     "language": "python",
     "metadata": {},
     "outputs": [],
     "prompt_number": 7
    },
    {
     "cell_type": "code",
     "collapsed": false,
     "input": [
      "# create an instance of the ConcreteModel class\n",
      "model = pyomo.ConcreteModel()\n",
      "\n",
      "# declare variables\n",
      "model.x1 = pyomo.Var(within=pyomo.NonNegativeReals)\n",
      "model.x2 = pyomo.Var(within=pyomo.NonNegativeReals)\n",
      "\n",
      "# declare objective function\n",
      "model.obj = pyomo.Objective(expr=model.x1 + 2 * model.x2)\n",
      "\n",
      "# declare constraints\n",
      "model.cons1 = pyomo.Constraint(expr=3 * model.x1 + 4 * model.x2 >= 1)\n",
      "model.cons2 = pyomo.Constraint(expr=2 * model.x1 + 5 * model.x2 >= 2)\n",
      "\n",
      "model"
     ],
     "language": "python",
     "metadata": {},
     "outputs": [
      {
       "metadata": {},
       "output_type": "pyout",
       "prompt_number": 10,
       "text": [
        "<coopr.pyomo.base.PyomoModel.ConcreteModel at 0x108ec3d70>"
       ]
      }
     ],
     "prompt_number": 10
    },
    {
     "cell_type": "code",
     "collapsed": false,
     "input": [
      "s = opt.SolverFactory('glpk')"
     ],
     "language": "python",
     "metadata": {},
     "outputs": [],
     "prompt_number": 24
    },
    {
     "cell_type": "code",
     "collapsed": false,
     "input": [
      "s.solve(model)"
     ],
     "language": "python",
     "metadata": {},
     "outputs": [
      {
       "ename": "ValueError",
       "evalue": "Unable to find an active Suffix with name 'canonical_repn' on block: unknown",
       "output_type": "pyerr",
       "traceback": [
        "\u001b[0;31m---------------------------------------------------------------------------\u001b[0m\n\u001b[0;31mValueError\u001b[0m                                Traceback (most recent call last)",
        "\u001b[0;32m<ipython-input-29-8db7dad71d2e>\u001b[0m in \u001b[0;36m<module>\u001b[0;34m()\u001b[0m\n\u001b[0;32m----> 1\u001b[0;31m \u001b[0ms\u001b[0m\u001b[0;34m.\u001b[0m\u001b[0msolve\u001b[0m\u001b[0;34m(\u001b[0m\u001b[0mmodel\u001b[0m\u001b[0;34m)\u001b[0m\u001b[0;34m\u001b[0m\u001b[0m\n\u001b[0m",
        "\u001b[0;32m/Users/jeff/anaconda/lib/python2.7/site-packages/coopr/opt/base/solvers.pyc\u001b[0m in \u001b[0;36msolve\u001b[0;34m(self, *args, **kwds)\u001b[0m\n\u001b[1;32m    298\u001b[0m         \u001b[0minitial_time\u001b[0m \u001b[0;34m=\u001b[0m \u001b[0mtime\u001b[0m\u001b[0;34m.\u001b[0m\u001b[0mtime\u001b[0m\u001b[0;34m(\u001b[0m\u001b[0;34m)\u001b[0m\u001b[0;34m\u001b[0m\u001b[0m\n\u001b[1;32m    299\u001b[0m \u001b[0;34m\u001b[0m\u001b[0m\n\u001b[0;32m--> 300\u001b[0;31m         \u001b[0mself\u001b[0m\u001b[0;34m.\u001b[0m\u001b[0m_presolve\u001b[0m\u001b[0;34m(\u001b[0m\u001b[0;34m*\u001b[0m\u001b[0margs\u001b[0m\u001b[0;34m,\u001b[0m \u001b[0;34m**\u001b[0m\u001b[0mkwds\u001b[0m\u001b[0;34m)\u001b[0m\u001b[0;34m\u001b[0m\u001b[0m\n\u001b[0m\u001b[1;32m    301\u001b[0m         \u001b[0mpresolve_completion_time\u001b[0m \u001b[0;34m=\u001b[0m \u001b[0mtime\u001b[0m\u001b[0;34m.\u001b[0m\u001b[0mtime\u001b[0m\u001b[0;34m(\u001b[0m\u001b[0;34m)\u001b[0m\u001b[0;34m\u001b[0m\u001b[0m\n\u001b[1;32m    302\u001b[0m \u001b[0;34m\u001b[0m\u001b[0m\n",
        "\u001b[0;32m/Users/jeff/anaconda/lib/python2.7/site-packages/coopr/opt/solver/shellcmd.pyc\u001b[0m in \u001b[0;36m_presolve\u001b[0;34m(self, *args, **kwds)\u001b[0m\n\u001b[1;32m     95\u001b[0m             \u001b[0;32mdel\u001b[0m \u001b[0mkwds\u001b[0m\u001b[0;34m[\u001b[0m\u001b[0;34m'symbolic_solver_labels'\u001b[0m\u001b[0;34m]\u001b[0m\u001b[0;34m\u001b[0m\u001b[0m\n\u001b[1;32m     96\u001b[0m \u001b[0;34m\u001b[0m\u001b[0m\n\u001b[0;32m---> 97\u001b[0;31m         \u001b[0mOptSolver\u001b[0m\u001b[0;34m.\u001b[0m\u001b[0m_presolve\u001b[0m\u001b[0;34m(\u001b[0m\u001b[0mself\u001b[0m\u001b[0;34m,\u001b[0m \u001b[0;34m*\u001b[0m\u001b[0margs\u001b[0m\u001b[0;34m,\u001b[0m \u001b[0;34m**\u001b[0m\u001b[0mkwds\u001b[0m\u001b[0;34m)\u001b[0m\u001b[0;34m\u001b[0m\u001b[0m\n\u001b[0m\u001b[1;32m     98\u001b[0m \u001b[0;34m\u001b[0m\u001b[0m\n\u001b[1;32m     99\u001b[0m         \u001b[0;31m#\u001b[0m\u001b[0;34m\u001b[0m\u001b[0;34m\u001b[0m\u001b[0m\n",
        "\u001b[0;32m/Users/jeff/anaconda/lib/python2.7/site-packages/coopr/opt/base/solvers.pyc\u001b[0m in \u001b[0;36m_presolve\u001b[0;34m(self, *args, **kwds)\u001b[0m\n\u001b[1;32m    361\u001b[0m         \u001b[0mself\u001b[0m\u001b[0;34m.\u001b[0m\u001b[0mavailable\u001b[0m\u001b[0;34m(\u001b[0m\u001b[0;34m)\u001b[0m\u001b[0;34m\u001b[0m\u001b[0m\n\u001b[1;32m    362\u001b[0m \u001b[0;34m\u001b[0m\u001b[0m\n\u001b[0;32m--> 363\u001b[0;31m         \u001b[0;34m(\u001b[0m\u001b[0mself\u001b[0m\u001b[0;34m.\u001b[0m\u001b[0m_problem_files\u001b[0m\u001b[0;34m,\u001b[0m\u001b[0mself\u001b[0m\u001b[0;34m.\u001b[0m\u001b[0m_problem_format\u001b[0m\u001b[0;34m,\u001b[0m\u001b[0mself\u001b[0m\u001b[0;34m.\u001b[0m\u001b[0m_symbol_map\u001b[0m\u001b[0;34m)\u001b[0m \u001b[0;34m=\u001b[0m \u001b[0mself\u001b[0m\u001b[0;34m.\u001b[0m\u001b[0m_convert_problem\u001b[0m\u001b[0;34m(\u001b[0m\u001b[0margs\u001b[0m\u001b[0;34m,\u001b[0m \u001b[0mself\u001b[0m\u001b[0;34m.\u001b[0m\u001b[0m_problem_format\u001b[0m\u001b[0;34m,\u001b[0m \u001b[0mself\u001b[0m\u001b[0;34m.\u001b[0m\u001b[0m_valid_problem_formats\u001b[0m\u001b[0;34m)\u001b[0m\u001b[0;34m\u001b[0m\u001b[0m\n\u001b[0m\u001b[1;32m    364\u001b[0m         \u001b[0;32mif\u001b[0m \u001b[0mtype\u001b[0m\u001b[0;34m(\u001b[0m\u001b[0mself\u001b[0m\u001b[0;34m.\u001b[0m\u001b[0m_problem_files\u001b[0m\u001b[0;34m)\u001b[0m \u001b[0;32min\u001b[0m \u001b[0;34m(\u001b[0m\u001b[0mlist\u001b[0m\u001b[0;34m,\u001b[0m\u001b[0mtuple\u001b[0m\u001b[0;34m)\u001b[0m \u001b[0;32mand\u001b[0m \u001b[0;32mnot\u001b[0m \u001b[0misinstance\u001b[0m\u001b[0;34m(\u001b[0m\u001b[0mself\u001b[0m\u001b[0;34m.\u001b[0m\u001b[0m_problem_files\u001b[0m\u001b[0;34m[\u001b[0m\u001b[0;36m0\u001b[0m\u001b[0;34m]\u001b[0m\u001b[0;34m,\u001b[0m \u001b[0mbasestring\u001b[0m\u001b[0;34m)\u001b[0m\u001b[0;34m:\u001b[0m\u001b[0;34m\u001b[0m\u001b[0m\n\u001b[1;32m    365\u001b[0m             \u001b[0mself\u001b[0m\u001b[0;34m.\u001b[0m\u001b[0m_problem_files\u001b[0m \u001b[0;34m=\u001b[0m \u001b[0mself\u001b[0m\u001b[0;34m.\u001b[0m\u001b[0m_problem_files\u001b[0m\u001b[0;34m[\u001b[0m\u001b[0;36m0\u001b[0m\u001b[0;34m]\u001b[0m\u001b[0;34m.\u001b[0m\u001b[0m_problem_files\u001b[0m\u001b[0;34m(\u001b[0m\u001b[0;34m)\u001b[0m\u001b[0;34m\u001b[0m\u001b[0m\n",
        "\u001b[0;32m/Users/jeff/anaconda/lib/python2.7/site-packages/coopr/opt/base/solvers.pyc\u001b[0m in \u001b[0;36m_convert_problem\u001b[0;34m(self, args, problem_format, valid_problem_formats)\u001b[0m\n\u001b[1;32m    408\u001b[0m                                \u001b[0mself\u001b[0m\u001b[0;34m.\u001b[0m\u001b[0mhas_capability\u001b[0m\u001b[0;34m,\u001b[0m\u001b[0;34m\u001b[0m\u001b[0m\n\u001b[1;32m    409\u001b[0m                                \u001b[0msymbolic_solver_labels\u001b[0m\u001b[0;34m=\u001b[0m\u001b[0mself\u001b[0m\u001b[0;34m.\u001b[0m\u001b[0msymbolic_solver_labels\u001b[0m\u001b[0;34m,\u001b[0m\u001b[0;34m\u001b[0m\u001b[0m\n\u001b[0;32m--> 410\u001b[0;31m                                output_fixed_variable_bounds=self.output_fixed_variable_bounds)\n\u001b[0m\u001b[1;32m    411\u001b[0m \u001b[0;34m\u001b[0m\u001b[0m\n\u001b[1;32m    412\u001b[0m     \u001b[0;32mdef\u001b[0m \u001b[0m_default_results_format\u001b[0m\u001b[0;34m(\u001b[0m\u001b[0mself\u001b[0m\u001b[0;34m,\u001b[0m \u001b[0mprob_format\u001b[0m\u001b[0;34m)\u001b[0m\u001b[0;34m:\u001b[0m\u001b[0;34m\u001b[0m\u001b[0m\n",
        "\u001b[0;32m/Users/jeff/anaconda/lib/python2.7/site-packages/coopr/opt/base/convert.pyc\u001b[0m in \u001b[0;36mconvert_problem\u001b[0;34m(args, target_problem_type, valid_problem_types, has_capability, **kwds)\u001b[0m\n\u001b[1;32m    105\u001b[0m                     \u001b[0mtmpkw\u001b[0m \u001b[0;34m=\u001b[0m \u001b[0mkwds\u001b[0m\u001b[0;34m\u001b[0m\u001b[0m\n\u001b[1;32m    106\u001b[0m                     \u001b[0mtmpkw\u001b[0m\u001b[0;34m[\u001b[0m\u001b[0;34m'capabilities'\u001b[0m\u001b[0;34m]\u001b[0m \u001b[0;34m=\u001b[0m \u001b[0mhas_capability\u001b[0m\u001b[0;34m\u001b[0m\u001b[0m\n\u001b[0;32m--> 107\u001b[0;31m                     \u001b[0mproblem_files\u001b[0m\u001b[0;34m,\u001b[0m \u001b[0msymbol_map\u001b[0m \u001b[0;34m=\u001b[0m \u001b[0mconverter\u001b[0m\u001b[0;34m.\u001b[0m\u001b[0mapply\u001b[0m\u001b[0;34m(\u001b[0m\u001b[0;34m*\u001b[0m\u001b[0mtmp\u001b[0m\u001b[0;34m,\u001b[0m \u001b[0;34m**\u001b[0m\u001b[0mtmpkw\u001b[0m\u001b[0;34m)\u001b[0m\u001b[0;34m\u001b[0m\u001b[0m\n\u001b[0m\u001b[1;32m    108\u001b[0m                     \u001b[0;32mreturn\u001b[0m \u001b[0mproblem_files\u001b[0m\u001b[0;34m,\u001b[0m \u001b[0mptype\u001b[0m\u001b[0;34m,\u001b[0m \u001b[0msymbol_map\u001b[0m\u001b[0;34m\u001b[0m\u001b[0m\n\u001b[1;32m    109\u001b[0m \u001b[0;34m\u001b[0m\u001b[0m\n",
        "\u001b[0;32m/Users/jeff/anaconda/lib/python2.7/site-packages/coopr/plugins/converter/pyomo.pyc\u001b[0m in \u001b[0;36mapply\u001b[0;34m(self, *args, **kwds)\u001b[0m\n\u001b[1;32m     76\u001b[0m                                                             \u001b[0mformat\u001b[0m\u001b[0;34m=\u001b[0m\u001b[0mProblemFormat\u001b[0m\u001b[0;34m.\u001b[0m\u001b[0mcpxlp\u001b[0m\u001b[0;34m,\u001b[0m\u001b[0;34m\u001b[0m\u001b[0m\n\u001b[1;32m     77\u001b[0m                                                             \u001b[0msolver_capability\u001b[0m\u001b[0;34m=\u001b[0m\u001b[0mcapabilities\u001b[0m\u001b[0;34m,\u001b[0m\u001b[0;34m\u001b[0m\u001b[0m\n\u001b[0;32m---> 78\u001b[0;31m                                                             io_options=io_options)\n\u001b[0m\u001b[1;32m     79\u001b[0m                 \u001b[0;32mreturn\u001b[0m \u001b[0;34m(\u001b[0m\u001b[0mproblem_filename\u001b[0m\u001b[0;34m,\u001b[0m\u001b[0;34m)\u001b[0m\u001b[0;34m,\u001b[0m\u001b[0mvarmap\u001b[0m \u001b[0;31m# no map file is necessary\u001b[0m\u001b[0;34m\u001b[0m\u001b[0m\n\u001b[1;32m     80\u001b[0m             \u001b[0;32melse\u001b[0m\u001b[0;34m:\u001b[0m\u001b[0;34m\u001b[0m\u001b[0m\n",
        "\u001b[0;32m/Users/jeff/anaconda/lib/python2.7/site-packages/coopr/pyomo/base/PyomoModel.pyc\u001b[0m in \u001b[0;36mwrite\u001b[0;34m(self, filename, format, solver_capability, io_options)\u001b[0m\n\u001b[1;32m    864\u001b[0m                     % str(format))\n\u001b[1;32m    865\u001b[0m \u001b[0;34m\u001b[0m\u001b[0m\n\u001b[0;32m--> 866\u001b[0;31m         \u001b[0;34m(\u001b[0m\u001b[0mfilename\u001b[0m\u001b[0;34m,\u001b[0m \u001b[0msymbol_map\u001b[0m\u001b[0;34m)\u001b[0m \u001b[0;34m=\u001b[0m \u001b[0mproblem_writer\u001b[0m\u001b[0;34m(\u001b[0m\u001b[0mself\u001b[0m\u001b[0;34m,\u001b[0m \u001b[0mfilename\u001b[0m\u001b[0;34m,\u001b[0m \u001b[0msolver_capability\u001b[0m\u001b[0;34m,\u001b[0m \u001b[0mio_options\u001b[0m\u001b[0;34m)\u001b[0m\u001b[0;34m\u001b[0m\u001b[0m\n\u001b[0m\u001b[1;32m    867\u001b[0m \u001b[0;34m\u001b[0m\u001b[0m\n\u001b[1;32m    868\u001b[0m         \u001b[0;31m# problem writers are presently derived from the AbstractProblemWriter class, which in turn\u001b[0m\u001b[0;34m\u001b[0m\u001b[0;34m\u001b[0m\u001b[0m\n",
        "\u001b[0;32m/Users/jeff/anaconda/lib/python2.7/site-packages/coopr/pyomo/io/cpxlp.pyc\u001b[0m in \u001b[0;36m__call__\u001b[0;34m(self, model, output_filename, solver_capability, io_options)\u001b[0m\n\u001b[1;32m     88\u001b[0m \u001b[0;34m\u001b[0m\u001b[0m\n\u001b[1;32m     89\u001b[0m         \u001b[0moutput_file\u001b[0m\u001b[0;34m=\u001b[0m\u001b[0mopen\u001b[0m\u001b[0;34m(\u001b[0m\u001b[0moutput_filename\u001b[0m\u001b[0;34m,\u001b[0m \u001b[0;34m\"w\"\u001b[0m\u001b[0;34m)\u001b[0m\u001b[0;34m\u001b[0m\u001b[0m\n\u001b[0;32m---> 90\u001b[0;31m         \u001b[0msymbol_map\u001b[0m \u001b[0;34m=\u001b[0m \u001b[0mself\u001b[0m\u001b[0;34m.\u001b[0m\u001b[0m_print_model_LP\u001b[0m\u001b[0;34m(\u001b[0m\u001b[0mmodel\u001b[0m\u001b[0;34m,\u001b[0m \u001b[0moutput_file\u001b[0m\u001b[0;34m,\u001b[0m \u001b[0msolver_capability\u001b[0m\u001b[0;34m,\u001b[0m \u001b[0msymbolic_solver_labels\u001b[0m\u001b[0;34m,\u001b[0m \u001b[0moutput_fixed_variable_bounds\u001b[0m\u001b[0;34m)\u001b[0m\u001b[0;34m\u001b[0m\u001b[0m\n\u001b[0m\u001b[1;32m     91\u001b[0m         \u001b[0moutput_file\u001b[0m\u001b[0;34m.\u001b[0m\u001b[0mclose\u001b[0m\u001b[0;34m(\u001b[0m\u001b[0;34m)\u001b[0m\u001b[0;34m\u001b[0m\u001b[0m\n\u001b[1;32m     92\u001b[0m \u001b[0;34m\u001b[0m\u001b[0m\n",
        "\u001b[0;32m/Users/jeff/anaconda/lib/python2.7/site-packages/coopr/pyomo/io/cpxlp.pyc\u001b[0m in \u001b[0;36m_print_model_LP\u001b[0;34m(self, model, output_file, solver_capability, symbolic_solver_labels, output_fixed_variable_bounds)\u001b[0m\n\u001b[1;32m    395\u001b[0m         \u001b[0mmodel_repn_suffix\u001b[0m \u001b[0;34m=\u001b[0m \u001b[0mmodel\u001b[0m\u001b[0;34m.\u001b[0m\u001b[0msubcomponent\u001b[0m\u001b[0;34m(\u001b[0m\u001b[0;34m\"canonical_repn\"\u001b[0m\u001b[0;34m)\u001b[0m\u001b[0;34m\u001b[0m\u001b[0m\n\u001b[1;32m    396\u001b[0m         \u001b[0;32mif\u001b[0m \u001b[0;34m(\u001b[0m\u001b[0mmodel_repn_suffix\u001b[0m \u001b[0;32mis\u001b[0m \u001b[0mNone\u001b[0m\u001b[0;34m)\u001b[0m \u001b[0;32mor\u001b[0m \u001b[0;34m(\u001b[0m\u001b[0;32mnot\u001b[0m \u001b[0mmodel_repn_suffix\u001b[0m\u001b[0;34m.\u001b[0m\u001b[0mtype\u001b[0m\u001b[0;34m(\u001b[0m\u001b[0;34m)\u001b[0m \u001b[0;32mis\u001b[0m \u001b[0mSuffix\u001b[0m\u001b[0;34m)\u001b[0m \u001b[0;32mor\u001b[0m \u001b[0;34m(\u001b[0m\u001b[0;32mnot\u001b[0m \u001b[0mmodel_repn_suffix\u001b[0m\u001b[0;34m.\u001b[0m\u001b[0mactive\u001b[0m \u001b[0;32mis\u001b[0m \u001b[0mTrue\u001b[0m\u001b[0;34m)\u001b[0m\u001b[0;34m:\u001b[0m\u001b[0;34m\u001b[0m\u001b[0m\n\u001b[0;32m--> 397\u001b[0;31m             \u001b[0;32mraise\u001b[0m \u001b[0mValueError\u001b[0m\u001b[0;34m(\u001b[0m\u001b[0;34m\"Unable to find an active Suffix with name 'canonical_repn' on block: %s\"\u001b[0m \u001b[0;34m%\u001b[0m \u001b[0;34m(\u001b[0m\u001b[0mmodel\u001b[0m\u001b[0;34m.\u001b[0m\u001b[0mcname\u001b[0m\u001b[0;34m(\u001b[0m\u001b[0mTrue\u001b[0m\u001b[0;34m)\u001b[0m\u001b[0;34m)\u001b[0m\u001b[0;34m)\u001b[0m\u001b[0;34m\u001b[0m\u001b[0m\n\u001b[0m\u001b[1;32m    398\u001b[0m \u001b[0;34m\u001b[0m\u001b[0m\n\u001b[1;32m    399\u001b[0m         \u001b[0m_obj\u001b[0m \u001b[0;34m=\u001b[0m \u001b[0mlist\u001b[0m\u001b[0;34m(\u001b[0m\u001b[0mactive_subcomponents_data_generator\u001b[0m\u001b[0;34m(\u001b[0m\u001b[0mmodel\u001b[0m\u001b[0;34m,\u001b[0m\u001b[0mObjective\u001b[0m\u001b[0;34m)\u001b[0m\u001b[0;34m)\u001b[0m\u001b[0;34m\u001b[0m\u001b[0m\n",
        "\u001b[0;31mValueError\u001b[0m: Unable to find an active Suffix with name 'canonical_repn' on block: unknown"
       ]
      }
     ],
     "prompt_number": 29
    },
    {
     "cell_type": "code",
     "collapsed": false,
     "input": [
      "%%writefile abstract.py\n",
      "from __future__ import division\n",
      "from coopr import pyomo\n",
      "\n",
      "# define an abstract model\n",
      "model = pyomo.AbstractModel()\n",
      "\n",
      "# add number of linear constraints as attribute \n",
      "model.m = pyomo.Param(within=pyomo.NonNegativeIntegers)\n",
      "model.n = pyomo.Param(within=pyomo.NonNegativeIntegers)\n",
      "\n",
      "# although not required, it is convenient to define index sets\n",
      "model.I = pyomo.RangeSet(1, model.m)\n",
      "model.J = pyomo.RangeSet(1, model.n)\n",
      "\n",
      "# now we define the coefficients (which are themselves defined over index sets!)\n",
      "model.a = pyomo.Param(model.I, model.J)\n",
      "model.b = pyomo.Param(model.I)\n",
      "model.c = pyomo.Param(model.J)\n",
      "\n",
      "# the next line declares a variable indexed by the set J\n",
      "model.x = pyomo.Var(model.J, domain=pyomo.NonNegativeReals)\n",
      "\n",
      "def objective(model):\n",
      "    \"\"\"Abstract representation of our model objective.\"\"\" \n",
      "    obj = pyomo.summation(model.c, model.x)\n",
      "    return obj\n",
      "\n",
      "# add the objective function to the model object as an attribute (OBJ can be arbitrary!)\n",
      "model.OBJ = pyomo.Objective(rule=objective)\n",
      "\n",
      "def constraints(model, i):\n",
      "    \"\"\"Abstract representation of model constraints.\"\"\"\n",
      "    # return the expression for the constraint for i\n",
      "    return sum(model.a[i,j] * model.x[j] for j in model.J) >= model.b[i]\n",
      "\n",
      "# the next line creates one constraint for each member of the set model.I (CONS can be arbitrary!)\n",
      "model.CONS = pyomo.Constraint(model.I, rule=constraints)"
     ],
     "language": "python",
     "metadata": {},
     "outputs": [
      {
       "output_type": "stream",
       "stream": "stdout",
       "text": [
        "Writing abstract.py\n"
       ]
      }
     ],
     "prompt_number": 30
    },
    {
     "cell_type": "code",
     "collapsed": false,
     "input": [
      "%%writefile example1.dat\n",
      "# one way to input the data in AMPL format\n",
      "# for indexed parameters, the indexes are given before the value\n",
      "param m := 1 ;\n",
      "param n := 2 ;\n",
      "param a :=\n",
      "1 1 3\n",
      "1 2 4\n",
      ";\n",
      "param c:=\n",
      "1 2\n",
      "2 3\n",
      ";\n",
      "param b := 1 1 ;"
     ],
     "language": "python",
     "metadata": {},
     "outputs": [
      {
       "output_type": "stream",
       "stream": "stdout",
       "text": [
        "Writing example1.dat\n"
       ]
      }
     ],
     "prompt_number": 31
    },
    {
     "cell_type": "code",
     "collapsed": false,
     "input": [
      "!pyomo abstract.py example1.dat --solver=glpk --summary"
     ],
     "language": "python",
     "metadata": {},
     "outputs": [
      {
       "output_type": "stream",
       "stream": "stdout",
       "text": [
        "[    0.00] Setting up Pyomo environment\r\n",
        "[    0.00] Applying Pyomo preprocessing actions\r\n",
        "[    0.00] Creating model\r\n"
       ]
      },
      {
       "output_type": "stream",
       "stream": "stdout",
       "text": [
        "[    0.06] Applying solver\r\n",
        "[    0.08] Processing results\r\n",
        "    Number of solutions: 1\r\n",
        "    Solution Information\r\n",
        "      Gap: 0.0\r\n",
        "      Status: feasible\r\n",
        "      Function Value: 0.666666666667\r\n",
        "    Solver results file: results.yml\r\n"
       ]
      },
      {
       "output_type": "stream",
       "stream": "stdout",
       "text": [
        "\r\n",
        "==========================================================\r\n",
        "Solution Summary\r\n",
        "==========================================================\r\n",
        "\r\n",
        "Model unknown\r\n",
        "\r\n",
        "  Variables:\r\n",
        "    x : Size=2, Index=J, Domain=NonNegativeReals\r\n",
        "        Key : Lower : Value          : Upper : Initial : Fixed : Stale\r\n",
        "          1 :     0 : 0.333333333333 :  None :    None : False : False\r\n",
        "          2 :     0 :            0.0 :  None :    None : False : False\r\n",
        "\r\n",
        "  Objectives:\r\n",
        "    OBJ : Size=1\r\n",
        "        Key  : Value\r\n",
        "        None : 0.666666666667\r\n",
        "\r\n",
        "  Constraints:\r\n",
        "    CONS : Size=1\r\n",
        "        Key : Lower : Body : Upper\r\n",
        "          1 :   1.0 :  1.0 :  None\r\n",
        "\r\n",
        "[    0.08] Applying Pyomo postprocessing actions\r\n",
        "[    0.08] Pyomo Finished\r\n"
       ]
      }
     ],
     "prompt_number": 32
    },
    {
     "cell_type": "code",
     "collapsed": false,
     "input": [],
     "language": "python",
     "metadata": {},
     "outputs": []
    }
   ],
   "metadata": {}
  }
 ]
}