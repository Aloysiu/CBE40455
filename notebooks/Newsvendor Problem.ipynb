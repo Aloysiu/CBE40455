{
 "metadata": {
  "name": ""
 },
 "nbformat": 3,
 "nbformat_minor": 0,
 "worksheets": [
  {
   "cells": [
    {
     "cell_type": "heading",
     "level": 1,
     "metadata": {},
     "source": [
      "Newsvendor Problem"
     ]
    },
    {
     "cell_type": "markdown",
     "metadata": {},
     "source": [
      "This [IPython notebook](http://ipython.org/notebook.html) demonstrates the formulation and solution of the well-known \"Newsvendor Problem\" using GLPK/Mathprog.\n",
      "\n",
      "J.C. Kantor (Kantor.1@nd.edu)\n",
      "\n",
      "The latest version of this IPython notebook is available at [http://github.com/jckantor/CBE20255](http://github.com/jckantor/CBE20255)  for noncommercial use under terms of the [Creative Commons Attribution Noncommericial ShareAlike License](http://creativecommons.org/licenses/by-nc-sa/4.0/)."
     ]
    },
    {
     "cell_type": "heading",
     "level": 2,
     "metadata": {},
     "source": [
      "Background"
     ]
    },
    {
     "cell_type": "markdown",
     "metadata": {},
     "source": [
      "<p>\n",
      "    The newsvendor problem is a two stage decision problem with recourse. The \n",
      "    vendor needs to decide how much inventory to order today to fulfill an \n",
      "    uncertain demand. The data includes the unit cost, price, and salvage value of \n",
      "    the product being sold, and a probabilistic forecast of demand. The objective \n",
      "    is to maximize expected profit.\n",
      "</p>\n",
      "<p>\n",
      "    As shown in lecture, this problem can be solved with a plot, and the solution\n",
      "    interpreted in terms of a cumulative probability distribution. The advantage\n",
      "    of a MathProg model is that additional constraints or other criteria may be \n",
      "    considered, such as risk aversion.</p>\n",
      "<p>\n",
      "    There is an extensive literature on the newsvendor problem which has been \n",
      "    studied since at least 1888. See \n",
      "    <a rel=\"external\" href=\"http://www.isye.umn.edu/courses/ie5551/additional%20materials/newsvendort.pdf\">here</a>\n",
      "   for a thorough discussion.\n",
      "</p>\n"
     ]
    },
    {
     "cell_type": "heading",
     "level": 2,
     "metadata": {},
     "source": [
      "Solution"
     ]
    },
    {
     "cell_type": "code",
     "collapsed": false,
     "input": [
      "%%script glpsol -m /dev/stdin\n",
      "\n",
      "# Example: Newsvendor.mod\n",
      "\n",
      "/* Unit Price Data */\n",
      "param r >= 0;                              # Price\n",
      "param c >= 0;                              # Cost\n",
      "param w >= 0;                              # Salvage value\n",
      "\n",
      "/* Price data makes sense only if  Price > Cost > Salvage */\n",
      "check: c <= r;\n",
      "check: w <= c;\n",
      "\n",
      "/* Probabilistic Demand Forecast */\n",
      "set SCENS;                                 # Scenarios\n",
      "param D{SCENS} >= 0;                       # Demand\n",
      "param Pr{SCENS} >= 0;                      # Probability\n",
      "\n",
      "/* Probabilities must sum to one. */\n",
      "check: sum{k in SCENS} Pr[k] = 1;\n",
      "\n",
      "/* Expected Demand */\n",
      "param ExD := sum{k in SCENS} Pr[k]*D[k];\n",
      "\n",
      "/* Lower Bound on Profit: Expected Value of the Mean Solution */\n",
      "param EVM := -c*ExD + sum{k in SCENS} Pr[k]*(r*min(ExD,D[k])+w*max(ExD-D[k],0));\n",
      "\n",
      "/* Upper Bound on Profit: Expected Value with Perfect Information */\n",
      "param EVPI := sum{k in SCENS} Pr[k]*(r-c)*D[k];\n",
      "\n",
      "/* Two Stage Stochastic Programming */\n",
      "var x >= 0;                     # Stage 1 (Here and Now): Order Quqntity\n",
      "var y{SCENS}>= 0;               # Stage 2 (Scenario Dep): Actual Sales\n",
      "var ExProfit;                   # Expected Profit\n",
      "\n",
      "/* Maximize Expected Profit */\n",
      "maximize OBJ: ExProfit;\n",
      "\n",
      "/* Goods sold are limited by the order quantities and the demand  */\n",
      "s.t. PRFT: ExProfit = -c*x + sum{k in SCENS} Pr[k]*(r*y[k] + w*(x-y[k]));\n",
      "s.t. SUPL {k in SCENS}: y[k] <= x;\n",
      "s.t. DMND {k in SCENS}: y[k] <= D[k];\n",
      "\n",
      "solve;\n",
      "\n",
      "table Table_EVM {k in SCENS} OUT \"CSV\" \"evm.csv\" \"Table\":\n",
      "   k~Scenario,\n",
      "   Pr[k]~Probability, \n",
      "   D[k]~Demand, \n",
      "   ExD~Order, \n",
      "   min(ExD,D[k])~Sold,\n",
      "   max(ExD-D[k],0)~Salvage, \n",
      "   -c*ExD + r*min(ExD,D[k]) + w*max(ExD-D[k],0)~Profit;\n",
      "   \n",
      "table Table_EVPI {k in SCENS} OUT \"CSV\" \"evpi.csv\" \"Table\":\n",
      "   k~Scenario,\n",
      "   Pr[k]~Probability, \n",
      "   D[k]~Demand, \n",
      "   D[k]~Order, \n",
      "   D[k]~Sold,\n",
      "   0~Salvage, \n",
      "   -c*D[k] + r*D[k]~Profit;\n",
      "   \n",
      "table Table_SP {k in SCENS} OUT \"CSV\" \"evsp.csv\" \"Table\":\n",
      "   k~Scenario,\n",
      "   Pr[k]~Probability, \n",
      "   D[k]~Demand, \n",
      "   x~Order, \n",
      "   y[k]~Sold,\n",
      "   x-y[k]~Salvage, \n",
      "   -c*x + r*y[k] + w*(x-y[k])~Profit;\n",
      "\n",
      "data;\n",
      "\n",
      "/* Problem Data corresponds to a hypothetical case of selling programs prior \n",
      "to a home football game. */\n",
      "\n",
      "param r := 10.00;                         # Unit Price\n",
      "param c :=  6.00;                         # Unit Cost\n",
      "param w :=  2.00;                         # Unit Salvage Value\n",
      "\n",
      "param: SCENS:  Pr    D   :=\n",
      "       HiDmd   0.25  250\n",
      "       MiDmd   0.50  125\n",
      "       LoDmd   0.25   75 ;\n",
      "\n",
      "end;"
     ],
     "language": "python",
     "metadata": {},
     "outputs": [
      {
       "output_type": "stream",
       "stream": "stdout",
       "text": [
        "GLPSOL: GLPK LP/MIP Solver, v4.52\n",
        "Parameter(s) specified in the command line:\n",
        " -m /dev/stdin\n",
        "Reading model section from /dev/stdin...\n",
        "Reading data section from /dev/stdin...\n",
        "/dev/stdin:86: warning: final NL missing before end of file\n",
        "86 lines were read\n",
        "Checking (line 10)...\n",
        "Checking (line 11)...\n",
        "Checking (line 19)...\n",
        "Generating OBJ...\n",
        "Generating PRFT...\n",
        "Generating SUPL...\n",
        "Generating DMND...\n",
        "Model has been successfully generated\n",
        "GLPK Simplex Optimizer, v4.52\n",
        "8 rows, 5 columns, 15 non-zeros\n",
        "Preprocessing...\n",
        "3 rows, 4 columns, 6 non-zeros\n",
        "Scaling...\n",
        " A: min|aij| =  1.000e+00  max|aij| =  1.000e+00  ratio =  1.000e+00\n",
        "Problem data seem to be well scaled\n",
        "Constructing initial basis...\n",
        "Size of triangular part is 3\n",
        "*     0: obj =   0.000000000e+00  infeas =  0.000e+00 (0)\n",
        "*     5: obj =   4.000000000e+02  infeas =  0.000e+00 (0)\n",
        "OPTIMAL LP SOLUTION FOUND\n",
        "Time used:   0.0 secs\n",
        "Memory used: 0.1 Mb (142439 bytes)\n",
        "Writing Table_EVM...\n",
        "Writing Table_EVPI...\n",
        "Writing Table_SP...\n",
        "Model has been successfully processed\n"
       ]
      }
     ],
     "prompt_number": 1
    },
    {
     "cell_type": "heading",
     "level": 3,
     "metadata": {},
     "source": [
      "Expected Value for the Mean Scenario (EVM)"
     ]
    },
    {
     "cell_type": "code",
     "collapsed": false,
     "input": [
      "import pandas\n",
      "evm = pandas.read_csv(\"evm.csv\")\n",
      "display(evm)\n",
      "\n",
      "ev_evm = sum(evm['Probability']*evm['Profit'])\n",
      "print \"Expected Value for the Mean Scenario = {:6.2f}\".format(ev_evm)"
     ],
     "language": "python",
     "metadata": {},
     "outputs": [
      {
       "html": [
        "<div style=\"max-height:1000px;max-width:1500px;overflow:auto;\">\n",
        "<table border=\"1\" class=\"dataframe\">\n",
        "  <thead>\n",
        "    <tr style=\"text-align: right;\">\n",
        "      <th></th>\n",
        "      <th>Scenario</th>\n",
        "      <th>Probability</th>\n",
        "      <th>Demand</th>\n",
        "      <th>Order</th>\n",
        "      <th>Sold</th>\n",
        "      <th>Salvage</th>\n",
        "      <th>Profit</th>\n",
        "    </tr>\n",
        "  </thead>\n",
        "  <tbody>\n",
        "    <tr>\n",
        "      <th>0</th>\n",
        "      <td> HiDmd</td>\n",
        "      <td> 0.25</td>\n",
        "      <td> 250</td>\n",
        "      <td> 143.75</td>\n",
        "      <td> 143.75</td>\n",
        "      <td>  0.00</td>\n",
        "      <td> 575</td>\n",
        "    </tr>\n",
        "    <tr>\n",
        "      <th>1</th>\n",
        "      <td> MiDmd</td>\n",
        "      <td> 0.50</td>\n",
        "      <td> 125</td>\n",
        "      <td> 143.75</td>\n",
        "      <td> 125.00</td>\n",
        "      <td> 18.75</td>\n",
        "      <td> 425</td>\n",
        "    </tr>\n",
        "    <tr>\n",
        "      <th>2</th>\n",
        "      <td> LoDmd</td>\n",
        "      <td> 0.25</td>\n",
        "      <td>  75</td>\n",
        "      <td> 143.75</td>\n",
        "      <td>  75.00</td>\n",
        "      <td> 68.75</td>\n",
        "      <td>  25</td>\n",
        "    </tr>\n",
        "  </tbody>\n",
        "</table>\n",
        "<p>3 rows \u00d7 7 columns</p>\n",
        "</div>"
       ],
       "metadata": {},
       "output_type": "display_data",
       "text": [
        "  Scenario  Probability  Demand   Order    Sold  Salvage  Profit\n",
        "0    HiDmd         0.25     250  143.75  143.75     0.00     575\n",
        "1    MiDmd         0.50     125  143.75  125.00    18.75     425\n",
        "2    LoDmd         0.25      75  143.75   75.00    68.75      25\n",
        "\n",
        "[3 rows x 7 columns]"
       ]
      },
      {
       "output_type": "stream",
       "stream": "stdout",
       "text": [
        "Expected Value for the Mean Scenario = 362.50\n"
       ]
      }
     ],
     "prompt_number": 2
    },
    {
     "cell_type": "heading",
     "level": 3,
     "metadata": {},
     "source": [
      "Expected Value with Perfect Information (EVPI)"
     ]
    },
    {
     "cell_type": "code",
     "collapsed": false,
     "input": [
      "evpi = pandas.read_csv(\"evpi.csv\")\n",
      "display(evpi)\n",
      "\n",
      "ev_evpi = sum(evpi['Probability']*evpi['Profit'])\n",
      "print \"Expected Value with Perfect Information = {:6.2f}\".format(ev_evpi)"
     ],
     "language": "python",
     "metadata": {},
     "outputs": [
      {
       "html": [
        "<div style=\"max-height:1000px;max-width:1500px;overflow:auto;\">\n",
        "<table border=\"1\" class=\"dataframe\">\n",
        "  <thead>\n",
        "    <tr style=\"text-align: right;\">\n",
        "      <th></th>\n",
        "      <th>Scenario</th>\n",
        "      <th>Probability</th>\n",
        "      <th>Demand</th>\n",
        "      <th>Order</th>\n",
        "      <th>Sold</th>\n",
        "      <th>Salvage</th>\n",
        "      <th>Profit</th>\n",
        "    </tr>\n",
        "  </thead>\n",
        "  <tbody>\n",
        "    <tr>\n",
        "      <th>0</th>\n",
        "      <td> HiDmd</td>\n",
        "      <td> 0.25</td>\n",
        "      <td> 250</td>\n",
        "      <td> 250</td>\n",
        "      <td> 250</td>\n",
        "      <td> 0</td>\n",
        "      <td> 1000</td>\n",
        "    </tr>\n",
        "    <tr>\n",
        "      <th>1</th>\n",
        "      <td> MiDmd</td>\n",
        "      <td> 0.50</td>\n",
        "      <td> 125</td>\n",
        "      <td> 125</td>\n",
        "      <td> 125</td>\n",
        "      <td> 0</td>\n",
        "      <td>  500</td>\n",
        "    </tr>\n",
        "    <tr>\n",
        "      <th>2</th>\n",
        "      <td> LoDmd</td>\n",
        "      <td> 0.25</td>\n",
        "      <td>  75</td>\n",
        "      <td>  75</td>\n",
        "      <td>  75</td>\n",
        "      <td> 0</td>\n",
        "      <td>  300</td>\n",
        "    </tr>\n",
        "  </tbody>\n",
        "</table>\n",
        "<p>3 rows \u00d7 7 columns</p>\n",
        "</div>"
       ],
       "metadata": {},
       "output_type": "display_data",
       "text": [
        "  Scenario  Probability  Demand  Order  Sold  Salvage  Profit\n",
        "0    HiDmd         0.25     250    250   250        0    1000\n",
        "1    MiDmd         0.50     125    125   125        0     500\n",
        "2    LoDmd         0.25      75     75    75        0     300\n",
        "\n",
        "[3 rows x 7 columns]"
       ]
      },
      {
       "output_type": "stream",
       "stream": "stdout",
       "text": [
        "Expected Value with Perfect Information = 575.00\n"
       ]
      }
     ],
     "prompt_number": 3
    },
    {
     "cell_type": "heading",
     "level": 3,
     "metadata": {},
     "source": [
      "Expected Value by Stochastic Programming"
     ]
    },
    {
     "cell_type": "code",
     "collapsed": false,
     "input": [
      "evsp = pandas.read_csv(\"evsp.csv\")\n",
      "display(evsp)\n",
      "\n",
      "ev_evsp = sum(evsp['Probability']*evsp['Profit'])\n",
      "print \"Expected Value by Stochastic Programming = {:6.2f}\".format(ev_evsp)"
     ],
     "language": "python",
     "metadata": {},
     "outputs": [
      {
       "html": [
        "<div style=\"max-height:1000px;max-width:1500px;overflow:auto;\">\n",
        "<table border=\"1\" class=\"dataframe\">\n",
        "  <thead>\n",
        "    <tr style=\"text-align: right;\">\n",
        "      <th></th>\n",
        "      <th>Scenario</th>\n",
        "      <th>Probability</th>\n",
        "      <th>Demand</th>\n",
        "      <th>Order</th>\n",
        "      <th>Sold</th>\n",
        "      <th>Salvage</th>\n",
        "      <th>Profit</th>\n",
        "    </tr>\n",
        "  </thead>\n",
        "  <tbody>\n",
        "    <tr>\n",
        "      <th>0</th>\n",
        "      <td> HiDmd</td>\n",
        "      <td> 0.25</td>\n",
        "      <td> 250</td>\n",
        "      <td> 125</td>\n",
        "      <td> 125</td>\n",
        "      <td>  0</td>\n",
        "      <td> 500</td>\n",
        "    </tr>\n",
        "    <tr>\n",
        "      <th>1</th>\n",
        "      <td> MiDmd</td>\n",
        "      <td> 0.50</td>\n",
        "      <td> 125</td>\n",
        "      <td> 125</td>\n",
        "      <td> 125</td>\n",
        "      <td>  0</td>\n",
        "      <td> 500</td>\n",
        "    </tr>\n",
        "    <tr>\n",
        "      <th>2</th>\n",
        "      <td> LoDmd</td>\n",
        "      <td> 0.25</td>\n",
        "      <td>  75</td>\n",
        "      <td> 125</td>\n",
        "      <td>  75</td>\n",
        "      <td> 50</td>\n",
        "      <td> 100</td>\n",
        "    </tr>\n",
        "  </tbody>\n",
        "</table>\n",
        "<p>3 rows \u00d7 7 columns</p>\n",
        "</div>"
       ],
       "metadata": {},
       "output_type": "display_data",
       "text": [
        "  Scenario  Probability  Demand  Order  Sold  Salvage  Profit\n",
        "0    HiDmd         0.25     250    125   125        0     500\n",
        "1    MiDmd         0.50     125    125   125        0     500\n",
        "2    LoDmd         0.25      75    125    75       50     100\n",
        "\n",
        "[3 rows x 7 columns]"
       ]
      },
      {
       "output_type": "stream",
       "stream": "stdout",
       "text": [
        "Expected Value by Stochastic Programming = 400.00\n"
       ]
      }
     ],
     "prompt_number": 4
    },
    {
     "cell_type": "heading",
     "level": 3,
     "metadata": {},
     "source": [
      "Value of Perfect Information"
     ]
    },
    {
     "cell_type": "code",
     "collapsed": false,
     "input": [
      "print \"Value of Perfect Information = {:6.2f}\".format(ev_evpi-ev_evsp)"
     ],
     "language": "python",
     "metadata": {},
     "outputs": [
      {
       "output_type": "stream",
       "stream": "stdout",
       "text": [
        "Value of Perfect Information = 175.00\n"
       ]
      }
     ],
     "prompt_number": 5
    },
    {
     "cell_type": "heading",
     "level": 3,
     "metadata": {},
     "source": [
      "Value of the Stochastic Solution"
     ]
    },
    {
     "cell_type": "code",
     "collapsed": false,
     "input": [
      "print \"Value of the Stochastic Solution = {:6.2f}\".format(ev_evsp-ev_evm)"
     ],
     "language": "python",
     "metadata": {},
     "outputs": [
      {
       "output_type": "stream",
       "stream": "stdout",
       "text": [
        "Value of the Stochastic Solution =  37.50\n"
       ]
      }
     ],
     "prompt_number": 6
    },
    {
     "cell_type": "code",
     "collapsed": false,
     "input": [],
     "language": "python",
     "metadata": {},
     "outputs": [],
     "prompt_number": 6
    },
    {
     "cell_type": "code",
     "collapsed": false,
     "input": [],
     "language": "python",
     "metadata": {},
     "outputs": []
    }
   ],
   "metadata": {}
  }
 ]
}