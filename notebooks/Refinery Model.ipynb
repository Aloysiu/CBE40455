{
 "metadata": {
  "name": "",
  "signature": "sha256:7ea82d9923541647c5be80ebf76fdd760b3dbd9f6148c2dafe99a960762b4077"
 },
 "nbformat": 3,
 "nbformat_minor": 0,
 "worksheets": [
  {
   "cells": [
    {
     "cell_type": "heading",
     "level": 1,
     "metadata": {},
     "source": [
      "Refinery Model"
     ]
    },
    {
     "cell_type": "heading",
     "level": 2,
     "metadata": {},
     "source": [
      "Getting Started"
     ]
    },
    {
     "cell_type": "code",
     "collapsed": false,
     "input": [
      "f = open('results.txt');\n",
      "print(f.read())\n",
      "f.close()"
     ],
     "language": "python",
     "metadata": {},
     "outputs": [
      {
       "output_type": "stream",
       "stream": "stdout",
       "text": [
        "\n",
        "Hello, World\n",
        "\n",
        "\n"
       ]
      }
     ],
     "prompt_number": 20
    },
    {
     "cell_type": "code",
     "collapsed": false,
     "input": [
      "%%script glpsol --out output -m /dev/stdin -o out.txt -y results.txt\n",
      "\n",
      "printf: \"\\nHello, World\\n\\n\";\n",
      "end;\n"
     ],
     "language": "python",
     "metadata": {},
     "outputs": [],
     "prompt_number": 17
    },
    {
     "cell_type": "heading",
     "level": 2,
     "metadata": {},
     "source": [
      "Simple Model"
     ]
    },
    {
     "cell_type": "code",
     "collapsed": false,
     "input": [
      "%%script glpsol -m /dev/stdin -o /dev/stdout\n",
      "\n",
      "set PRODUCTS;\n",
      "set CRUDES;\n",
      "set INTERMEDIATES;\n",
      "set UNITS;\n",
      "\n",
      "set STREAMS := CRUDES union INTERMEDIATES union PRODUCTS;\n",
      "    \n",
      "param Required{PRODUCTS} >= 0;\n",
      "param Available{CRUDES} >= 0;\n",
      "param UnitCapacity{UNITS} >= 0;\n",
      "\n",
      "var flow{STREAMS} >= 0;\n",
      "var utilization{UNITS} >= 0;\n",
      "\n",
      "# Mass Balances\n",
      "\n",
      "# Mixer/Splitter junctions\n",
      "s.t. PC01 : flow['Butane'] = flow['ButaneD'] + flow['ButaneR'] - flow['ButaneG'];\n",
      "s.t. PC02 : flow['CrackedNaphtha'] = flow['CrackedNaphthaGas'] + flow['CrackedNaphthaHO'] + flow['CrackedNaphthaDiesel'];\n",
      "s.t. PC03 : flow['CrackedGasoil'] = flow['CrackedGasoilHO'] + flow['CrackedGasoilDiesel']; \n",
      "s.t. PC04 : flow['SweetGasoil'] = flow['SweetGasoilHO'] + flow['SweetGasoilDiesel'];\n",
      "    \n",
      "# Distillation Yields\n",
      "s.t. D01 : flow['ButaneD'] = 0.03*flow['1'] + 0.05*flow['2'];\n",
      "s.t. D02 : flow['Naphtha'] = 0.15*flow['1'] + 0.20*flow['2'];\n",
      "s.t. D03 : flow['Residue'] = 0.40*flow['1'] + 0.35*flow['2'];\n",
      "s.t. D04 : flow['Gasoil'] = 0.15*flow['1'] + 0.10*flow['2'];\n",
      "    \n",
      "# Reformer\n",
      "s.t. R01 : flow['ButaneR'] = 0.15*flow['Naphtha'];\n",
      "s.t. R02 : flow['Reformate'] = 0.85*flow['Naphtha'];\n",
      "\n",
      "# Catalytic Cracking\n",
      "s.t. C01 : flow['CrackedNaphtha'] = 0.40*flow['Residue'];\n",
      "s.t. C02 : flow['CrackedGasoil'] = 0.35*flow['Residue'];\n",
      "\n",
      "# Desulfurization\n",
      "s.t. S01 : flow['SweetGasoil'] = flow['Gasoil'];\n",
      "    \n",
      "# Blending\n",
      "s.t. GB : flow['Gasoline'] = flow['ButaneG'] + flow['Reformate'] + flow['CrackedNaphthaGas'];\n",
      "s.t. HB : flow['HeatingOil'] = flow['CrackedNaphthaHO'] + flow['CrackedGasoilHO'] + flow['SweetGasoilHO'];\n",
      "s.t. DB : flow['Diesel'] = flow['CrackedNaphthaDiesel'] + flow['CrackedGasoilDiesel'] + flow['SweetGasoilDiesel'];\n",
      "    \n",
      "# Product Specifications\n",
      "\n",
      "s.t. Octane : 120*flow['ButaneG'] + 100*flow['Reformate'] + 74*flow['CrackedNaphthaGas'] >= 94*flow['Gasoline'];\n",
      "s.t. Pvap : 60*flow['ButaneG'] + 2.6*flow['Reformate'] + 4.1*flow['CrackedNaphthaGas'] <= 12.7*flow['Gasoline'];\n",
      "s.t. Vol : 105*flow['ButaneG'] + 3*flow['Reformate'] + 12*flow['CrackedNaphthaGas'] >= 17*flow['Gasoline'];\n",
      "s.t. Sulfur : 0.12*flow['CrackedNaphthaDiesel'] + 0.76*flow['CrackedGasoilDiesel'] + 0.03*flow['SweetGasoilDiesel'] <= 0.05*flow['Diesel'];\n",
      "    \n",
      "# Product production constraints\n",
      "s.t. Requirement {p in PRODUCTS} : flow[p] >= Required[p];\n",
      "s.t. Availability {c in CRUDES} : flow[c] <= Available[c];\n",
      "    \n",
      "s.t. Distillation : utilization['Distillation'] = sum{c in CRUDES} flow[c];\n",
      "s.t. Reforming : utilization['Reformer'] = flow['Naphtha'];\n",
      "s.t. CatCracking : utilization['CatCracker'] = flow['Residue'];\n",
      "s.t. Desulfurization : utilization['Desulfurizer'] = flow['Gasoil'];\n",
      "s.t. GasolineBlending : utilization['GasolineBlender'] = flow['Gasoline'];\n",
      "s.t. HOBlending : utilization['HOBlender'] = flow['HeatingOil'];\n",
      "s.t. DieselBlending : utilization['DieselBlender'] = flow['Diesel'];\n",
      "    \n",
      "minimize cost: 2.10*u['ADU'] + 4.18*u['CCU'] + 2.04*u['HDS'] + 0.60*u['CDU'];\n",
      "    \n",
      "    \n",
      "data;\n",
      "\n",
      "param : CRUDES :  Available :=\n",
      "    'C1'  250000\n",
      "    'C2'  400000;\n",
      "    \n",
      "param : PRODUCTS : Required :=\n",
      "    Butane         20000\n",
      "    Gasoline       40000\n",
      "    HeatOil        42000\n",
      "    Diesel         30000;\n",
      "\n",
      "set INTERMEDIATES := \n",
      "    ButaneD\n",
      "    ButaneR\n",
      "    ButaneG\n",
      "    \n",
      "    Naphtha \n",
      "    Residue \n",
      "    Gasoil \n",
      "    Reform8 \n",
      "    \n",
      "    CrkNap\n",
      "    CrkNapG\n",
      "    CrkNapH\n",
      "    CrkNapD\n",
      "    \n",
      "    CrGO          # Cracked Gasoil\n",
      "    CrGO-HO       # Cracked Gasoil to Heating Oil Blending\n",
      "    CrGO-D        # Cracked Gasoil to Diesel Blending\n",
      "    \n",
      "    SGO\n",
      "    SGO-HO\n",
      "    SGO-D;\n",
      "       \n",
      "param : UNITS : UnitCapacity :=\n",
      "    ADU              500000    # Atmospheric Distillation Unit\n",
      "    CRU               30000    # Catalytic Reformer Unit\n",
      "    HDS               40000    # Hydrodesulfurization Unit\n",
      "    CCU               50000    # Catalytic Cracking Unit\n",
      "    GBL              500000    # Gasoline Blending Unit\n",
      "    HBL              500000    # Heating Oil Blending Unit\n",
      "    DBL              500000;   # Diesel Blending Unit\n",
      "    \n",
      "end;\n"
     ],
     "language": "python",
     "metadata": {},
     "outputs": [
      {
       "output_type": "stream",
       "stream": "stdout",
       "text": [
        "GLPSOL: GLPK LP/MIP Solver, v4.52\n",
        "Parameter(s) specified in the command line:\n",
        " -m /dev/stdin -o /dev/stdout\n",
        "Reading model section from /dev/stdin...\n",
        "Reading data section from /dev/stdin...\n",
        "/dev/stdin:119: warning: final NL missing before end of file\n",
        "/dev/stdin:119: one item missing in data group beginning with end\n",
        "Context: ...00000 HOBlender 500000 DBU 500000 DieselBlender 500000 end ;\n",
        "MathProg model processing error\n"
       ]
      }
     ],
     "prompt_number": 3
    },
    {
     "cell_type": "code",
     "collapsed": false,
     "input": [],
     "language": "python",
     "metadata": {},
     "outputs": []
    }
   ],
   "metadata": {}
  }
 ]
}