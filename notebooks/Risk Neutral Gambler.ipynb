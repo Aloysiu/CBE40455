{
 "metadata": {
  "name": ""
 },
 "nbformat": 3,
 "nbformat_minor": 0,
 "worksheets": [
  {
   "cells": [
    {
     "cell_type": "heading",
     "level": 1,
     "metadata": {},
     "source": [
      "Risk Neutral Gambler"
     ]
    },
    {
     "cell_type": "heading",
     "level": 2,
     "metadata": {},
     "source": [
      "Problem Statement"
     ]
    },
    {
     "cell_type": "markdown",
     "metadata": {},
     "source": [
      "THe risk neutral gambler enters a game with the idea of betting until he or she either reaches a goal $N$ or runs out of money.  Beginning with a stake $x$ and wager $u$, the resulting stake is either $x+u$ with probability $p$, or $x-u$ with probability $q$ (where $p + q \\leq 1$.) The wager must be smaller than the stake or any maximum wager established for the game.  The future value of money may be discounted by a factor $a \\leq 1$.  \n",
      "\n",
      "Given an initial stake $x \\lt N$, what is the optimal gambling strategy?"
     ]
    },
    {
     "cell_type": "heading",
     "level": 2,
     "metadata": {},
     "source": [
      "Formulation"
     ]
    },
    {
     "cell_type": "markdown",
     "metadata": {},
     "source": [
      "This classic problem in Dynamic Programming is discussed, for example, by Sutton and Barto in \"Reinforcement Learning\" (MIT Press, 1998). The function $V(k,x)$ is the expected value of the game after the $k^{th}$ wager and with a stake $x$. If the gambler reaches the goal of winning a stake $N$ at $k$ then the value of the game is $V(k,N) = N$. If the gambler loses everything, then $V(k,0) = 0$. Otherwise, for $x \\lt N$, the Bellman equation for optimality provides the recursion\n",
      "\n",
      "$$V(k-1,x) = a \\max_u  \\left[ p V(k,x+u) + q V(k,x-u) \\right]$$\n",
      "\n",
      "where $a$ is the discount factor for future values. The maximization is over the set of possible bets ranging from $0$ to the minimum of $x$, $N-x$, or the bet limit $B$. Note that the state space and set of control actions are finite."
     ]
    },
    {
     "cell_type": "heading",
     "level": 2,
     "metadata": {},
     "source": [
      "Solution by Linear Programming"
     ]
    },
    {
     "cell_type": "markdown",
     "metadata": {},
     "source": [
      "The optimality equation can be solved by well known methods for policy iteration.  Alternatively, as shown for example by Ross in \"Introduction to Stochastic Dynamic Programming\" (Academic Press, 1983), an exact solution can \n",
      "be found by linear programming. We seek a stationary solution $V[x]$ by minimizing $\\sum_{x \\in 0..N} V[x]$  subject to \n",
      "\n",
      "$$ V[x] \\geq a \\left( p V[x + u] + q V[x-u]\\right) $$\n",
      "\n",
      "for all feasible bets and all $x$ in $1..N-1$ with boundary conditions $V[0] = 0$ and $V[N] = N$.  The set of optimal wagers $u[x]$ are found by determing the constraints that are active at optimality.  $u[x]$ may have multiple values."
     ]
    },
    {
     "cell_type": "heading",
     "level": 2,
     "metadata": {},
     "source": [
      "MathProg Model"
     ]
    },
    {
     "cell_type": "code",
     "collapsed": false,
     "input": [
      "%%script glpsol -m /dev/stdin -y output.txt\n",
      "\n",
      "/* Problem Parameters.  Any of these can be adjusted in a data section.  */\n",
      "\n",
      "param N default 100, >= 1;               # Goal\n",
      "param p default 0.25, >= 0, <= 1;        # Winning probability\n",
      "param q default 1-p, >= 0, <= 1-p;       # Losing probability\n",
      "param B default N, >= 1, <= N;           # Maximum wager size\n",
      "param a default 1, >= 0, <= 1;           # Discount factor\n",
      "\n",
      "/* Set of States */\n",
      "\n",
      "set X:= 0..N;\n",
      "\n",
      "/* Sets of possible wagers. These are parameterized by the State */\n",
      "\n",
      "set U{x in X} := 1..min(B,min(N-x,x));\n",
      "\n",
      "/* Value function */\n",
      "\n",
      "var V{X};\n",
      "\n",
      "/* Exact Linear Program Equivalent of the DP */\n",
      "\n",
      "minimize OBJ: sum{x in X} V[x] ;\n",
      "\n",
      "s.t. C1 {x in 1..N-1, u in U[x]}: V[x] >=  a*(p*V[x+u] + q*V[x-u]);\n",
      "s.t. C2: V[0] = 0;\n",
      "s.t. C3: V[N] = N;\n",
      "\n",
      "solve;\n",
      "\n",
      "#table tab1 {x in X} OUT \"JSON\" \"Expected Value of the Initial Stake\" \"LineChart\" : \n",
      "#    x~Stake, V[x]~ExpectedValue;\n",
      "\n",
      "printf \"               Goal = %4d\", N;\n",
      "printf \"\\n        Maximum Bet = %4d\", B;\n",
      "printf \"\\nWinning Probability = %8.3f\", p ;\n",
      "printf \"\\n Losing Probability = %8.3f\", q ;\n",
      "printf \"\\n    Discount Factor = %8.3f\", a;\n",
      "printf \"\\n\\n %7s  %10s   %4s\\n\",'x','V[x]','u[x]: Optimal Wagers';\n",
      "printf     \" %7s  %10s   %4s\"  ,'-','----','---------------------';\n",
      "for {x in X}{\n",
      "   printf \"\\n %7d  %10.4f  \",x, V[x];\n",
      "   printf {u in U[x]: abs(-V[x] + a*(p*V[x+u] + q*V[x-u])) < 0.00001} \" %3d\",u;\n",
      "}\n",
      "\n",
      "end;\n"
     ],
     "language": "python",
     "metadata": {},
     "outputs": [
      {
       "output_type": "stream",
       "stream": "stdout",
       "text": [
        "GLPSOL: GLPK LP/MIP Solver, v4.52\n",
        "Parameter(s) specified in the command line:\n",
        " -m /dev/stdin -y output.txt\n",
        "Reading model section from /dev/stdin...\n",
        "/dev/stdin:53: warning: final NL missing before end of file\n",
        "53 lines were read\n",
        "Generating OBJ...\n",
        "Generating C1...\n",
        "Generating C2...\n",
        "Generating C3...\n",
        "Model has been successfully generated\n",
        "GLPK Simplex Optimizer, v4.52\n",
        "2503 rows, 101 columns, 7603 non-zeros\n",
        "Preprocessing...\n",
        "2499 rows, 99 columns, 7399 non-zeros\n",
        "Scaling...\n",
        " A: min|aij| =  2.500e-01  max|aij| =  1.000e+00  ratio =  4.000e+00\n",
        "Problem data seem to be well scaled\n",
        "Constructing initial basis...\n",
        "Size of triangular part is 2499\n",
        "      0: obj =   1.250000000e+02  infeas =  1.850e+03 (0)\n",
        "*   499: obj =   2.561827195e+03  infeas =  1.199e-14 (0)\n",
        "*   500: obj =   2.561614755e+03  infeas =  1.199e-14 (0)\n",
        "*   522: obj =   2.556389480e+03  infeas =  6.942e-15 (0)\n",
        "OPTIMAL LP SOLUTION FOUND\n",
        "Time used:   0.1 secs\n",
        "Memory used: 4.2 Mb (4414435 bytes)\n",
        "Model has been successfully processed\n"
       ]
      }
     ],
     "prompt_number": 4
    },
    {
     "cell_type": "code",
     "collapsed": false,
     "input": [
      "f = open(\"output.txt\")\n",
      "print(f.read())\n",
      "f.close()"
     ],
     "language": "python",
     "metadata": {},
     "outputs": [
      {
       "output_type": "stream",
       "stream": "stdout",
       "text": [
        "               Goal =  100\n",
        "        Maximum Bet =  100\n",
        "Winning Probability =    0.250\n",
        " Losing Probability =    0.750\n",
        "    Discount Factor =    1.000\n",
        "\n",
        "       x        V[x]   u[x]: Optimal Wagers\n",
        "       -        ----   ---------------------\n",
        "       0      0.0000  \n",
        "       1      0.0073     1\n",
        "       2      0.0291     2\n",
        "       3      0.0695     3\n",
        "       4      0.1166     4\n",
        "       5      0.1771     5\n",
        "       6      0.2781     6\n",
        "       7      0.4037     7\n",
        "       8      0.4663     8\n",
        "       9      0.5601     9\n",
        "      10      0.7085    10\n",
        "      11      0.9041    11\n",
        "      12      1.1124    12\n",
        "      13      1.5680    12  13\n",
        "      14      1.6146    11  14\n",
        "      15      1.6953    10  15\n",
        "      16      1.8652     9  16\n",
        "      17      1.9826     8  17\n",
        "      18      2.2406     7  18\n",
        "      19      2.7385     6  19\n",
        "      20      2.8340     5  20\n",
        "      21      3.0495     4  21\n",
        "      22      3.6164     3  22\n",
        "      23      3.8496     2  23\n",
        "      24      4.4497     1  24\n",
        "      25      6.2500    25\n",
        "      26      6.2719     1  24  26\n",
        "      27      6.3374     2  23  27\n",
        "      28      6.4586     3  22  28\n",
        "      29      6.5997     4  21  29\n",
        "      30      6.7814     5  20  30\n",
        "      31      7.0843     6  19  31\n",
        "      32      7.4610     7  18  32\n",
        "      33      7.6489     8  17  33\n",
        "      34      7.9304     9  16  34\n",
        "      35      8.3755    10  15  35\n",
        "      36      8.9623    11  14  36\n",
        "      37      9.5873    12  13  37\n",
        "      38     10.9539    12  38\n",
        "      39     11.0939    11  39\n",
        "      40     11.3360    10  40\n",
        "      41     11.8457     9  41\n",
        "      42     12.1978     8  42\n",
        "      43     12.9717     7  43\n",
        "      44     14.4654     6  44\n",
        "      45     14.7520     5  45\n",
        "      46     15.3984     4  46\n",
        "      47     17.0991     3  47\n",
        "      48     17.7988     2  48\n",
        "      49     19.5991     1  49\n",
        "      50     25.0000    50\n",
        "      51     25.0219     1  49\n",
        "      52     25.0874     2  48\n",
        "      53     25.2086     3  47\n",
        "      54     25.3497     4  46\n",
        "      55     25.5314     5  45\n",
        "      56     25.8343     6  44\n",
        "      57     26.2110     7  43\n",
        "      58     26.3989     8  42\n",
        "      59     26.6804     9  41\n",
        "      60     27.1255    10  40\n",
        "      61     27.7123    11  39\n",
        "      62     28.3373    12  38\n",
        "      63     29.7039    12  13  37\n",
        "      64     29.8439    11  14  36\n",
        "      65     30.0860    10  15  35\n",
        "      66     30.5957     9  16  34\n",
        "      67     30.9478     8  17  33\n",
        "      68     31.7217     7  18  32\n",
        "      69     33.2154     6  19  31\n",
        "      70     33.5020     5  20  30\n",
        "      71     34.1484     4  21  29\n",
        "      72     35.8491     3  22  28\n",
        "      73     36.5488     2  23  27\n",
        "      74     38.3491     1  24  26\n",
        "      75     43.7500    25\n",
        "      76     43.8156     1  24\n",
        "      77     44.0123     2  23\n",
        "      78     44.3757     3  22\n",
        "      79     44.7992     4  21\n",
        "      80     45.3441     5  20\n",
        "      81     46.2530     6  19\n",
        "      82     47.3830     7  18\n",
        "      83     47.9468     8  17\n",
        "      84     48.7913     9  16\n",
        "      85     50.1265    10  15\n",
        "      86     51.8868    11  14\n",
        "      87     53.7618    12  13\n",
        "      88     57.8617    12\n",
        "      89     58.2818    11\n",
        "      90     59.0081    10\n",
        "      91     60.5372     9\n",
        "      92     61.5935     8\n",
        "      93     63.9151     7\n",
        "      94     68.3963     6\n",
        "      95     69.2561     5\n",
        "      96     71.1951     4\n",
        "      97     76.2972     3\n",
        "      98     78.3963     2\n",
        "      99     83.7972     1\n",
        "     100    100.0000  \n"
       ]
      }
     ],
     "prompt_number": 5
    },
    {
     "cell_type": "code",
     "collapsed": false,
     "input": [],
     "language": "python",
     "metadata": {},
     "outputs": []
    }
   ],
   "metadata": {}
  }
 ]
}