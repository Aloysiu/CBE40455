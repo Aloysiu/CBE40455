{
 "cells": [
  {
   "cell_type": "markdown",
   "metadata": {},
   "source": [
    "##### The latest version of this IPython notebook is available at [http://github.com/jckantor/CBE40455](http://github.com/jckantor/CBE20255)  for noncommercial use under terms of the [Creative Commons Attribution Noncommericial ShareAlike License](http://creativecommons.org/licenses/by-nc-sa/4.0/).\n",
    "\n",
    "J.C. Kantor (Kantor.1@nd.edu)"
   ]
  },
  {
   "cell_type": "markdown",
   "metadata": {},
   "source": [
    "# Scenario Analysis for a Plant Expansion"
   ]
  },
  {
   "cell_type": "code",
   "execution_count": 1,
   "metadata": {
    "collapsed": false
   },
   "outputs": [
    {
     "name": "stdout",
     "output_type": "stream",
     "text": [
      "GLPSOL: GLPK LP/MIP Solver, v4.52\n",
      "Parameter(s) specified in the command line:\n",
      " -m /dev/stdin\n",
      "Reading model section from /dev/stdin...\n",
      "Reading data section from /dev/stdin...\n",
      "/dev/stdin:57: warning: final NL missing before end of file\n",
      "57 lines were read\n",
      "Generating COST...\n",
      "Generating CAPCOST...\n",
      "Generating VARCOST...\n",
      "Generating DEMANDS...\n",
      "Generating C4...\n",
      "Model has been successfully generated\n",
      "GLPK Simplex Optimizer, v4.52\n",
      "30 rows, 41 columns, 125 non-zeros\n",
      "Preprocessing...\n",
      "24 rows, 36 columns, 80 non-zeros\n",
      "Scaling...\n",
      " A: min|aij| =  1.000e+00  max|aij| =  1.000e+00  ratio =  1.000e+00\n",
      "Problem data seem to be well scaled\n",
      "Constructing initial basis...\n",
      "Size of triangular part is 24\n",
      "      0: obj =   4.560000000e+04  infeas =  4.325e+01 (0)\n",
      "*     4: obj =   4.560000000e+04  infeas =  0.000e+00 (0)\n",
      "*    28: obj =   7.573750000e+03  infeas =  0.000e+00 (0)\n",
      "OPTIMAL LP SOLUTION FOUND\n",
      "Time used:   0.0 secs\n",
      "Memory used: 0.2 Mb (178523 bytes)\n",
      "Writing results...\n",
      "Invalid table driver `JSON'\n",
      "/dev/stdin:32: error on opening table results\n",
      "Model postsolving error\n"
     ]
    }
   ],
   "source": [
    "%%script glpsol -m /dev/stdin\n",
    "\n",
    "/* Example: PlantExpansion.mod */\n",
    "\n",
    "set PLANTS;                            # Set of plant types\n",
    "set DEMAND;                            # Demand Segments\n",
    "set SCENARIOS;                         # Planning Scenarios\n",
    "\n",
    "param e{PLANTS};                       # Current Plant Capacity\n",
    "param C{PLANTS};                       # Capital Cost per unit Expansion\n",
    "param O{PLANTS};                       # Operating Cost [k$/GWh]\n",
    "\n",
    "param T{DEMAND};                       # Time Periods for Demand Segments\n",
    "param D{DEMAND,SCENARIOS};             # Demand Scenarios\n",
    "\n",
    "var x {PLANTS} >= 0;                   # Plant Expansion\n",
    "var y {PLANTS,DEMAND,SCENARIOS} >= 0;  # Operating Schedule\n",
    "var v {SCENARIOS};                     # Variable Cost\n",
    "var capcost;                           # Capital Cost\n",
    "\n",
    "minimize COST: capcost + sum {s in SCENARIOS} 0.25*v[s];\n",
    "\n",
    "s.t. CAPCOST: capcost = sum{p in PLANTS} C[p]*(e[p]+x[p]);\n",
    "s.t. VARCOST {s in SCENARIOS}:\n",
    "   v[s] = sum {p in PLANTS, d in DEMAND} T[d]*O[p]*y[p,d,s];\n",
    "s.t. DEMANDS {p in PLANTS, s in SCENARIOS}: \n",
    "   e[p] + x[p] >= sum {d in DEMAND} y[p,d,s];\n",
    "s.t. C4 {d in DEMAND, s in SCENARIOS} :\n",
    "   D[d,s] = sum {p in PLANTS} y[p,d,s];\n",
    "   \n",
    "solve;\n",
    "\n",
    "table results {p in PLANTS} OUT \"JSON\" \"Optimal Expansion\" \"Table\" :\n",
    "    p~Plant,\n",
    "    O[p]~Unit_Cost,\n",
    "    e[p]~Current_Cap,\n",
    "    x[p]~Exp_Cap,\n",
    "    x[p]+e[p]~Total_Cap;\n",
    "\n",
    "data;\n",
    "\n",
    "set SCENARIOS := S1 S2 S3 S4;\n",
    "\n",
    "param: DEMAND: T :=\n",
    "    Base      24\n",
    "    Peak       6 ;\n",
    "\n",
    "param: PLANTS:     e     C     O:=\n",
    "    Coal        1.75   200    30\n",
    "    Hydro       2.00   500    10\n",
    "    Nuclear     0.00   300    20\n",
    "    Grid        0.00     0   200 ;\n",
    "\n",
    "param D :   S1     S2    S3    S4 :=\n",
    "    Base   8.25   10.0  7.50  9.00\n",
    "    Peak   2.50   2.00  2.50  1.50 ;\n",
    "\n",
    "end;\n"
   ]
  },
  {
   "cell_type": "code",
   "execution_count": null,
   "metadata": {
    "collapsed": false
   },
   "outputs": [],
   "source": []
  }
 ],
 "metadata": {
  "kernelspec": {
   "display_name": "Python 2",
   "language": "python",
   "name": "python2"
  },
  "language_info": {
   "codemirror_mode": {
    "name": "ipython",
    "version": 2
   },
   "file_extension": ".py",
   "mimetype": "text/x-python",
   "name": "python",
   "nbconvert_exporter": "python",
   "pygments_lexer": "ipython2",
   "version": "2.7.10"
  }
 },
 "nbformat": 4,
 "nbformat_minor": 0
}
