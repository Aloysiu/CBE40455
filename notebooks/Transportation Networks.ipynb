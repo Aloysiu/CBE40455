{
 "metadata": {
  "name": ""
 },
 "nbformat": 3,
 "nbformat_minor": 0,
 "worksheets": [
  {
   "cells": [
    {
     "cell_type": "heading",
     "level": 1,
     "metadata": {},
     "source": [
      "Transportation Networks"
     ]
    },
    {
     "cell_type": "markdown",
     "metadata": {},
     "source": [
      "This [IPython notebook](http://ipython.org/notebook.html) demonstrates the solution of transportation network problems using GLPK/MathProg.\n",
      "\n",
      "J.C. Kantor (Kantor.1@nd.edu)\n",
      "\n",
      "The latest version of this IPython notebook is available at [http://github.com/jckantor/CBE20255](http://github.com/jckantor/CBE20255)  for noncommercial use under terms of the [Creative Commons Attribution Noncommericial ShareAlike License](http://creativecommons.org/licenses/by-nc-sa/4.0/)."
     ]
    },
    {
     "cell_type": "heading",
     "level": 2,
     "metadata": {},
     "source": [
      "Background"
     ]
    },
    {
     "cell_type": "markdown",
     "metadata": {},
     "source": [
      "The prototypical transportation problem deals with the distribution of a commodity from a set of sources to a set of destinations. The object is to minimize total transportation costs while satisfying constraints on the supplies available at each of the sources, and satisfying demand requirements at each of the destinations.\n",
      "\n",
      "Here we illustrate the transportation problem using an example from Chapter 5 of Johannes Bisschop, \"AIMMS Optimization Modeling\", Paragon Decision Sciences, 1999. In this example there are two factories and six customer sites located in 8 European cities as shown in the following map. The customer sites are labeled in red, the factories are labeled in blue."
     ]
    },
    {
     "cell_type": "markdown",
     "metadata": {},
     "source": [
      "<img src = \"files/img/NetworkFlowMap.png\"  style=\"width:800px\"/>"
     ]
    },
    {
     "cell_type": "markdown",
     "metadata": {},
     "source": [
      "Transportation costs between sources and destinations are given in units of &euro;/ton of goods shipped, and list in the following table along with source capacity and demand requirements."
     ]
    },
    {
     "cell_type": "markdown",
     "metadata": {},
     "source": [
      "| to\\from | Arnhem [&euro;/ton] | Gouda [&euro;/ton] | Demand [tons]|\n",
      "| :--: | :----: | :---: | :----: |\n",
      "| London | n/a | 2.5 | 125 |\n",
      "| Berlin | 2.5 | n/a | 175 |\n",
      "| Maastricht | 1.6 | 2.0 | 225 |\n",
      "| Amsterdam | 1.4 | 1.0 | 250 |\n",
      "| Utrecht | 0.8 | 1.0 | 225 |\n",
      "| The Hague | 1.4 | 0.8 | 200 |\n",
      "| CAPACITY | 550 tons | 650 tons |  |"
     ]
    },
    {
     "cell_type": "markdown",
     "metadata": {},
     "source": [
      "Let $x_{C,S} \\geq 0$ represent the quantity of goods shipped to customer $C$ from source $S$, and let $T_{C,S}$ represent the unit cost of shipment. The problem objective is to minimize the total shipping cost to all customers from all sources"
     ]
    },
    {
     "cell_type": "markdown",
     "metadata": {},
     "source": [
      "$$\\min \\mbox{Cost} = \\sum_{C \\in Customers}\\sum_{S \\in Sources} T_{C,S}x_{C,S}$$"
     ]
    },
    {
     "cell_type": "markdown",
     "metadata": {},
     "source": [
      "Shipments from all sources can not exceed the manufacturing capacity of the source."
     ]
    },
    {
     "cell_type": "markdown",
     "metadata": {},
     "source": [
      "$$\\sum_{C \\in Customers} x_{C,S} \\leq \\mbox{Supply}_S \\qquad \\forall S \\in Sources$$"
     ]
    },
    {
     "cell_type": "markdown",
     "metadata": {},
     "source": [
      "Shipments to each customer must satisfy their demand."
     ]
    },
    {
     "cell_type": "markdown",
     "metadata": {},
     "source": [
      "$$\\sum_{S\\in Sources} x_{C,S} = \\mbox{Demand}_C \\qquad \\forall C \\in Customers$$"
     ]
    },
    {
     "cell_type": "heading",
     "level": 2,
     "metadata": {},
     "source": [
      "MathProg Model"
     ]
    },
    {
     "cell_type": "code",
     "collapsed": false,
     "input": [
      "%%script glpsol -m /dev/stdin -o /dev/stdout --out output\n",
      "\n",
      "# Example: TransportNet.mod\n",
      "\n",
      "/* Model  Section */\n",
      "\n",
      "set SOURCES;\n",
      "set CUSTOMERS;\n",
      "\n",
      "param Demand {CUSTOMERS} >= 0;\n",
      "param Supply {SOURCES}   >= 0;\n",
      "param Tcost {CUSTOMERS, SOURCES} default 1000;\n",
      "\n",
      "var x {CUSTOMERS, SOURCES} >= 0;\n",
      "\n",
      "/* Minimize total shipping costs */\n",
      "minimize Cost: sum{c in CUSTOMERS, s in SOURCES} Tcost[c,s]*x[c,s];\n",
      "\n",
      "/* Total shipped from each source must be less than source capacity */\n",
      "s.t. SRC {s in SOURCES}: sum {c in CUSTOMERS} x[c,s] <= Supply[s];\n",
      "\n",
      "/*  Total received must equal customer demand */\n",
      "s.t. DST {c in CUSTOMERS}: sum {s in SOURCES} x[c,s] = Demand[c];\n",
      "\n",
      "solve;\n",
      "\n",
      "table shiptable {c in CUSTOMERS, s in SOURCES} OUT \"CSV\" \"ship.csv\" :\n",
      "    c~Customer, s~Source, x[c,s]~Quantity;\n",
      "    \n",
      "\n",
      "data;\n",
      "\n",
      "/* \n",
      "Problem Data from Chapter 5 of Johannes Bisschop, \"AIMMS Optimization Modeling\",\n",
      "Paragon Decision Sciences, 1999. The following data details supply, demand, and\n",
      "shipping costs among a set of 8 European cities\n",
      "*/\n",
      "\n",
      "param: CUSTOMERS: Demand :=\n",
      "   Lon   125        # London\n",
      "   Ber   175        # Berlin\n",
      "   Maa   225        # Maastricht\n",
      "   Ams   250        # Amsterdam\n",
      "   Utr   225        # Utrecht\n",
      "   Hag   200 ;      # The Hague\n",
      "\n",
      "param: SOURCES: Supply :=\n",
      "   Arn   550        # Arnhem\n",
      "   Gou   650 ;      # Gouda\n",
      "\n",
      "param Tcost : Arn   Gou :=\n",
      "   Lon        .    2.5\n",
      "   Ber       2.5    .\n",
      "   Maa       1.6   2.0\n",
      "   Ams       1.4   1.0\n",
      "   Utr       0.8   1.0\n",
      "   Hag       1.4   0.8 ;\n",
      "\n",
      "end;"
     ],
     "language": "python",
     "metadata": {},
     "outputs": [],
     "prompt_number": 46
    },
    {
     "cell_type": "code",
     "collapsed": false,
     "input": [
      "print(open('ship.csv').read())"
     ],
     "language": "python",
     "metadata": {},
     "outputs": [
      {
       "output_type": "stream",
       "stream": "stdout",
       "text": [
        "Customer,Source,Quantity\n",
        "\"Lon\",\"Arn\",0\n",
        "\"Lon\",\"Gou\",125\n",
        "\"Ber\",\"Arn\",175\n",
        "\"Ber\",\"Gou\",0\n",
        "\"Maa\",\"Arn\",225\n",
        "\"Maa\",\"Gou\",0\n",
        "\"Ams\",\"Arn\",0\n",
        "\"Ams\",\"Gou\",250\n",
        "\"Utr\",\"Arn\",150\n",
        "\"Utr\",\"Gou\",75\n",
        "\"Hag\",\"Arn\",0\n",
        "\"Hag\",\"Gou\",200\n",
        "\n"
       ]
      }
     ],
     "prompt_number": 47
    },
    {
     "cell_type": "code",
     "collapsed": false,
     "input": [
      "import pandas as pd\n",
      "\n",
      "df = pd.read_csv('ship.csv')\n",
      "df = df.groupby(['Customer','Source']).sum().unstack('Source')\n",
      "display(df)\n",
      "display(df.sum(axis=0))\n",
      "display(df.sum(axis=1))"
     ],
     "language": "python",
     "metadata": {},
     "outputs": [
      {
       "html": [
        "<div style=\"max-height:1000px;max-width:1500px;overflow:auto;\">\n",
        "<table border=\"1\" class=\"dataframe\">\n",
        "  <thead>\n",
        "    <tr>\n",
        "      <th></th>\n",
        "      <th colspan=\"2\" halign=\"left\">Quantity</th>\n",
        "    </tr>\n",
        "    <tr>\n",
        "      <th>Source</th>\n",
        "      <th>Arn</th>\n",
        "      <th>Gou</th>\n",
        "    </tr>\n",
        "    <tr>\n",
        "      <th>Customer</th>\n",
        "      <th></th>\n",
        "      <th></th>\n",
        "    </tr>\n",
        "  </thead>\n",
        "  <tbody>\n",
        "    <tr>\n",
        "      <th>Ams</th>\n",
        "      <td>   0</td>\n",
        "      <td> 250</td>\n",
        "    </tr>\n",
        "    <tr>\n",
        "      <th>Ber</th>\n",
        "      <td> 175</td>\n",
        "      <td>   0</td>\n",
        "    </tr>\n",
        "    <tr>\n",
        "      <th>Hag</th>\n",
        "      <td>   0</td>\n",
        "      <td> 200</td>\n",
        "    </tr>\n",
        "    <tr>\n",
        "      <th>Lon</th>\n",
        "      <td>   0</td>\n",
        "      <td> 125</td>\n",
        "    </tr>\n",
        "    <tr>\n",
        "      <th>Maa</th>\n",
        "      <td> 225</td>\n",
        "      <td>   0</td>\n",
        "    </tr>\n",
        "    <tr>\n",
        "      <th>Utr</th>\n",
        "      <td> 150</td>\n",
        "      <td>  75</td>\n",
        "    </tr>\n",
        "  </tbody>\n",
        "</table>\n",
        "<p>6 rows \u00d7 2 columns</p>\n",
        "</div>"
       ],
       "metadata": {},
       "output_type": "display_data",
       "text": [
        "          Quantity     \n",
        "Source         Arn  Gou\n",
        "Customer               \n",
        "Ams              0  250\n",
        "Ber            175    0\n",
        "Hag              0  200\n",
        "Lon              0  125\n",
        "Maa            225    0\n",
        "Utr            150   75\n",
        "\n",
        "[6 rows x 2 columns]"
       ]
      },
      {
       "metadata": {},
       "output_type": "display_data",
       "text": [
        "          Source\n",
        "Quantity  Arn       550\n",
        "          Gou       650\n",
        "dtype: int64"
       ]
      },
      {
       "metadata": {},
       "output_type": "display_data",
       "text": [
        "Customer\n",
        "Ams         250\n",
        "Ber         175\n",
        "Hag         200\n",
        "Lon         125\n",
        "Maa         225\n",
        "Utr         225\n",
        "dtype: int64"
       ]
      }
     ],
     "prompt_number": 52
    },
    {
     "cell_type": "code",
     "collapsed": false,
     "input": [],
     "language": "python",
     "metadata": {},
     "outputs": []
    }
   ],
   "metadata": {}
  }
 ]
}