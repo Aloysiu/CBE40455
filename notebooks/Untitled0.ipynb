{
 "metadata": {
  "name": ""
 },
 "nbformat": 3,
 "nbformat_minor": 0,
 "worksheets": [
  {
   "cells": [
    {
     "cell_type": "code",
     "collapsed": false,
     "input": [
      "!pip install pygraphviz"
     ],
     "language": "python",
     "metadata": {},
     "outputs": [
      {
       "output_type": "stream",
       "stream": "stdout",
       "text": [
        "Downloading/unpacking pygraphviz\r\n"
       ]
      },
      {
       "output_type": "stream",
       "stream": "stdout",
       "text": [
        "  Downloading pygraphviz-1.2.tar.gz (90kB): \r",
        "  Downloading pygraphviz-1.2.tar.gz (90kB):   4%  4.1kB"
       ]
      },
      {
       "output_type": "stream",
       "stream": "stdout",
       "text": [
        "\r",
        "  Downloading pygraphviz-1.2.tar.gz (90kB):   9%  8.2kB\r",
        "  Downloading pygraphviz-1.2.tar.gz (90kB):  13%  12kB \r",
        "  Downloading pygraphviz-1.2.tar.gz (90kB):  18%  16kB\r",
        "  Downloading pygraphviz-1.2.tar.gz (90kB):  22%  20kB\r",
        "  Downloading pygraphviz-1.2.tar.gz (90kB):  27%  24kB"
       ]
      },
      {
       "output_type": "stream",
       "stream": "stdout",
       "text": [
        "\r",
        "  Downloading pygraphviz-1.2.tar.gz (90kB):  31%  28kB\r",
        "  Downloading pygraphviz-1.2.tar.gz (90kB):  36%  32kB\r",
        "  Downloading pygraphviz-1.2.tar.gz (90kB):  40%  36kB\r",
        "  Downloading pygraphviz-1.2.tar.gz (90kB):  45%  40kB\r",
        "  Downloading pygraphviz-1.2.tar.gz (90kB):  49%  45kB\r",
        "  Downloading pygraphviz-1.2.tar.gz (90kB):  54%  49kB\r",
        "  Downloading pygraphviz-1.2.tar.gz (90kB):  58%  53kB\r",
        "  Downloading pygraphviz-1.2.tar.gz (90kB):  63%  57kB\r",
        "  Downloading pygraphviz-1.2.tar.gz (90kB):  67%  61kB\r",
        "  Downloading pygraphviz-1.2.tar.gz (90kB):  72%  65kB"
       ]
      },
      {
       "output_type": "stream",
       "stream": "stdout",
       "text": [
        "\r",
        "  Downloading pygraphviz-1.2.tar.gz (90kB):  76%  69kB\r",
        "  Downloading pygraphviz-1.2.tar.gz (90kB):  81%  73kB\r",
        "  Downloading pygraphviz-1.2.tar.gz (90kB):  85%  77kB\r",
        "  Downloading pygraphviz-1.2.tar.gz (90kB):  90%  81kB\r",
        "  Downloading pygraphviz-1.2.tar.gz (90kB):  94%  86kB\r",
        "  Downloading pygraphviz-1.2.tar.gz (90kB):  99%  90kB\r",
        "  Downloading pygraphviz-1.2.tar.gz (90kB): 100%  90kB\r",
        "  Downloading pygraphviz-1.2.tar.gz (90kB):           \r",
        "  Downloading pygraphviz-1.2.tar.gz (90kB): 90kB downloaded\r\n"
       ]
      },
      {
       "output_type": "stream",
       "stream": "stdout",
       "text": [
        "  Running setup.py (path:/private/var/folders/c7/17c_xd_54374cf0m_sfw7qb40000gn/T/pip_build_jeff/pygraphviz/setup.py) egg_info for package pygraphviz\r\n"
       ]
      },
      {
       "output_type": "stream",
       "stream": "stdout",
       "text": [
        "    Trying pkg-config\r\n",
        "    library_path=/usr/local/Cellar/graphviz/2.36.0/lib\r\n",
        "    include_path=/usr/local/Cellar/graphviz/2.36.0/include/graphviz\r\n",
        "    \r\n"
       ]
      },
      {
       "output_type": "stream",
       "stream": "stdout",
       "text": [
        "    warning: no previously-included files matching '*~' found anywhere in distribution\r\n",
        "    warning: no previously-included files matching '*.pyc' found anywhere in distribution\r\n",
        "    warning: no previously-included files matching '.svn' found anywhere in distribution\r\n",
        "    no previously-included directories found matching 'doc/build'\r\n",
        "Installing collected packages: pygraphviz\r\n",
        "  Running setup.py install for pygraphviz\r\n"
       ]
      },
      {
       "output_type": "stream",
       "stream": "stdout",
       "text": [
        "    Trying pkg-config\r\n",
        "    library_path=/usr/local/Cellar/graphviz/2.36.0/lib\r\n",
        "    include_path=/usr/local/Cellar/graphviz/2.36.0/include/graphviz\r\n"
       ]
      },
      {
       "output_type": "stream",
       "stream": "stdout",
       "text": [
        "    building 'pygraphviz._graphviz' extension\r\n",
        "    gcc -fno-strict-aliasing -I/Users/jeff/anaconda/include -arch x86_64 -DNDEBUG -g -fwrapv -O3 -Wall -Wstrict-prototypes -I/usr/local/Cellar/graphviz/2.36.0/include/graphviz -I/Users/jeff/anaconda/include/python2.7 -c pygraphviz/graphviz_wrap.c -o build/temp.macosx-10.5-x86_64-2.7/pygraphviz/graphviz_wrap.o\r\n"
       ]
      },
      {
       "output_type": "stream",
       "stream": "stdout",
       "text": [
        "    pygraphviz/graphviz_wrap.c:2040:11: warning: explicitly assigning a variable of type 'int' to itself [-Wself-assign]\r\n",
        "                        res = SWIG_AddCast(res);\r\n",
        "                        ~~~ ^              ~~~\r\n",
        "    pygraphviz/graphviz_wrap.c:2043:11: warning: explicitly assigning a variable of type 'int' to itself [-Wself-assign]\r\n",
        "                        res = SWIG_AddCast(res);\r\n",
        "                        ~~~ ^              ~~~\r\n",
        "    pygraphviz/graphviz_wrap.c:2855:12: warning: incompatible pointer to integer conversion returning 'Agsym_t *' (aka 'struct Agsym_s *') from a function with result type 'int' [-Wint-conversion]\r\n",
        "        return agattr(g, kind, name, val);\r\n",
        "               ^~~~~~~~~~~~~~~~~~~~~~~~~~\r\n",
        "    pygraphviz/graphviz_wrap.c:4806:14: warning: explicitly assigning a variable of type 'void *' to itself [-Wself-assign]\r\n",
        "      clientdata = clientdata;\r\n",
        "      ~~~~~~~~~~ ^ ~~~~~~~~~~\r\n"
       ]
      },
      {
       "output_type": "stream",
       "stream": "stdout",
       "text": [
        "    4 warnings generated.\r\n",
        "    gcc -bundle -undefined dynamic_lookup -L/Users/jeff/anaconda/lib -arch x86_64 -arch x86_64 build/temp.macosx-10.5-x86_64-2.7/pygraphviz/graphviz_wrap.o -L/usr/local/Cellar/graphviz/2.36.0/lib -L/Users/jeff/anaconda/lib -L/usr/local/Cellar/graphviz/2.36.0/lib -lcgraph -lcdt -o build/lib.macosx-10.5-x86_64-2.7/pygraphviz/_graphviz.so\r\n"
       ]
      },
      {
       "output_type": "stream",
       "stream": "stdout",
       "text": [
        "    \r\n",
        "    warning: no previously-included files matching '*~' found anywhere in distribution\r\n",
        "    warning: no previously-included files matching '*.pyc' found anywhere in distribution\r\n",
        "    warning: no previously-included files matching '.svn' found anywhere in distribution\r\n",
        "    no previously-included directories found matching 'doc/build'\r\n"
       ]
      },
      {
       "output_type": "stream",
       "stream": "stdout",
       "text": [
        "Successfully installed pygraphviz\r\n",
        "Cleaning up...\r\n"
       ]
      }
     ],
     "prompt_number": 1
    },
    {
     "cell_type": "code",
     "collapsed": false,
     "input": [
      "import pygraphviz as pgv"
     ],
     "language": "python",
     "metadata": {},
     "outputs": [],
     "prompt_number": 2
    },
    {
     "cell_type": "code",
     "collapsed": false,
     "input": [
      "G = pgv.AGraph()"
     ],
     "language": "python",
     "metadata": {},
     "outputs": [],
     "prompt_number": 3
    },
    {
     "cell_type": "code",
     "collapsed": false,
     "input": [
      "G.add_node('a')\n",
      "G.add_edge('b','c')"
     ],
     "language": "python",
     "metadata": {},
     "outputs": [],
     "prompt_number": 4
    },
    {
     "cell_type": "code",
     "collapsed": false,
     "input": [
      "G"
     ],
     "language": "python",
     "metadata": {},
     "outputs": [
      {
       "metadata": {},
       "output_type": "pyout",
       "prompt_number": 5,
       "text": [
        "<AGraph _90ecc70601000000_p_Agraph_t>"
       ]
      }
     ],
     "prompt_number": 5
    },
    {
     "cell_type": "code",
     "collapsed": false,
     "input": [
      "G?"
     ],
     "language": "python",
     "metadata": {},
     "outputs": [],
     "prompt_number": 8
    },
    {
     "cell_type": "code",
     "collapsed": false,
     "input": [
      "G.string()"
     ],
     "language": "python",
     "metadata": {},
     "outputs": [
      {
       "metadata": {},
       "output_type": "pyout",
       "prompt_number": 9,
       "text": [
        "u'strict graph {\\n\\ta;\\n\\tb -- c;\\n}\\n'"
       ]
      }
     ],
     "prompt_number": 9
    },
    {
     "cell_type": "code",
     "collapsed": false,
     "input": [
      "G.layout()"
     ],
     "language": "python",
     "metadata": {},
     "outputs": [],
     "prompt_number": 10
    },
    {
     "cell_type": "code",
     "collapsed": false,
     "input": [
      "G.draw()"
     ],
     "language": "python",
     "metadata": {},
     "outputs": [
      {
       "metadata": {},
       "output_type": "pyout",
       "prompt_number": 11,
       "text": [
        "'strict graph {\\n\\tgraph [bb=\"0,0,150,92\"];\\n\\tnode [label=\"\\\\N\"];\\n\\ta\\t [height=0.5,\\n\\t\\tpos=\"123,74\",\\n\\t\\twidth=0.75];\\n\\tb\\t [height=0.5,\\n\\t\\tpos=\"27,28.639\",\\n\\t\\twidth=0.75];\\n\\tc\\t [height=0.5,\\n\\t\\tpos=\"98.21,18\",\\n\\t\\twidth=0.75];\\n\\tb -- c\\t [pos=\"53.516,24.677 59.368,23.803 65.572,22.876 71.434,22\"];\\n}\\n'"
       ]
      }
     ],
     "prompt_number": 11
    },
    {
     "cell_type": "code",
     "collapsed": false,
     "input": [
      "G.draw('file.png')"
     ],
     "language": "python",
     "metadata": {},
     "outputs": [],
     "prompt_number": 12
    },
    {
     "cell_type": "code",
     "collapsed": false,
     "input": [
      "from IPython.display import Image"
     ],
     "language": "python",
     "metadata": {},
     "outputs": [],
     "prompt_number": 15
    },
    {
     "cell_type": "code",
     "collapsed": false,
     "input": [
      "Image('file.png')"
     ],
     "language": "python",
     "metadata": {},
     "outputs": [
      {
       "metadata": {},
       "output_type": "pyout",
       "png": "[encoded data removed]",
       "prompt_number": 16,
       "text": [
        "<IPython.core.display.Image at 0x108068850>"
       ]
      }
     ],
     "prompt_number": 16
    },
    {
     "cell_type": "code",
     "collapsed": false,
     "input": [],
     "language": "python",
     "metadata": {},
     "outputs": []
    }
   ],
   "metadata": {}
  }
 ]
}