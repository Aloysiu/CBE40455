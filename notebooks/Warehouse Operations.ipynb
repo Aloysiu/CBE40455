{
 "metadata": {
  "name": ""
 },
 "nbformat": 3,
 "nbformat_minor": 0,
 "worksheets": [
  {
   "cells": [
    {
     "cell_type": "heading",
     "level": 1,
     "metadata": {},
     "source": [
      "Warehouse Operations"
     ]
    },
    {
     "cell_type": "markdown",
     "metadata": {},
     "source": [
      "This [IPython notebook](http://ipython.org/notebook.html) demonstrates use of the [SimPy](http://simpy.readthedocs.org/en/latest/) to simulate aspects of a hypothetical warehouse.\n",
      "\n",
      "J.C. Kantor (Kantor.1@nd.edu)\n",
      "\n",
      "The latest version of this IPython notebook is available at [http://github.com/jckantor/CBE20255](http://github.com/jckantor/CBE20255)  for noncommercial use under terms of the [Creative Commons Attribution Noncommericial ShareAlike License](http://creativecommons.org/licenses/by-nc-sa/4.0/)."
     ]
    },
    {
     "cell_type": "heading",
     "level": 2,
     "metadata": {},
     "source": [
      "SimPy Installation"
     ]
    },
    {
     "cell_type": "code",
     "collapsed": false,
     "input": [
      "!pip install simpy\n",
      "import simpy\n",
      "simpy.test()"
     ],
     "language": "python",
     "metadata": {},
     "outputs": [
      {
       "output_type": "stream",
       "stream": "stdout",
       "text": [
        "Requirement already satisfied (use --upgrade to upgrade): simpy in /Applications/anaconda/lib/python2.7/site-packages\r\n"
       ]
      },
      {
       "output_type": "stream",
       "stream": "stdout",
       "text": [
        "Cleaning up...\r\n"
       ]
      },
      {
       "output_type": "stream",
       "stream": "stdout",
       "text": [
        "============================= test session starts =============================="
       ]
      },
      {
       "output_type": "stream",
       "stream": "stdout",
       "text": [
        "\n"
       ]
      },
      {
       "output_type": "stream",
       "stream": "stdout",
       "text": [
        "platform darwin -- Python 2.7.6 -- py-1.4.20 -- pytest-2.5.2"
       ]
      },
      {
       "output_type": "stream",
       "stream": "stdout",
       "text": [
        "\n"
       ]
      },
      {
       "output_type": "stream",
       "stream": "stdout",
       "text": [
        "collected 112 items"
       ]
      },
      {
       "output_type": "stream",
       "stream": "stdout",
       "text": [
        "\n"
       ]
      },
      {
       "output_type": "stream",
       "stream": "stdout",
       "text": [
        "\n"
       ]
      },
      {
       "output_type": "stream",
       "stream": "stdout",
       "text": [
        "../../../../../../Applications/anaconda/lib/python2.7/site-packages/simpy/test/test_condition.py "
       ]
      },
      {
       "output_type": "stream",
       "stream": "stdout",
       "text": [
        "."
       ]
      },
      {
       "output_type": "stream",
       "stream": "stdout",
       "text": [
        "."
       ]
      },
      {
       "output_type": "stream",
       "stream": "stdout",
       "text": [
        "."
       ]
      },
      {
       "output_type": "stream",
       "stream": "stdout",
       "text": [
        "."
       ]
      },
      {
       "output_type": "stream",
       "stream": "stdout",
       "text": [
        "."
       ]
      },
      {
       "output_type": "stream",
       "stream": "stdout",
       "text": [
        "."
       ]
      },
      {
       "output_type": "stream",
       "stream": "stdout",
       "text": [
        "."
       ]
      },
      {
       "output_type": "stream",
       "stream": "stdout",
       "text": [
        "."
       ]
      },
      {
       "output_type": "stream",
       "stream": "stdout",
       "text": [
        "."
       ]
      },
      {
       "output_type": "stream",
       "stream": "stdout",
       "text": [
        "."
       ]
      },
      {
       "output_type": "stream",
       "stream": "stdout",
       "text": [
        "."
       ]
      },
      {
       "output_type": "stream",
       "stream": "stdout",
       "text": [
        "."
       ]
      },
      {
       "output_type": "stream",
       "stream": "stdout",
       "text": [
        "."
       ]
      },
      {
       "output_type": "stream",
       "stream": "stdout",
       "text": [
        "."
       ]
      },
      {
       "output_type": "stream",
       "stream": "stdout",
       "text": [
        "."
       ]
      },
      {
       "output_type": "stream",
       "stream": "stdout",
       "text": [
        "\n"
       ]
      },
      {
       "output_type": "stream",
       "stream": "stdout",
       "text": [
        "../../../../../../Applications/anaconda/lib/python2.7/site-packages/simpy/test/test_environment.py "
       ]
      },
      {
       "output_type": "stream",
       "stream": "stdout",
       "text": [
        "."
       ]
      },
      {
       "output_type": "stream",
       "stream": "stdout",
       "text": [
        "."
       ]
      },
      {
       "output_type": "stream",
       "stream": "stdout",
       "text": [
        "."
       ]
      },
      {
       "output_type": "stream",
       "stream": "stdout",
       "text": [
        "."
       ]
      },
      {
       "output_type": "stream",
       "stream": "stdout",
       "text": [
        "\n"
       ]
      },
      {
       "output_type": "stream",
       "stream": "stdout",
       "text": [
        "../../../../../../Applications/anaconda/lib/python2.7/site-packages/simpy/test/test_event.py "
       ]
      },
      {
       "output_type": "stream",
       "stream": "stdout",
       "text": [
        "."
       ]
      },
      {
       "output_type": "stream",
       "stream": "stdout",
       "text": [
        "."
       ]
      },
      {
       "output_type": "stream",
       "stream": "stdout",
       "text": [
        "."
       ]
      },
      {
       "output_type": "stream",
       "stream": "stdout",
       "text": [
        "."
       ]
      },
      {
       "output_type": "stream",
       "stream": "stdout",
       "text": [
        "."
       ]
      },
      {
       "output_type": "stream",
       "stream": "stdout",
       "text": [
        "."
       ]
      },
      {
       "output_type": "stream",
       "stream": "stdout",
       "text": [
        "\n"
       ]
      },
      {
       "output_type": "stream",
       "stream": "stdout",
       "text": [
        "../../../../../../Applications/anaconda/lib/python2.7/site-packages/simpy/test/test_exceptions.py "
       ]
      },
      {
       "output_type": "stream",
       "stream": "stdout",
       "text": [
        "."
       ]
      },
      {
       "output_type": "stream",
       "stream": "stdout",
       "text": [
        "."
       ]
      },
      {
       "output_type": "stream",
       "stream": "stdout",
       "text": [
        "."
       ]
      },
      {
       "output_type": "stream",
       "stream": "stdout",
       "text": [
        "s"
       ]
      },
      {
       "output_type": "stream",
       "stream": "stdout",
       "text": [
        "."
       ]
      },
      {
       "output_type": "stream",
       "stream": "stdout",
       "text": [
        "."
       ]
      },
      {
       "output_type": "stream",
       "stream": "stdout",
       "text": [
        "."
       ]
      },
      {
       "output_type": "stream",
       "stream": "stdout",
       "text": [
        "."
       ]
      },
      {
       "output_type": "stream",
       "stream": "stdout",
       "text": [
        "\n"
       ]
      },
      {
       "output_type": "stream",
       "stream": "stdout",
       "text": [
        "../../../../../../Applications/anaconda/lib/python2.7/site-packages/simpy/test/test_interrupts.py "
       ]
      },
      {
       "output_type": "stream",
       "stream": "stdout",
       "text": [
        "."
       ]
      },
      {
       "output_type": "stream",
       "stream": "stdout",
       "text": [
        "."
       ]
      },
      {
       "output_type": "stream",
       "stream": "stdout",
       "text": [
        "."
       ]
      },
      {
       "output_type": "stream",
       "stream": "stdout",
       "text": [
        "."
       ]
      },
      {
       "output_type": "stream",
       "stream": "stdout",
       "text": [
        "."
       ]
      },
      {
       "output_type": "stream",
       "stream": "stdout",
       "text": [
        "."
       ]
      },
      {
       "output_type": "stream",
       "stream": "stdout",
       "text": [
        "."
       ]
      },
      {
       "output_type": "stream",
       "stream": "stdout",
       "text": [
        "."
       ]
      },
      {
       "output_type": "stream",
       "stream": "stdout",
       "text": [
        "."
       ]
      },
      {
       "output_type": "stream",
       "stream": "stdout",
       "text": [
        "."
       ]
      },
      {
       "output_type": "stream",
       "stream": "stdout",
       "text": [
        "\n"
       ]
      },
      {
       "output_type": "stream",
       "stream": "stdout",
       "text": [
        "../../../../../../Applications/anaconda/lib/python2.7/site-packages/simpy/test/test_process.py "
       ]
      },
      {
       "output_type": "stream",
       "stream": "stdout",
       "text": [
        "."
       ]
      },
      {
       "output_type": "stream",
       "stream": "stdout",
       "text": [
        "."
       ]
      },
      {
       "output_type": "stream",
       "stream": "stdout",
       "text": [
        "."
       ]
      },
      {
       "output_type": "stream",
       "stream": "stdout",
       "text": [
        "."
       ]
      },
      {
       "output_type": "stream",
       "stream": "stdout",
       "text": [
        "."
       ]
      },
      {
       "output_type": "stream",
       "stream": "stdout",
       "text": [
        "s"
       ]
      },
      {
       "output_type": "stream",
       "stream": "stdout",
       "text": [
        "."
       ]
      },
      {
       "output_type": "stream",
       "stream": "stdout",
       "text": [
        "."
       ]
      },
      {
       "output_type": "stream",
       "stream": "stdout",
       "text": [
        "."
       ]
      },
      {
       "output_type": "stream",
       "stream": "stdout",
       "text": [
        "."
       ]
      },
      {
       "output_type": "stream",
       "stream": "stdout",
       "text": [
        "."
       ]
      },
      {
       "output_type": "stream",
       "stream": "stdout",
       "text": [
        "\n"
       ]
      },
      {
       "output_type": "stream",
       "stream": "stdout",
       "text": [
        "../../../../../../Applications/anaconda/lib/python2.7/site-packages/simpy/test/test_resources.py "
       ]
      },
      {
       "output_type": "stream",
       "stream": "stdout",
       "text": [
        "."
       ]
      },
      {
       "output_type": "stream",
       "stream": "stdout",
       "text": [
        "."
       ]
      },
      {
       "output_type": "stream",
       "stream": "stdout",
       "text": [
        "."
       ]
      },
      {
       "output_type": "stream",
       "stream": "stdout",
       "text": [
        "."
       ]
      },
      {
       "output_type": "stream",
       "stream": "stdout",
       "text": [
        "."
       ]
      },
      {
       "output_type": "stream",
       "stream": "stdout",
       "text": [
        "."
       ]
      },
      {
       "output_type": "stream",
       "stream": "stdout",
       "text": [
        "."
       ]
      },
      {
       "output_type": "stream",
       "stream": "stdout",
       "text": [
        "."
       ]
      },
      {
       "output_type": "stream",
       "stream": "stdout",
       "text": [
        "."
       ]
      },
      {
       "output_type": "stream",
       "stream": "stdout",
       "text": [
        "."
       ]
      },
      {
       "output_type": "stream",
       "stream": "stdout",
       "text": [
        "."
       ]
      },
      {
       "output_type": "stream",
       "stream": "stdout",
       "text": [
        "."
       ]
      },
      {
       "output_type": "stream",
       "stream": "stdout",
       "text": [
        "."
       ]
      },
      {
       "output_type": "stream",
       "stream": "stdout",
       "text": [
        "."
       ]
      },
      {
       "output_type": "stream",
       "stream": "stdout",
       "text": [
        "."
       ]
      },
      {
       "output_type": "stream",
       "stream": "stdout",
       "text": [
        "."
       ]
      },
      {
       "output_type": "stream",
       "stream": "stdout",
       "text": [
        "."
       ]
      },
      {
       "output_type": "stream",
       "stream": "stdout",
       "text": [
        "."
       ]
      },
      {
       "output_type": "stream",
       "stream": "stdout",
       "text": [
        "."
       ]
      },
      {
       "output_type": "stream",
       "stream": "stdout",
       "text": [
        "."
       ]
      },
      {
       "output_type": "stream",
       "stream": "stdout",
       "text": [
        "."
       ]
      },
      {
       "output_type": "stream",
       "stream": "stdout",
       "text": [
        "."
       ]
      },
      {
       "output_type": "stream",
       "stream": "stdout",
       "text": [
        "."
       ]
      },
      {
       "output_type": "stream",
       "stream": "stdout",
       "text": [
        "."
       ]
      },
      {
       "output_type": "stream",
       "stream": "stdout",
       "text": [
        "."
       ]
      },
      {
       "output_type": "stream",
       "stream": "stdout",
       "text": [
        "."
       ]
      },
      {
       "output_type": "stream",
       "stream": "stdout",
       "text": [
        "."
       ]
      },
      {
       "output_type": "stream",
       "stream": "stdout",
       "text": [
        "."
       ]
      },
      {
       "output_type": "stream",
       "stream": "stdout",
       "text": [
        "\n"
       ]
      },
      {
       "output_type": "stream",
       "stream": "stdout",
       "text": [
        "../../../../../../Applications/anaconda/lib/python2.7/site-packages/simpy/test/test_rt.py "
       ]
      },
      {
       "output_type": "stream",
       "stream": "stdout",
       "text": [
        "."
       ]
      },
      {
       "output_type": "stream",
       "stream": "stdout",
       "text": [
        "."
       ]
      },
      {
       "output_type": "stream",
       "stream": "stdout",
       "text": [
        "."
       ]
      },
      {
       "output_type": "stream",
       "stream": "stdout",
       "text": [
        "."
       ]
      },
      {
       "output_type": "stream",
       "stream": "stdout",
       "text": [
        "."
       ]
      },
      {
       "output_type": "stream",
       "stream": "stdout",
       "text": [
        "."
       ]
      },
      {
       "output_type": "stream",
       "stream": "stdout",
       "text": [
        "."
       ]
      },
      {
       "output_type": "stream",
       "stream": "stdout",
       "text": [
        "\n"
       ]
      },
      {
       "output_type": "stream",
       "stream": "stdout",
       "text": [
        "../../../../../../Applications/anaconda/lib/python2.7/site-packages/simpy/test/test_timeout.py "
       ]
      },
      {
       "output_type": "stream",
       "stream": "stdout",
       "text": [
        "."
       ]
      },
      {
       "output_type": "stream",
       "stream": "stdout",
       "text": [
        "."
       ]
      },
      {
       "output_type": "stream",
       "stream": "stdout",
       "text": [
        "."
       ]
      },
      {
       "output_type": "stream",
       "stream": "stdout",
       "text": [
        "."
       ]
      },
      {
       "output_type": "stream",
       "stream": "stdout",
       "text": [
        "."
       ]
      },
      {
       "output_type": "stream",
       "stream": "stdout",
       "text": [
        "\n"
       ]
      },
      {
       "output_type": "stream",
       "stream": "stdout",
       "text": [
        "../../../../../../Applications/anaconda/lib/python2.7/site-packages/simpy/test/test_util.py "
       ]
      },
      {
       "output_type": "stream",
       "stream": "stdout",
       "text": [
        "."
       ]
      },
      {
       "output_type": "stream",
       "stream": "stdout",
       "text": [
        "."
       ]
      },
      {
       "output_type": "stream",
       "stream": "stdout",
       "text": [
        "."
       ]
      },
      {
       "output_type": "stream",
       "stream": "stdout",
       "text": [
        "."
       ]
      },
      {
       "output_type": "stream",
       "stream": "stdout",
       "text": [
        "."
       ]
      },
      {
       "output_type": "stream",
       "stream": "stdout",
       "text": [
        "."
       ]
      },
      {
       "output_type": "stream",
       "stream": "stdout",
       "text": [
        "."
       ]
      },
      {
       "output_type": "stream",
       "stream": "stdout",
       "text": [
        "."
       ]
      },
      {
       "output_type": "stream",
       "stream": "stdout",
       "text": [
        "."
       ]
      },
      {
       "output_type": "stream",
       "stream": "stdout",
       "text": [
        "."
       ]
      },
      {
       "output_type": "stream",
       "stream": "stdout",
       "text": [
        "."
       ]
      },
      {
       "output_type": "stream",
       "stream": "stdout",
       "text": [
        "."
       ]
      },
      {
       "output_type": "stream",
       "stream": "stdout",
       "text": [
        "."
       ]
      },
      {
       "output_type": "stream",
       "stream": "stdout",
       "text": [
        "."
       ]
      },
      {
       "output_type": "stream",
       "stream": "stdout",
       "text": [
        "."
       ]
      },
      {
       "output_type": "stream",
       "stream": "stdout",
       "text": [
        "."
       ]
      },
      {
       "output_type": "stream",
       "stream": "stdout",
       "text": [
        "."
       ]
      },
      {
       "output_type": "stream",
       "stream": "stdout",
       "text": [
        "."
       ]
      },
      {
       "output_type": "stream",
       "stream": "stdout",
       "text": [
        "\n"
       ]
      },
      {
       "output_type": "stream",
       "stream": "stdout",
       "text": [
        "\n"
       ]
      },
      {
       "output_type": "stream",
       "stream": "stdout",
       "text": [
        "==================== 110 passed, 2 skipped in 1.85 seconds ====================="
       ]
      },
      {
       "output_type": "stream",
       "stream": "stdout",
       "text": [
        "\n"
       ]
      }
     ],
     "prompt_number": 1
    },
    {
     "cell_type": "heading",
     "level": 2,
     "metadata": {},
     "source": [
      "Warehouse Model"
     ]
    },
    {
     "cell_type": "heading",
     "level": 3,
     "metadata": {},
     "source": [
      "Global Model Parameters"
     ]
    },
    {
     "cell_type": "code",
     "collapsed": false,
     "input": [
      "T_ORDER = 10           # average time between orders.\n",
      "T_SIM = 5*1440         # simulation period\n",
      "\n",
      "N_PICKER = 3           # number of product pickers\n",
      "N_INSPECTOR = 2        # number of product inspectors"
     ],
     "language": "python",
     "metadata": {},
     "outputs": [],
     "prompt_number": 13
    },
    {
     "cell_type": "heading",
     "level": 3,
     "metadata": {},
     "source": [
      "Event Logging Class"
     ]
    },
    {
     "cell_type": "code",
     "collapsed": false,
     "input": [
      "import pandas as pd\n",
      "\n",
      "class eventLog(object):\n",
      "    def __init__(self):\n",
      "        self._data = dict()\n",
      "        \n",
      "    def write(self,t,orderId,event):\n",
      "        self._data[orderId,event] = t\n",
      "    \n",
      "    @property\n",
      "    def DataFrame(self):\n",
      "        df = pd.DataFrame([[a,b,self._data[a,b]] for (a,b) in self._data.keys()])      \n",
      "        df = df.pivot(index=0,columns=1,values=2).reset_index()\n",
      "        return df[list(df.columns)[1:]] "
     ],
     "language": "python",
     "metadata": {},
     "outputs": [],
     "prompt_number": 14
    },
    {
     "cell_type": "heading",
     "level": 3,
     "metadata": {},
     "source": [
      "Order Processing"
     ]
    },
    {
     "cell_type": "markdown",
     "metadata": {},
     "source": [
      "The warehouse process consists of a sequence of eight events\n",
      "\n",
      "1. Order placed\n",
      "1. Picker requested\n",
      "1. Order picked\n",
      "1. Picker released\n",
      "1. Reviewer requested\n",
      "1. Order reviewed\n",
      "1. Reviewer released\n",
      "1. Order shipped"
     ]
    },
    {
     "cell_type": "code",
     "collapsed": false,
     "input": [
      "import simpy\n",
      "import itertools\n",
      "import random\n",
      "\n",
      "# Process to handle a single tireOrder\n",
      "def order(env,log,picker,inspector,orderId):\n",
      "    # log order\n",
      "    log.write(env.now,orderId,'Ordered')\n",
      "    \n",
      "    # pick the order\n",
      "    with picker.request() as preq:\n",
      "        yield preq\n",
      "        yield env.timeout(random.randint(10,30))\n",
      "        log.write(env.now,orderId,'Picked')\n",
      "        picker.release(preq)\n",
      "    \n",
      "        # inspection \n",
      "        with inspector.request() as ireq:\n",
      "            yield ireq\n",
      "            yield env.timeout(random.randint(5,10))\n",
      "            log.write(env.now,orderId,'Reviewed')\n",
      "            inspector.release(ireq)\n",
      "    \n",
      "            # shipping\n",
      "            yield env.timeout(10)\n",
      "            log.write(env.now,orderId,'Shipped')"
     ],
     "language": "python",
     "metadata": {},
     "outputs": [],
     "prompt_number": 15
    },
    {
     "cell_type": "heading",
     "level": 3,
     "metadata": {},
     "source": [
      "Order Generator"
     ]
    },
    {
     "cell_type": "markdown",
     "metadata": {},
     "source": [
      "`orderGenerator` creates a sequence of orders following a Poisson distribution at an average rate 1/T_ORDER. Each order is tagged with a unique name using `itertools.count()`."
     ]
    },
    {
     "cell_type": "code",
     "collapsed": false,
     "input": [
      "# Generates tireOrders following a Poisson process at rate 1/T_ORDER\n",
      "def orderGenerator(env,log,picker,inspector):\n",
      "    for orderNumber in itertools.count():\n",
      "        yield env.timeout(random.expovariate(1.0/T_ORDER))\n",
      "        env.process(order(env,log,picker,inspector,orderNumber))"
     ],
     "language": "python",
     "metadata": {},
     "outputs": [],
     "prompt_number": 16
    },
    {
     "cell_type": "heading",
     "level": 3,
     "metadata": {},
     "source": [
      "Warehouse Class"
     ]
    },
    {
     "cell_type": "code",
     "collapsed": false,
     "input": [
      "class warehouse(object):\n",
      "    def __init__(self,n_picker=N_PICKER,n_inspector=N_INSPECTOR):\n",
      "        self.env = simpy.Environment()\n",
      "        self.log = eventLog()\n",
      "        self.picker = simpy.Resource(self.env,N_PICKER)\n",
      "        self.inspector = simpy.Resource(self.env,N_INSPECTOR)\n",
      "        self.env.process(orderGenerator(self.env,self.log,self.picker,self.inspector))\n",
      "        \n",
      "    def run(self,t_sim = T_SIM):\n",
      "        self.env.run(until=t_sim)\n",
      "        return(self.log.DataFrame)"
     ],
     "language": "python",
     "metadata": {},
     "outputs": [],
     "prompt_number": 71
    },
    {
     "cell_type": "heading",
     "level": 3,
     "metadata": {},
     "source": [
      "Simulation"
     ]
    },
    {
     "cell_type": "code",
     "collapsed": false,
     "input": [
      "# create a warehouse instance\n",
      "w = warehouse(n_picker = 2, n_inspector = 2)\n",
      "\n",
      "# run a simulation for a specified period\n",
      "log = w.run(5000)\n",
      "\n",
      "# show the event log\n",
      "display(log)"
     ],
     "language": "python",
     "metadata": {},
     "outputs": [
      {
       "output_type": "stream",
       "stream": "stdout",
       "text": [
        "10000\n"
       ]
      },
      {
       "html": [
        "<div style=\"max-height:1000px;max-width:1500px;overflow:auto;\">\n",
        "<table border=\"1\" class=\"dataframe\">\n",
        "  <thead>\n",
        "    <tr style=\"text-align: right;\">\n",
        "      <th>1</th>\n",
        "      <th>Ordered</th>\n",
        "      <th>Picked</th>\n",
        "      <th>Reviewed</th>\n",
        "      <th>Shipped</th>\n",
        "    </tr>\n",
        "  </thead>\n",
        "  <tbody>\n",
        "    <tr>\n",
        "      <th>0 </th>\n",
        "      <td>  12.874791</td>\n",
        "      <td>  25.874791</td>\n",
        "      <td>  34.874791</td>\n",
        "      <td>  44.874791</td>\n",
        "    </tr>\n",
        "    <tr>\n",
        "      <th>1 </th>\n",
        "      <td>  15.392137</td>\n",
        "      <td>  45.392137</td>\n",
        "      <td>  53.392137</td>\n",
        "      <td>  63.392137</td>\n",
        "    </tr>\n",
        "    <tr>\n",
        "      <th>2 </th>\n",
        "      <td>  23.754705</td>\n",
        "      <td>  39.754705</td>\n",
        "      <td>  44.754705</td>\n",
        "      <td>  54.754705</td>\n",
        "    </tr>\n",
        "    <tr>\n",
        "      <th>3 </th>\n",
        "      <td>  24.983382</td>\n",
        "      <td>  55.874791</td>\n",
        "      <td>  60.874791</td>\n",
        "      <td>  70.874791</td>\n",
        "    </tr>\n",
        "    <tr>\n",
        "      <th>4 </th>\n",
        "      <td>  26.772854</td>\n",
        "      <td>  63.754705</td>\n",
        "      <td>  68.754705</td>\n",
        "      <td>  78.754705</td>\n",
        "    </tr>\n",
        "    <tr>\n",
        "      <th>5 </th>\n",
        "      <td>  32.350925</td>\n",
        "      <td>  67.392137</td>\n",
        "      <td>  76.392137</td>\n",
        "      <td>  86.392137</td>\n",
        "    </tr>\n",
        "    <tr>\n",
        "      <th>6 </th>\n",
        "      <td>  39.761046</td>\n",
        "      <td>  84.874791</td>\n",
        "      <td>  90.874791</td>\n",
        "      <td> 100.874791</td>\n",
        "    </tr>\n",
        "    <tr>\n",
        "      <th>7 </th>\n",
        "      <td>  43.418068</td>\n",
        "      <td>  93.754705</td>\n",
        "      <td> 103.754705</td>\n",
        "      <td> 113.754705</td>\n",
        "    </tr>\n",
        "    <tr>\n",
        "      <th>8 </th>\n",
        "      <td>  57.127558</td>\n",
        "      <td>  83.392137</td>\n",
        "      <td>  89.392137</td>\n",
        "      <td>  99.392137</td>\n",
        "    </tr>\n",
        "    <tr>\n",
        "      <th>9 </th>\n",
        "      <td>  60.944308</td>\n",
        "      <td>  96.392137</td>\n",
        "      <td> 101.392137</td>\n",
        "      <td> 111.392137</td>\n",
        "    </tr>\n",
        "    <tr>\n",
        "      <th>10</th>\n",
        "      <td>  93.056245</td>\n",
        "      <td> 116.056245</td>\n",
        "      <td> 124.056245</td>\n",
        "      <td> 134.056245</td>\n",
        "    </tr>\n",
        "    <tr>\n",
        "      <th>11</th>\n",
        "      <td>  95.932706</td>\n",
        "      <td> 113.932706</td>\n",
        "      <td> 118.932706</td>\n",
        "      <td> 128.932706</td>\n",
        "    </tr>\n",
        "    <tr>\n",
        "      <th>12</th>\n",
        "      <td> 108.151224</td>\n",
        "      <td> 125.151224</td>\n",
        "      <td> 135.151224</td>\n",
        "      <td> 145.151224</td>\n",
        "    </tr>\n",
        "    <tr>\n",
        "      <th>13</th>\n",
        "      <td> 111.135040</td>\n",
        "      <td> 138.932706</td>\n",
        "      <td> 147.932706</td>\n",
        "      <td> 157.932706</td>\n",
        "    </tr>\n",
        "    <tr>\n",
        "      <th>14</th>\n",
        "      <td> 111.935261</td>\n",
        "      <td> 139.056245</td>\n",
        "      <td> 149.056245</td>\n",
        "      <td> 159.056245</td>\n",
        "    </tr>\n",
        "    <tr>\n",
        "      <th>15</th>\n",
        "      <td> 114.906334</td>\n",
        "      <td> 148.151224</td>\n",
        "      <td> 157.151224</td>\n",
        "      <td> 167.151224</td>\n",
        "    </tr>\n",
        "    <tr>\n",
        "      <th>16</th>\n",
        "      <td> 118.875764</td>\n",
        "      <td> 165.932706</td>\n",
        "      <td> 170.932706</td>\n",
        "      <td> 180.932706</td>\n",
        "    </tr>\n",
        "    <tr>\n",
        "      <th>17</th>\n",
        "      <td> 131.863083</td>\n",
        "      <td> 157.056245</td>\n",
        "      <td> 165.056245</td>\n",
        "      <td> 175.056245</td>\n",
        "    </tr>\n",
        "    <tr>\n",
        "      <th>18</th>\n",
        "      <td> 141.412653</td>\n",
        "      <td> 171.151224</td>\n",
        "      <td> 180.151224</td>\n",
        "      <td> 190.151224</td>\n",
        "    </tr>\n",
        "    <tr>\n",
        "      <th>19</th>\n",
        "      <td> 142.571966</td>\n",
        "      <td> 172.056245</td>\n",
        "      <td> 180.056245</td>\n",
        "      <td> 190.056245</td>\n",
        "    </tr>\n",
        "    <tr>\n",
        "      <th>20</th>\n",
        "      <td> 144.908451</td>\n",
        "      <td> 190.932706</td>\n",
        "      <td> 198.932706</td>\n",
        "      <td> 208.932706</td>\n",
        "    </tr>\n",
        "    <tr>\n",
        "      <th>21</th>\n",
        "      <td> 172.387945</td>\n",
        "      <td> 185.387945</td>\n",
        "      <td> 194.387945</td>\n",
        "      <td> 204.387945</td>\n",
        "    </tr>\n",
        "    <tr>\n",
        "      <th>22</th>\n",
        "      <td> 185.245705</td>\n",
        "      <td> 203.245705</td>\n",
        "      <td> 210.245705</td>\n",
        "      <td> 220.245705</td>\n",
        "    </tr>\n",
        "    <tr>\n",
        "      <th>23</th>\n",
        "      <td> 198.344452</td>\n",
        "      <td> 226.344452</td>\n",
        "      <td> 235.344452</td>\n",
        "      <td> 245.344452</td>\n",
        "    </tr>\n",
        "    <tr>\n",
        "      <th>24</th>\n",
        "      <td> 215.302614</td>\n",
        "      <td> 242.302614</td>\n",
        "      <td> 248.302614</td>\n",
        "      <td> 258.302614</td>\n",
        "    </tr>\n",
        "    <tr>\n",
        "      <th>25</th>\n",
        "      <td> 221.589078</td>\n",
        "      <td> 242.589078</td>\n",
        "      <td> 256.302614</td>\n",
        "      <td> 266.302614</td>\n",
        "    </tr>\n",
        "    <tr>\n",
        "      <th>26</th>\n",
        "      <td> 230.760330</td>\n",
        "      <td> 241.760330</td>\n",
        "      <td> 250.760330</td>\n",
        "      <td> 260.760330</td>\n",
        "    </tr>\n",
        "    <tr>\n",
        "      <th>27</th>\n",
        "      <td> 261.971191</td>\n",
        "      <td> 281.971191</td>\n",
        "      <td> 286.971191</td>\n",
        "      <td> 296.971191</td>\n",
        "    </tr>\n",
        "    <tr>\n",
        "      <th>28</th>\n",
        "      <td> 269.252072</td>\n",
        "      <td> 284.252072</td>\n",
        "      <td> 291.252072</td>\n",
        "      <td> 301.252072</td>\n",
        "    </tr>\n",
        "    <tr>\n",
        "      <th>29</th>\n",
        "      <td> 287.902889</td>\n",
        "      <td> 312.902889</td>\n",
        "      <td> 317.902889</td>\n",
        "      <td> 327.902889</td>\n",
        "    </tr>\n",
        "    <tr>\n",
        "      <th>30</th>\n",
        "      <td> 289.443365</td>\n",
        "      <td> 314.443365</td>\n",
        "      <td> 319.443365</td>\n",
        "      <td> 329.443365</td>\n",
        "    </tr>\n",
        "    <tr>\n",
        "      <th>31</th>\n",
        "      <td> 300.917362</td>\n",
        "      <td> 323.917362</td>\n",
        "      <td> 332.917362</td>\n",
        "      <td> 342.917362</td>\n",
        "    </tr>\n",
        "    <tr>\n",
        "      <th>32</th>\n",
        "      <td> 305.860302</td>\n",
        "      <td> 332.902889</td>\n",
        "      <td> 339.917362</td>\n",
        "      <td> 349.917362</td>\n",
        "    </tr>\n",
        "    <tr>\n",
        "      <th>33</th>\n",
        "      <td> 312.401671</td>\n",
        "      <td> 325.443365</td>\n",
        "      <td> 333.443365</td>\n",
        "      <td> 343.443365</td>\n",
        "    </tr>\n",
        "    <tr>\n",
        "      <th>34</th>\n",
        "      <td> 340.357743</td>\n",
        "      <td> 353.357743</td>\n",
        "      <td> 360.357743</td>\n",
        "      <td> 370.357743</td>\n",
        "    </tr>\n",
        "    <tr>\n",
        "      <th>35</th>\n",
        "      <td> 370.311761</td>\n",
        "      <td> 392.311761</td>\n",
        "      <td> 401.311761</td>\n",
        "      <td> 411.311761</td>\n",
        "    </tr>\n",
        "    <tr>\n",
        "      <th>36</th>\n",
        "      <td> 378.456115</td>\n",
        "      <td> 388.456115</td>\n",
        "      <td> 393.456115</td>\n",
        "      <td> 403.456115</td>\n",
        "    </tr>\n",
        "    <tr>\n",
        "      <th>37</th>\n",
        "      <td> 403.123456</td>\n",
        "      <td> 419.123456</td>\n",
        "      <td> 427.123456</td>\n",
        "      <td> 437.123456</td>\n",
        "    </tr>\n",
        "    <tr>\n",
        "      <th>38</th>\n",
        "      <td> 428.206716</td>\n",
        "      <td> 456.206716</td>\n",
        "      <td> 462.206716</td>\n",
        "      <td> 472.206716</td>\n",
        "    </tr>\n",
        "    <tr>\n",
        "      <th>39</th>\n",
        "      <td> 431.073212</td>\n",
        "      <td> 461.073212</td>\n",
        "      <td> 470.073212</td>\n",
        "      <td> 480.073212</td>\n",
        "    </tr>\n",
        "    <tr>\n",
        "      <th>40</th>\n",
        "      <td> 453.618403</td>\n",
        "      <td> 470.618403</td>\n",
        "      <td> 475.618403</td>\n",
        "      <td> 485.618403</td>\n",
        "    </tr>\n",
        "    <tr>\n",
        "      <th>41</th>\n",
        "      <td> 459.517432</td>\n",
        "      <td> 475.517432</td>\n",
        "      <td> 480.517432</td>\n",
        "      <td> 490.517432</td>\n",
        "    </tr>\n",
        "    <tr>\n",
        "      <th>42</th>\n",
        "      <td> 463.688987</td>\n",
        "      <td> 485.688987</td>\n",
        "      <td> 490.688987</td>\n",
        "      <td> 500.688987</td>\n",
        "    </tr>\n",
        "    <tr>\n",
        "      <th>43</th>\n",
        "      <td> 472.143989</td>\n",
        "      <td> 495.143989</td>\n",
        "      <td> 502.143989</td>\n",
        "      <td> 512.143989</td>\n",
        "    </tr>\n",
        "    <tr>\n",
        "      <th>44</th>\n",
        "      <td> 476.639376</td>\n",
        "      <td> 491.639376</td>\n",
        "      <td> 496.639376</td>\n",
        "      <td> 506.639376</td>\n",
        "    </tr>\n",
        "    <tr>\n",
        "      <th>45</th>\n",
        "      <td> 495.654691</td>\n",
        "      <td> 517.654691</td>\n",
        "      <td> 526.654691</td>\n",
        "      <td> 536.654691</td>\n",
        "    </tr>\n",
        "    <tr>\n",
        "      <th>46</th>\n",
        "      <td> 496.479776</td>\n",
        "      <td> 512.479776</td>\n",
        "      <td> 522.479776</td>\n",
        "      <td> 532.479776</td>\n",
        "    </tr>\n",
        "    <tr>\n",
        "      <th>47</th>\n",
        "      <td> 520.603633</td>\n",
        "      <td> 543.603633</td>\n",
        "      <td> 548.603633</td>\n",
        "      <td> 558.603633</td>\n",
        "    </tr>\n",
        "    <tr>\n",
        "      <th>48</th>\n",
        "      <td> 563.532915</td>\n",
        "      <td> 589.532915</td>\n",
        "      <td> 596.532915</td>\n",
        "      <td> 606.532915</td>\n",
        "    </tr>\n",
        "    <tr>\n",
        "      <th>49</th>\n",
        "      <td> 569.949187</td>\n",
        "      <td> 599.949187</td>\n",
        "      <td> 606.949187</td>\n",
        "      <td> 616.949187</td>\n",
        "    </tr>\n",
        "    <tr>\n",
        "      <th>50</th>\n",
        "      <td> 589.373590</td>\n",
        "      <td> 600.373590</td>\n",
        "      <td> 606.373590</td>\n",
        "      <td> 616.373590</td>\n",
        "    </tr>\n",
        "    <tr>\n",
        "      <th>51</th>\n",
        "      <td> 601.052961</td>\n",
        "      <td> 628.052961</td>\n",
        "      <td> 637.052961</td>\n",
        "      <td> 647.052961</td>\n",
        "    </tr>\n",
        "    <tr>\n",
        "      <th>52</th>\n",
        "      <td> 615.337600</td>\n",
        "      <td> 627.337600</td>\n",
        "      <td> 635.337600</td>\n",
        "      <td> 645.337600</td>\n",
        "    </tr>\n",
        "    <tr>\n",
        "      <th>53</th>\n",
        "      <td> 627.236123</td>\n",
        "      <td> 642.236123</td>\n",
        "      <td> 649.236123</td>\n",
        "      <td> 659.236123</td>\n",
        "    </tr>\n",
        "    <tr>\n",
        "      <th>54</th>\n",
        "      <td> 628.463080</td>\n",
        "      <td> 652.463080</td>\n",
        "      <td> 660.463080</td>\n",
        "      <td> 670.463080</td>\n",
        "    </tr>\n",
        "    <tr>\n",
        "      <th>55</th>\n",
        "      <td> 631.772726</td>\n",
        "      <td> 646.772726</td>\n",
        "      <td> 654.772726</td>\n",
        "      <td> 664.772726</td>\n",
        "    </tr>\n",
        "    <tr>\n",
        "      <th>56</th>\n",
        "      <td> 632.486229</td>\n",
        "      <td> 653.236123</td>\n",
        "      <td> 660.772726</td>\n",
        "      <td> 670.772726</td>\n",
        "    </tr>\n",
        "    <tr>\n",
        "      <th>57</th>\n",
        "      <td> 634.173804</td>\n",
        "      <td> 669.772726</td>\n",
        "      <td> 675.772726</td>\n",
        "      <td> 685.772726</td>\n",
        "    </tr>\n",
        "    <tr>\n",
        "      <th>58</th>\n",
        "      <td> 641.426714</td>\n",
        "      <td> 671.463080</td>\n",
        "      <td> 680.463080</td>\n",
        "      <td> 690.463080</td>\n",
        "    </tr>\n",
        "    <tr>\n",
        "      <th>59</th>\n",
        "      <td> 647.960702</td>\n",
        "      <td> 683.236123</td>\n",
        "      <td> 692.236123</td>\n",
        "      <td> 702.236123</td>\n",
        "    </tr>\n",
        "    <tr>\n",
        "      <th></th>\n",
        "      <td>...</td>\n",
        "      <td>...</td>\n",
        "      <td>...</td>\n",
        "      <td>...</td>\n",
        "    </tr>\n",
        "  </tbody>\n",
        "</table>\n",
        "<p>1038 rows \u00d7 4 columns</p>\n",
        "</div>"
       ],
       "metadata": {},
       "output_type": "display_data",
       "text": [
        "1      Ordered      Picked    Reviewed     Shipped\n",
        "0    12.874791   25.874791   34.874791   44.874791\n",
        "1    15.392137   45.392137   53.392137   63.392137\n",
        "2    23.754705   39.754705   44.754705   54.754705\n",
        "3    24.983382   55.874791   60.874791   70.874791\n",
        "4    26.772854   63.754705   68.754705   78.754705\n",
        "5    32.350925   67.392137   76.392137   86.392137\n",
        "6    39.761046   84.874791   90.874791  100.874791\n",
        "7    43.418068   93.754705  103.754705  113.754705\n",
        "8    57.127558   83.392137   89.392137   99.392137\n",
        "9    60.944308   96.392137  101.392137  111.392137\n",
        "10   93.056245  116.056245  124.056245  134.056245\n",
        "11   95.932706  113.932706  118.932706  128.932706\n",
        "12  108.151224  125.151224  135.151224  145.151224\n",
        "13  111.135040  138.932706  147.932706  157.932706\n",
        "14  111.935261  139.056245  149.056245  159.056245\n",
        "15  114.906334  148.151224  157.151224  167.151224\n",
        "16  118.875764  165.932706  170.932706  180.932706\n",
        "17  131.863083  157.056245  165.056245  175.056245\n",
        "18  141.412653  171.151224  180.151224  190.151224\n",
        "19  142.571966  172.056245  180.056245  190.056245\n",
        "20  144.908451  190.932706  198.932706  208.932706\n",
        "21  172.387945  185.387945  194.387945  204.387945\n",
        "22  185.245705  203.245705  210.245705  220.245705\n",
        "23  198.344452  226.344452  235.344452  245.344452\n",
        "24  215.302614  242.302614  248.302614  258.302614\n",
        "25  221.589078  242.589078  256.302614  266.302614\n",
        "26  230.760330  241.760330  250.760330  260.760330\n",
        "27  261.971191  281.971191  286.971191  296.971191\n",
        "28  269.252072  284.252072  291.252072  301.252072\n",
        "29  287.902889  312.902889  317.902889  327.902889\n",
        "30  289.443365  314.443365  319.443365  329.443365\n",
        "31  300.917362  323.917362  332.917362  342.917362\n",
        "32  305.860302  332.902889  339.917362  349.917362\n",
        "33  312.401671  325.443365  333.443365  343.443365\n",
        "34  340.357743  353.357743  360.357743  370.357743\n",
        "35  370.311761  392.311761  401.311761  411.311761\n",
        "36  378.456115  388.456115  393.456115  403.456115\n",
        "37  403.123456  419.123456  427.123456  437.123456\n",
        "38  428.206716  456.206716  462.206716  472.206716\n",
        "39  431.073212  461.073212  470.073212  480.073212\n",
        "40  453.618403  470.618403  475.618403  485.618403\n",
        "41  459.517432  475.517432  480.517432  490.517432\n",
        "42  463.688987  485.688987  490.688987  500.688987\n",
        "43  472.143989  495.143989  502.143989  512.143989\n",
        "44  476.639376  491.639376  496.639376  506.639376\n",
        "45  495.654691  517.654691  526.654691  536.654691\n",
        "46  496.479776  512.479776  522.479776  532.479776\n",
        "47  520.603633  543.603633  548.603633  558.603633\n",
        "48  563.532915  589.532915  596.532915  606.532915\n",
        "49  569.949187  599.949187  606.949187  616.949187\n",
        "50  589.373590  600.373590  606.373590  616.373590\n",
        "51  601.052961  628.052961  637.052961  647.052961\n",
        "52  615.337600  627.337600  635.337600  645.337600\n",
        "53  627.236123  642.236123  649.236123  659.236123\n",
        "54  628.463080  652.463080  660.463080  670.463080\n",
        "55  631.772726  646.772726  654.772726  664.772726\n",
        "56  632.486229  653.236123  660.772726  670.772726\n",
        "57  634.173804  669.772726  675.772726  685.772726\n",
        "58  641.426714  671.463080  680.463080  690.463080\n",
        "59  647.960702  683.236123  692.236123  702.236123\n",
        "           ...         ...         ...         ...\n",
        "\n",
        "[1038 rows x 4 columns]"
       ]
      }
     ],
     "prompt_number": 66
    },
    {
     "cell_type": "heading",
     "level": 2,
     "metadata": {},
     "source": [
      "Analyzing Results"
     ]
    },
    {
     "cell_type": "code",
     "collapsed": false,
     "input": [
      "log.plot()\n",
      "xlabel('Order Number')\n",
      "ylabel('Time [minutes]')"
     ],
     "language": "python",
     "metadata": {},
     "outputs": [
      {
       "metadata": {},
       "output_type": "pyout",
       "prompt_number": 72,
       "text": [
        "<matplotlib.text.Text at 0x10eccded0>"
       ]
      },
      {
       "metadata": {},
       "output_type": "display_data",
       "png": "[encoded data removed]",
       "text": [
        "<matplotlib.figure.Figure at 0x10e0bd210>"
       ]
      }
     ],
     "prompt_number": 72
    },
    {
     "cell_type": "code",
     "collapsed": false,
     "input": [
      "tf = log['Shipped']-log['Ordered']\n",
      "subplot(2,1,1)\n",
      "plot(tf)\n",
      "xlabel('Order Number')\n",
      "ylabel('Time [minutes]')\n",
      "title('Time to Complete Order')\n",
      "\n",
      "subplot(2,1,2)\n",
      "tf.hist(bins=30)\n",
      "xlabel('Time to Complete Order')\n",
      "ylabel('Count')"
     ],
     "language": "python",
     "metadata": {},
     "outputs": [
      {
       "metadata": {},
       "output_type": "pyout",
       "prompt_number": 73,
       "text": [
        "<matplotlib.text.Text at 0x10f121d50>"
       ]
      },
      {
       "metadata": {},
       "output_type": "display_data",
       "png": "[encoded data removed]",
       "text": [
        "<matplotlib.figure.Figure at 0x10ecd6a50>"
       ]
      }
     ],
     "prompt_number": 73
    },
    {
     "cell_type": "code",
     "collapsed": false,
     "input": [
      "tb = log['Picked']-log['Ordered']\n",
      "subplot(2,1,1)\n",
      "plot(tb)\n",
      "xlabel('Order Number')\n",
      "ylabel('Time [minutes]')\n",
      "title('Time to Picked')\n",
      "\n",
      "subplot(2,1,2)\n",
      "tb.hist(bins=30)\n",
      "xlabel('Time [minutes]')\n",
      "ylabel('Count')"
     ],
     "language": "python",
     "metadata": {},
     "outputs": [
      {
       "metadata": {},
       "output_type": "pyout",
       "prompt_number": 74,
       "text": [
        "<matplotlib.text.Text at 0x10f485150>"
       ]
      },
      {
       "metadata": {},
       "output_type": "display_data",
       "png": "[encoded data removed]",
       "text": [
        "<matplotlib.figure.Figure at 0x10ece8450>"
       ]
      }
     ],
     "prompt_number": 74
    },
    {
     "cell_type": "code",
     "collapsed": false,
     "input": [
      "tc = log['Reviewed']-log['Ordered']\n",
      "subplot(2,1,1)\n",
      "plot(tc)\n",
      "xlabel('Order Number')\n",
      "ylabel('Time [minutes]')\n",
      "title('Time to DOT entry')\n",
      "\n",
      "subplot(2,1,2)\n",
      "tc.hist(bins=30)\n",
      "xlabel('Time [minutes]')\n",
      "ylabel('Count')"
     ],
     "language": "python",
     "metadata": {},
     "outputs": [
      {
       "metadata": {},
       "output_type": "pyout",
       "prompt_number": 75,
       "text": [
        "<matplotlib.text.Text at 0x10f7300d0>"
       ]
      },
      {
       "metadata": {},
       "output_type": "display_data",
       "png": "[encoded data removed]",
       "text": [
        "<matplotlib.figure.Figure at 0x10f16f9d0>"
       ]
      }
     ],
     "prompt_number": 75
    },
    {
     "cell_type": "code",
     "collapsed": false,
     "input": [],
     "language": "python",
     "metadata": {},
     "outputs": [],
     "prompt_number": 75
    },
    {
     "cell_type": "code",
     "collapsed": false,
     "input": [],
     "language": "python",
     "metadata": {},
     "outputs": [],
     "prompt_number": 52
    },
    {
     "cell_type": "code",
     "collapsed": false,
     "input": [],
     "language": "python",
     "metadata": {},
     "outputs": []
    }
   ],
   "metadata": {}
  }
 ]
}